{
 "cells": [
  {
   "cell_type": "markdown",
   "id": "9564d414-bf1d-4bfa-b11c-daaed9bc9463",
   "metadata": {},
   "source": [
    "# Plotting Visualizations - Project 1 Group 3 (NFTs)"
   ]
  },
  {
   "cell_type": "code",
   "execution_count": 292,
   "id": "915e9dd2-8932-4454-a198-954bebe95d98",
   "metadata": {},
   "outputs": [],
   "source": [
    "# Run imports\n",
    "import requests\n",
    "import json\n",
    "import pandas as pd\n",
    "\n",
    "import hvplot.pandas \n",
    "import numpy as np\n",
    "import panel as pn\n",
    "from panel.interact import interact\n",
    "from panel import widgets"
   ]
  },
  {
   "cell_type": "markdown",
   "id": "dc570cf8-2892-4f11-9b39-c686a7a41d86",
   "metadata": {},
   "source": [
    "### Prepare Data"
   ]
  },
  {
   "cell_type": "code",
   "execution_count": 293,
   "id": "c24fa92c-2bb5-45da-9591-c592b17c28a8",
   "metadata": {},
   "outputs": [],
   "source": [
    "# Add Urls to data sources\n",
    "url = \"https://api.opensea.io/api/v1/events?limit=100\"\n",
    "url1 = \"https://api.opensea.io/api/v1/events?only_opensea=false&offset=0&limit=50\"\n",
    "url2 = \"https://api.opensea.io/api/v1/assets?order_direction=desc&offset=0&limit=50\"\n",
    "\n",
    "response = requests.request(\"GET\", url)\n",
    "opensea_data_pull = json.loads(response.text)\n",
    "opensea_data_pull1 = json.loads(response.text)\n"
   ]
  },
  {
   "cell_type": "code",
   "execution_count": 294,
   "id": "cc80ba78-2343-455e-be74-a5ec9f7e4fb8",
   "metadata": {},
   "outputs": [],
   "source": [
    "# Data paths for reference:\n",
    "# bbb = opensea_data_pull[\"assets\"][5][\"asset_contract\"][\"default_to_fiat\"]\n",
    "# price = opensea_data_pull[\"asset_events\"][0][\"payment_token\"][\"usd_price\"]\n",
    "# bid = opensea_data_pull[\"asset_events\"][0][\"bid_amount\"]"
   ]
  },
  {
   "cell_type": "markdown",
   "id": "85f83330-87a8-4225-a1ce-a872796e9b59",
   "metadata": {},
   "source": [
    "### Visual #1: NFT Bid Trends"
   ]
  },
  {
   "cell_type": "code",
   "execution_count": 295,
   "id": "5f2aeb30-8534-4389-8bbd-e8a16de1b543",
   "metadata": {},
   "outputs": [],
   "source": [
    "#CREATE VISUAL: NFT BID TRENDS\n",
    "# Pull dates and prices for each asset and create variables\n",
    "data_list = opensea_data_pull[\"asset_events\"]\n",
    "\n",
    "listing_date_list = []\n",
    "listing_price_list = []"
   ]
  },
  {
   "cell_type": "code",
   "execution_count": 296,
   "id": "3ba977a6-1fc8-410c-a078-4f55d506bfde",
   "metadata": {},
   "outputs": [],
   "source": [
    "# Iterate through each item in list\n",
    "for each in data_list:\n",
    "    \n",
    "    # grab the id\n",
    "    listing_date = each[\"asset\"][\"asset_contract\"][\"created_date\"]\n",
    "    listing_date = listing_date[0:10]  # reformat dates to be cleaner\n",
    "\n",
    "    listing_price = each[\"bid_amount\"]\n",
    "    try:\n",
    "        listing_price = float(listing_price)\n",
    "        listing_price = (listing_price/ 10000000000000000)\n",
    "    except:\n",
    "        listing_price = 0\n",
    "        \n",
    "    # append id to list of ids\n",
    "    listing_date_list.append(listing_date)\n",
    "    listing_price_list.append(listing_price)"
   ]
  },
  {
   "cell_type": "code",
   "execution_count": 297,
   "id": "c4bafe83-ed49-4873-8d40-269d62f6f460",
   "metadata": {},
   "outputs": [],
   "source": [
    "# Cleaner method, give column headers\n",
    "bidtrends_df = pd.DataFrame(\n",
    "    {'listing_date': listing_date_list,\n",
    "     'listing_price': listing_price_list\n",
    "     })"
   ]
  },
  {
   "cell_type": "code",
   "execution_count": 298,
   "id": "03a6d6c1-4a9d-4b2e-ae66-460fb89dbc09",
   "metadata": {},
   "outputs": [
    {
     "data": {
      "text/html": [
       "<div>\n",
       "<style scoped>\n",
       "    .dataframe tbody tr th:only-of-type {\n",
       "        vertical-align: middle;\n",
       "    }\n",
       "\n",
       "    .dataframe tbody tr th {\n",
       "        vertical-align: top;\n",
       "    }\n",
       "\n",
       "    .dataframe thead th {\n",
       "        text-align: right;\n",
       "    }\n",
       "</style>\n",
       "<table border=\"1\" class=\"dataframe\">\n",
       "  <thead>\n",
       "    <tr style=\"text-align: right;\">\n",
       "      <th></th>\n",
       "      <th>listing_date</th>\n",
       "      <th>listing_price</th>\n",
       "    </tr>\n",
       "  </thead>\n",
       "  <tbody>\n",
       "    <tr>\n",
       "      <th>0</th>\n",
       "      <td>2021-01-11</td>\n",
       "      <td>61.48</td>\n",
       "    </tr>\n",
       "    <tr>\n",
       "      <th>1</th>\n",
       "      <td>2021-09-08</td>\n",
       "      <td>250.00</td>\n",
       "    </tr>\n",
       "    <tr>\n",
       "      <th>2</th>\n",
       "      <td>2021-10-30</td>\n",
       "      <td>3.20</td>\n",
       "    </tr>\n",
       "    <tr>\n",
       "      <th>3</th>\n",
       "      <td>2021-10-30</td>\n",
       "      <td>3.20</td>\n",
       "    </tr>\n",
       "    <tr>\n",
       "      <th>4</th>\n",
       "      <td>2021-08-11</td>\n",
       "      <td>0.00</td>\n",
       "    </tr>\n",
       "  </tbody>\n",
       "</table>\n",
       "</div>"
      ],
      "text/plain": [
       "  listing_date  listing_price\n",
       "0   2021-01-11          61.48\n",
       "1   2021-09-08         250.00\n",
       "2   2021-10-30           3.20\n",
       "3   2021-10-30           3.20\n",
       "4   2021-08-11           0.00"
      ]
     },
     "execution_count": 298,
     "metadata": {},
     "output_type": "execute_result"
    }
   ],
   "source": [
    "#Clean data, drop NAs\n",
    "bidtrends_df = bidtrends_df.dropna()\n",
    "bidtrends_df.head()"
   ]
  },
  {
   "cell_type": "code",
   "execution_count": 299,
   "id": "310e8487-2ff2-449f-b9c4-2d1e05776c87",
   "metadata": {},
   "outputs": [],
   "source": [
    "#Sort values by date\n",
    "bidtrends_df = bidtrends_df.sort_values(\"listing_date\")"
   ]
  },
  {
   "cell_type": "code",
   "execution_count": 300,
   "id": "0ed3805b-d8fa-4c1c-841e-03a684b07bd6",
   "metadata": {},
   "outputs": [],
   "source": [
    "#Plot the data using a line plot to show differences over time and name the plot for easier dashboard build later on\n",
    "plot_1 = bidtrends_df.hvplot.line(x=\"listing_date\", y=\"listing_price\", xlabel=\"Date\", ylabel=\"Listing Price\", title=\"NFT Bid Trends\", rot=45, width=1200, grid=True)"
   ]
  },
  {
   "cell_type": "code",
   "execution_count": 301,
   "id": "2d872948-d1b9-4c9b-9e5e-7867d0de33b8",
   "metadata": {},
   "outputs": [
    {
     "data": {},
     "metadata": {},
     "output_type": "display_data"
    },
    {
     "data": {
      "application/vnd.holoviews_exec.v0+json": "",
      "text/html": [
       "<div id='19449'>\n",
       "\n",
       "\n",
       "\n",
       "\n",
       "\n",
       "  <div class=\"bk-root\" id=\"9f159755-1600-4fd8-900b-89d382e8579e\" data-root-id=\"19449\"></div>\n",
       "</div>\n",
       "<script type=\"application/javascript\">(function(root) {\n",
       "  function embed_document(root) {\n",
       "    var docs_json = {\"72b4c693-7a88-44ea-a6a5-649cd97e3fd6\":{\"defs\":[{\"extends\":null,\"module\":null,\"name\":\"ReactiveHTML1\",\"overrides\":[],\"properties\":[]},{\"extends\":null,\"module\":null,\"name\":\"FlexBox1\",\"overrides\":[],\"properties\":[{\"default\":\"flex-start\",\"kind\":null,\"name\":\"align_content\"},{\"default\":\"flex-start\",\"kind\":null,\"name\":\"align_items\"},{\"default\":\"row\",\"kind\":null,\"name\":\"flex_direction\"},{\"default\":\"wrap\",\"kind\":null,\"name\":\"flex_wrap\"},{\"default\":\"flex-start\",\"kind\":null,\"name\":\"justify_content\"}]},{\"extends\":null,\"module\":null,\"name\":\"TemplateActions1\",\"overrides\":[],\"properties\":[{\"default\":0,\"kind\":null,\"name\":\"open_modal\"},{\"default\":0,\"kind\":null,\"name\":\"close_modal\"}]},{\"extends\":null,\"module\":null,\"name\":\"MaterialTemplateActions1\",\"overrides\":[],\"properties\":[{\"default\":0,\"kind\":null,\"name\":\"open_modal\"},{\"default\":0,\"kind\":null,\"name\":\"close_modal\"}]}],\"roots\":{\"references\":[{\"attributes\":{\"line_alpha\":0.1,\"line_color\":\"#30a2da\",\"line_width\":2,\"x\":{\"field\":\"listing_date\"},\"y\":{\"field\":\"listing_price\"}},\"id\":\"19487\",\"type\":\"Line\"},{\"attributes\":{\"active_multi\":null,\"tools\":[{\"id\":\"19453\"},{\"id\":\"19470\"},{\"id\":\"19471\"},{\"id\":\"19472\"},{\"id\":\"19473\"},{\"id\":\"19474\"}]},\"id\":\"19476\",\"type\":\"Toolbar\"},{\"attributes\":{\"line_color\":\"#30a2da\",\"line_width\":2,\"x\":{\"field\":\"listing_date\"},\"y\":{\"field\":\"listing_price\"}},\"id\":\"19491\",\"type\":\"Line\"},{\"attributes\":{\"text\":\"NFT Bid Trends\",\"text_color\":\"black\",\"text_font_size\":\"12pt\"},\"id\":\"19455\",\"type\":\"Title\"},{\"attributes\":{},\"id\":\"19470\",\"type\":\"SaveTool\"},{\"attributes\":{\"data_source\":{\"id\":\"19483\"},\"glyph\":{\"id\":\"19486\"},\"hover_glyph\":null,\"muted_glyph\":{\"id\":\"19488\"},\"nonselection_glyph\":{\"id\":\"19487\"},\"selection_glyph\":{\"id\":\"19491\"},\"view\":{\"id\":\"19490\"}},\"id\":\"19489\",\"type\":\"GlyphRenderer\"},{\"attributes\":{},\"id\":\"19496\",\"type\":\"AllLabels\"},{\"attributes\":{},\"id\":\"19471\",\"type\":\"PanTool\"},{\"attributes\":{},\"id\":\"19474\",\"type\":\"ResetTool\"},{\"attributes\":{\"line_color\":\"#30a2da\",\"line_width\":2,\"x\":{\"field\":\"listing_date\"},\"y\":{\"field\":\"listing_price\"}},\"id\":\"19486\",\"type\":\"Line\"},{\"attributes\":{},\"id\":\"19472\",\"type\":\"WheelZoomTool\"},{\"attributes\":{},\"id\":\"19495\",\"type\":\"BasicTickFormatter\"},{\"attributes\":{\"overlay\":{\"id\":\"19475\"}},\"id\":\"19473\",\"type\":\"BoxZoomTool\"},{\"attributes\":{\"line_alpha\":0.2,\"line_color\":\"#30a2da\",\"line_width\":2,\"x\":{\"field\":\"listing_date\"},\"y\":{\"field\":\"listing_price\"}},\"id\":\"19488\",\"type\":\"Line\"},{\"attributes\":{\"axis_label\":\"Date\",\"formatter\":{\"id\":\"19494\"},\"major_label_orientation\":0.7853981633974483,\"major_label_policy\":{\"id\":\"19492\"},\"ticker\":{\"id\":\"19464\"}},\"id\":\"19463\",\"type\":\"CategoricalAxis\"},{\"attributes\":{\"axis\":{\"id\":\"19463\"},\"ticker\":{\"id\":\"19464\"}},\"id\":\"19465\",\"type\":\"Grid\"},{\"attributes\":{},\"id\":\"19494\",\"type\":\"CategoricalTickFormatter\"},{\"attributes\":{\"margin\":[5,5,5,5],\"name\":\"HSpacer15717\",\"sizing_mode\":\"stretch_width\"},\"id\":\"19450\",\"type\":\"Spacer\"},{\"attributes\":{},\"id\":\"19467\",\"type\":\"BasicTicker\"},{\"attributes\":{},\"id\":\"19459\",\"type\":\"CategoricalScale\"},{\"attributes\":{},\"id\":\"19461\",\"type\":\"LinearScale\"},{\"attributes\":{\"data\":{\"listing_date\":[\"2019-09-09\",\"2019-12-04\",\"2020-02-07\",\"2020-12-02\",\"2020-12-02\",\"2020-12-02\",\"2020-12-02\",\"2020-12-02\",\"2020-12-02\",\"2020-12-12\",\"2020-12-12\",\"2021-01-11\",\"2021-03-17\",\"2021-04-16\",\"2021-04-22\",\"2021-05-11\",\"2021-06-29\",\"2021-07-12\",\"2021-07-16\",\"2021-07-26\",\"2021-07-26\",\"2021-07-26\",\"2021-07-27\",\"2021-07-27\",\"2021-07-27\",\"2021-07-27\",\"2021-07-27\",\"2021-07-27\",\"2021-07-30\",\"2021-08-01\",\"2021-08-05\",\"2021-08-05\",\"2021-08-11\",\"2021-08-11\",\"2021-08-11\",\"2021-08-15\",\"2021-08-27\",\"2021-08-28\",\"2021-08-28\",\"2021-09-01\",\"2021-09-03\",\"2021-09-03\",\"2021-09-04\",\"2021-09-05\",\"2021-09-05\",\"2021-09-06\",\"2021-09-06\",\"2021-09-06\",\"2021-09-08\",\"2021-09-08\",\"2021-09-11\",\"2021-09-12\",\"2021-09-13\",\"2021-09-18\",\"2021-09-24\",\"2021-09-24\",\"2021-09-26\",\"2021-09-26\",\"2021-09-26\",\"2021-09-26\",\"2021-09-26\",\"2021-09-26\",\"2021-09-26\",\"2021-09-26\",\"2021-09-28\",\"2021-09-28\",\"2021-10-04\",\"2021-10-12\",\"2021-10-14\",\"2021-10-14\",\"2021-10-16\",\"2021-10-17\",\"2021-10-17\",\"2021-10-17\",\"2021-10-17\",\"2021-10-19\",\"2021-10-20\",\"2021-10-25\",\"2021-10-26\",\"2021-10-26\",\"2021-10-26\",\"2021-10-26\",\"2021-10-30\",\"2021-10-30\",\"2021-10-30\",\"2021-10-30\",\"2021-10-30\",\"2021-10-30\",\"2021-10-30\",\"2021-10-30\",\"2021-10-30\",\"2021-10-30\",\"2021-10-30\",\"2021-10-30\",\"2021-10-30\",\"2021-10-30\",\"2021-10-30\",\"2021-10-30\",\"2021-10-30\",\"2021-11-01\"],\"listing_price\":{\"__ndarray__\":\"rkfhehRacUCamZmZmRlNQD0K16NwPSFAuB6F61G4V0AAAAAAAAAAAB+F61G4vldAAAAAAAAAAACF61G4HuVXQAAAAAAAAAAAAAAAAABIY0AzMzMzM1NBQD0K16NwvU5AexSuR+F6NUAAAAAAAAB+QDMzMzMzc0ZArkfhehTmgUAAAAAAAAAAAAAAAAAAgGZA9ihcj8J1WkAqXI/C9SggQKVwPQrXIzBArkfhehSuL0Atsp3vpzJaQKRwPQrX40VArkfhehT+WUCkcD0K1+NFQM3MzMzMDFlAAAAAAADASUCamZmZmZkqQLgehetRCFxAw/UoXI/iTUCkcD0K1+NNQAAAAAAAAAAAAAAAAAAAAAAAAAAAAAAAAAAAAAAAgEtAAAAAAAD8cUBSuB6F6zFXQOp8PzVe5HRAFK5H4XoUI0ApXI/C9Sg0QM3MzMzMTCZApHA9CtejP0DsUbgehes3QIXrUbgehS1AaJHtfD/FR0BSuB6F61EzQDMzMzMzMzRAAAAAAAAgdEAAAAAAAEBvQIXrUbgeRTJAw/UoXI/CLEA0MzMzM7M3QFK4HoXr0TJAAAAAAAAAKEAAAAAAAAAoQAAAAAAAgE5AAAAAAACATkBmZmZmZmZLQAAAAAAAgE5AAAAAAACATkAAAAAAAIBOQAAAAAAAgE5ApHA9CtfjSUDNzMzMzMxEQOJ6FK5H4SVAAAAAAAAAOkC4HoXrUfgzQGdmZmZmpjRAuB6F61F4WkDsUbgehatQQM3MzMzMTC5AKVyPwvWoL0AAAAAAAIAxQAAAAAAAAD5ASOF6FK5HJkDNzMzMzMwsQGZmZmZmZkVAAAAAAADARkAAAAAAAABFQAAAAAAAQElA16NwPQr3Q0CamZmZmZkJQJqZmZmZmQlAmpmZmZmZCUCamZmZmZkJQJqZmZmZmQlAmpmZmZmZCUCamZmZmZkJQJqZmZmZmQlAmpmZmZmZCUCamZmZmZkJQJqZmZmZmQlAmpmZmZmZCUCamZmZmZkJQJqZmZmZmQlAmpmZmZmZCUCamZmZmZkJQJqZmZmZmQlAmpmZmZmZuT8=\",\"dtype\":\"float64\",\"order\":\"little\",\"shape\":[100]}},\"selected\":{\"id\":\"19484\"},\"selection_policy\":{\"id\":\"19508\"}},\"id\":\"19483\",\"type\":\"ColumnDataSource\"},{\"attributes\":{\"source\":{\"id\":\"19483\"}},\"id\":\"19490\",\"type\":\"CDSView\"},{\"attributes\":{\"end\":630.036,\"reset_end\":630.036,\"reset_start\":-57.276,\"start\":-57.276,\"tags\":[[[\"listing_price\",\"listing_price\",null]]]},\"id\":\"19452\",\"type\":\"Range1d\"},{\"attributes\":{},\"id\":\"19464\",\"type\":\"CategoricalTicker\"},{\"attributes\":{},\"id\":\"19508\",\"type\":\"UnionRenderers\"},{\"attributes\":{\"margin\":[5,5,5,5],\"name\":\"HSpacer15718\",\"sizing_mode\":\"stretch_width\"},\"id\":\"19520\",\"type\":\"Spacer\"},{\"attributes\":{\"axis_label\":\"Listing Price\",\"formatter\":{\"id\":\"19495\"},\"major_label_policy\":{\"id\":\"19496\"},\"ticker\":{\"id\":\"19467\"}},\"id\":\"19466\",\"type\":\"LinearAxis\"},{\"attributes\":{\"factors\":[\"2019-09-09\",\"2019-12-04\",\"2020-02-07\",\"2020-12-02\",\"2020-12-12\",\"2021-01-11\",\"2021-03-17\",\"2021-04-16\",\"2021-04-22\",\"2021-05-11\",\"2021-06-29\",\"2021-07-12\",\"2021-07-16\",\"2021-07-26\",\"2021-07-27\",\"2021-07-30\",\"2021-08-01\",\"2021-08-05\",\"2021-08-11\",\"2021-08-15\",\"2021-08-27\",\"2021-08-28\",\"2021-09-01\",\"2021-09-03\",\"2021-09-04\",\"2021-09-05\",\"2021-09-06\",\"2021-09-08\",\"2021-09-11\",\"2021-09-12\",\"2021-09-13\",\"2021-09-18\",\"2021-09-24\",\"2021-09-26\",\"2021-09-28\",\"2021-10-04\",\"2021-10-12\",\"2021-10-14\",\"2021-10-16\",\"2021-10-17\",\"2021-10-19\",\"2021-10-20\",\"2021-10-25\",\"2021-10-26\",\"2021-10-30\",\"2021-11-01\"],\"tags\":[[[\"listing_date\",\"listing_date\",null]]]},\"id\":\"19451\",\"type\":\"FactorRange\"},{\"attributes\":{},\"id\":\"19484\",\"type\":\"Selection\"},{\"attributes\":{\"axis\":{\"id\":\"19466\"},\"dimension\":1,\"ticker\":{\"id\":\"19467\"}},\"id\":\"19469\",\"type\":\"Grid\"},{\"attributes\":{\"below\":[{\"id\":\"19463\"}],\"center\":[{\"id\":\"19465\"},{\"id\":\"19469\"}],\"height\":300,\"left\":[{\"id\":\"19466\"}],\"margin\":[5,5,5,5],\"min_border_bottom\":10,\"min_border_left\":10,\"min_border_right\":10,\"min_border_top\":10,\"renderers\":[{\"id\":\"19489\"}],\"sizing_mode\":\"fixed\",\"title\":{\"id\":\"19455\"},\"toolbar\":{\"id\":\"19476\"},\"width\":1200,\"x_range\":{\"id\":\"19451\"},\"x_scale\":{\"id\":\"19459\"},\"y_range\":{\"id\":\"19452\"},\"y_scale\":{\"id\":\"19461\"}},\"id\":\"19454\",\"subtype\":\"Figure\",\"type\":\"Plot\"},{\"attributes\":{\"bottom_units\":\"screen\",\"fill_alpha\":0.5,\"fill_color\":\"lightgrey\",\"left_units\":\"screen\",\"level\":\"overlay\",\"line_alpha\":1.0,\"line_color\":\"black\",\"line_dash\":[4,4],\"line_width\":2,\"right_units\":\"screen\",\"syncable\":false,\"top_units\":\"screen\"},\"id\":\"19475\",\"type\":\"BoxAnnotation\"},{\"attributes\":{\"children\":[{\"id\":\"19450\"},{\"id\":\"19454\"},{\"id\":\"19520\"}],\"margin\":[0,0,0,0],\"name\":\"Row15713\",\"tags\":[\"embedded\"]},\"id\":\"19449\",\"type\":\"Row\"},{\"attributes\":{},\"id\":\"19492\",\"type\":\"AllLabels\"},{\"attributes\":{\"callback\":null,\"renderers\":[{\"id\":\"19489\"}],\"tags\":[\"hv_created\"],\"tooltips\":[[\"listing_date\",\"@{listing_date}\"],[\"listing_price\",\"@{listing_price}\"]]},\"id\":\"19453\",\"type\":\"HoverTool\"}],\"root_ids\":[\"19449\"]},\"title\":\"Bokeh Application\",\"version\":\"2.3.2\"}};\n",
       "    var render_items = [{\"docid\":\"72b4c693-7a88-44ea-a6a5-649cd97e3fd6\",\"root_ids\":[\"19449\"],\"roots\":{\"19449\":\"9f159755-1600-4fd8-900b-89d382e8579e\"}}];\n",
       "    root.Bokeh.embed.embed_items_notebook(docs_json, render_items);\n",
       "  }\n",
       "  if (root.Bokeh !== undefined && root.Bokeh.Panel !== undefined) {\n",
       "    embed_document(root);\n",
       "  } else {\n",
       "    var attempts = 0;\n",
       "    var timer = setInterval(function(root) {\n",
       "      if (root.Bokeh !== undefined && root.Bokeh.Panel !== undefined) {\n",
       "        clearInterval(timer);\n",
       "        embed_document(root);\n",
       "      } else if (document.readyState == \"complete\") {\n",
       "        attempts++;\n",
       "        if (attempts > 200) {\n",
       "          clearInterval(timer);\n",
       "          console.log(\"Bokeh: ERROR: Unable to run BokehJS code because BokehJS library is missing\");\n",
       "        }\n",
       "      }\n",
       "    }, 25, root)\n",
       "  }\n",
       "})(window);</script>"
      ],
      "text/plain": [
       ":Curve   [listing_date]   (listing_price)"
      ]
     },
     "execution_count": 301,
     "metadata": {
      "application/vnd.holoviews_exec.v0+json": {
       "id": "19449"
      }
     },
     "output_type": "execute_result"
    }
   ],
   "source": [
    "plot_1"
   ]
  },
  {
   "cell_type": "markdown",
   "id": "2bfa7227-ad54-4d0e-b230-0c8b0410422f",
   "metadata": {},
   "source": [
    "#### This visual provided our group with the trends in NFT bid prices from 2018-2021.  As you can see by the graph, bids have periodic jumps throughout the year, most notably in November and December 2020, and April, June, August, September, and October."
   ]
  },
  {
   "cell_type": "markdown",
   "id": "cbb802f3-d870-43ee-9ce0-d844f971ca73",
   "metadata": {},
   "source": [
    "### Visual #2: Number of NFT Sales per Day"
   ]
  },
  {
   "cell_type": "code",
   "execution_count": 302,
   "id": "77024dca-d663-4d69-8877-6227507c6724",
   "metadata": {},
   "outputs": [],
   "source": [
    "#CREATE VISUAL: Number of NFT Sales per Day\n",
    "data_list = opensea_data_pull[\"asset_events\"]\n",
    "\n",
    "#Create variables\n",
    "listing_date_list = []\n",
    "listing_price_list = []\n",
    "\n",
    "# iterate through each item in list\n",
    "for each in data_list:\n",
    "    \n",
    "    # grab the id\n",
    "    listing_date = each[\"asset\"][\"asset_contract\"][\"created_date\"]\n",
    "    listing_date = listing_date[0:10]  # reformat dates to be cleaner\n",
    "    try:\n",
    "        listing_price = float(each[\"bid_amount\"])\n",
    "        listing_price = listing_price / 10000000000000\n",
    "    except:\n",
    "        listing_price = 0\n",
    "        \n",
    "    # append id to list of ids\n",
    "    listing_date_list.append(listing_date)\n",
    "    listing_price_list.append(listing_price)"
   ]
  },
  {
   "cell_type": "code",
   "execution_count": 303,
   "id": "4c654aa3-f33c-47f9-bc23-28ee5464200f",
   "metadata": {},
   "outputs": [],
   "source": [
    "# cleaner method. give column headers\n",
    "sales_df = pd.DataFrame(\n",
    "    {'listing_date': listing_date_list,\n",
    "     'listing_price': listing_price_list\n",
    "     })\n",
    "sales_df = sales_df.set_index(\"listing_date\")\n",
    "sales_df = sales_df.dropna()"
   ]
  },
  {
   "cell_type": "code",
   "execution_count": 304,
   "id": "3b6008e4-dc88-40d8-a3af-18a09b9e6c84",
   "metadata": {},
   "outputs": [
    {
     "data": {
      "text/html": [
       "<div>\n",
       "<style scoped>\n",
       "    .dataframe tbody tr th:only-of-type {\n",
       "        vertical-align: middle;\n",
       "    }\n",
       "\n",
       "    .dataframe tbody tr th {\n",
       "        vertical-align: top;\n",
       "    }\n",
       "\n",
       "    .dataframe thead th {\n",
       "        text-align: right;\n",
       "    }\n",
       "</style>\n",
       "<table border=\"1\" class=\"dataframe\">\n",
       "  <thead>\n",
       "    <tr style=\"text-align: right;\">\n",
       "      <th></th>\n",
       "      <th>listing_price</th>\n",
       "    </tr>\n",
       "    <tr>\n",
       "      <th>listing_date</th>\n",
       "      <th></th>\n",
       "    </tr>\n",
       "  </thead>\n",
       "  <tbody>\n",
       "    <tr>\n",
       "      <th>2019-09-09</th>\n",
       "      <td>1</td>\n",
       "    </tr>\n",
       "    <tr>\n",
       "      <th>2019-12-04</th>\n",
       "      <td>1</td>\n",
       "    </tr>\n",
       "    <tr>\n",
       "      <th>2020-02-07</th>\n",
       "      <td>1</td>\n",
       "    </tr>\n",
       "    <tr>\n",
       "      <th>2020-12-02</th>\n",
       "      <td>6</td>\n",
       "    </tr>\n",
       "    <tr>\n",
       "      <th>2020-12-12</th>\n",
       "      <td>2</td>\n",
       "    </tr>\n",
       "    <tr>\n",
       "      <th>2021-01-11</th>\n",
       "      <td>1</td>\n",
       "    </tr>\n",
       "    <tr>\n",
       "      <th>2021-03-17</th>\n",
       "      <td>1</td>\n",
       "    </tr>\n",
       "    <tr>\n",
       "      <th>2021-04-16</th>\n",
       "      <td>1</td>\n",
       "    </tr>\n",
       "    <tr>\n",
       "      <th>2021-04-22</th>\n",
       "      <td>1</td>\n",
       "    </tr>\n",
       "    <tr>\n",
       "      <th>2021-05-11</th>\n",
       "      <td>1</td>\n",
       "    </tr>\n",
       "    <tr>\n",
       "      <th>2021-06-29</th>\n",
       "      <td>1</td>\n",
       "    </tr>\n",
       "    <tr>\n",
       "      <th>2021-07-12</th>\n",
       "      <td>1</td>\n",
       "    </tr>\n",
       "    <tr>\n",
       "      <th>2021-07-16</th>\n",
       "      <td>1</td>\n",
       "    </tr>\n",
       "    <tr>\n",
       "      <th>2021-07-26</th>\n",
       "      <td>3</td>\n",
       "    </tr>\n",
       "    <tr>\n",
       "      <th>2021-07-27</th>\n",
       "      <td>6</td>\n",
       "    </tr>\n",
       "    <tr>\n",
       "      <th>2021-07-30</th>\n",
       "      <td>1</td>\n",
       "    </tr>\n",
       "    <tr>\n",
       "      <th>2021-08-01</th>\n",
       "      <td>1</td>\n",
       "    </tr>\n",
       "    <tr>\n",
       "      <th>2021-08-05</th>\n",
       "      <td>2</td>\n",
       "    </tr>\n",
       "    <tr>\n",
       "      <th>2021-08-11</th>\n",
       "      <td>3</td>\n",
       "    </tr>\n",
       "    <tr>\n",
       "      <th>2021-08-15</th>\n",
       "      <td>1</td>\n",
       "    </tr>\n",
       "  </tbody>\n",
       "</table>\n",
       "</div>"
      ],
      "text/plain": [
       "              listing_price\n",
       "listing_date               \n",
       "2019-09-09                1\n",
       "2019-12-04                1\n",
       "2020-02-07                1\n",
       "2020-12-02                6\n",
       "2020-12-12                2\n",
       "2021-01-11                1\n",
       "2021-03-17                1\n",
       "2021-04-16                1\n",
       "2021-04-22                1\n",
       "2021-05-11                1\n",
       "2021-06-29                1\n",
       "2021-07-12                1\n",
       "2021-07-16                1\n",
       "2021-07-26                3\n",
       "2021-07-27                6\n",
       "2021-07-30                1\n",
       "2021-08-01                1\n",
       "2021-08-05                2\n",
       "2021-08-11                3\n",
       "2021-08-15                1"
      ]
     },
     "execution_count": 304,
     "metadata": {},
     "output_type": "execute_result"
    }
   ],
   "source": [
    "#create data frame for number of sales\n",
    "numsales_df = sales_df.groupby([\"listing_date\"]).count()\n",
    "numsales_df = numsales_df.sort_values(\"listing_date\")\n",
    "numsales_df.head(20)"
   ]
  },
  {
   "cell_type": "code",
   "execution_count": 305,
   "id": "18af250e-32d1-4a5d-b9e1-a88ea5c547e9",
   "metadata": {},
   "outputs": [],
   "source": [
    "#Plot the data using a bar chart to show trends in each time period\n",
    "plot_2 = numsales_df.hvplot.bar(\n",
    "    title= \"Number of NFT Sales Per Day\",\n",
    "    xlabel = \"Date\",\n",
    "    ylabel = \"Sales Count\",\n",
    "    rot=45,\n",
    "    width=1200,\n",
    "    #color=\"Sales Count\",\n",
    "    grid=True\n",
    ")"
   ]
  },
  {
   "cell_type": "code",
   "execution_count": 306,
   "id": "17e1ac4c-eb43-4dd3-ab38-f17176728c64",
   "metadata": {},
   "outputs": [
    {
     "data": {},
     "metadata": {},
     "output_type": "display_data"
    },
    {
     "data": {
      "application/vnd.holoviews_exec.v0+json": "",
      "text/html": [
       "<div id='19572'>\n",
       "\n",
       "\n",
       "\n",
       "\n",
       "\n",
       "  <div class=\"bk-root\" id=\"2c4dcb2e-a0de-4309-b2eb-2131607c9397\" data-root-id=\"19572\"></div>\n",
       "</div>\n",
       "<script type=\"application/javascript\">(function(root) {\n",
       "  function embed_document(root) {\n",
       "    var docs_json = {\"02dba4c9-4e32-4746-81ff-d31b96f94a62\":{\"defs\":[{\"extends\":null,\"module\":null,\"name\":\"ReactiveHTML1\",\"overrides\":[],\"properties\":[]},{\"extends\":null,\"module\":null,\"name\":\"FlexBox1\",\"overrides\":[],\"properties\":[{\"default\":\"flex-start\",\"kind\":null,\"name\":\"align_content\"},{\"default\":\"flex-start\",\"kind\":null,\"name\":\"align_items\"},{\"default\":\"row\",\"kind\":null,\"name\":\"flex_direction\"},{\"default\":\"wrap\",\"kind\":null,\"name\":\"flex_wrap\"},{\"default\":\"flex-start\",\"kind\":null,\"name\":\"justify_content\"}]},{\"extends\":null,\"module\":null,\"name\":\"TemplateActions1\",\"overrides\":[],\"properties\":[{\"default\":0,\"kind\":null,\"name\":\"open_modal\"},{\"default\":0,\"kind\":null,\"name\":\"close_modal\"}]},{\"extends\":null,\"module\":null,\"name\":\"MaterialTemplateActions1\",\"overrides\":[],\"properties\":[{\"default\":0,\"kind\":null,\"name\":\"open_modal\"},{\"default\":0,\"kind\":null,\"name\":\"close_modal\"}]}],\"roots\":{\"references\":[{\"attributes\":{\"source\":{\"id\":\"19606\"}},\"id\":\"19613\",\"type\":\"CDSView\"},{\"attributes\":{},\"id\":\"19618\",\"type\":\"BasicTickFormatter\"},{\"attributes\":{},\"id\":\"19607\",\"type\":\"Selection\"},{\"attributes\":{},\"id\":\"19615\",\"type\":\"AllLabels\"},{\"attributes\":{\"below\":[{\"id\":\"19586\"}],\"center\":[{\"id\":\"19588\"},{\"id\":\"19592\"}],\"height\":300,\"left\":[{\"id\":\"19589\"}],\"margin\":[5,5,5,5],\"min_border_bottom\":10,\"min_border_left\":10,\"min_border_right\":10,\"min_border_top\":10,\"renderers\":[{\"id\":\"19612\"}],\"sizing_mode\":\"fixed\",\"title\":{\"id\":\"19578\"},\"toolbar\":{\"id\":\"19599\"},\"width\":1200,\"x_range\":{\"id\":\"19574\"},\"x_scale\":{\"id\":\"19582\"},\"y_range\":{\"id\":\"19575\"},\"y_scale\":{\"id\":\"19584\"}},\"id\":\"19577\",\"subtype\":\"Figure\",\"type\":\"Plot\"},{\"attributes\":{\"margin\":[5,5,5,5],\"name\":\"HSpacer15897\",\"sizing_mode\":\"stretch_width\"},\"id\":\"19643\",\"type\":\"Spacer\"},{\"attributes\":{},\"id\":\"19593\",\"type\":\"SaveTool\"},{\"attributes\":{},\"id\":\"19594\",\"type\":\"PanTool\"},{\"attributes\":{\"text\":\"Number of NFT Sales Per Day\",\"text_color\":\"black\",\"text_font_size\":\"12pt\"},\"id\":\"19578\",\"type\":\"Title\"},{\"attributes\":{},\"id\":\"19597\",\"type\":\"ResetTool\"},{\"attributes\":{},\"id\":\"19617\",\"type\":\"CategoricalTickFormatter\"},{\"attributes\":{\"fill_alpha\":{\"value\":0.2},\"fill_color\":{\"value\":\"#30a2da\"},\"line_alpha\":{\"value\":0.2},\"top\":{\"field\":\"listing_price\"},\"width\":{\"value\":0.8},\"x\":{\"field\":\"listing_date\"}},\"id\":\"19611\",\"type\":\"VBar\"},{\"attributes\":{},\"id\":\"19595\",\"type\":\"WheelZoomTool\"},{\"attributes\":{\"overlay\":{\"id\":\"19598\"}},\"id\":\"19596\",\"type\":\"BoxZoomTool\"},{\"attributes\":{\"children\":[{\"id\":\"19573\"},{\"id\":\"19577\"},{\"id\":\"19643\"}],\"margin\":[0,0,0,0],\"name\":\"Row15892\",\"tags\":[\"embedded\"]},\"id\":\"19572\",\"type\":\"Row\"},{\"attributes\":{\"fill_color\":{\"value\":\"#30a2da\"},\"top\":{\"field\":\"listing_price\"},\"width\":{\"value\":0.8},\"x\":{\"field\":\"listing_date\"}},\"id\":\"19609\",\"type\":\"VBar\"},{\"attributes\":{\"axis_label\":\"Date\",\"formatter\":{\"id\":\"19617\"},\"major_label_orientation\":0.7853981633974483,\"major_label_policy\":{\"id\":\"19615\"},\"ticker\":{\"id\":\"19587\"}},\"id\":\"19586\",\"type\":\"CategoricalAxis\"},{\"attributes\":{},\"id\":\"19619\",\"type\":\"AllLabels\"},{\"attributes\":{\"axis\":{\"id\":\"19586\"},\"ticker\":{\"id\":\"19587\"}},\"id\":\"19588\",\"type\":\"Grid\"},{\"attributes\":{\"margin\":[5,5,5,5],\"name\":\"HSpacer15896\",\"sizing_mode\":\"stretch_width\"},\"id\":\"19573\",\"type\":\"Spacer\"},{\"attributes\":{},\"id\":\"19590\",\"type\":\"BasicTicker\"},{\"attributes\":{},\"id\":\"19631\",\"type\":\"UnionRenderers\"},{\"attributes\":{},\"id\":\"19582\",\"type\":\"CategoricalScale\"},{\"attributes\":{\"bottom\":{\"value\":0},\"fill_alpha\":{\"value\":1.0},\"fill_color\":{\"value\":\"#30a2da\"},\"hatch_alpha\":{\"value\":1.0},\"hatch_color\":{\"value\":\"black\"},\"hatch_scale\":{\"value\":12.0},\"hatch_weight\":{\"value\":1.0},\"line_alpha\":{\"value\":1.0},\"line_cap\":{\"value\":\"butt\"},\"line_color\":{\"value\":\"black\"},\"line_dash\":{\"value\":[]},\"line_dash_offset\":{\"value\":0},\"line_join\":{\"value\":\"bevel\"},\"line_width\":{\"value\":1},\"top\":{\"field\":\"listing_price\"},\"width\":{\"value\":0.8},\"x\":{\"field\":\"listing_date\"}},\"id\":\"19614\",\"type\":\"VBar\"},{\"attributes\":{},\"id\":\"19584\",\"type\":\"LinearScale\"},{\"attributes\":{},\"id\":\"19587\",\"type\":\"CategoricalTicker\"},{\"attributes\":{\"axis_label\":\"Sales Count\",\"formatter\":{\"id\":\"19618\"},\"major_label_policy\":{\"id\":\"19619\"},\"ticker\":{\"id\":\"19590\"}},\"id\":\"19589\",\"type\":\"LinearAxis\"},{\"attributes\":{\"factors\":[\"2019-09-09\",\"2019-12-04\",\"2020-02-07\",\"2020-12-02\",\"2020-12-12\",\"2021-01-11\",\"2021-03-17\",\"2021-04-16\",\"2021-04-22\",\"2021-05-11\",\"2021-06-29\",\"2021-07-12\",\"2021-07-16\",\"2021-07-26\",\"2021-07-27\",\"2021-07-30\",\"2021-08-01\",\"2021-08-05\",\"2021-08-11\",\"2021-08-15\",\"2021-08-27\",\"2021-08-28\",\"2021-09-01\",\"2021-09-03\",\"2021-09-04\",\"2021-09-05\",\"2021-09-06\",\"2021-09-08\",\"2021-09-11\",\"2021-09-12\",\"2021-09-13\",\"2021-09-18\",\"2021-09-24\",\"2021-09-26\",\"2021-09-28\",\"2021-10-04\",\"2021-10-12\",\"2021-10-14\",\"2021-10-16\",\"2021-10-17\",\"2021-10-19\",\"2021-10-20\",\"2021-10-25\",\"2021-10-26\",\"2021-10-30\",\"2021-11-01\"],\"tags\":[[[\"listing_date\",\"listing_date\",null]]]},\"id\":\"19574\",\"type\":\"FactorRange\"},{\"attributes\":{\"axis\":{\"id\":\"19589\"},\"dimension\":1,\"ticker\":{\"id\":\"19590\"}},\"id\":\"19592\",\"type\":\"Grid\"},{\"attributes\":{\"end\":18.6,\"reset_end\":18.6,\"reset_start\":0.0,\"tags\":[[[\"listing_price\",\"listing_price\",null]]]},\"id\":\"19575\",\"type\":\"Range1d\"},{\"attributes\":{\"active_multi\":null,\"tools\":[{\"id\":\"19576\"},{\"id\":\"19593\"},{\"id\":\"19594\"},{\"id\":\"19595\"},{\"id\":\"19596\"},{\"id\":\"19597\"}]},\"id\":\"19599\",\"type\":\"Toolbar\"},{\"attributes\":{\"fill_alpha\":{\"value\":0.1},\"fill_color\":{\"value\":\"#30a2da\"},\"line_alpha\":{\"value\":0.1},\"top\":{\"field\":\"listing_price\"},\"width\":{\"value\":0.8},\"x\":{\"field\":\"listing_date\"}},\"id\":\"19610\",\"type\":\"VBar\"},{\"attributes\":{\"data_source\":{\"id\":\"19606\"},\"glyph\":{\"id\":\"19609\"},\"hover_glyph\":null,\"muted_glyph\":{\"id\":\"19611\"},\"nonselection_glyph\":{\"id\":\"19610\"},\"selection_glyph\":{\"id\":\"19614\"},\"view\":{\"id\":\"19613\"}},\"id\":\"19612\",\"type\":\"GlyphRenderer\"},{\"attributes\":{\"bottom_units\":\"screen\",\"fill_alpha\":0.5,\"fill_color\":\"lightgrey\",\"left_units\":\"screen\",\"level\":\"overlay\",\"line_alpha\":1.0,\"line_color\":\"black\",\"line_dash\":[4,4],\"line_width\":2,\"right_units\":\"screen\",\"syncable\":false,\"top_units\":\"screen\"},\"id\":\"19598\",\"type\":\"BoxAnnotation\"},{\"attributes\":{\"data\":{\"listing_date\":[\"2019-09-09\",\"2019-12-04\",\"2020-02-07\",\"2020-12-02\",\"2020-12-12\",\"2021-01-11\",\"2021-03-17\",\"2021-04-16\",\"2021-04-22\",\"2021-05-11\",\"2021-06-29\",\"2021-07-12\",\"2021-07-16\",\"2021-07-26\",\"2021-07-27\",\"2021-07-30\",\"2021-08-01\",\"2021-08-05\",\"2021-08-11\",\"2021-08-15\",\"2021-08-27\",\"2021-08-28\",\"2021-09-01\",\"2021-09-03\",\"2021-09-04\",\"2021-09-05\",\"2021-09-06\",\"2021-09-08\",\"2021-09-11\",\"2021-09-12\",\"2021-09-13\",\"2021-09-18\",\"2021-09-24\",\"2021-09-26\",\"2021-09-28\",\"2021-10-04\",\"2021-10-12\",\"2021-10-14\",\"2021-10-16\",\"2021-10-17\",\"2021-10-19\",\"2021-10-20\",\"2021-10-25\",\"2021-10-26\",\"2021-10-30\",\"2021-11-01\"],\"listing_price\":[1,1,1,6,2,1,1,1,1,1,1,1,1,3,6,1,1,2,3,1,1,2,1,2,1,2,3,2,1,1,1,1,2,8,2,1,1,2,1,4,1,1,1,4,17,1]},\"selected\":{\"id\":\"19607\"},\"selection_policy\":{\"id\":\"19631\"}},\"id\":\"19606\",\"type\":\"ColumnDataSource\"},{\"attributes\":{\"callback\":null,\"renderers\":[{\"id\":\"19612\"}],\"tags\":[\"hv_created\"],\"tooltips\":[[\"listing_date\",\"@{listing_date}\"],[\"listing_price\",\"@{listing_price}\"]]},\"id\":\"19576\",\"type\":\"HoverTool\"}],\"root_ids\":[\"19572\"]},\"title\":\"Bokeh Application\",\"version\":\"2.3.2\"}};\n",
       "    var render_items = [{\"docid\":\"02dba4c9-4e32-4746-81ff-d31b96f94a62\",\"root_ids\":[\"19572\"],\"roots\":{\"19572\":\"2c4dcb2e-a0de-4309-b2eb-2131607c9397\"}}];\n",
       "    root.Bokeh.embed.embed_items_notebook(docs_json, render_items);\n",
       "  }\n",
       "  if (root.Bokeh !== undefined && root.Bokeh.Panel !== undefined) {\n",
       "    embed_document(root);\n",
       "  } else {\n",
       "    var attempts = 0;\n",
       "    var timer = setInterval(function(root) {\n",
       "      if (root.Bokeh !== undefined && root.Bokeh.Panel !== undefined) {\n",
       "        clearInterval(timer);\n",
       "        embed_document(root);\n",
       "      } else if (document.readyState == \"complete\") {\n",
       "        attempts++;\n",
       "        if (attempts > 200) {\n",
       "          clearInterval(timer);\n",
       "          console.log(\"Bokeh: ERROR: Unable to run BokehJS code because BokehJS library is missing\");\n",
       "        }\n",
       "      }\n",
       "    }, 25, root)\n",
       "  }\n",
       "})(window);</script>"
      ],
      "text/plain": [
       ":Bars   [listing_date]   (listing_price)"
      ]
     },
     "execution_count": 306,
     "metadata": {
      "application/vnd.holoviews_exec.v0+json": {
       "id": "19572"
      }
     },
     "output_type": "execute_result"
    }
   ],
   "source": [
    "plot_2"
   ]
  },
  {
   "cell_type": "markdown",
   "id": "579706ae-c671-4244-b6ba-a2743bdaef09",
   "metadata": {},
   "source": [
    "#### This visual provided our group with the number of NFT sales per day.  You can see jumps in sales periodically throughout the year, with the most significant jump in June of 2021."
   ]
  },
  {
   "cell_type": "markdown",
   "id": "ca283fd6-e0a2-489b-9045-7c6c7d02df99",
   "metadata": {},
   "source": [
    "### Visual #3: Dollar Volume of Sales per Day"
   ]
  },
  {
   "cell_type": "code",
   "execution_count": 307,
   "id": "756d5933-4f13-4f81-8af8-cbfba2847d19",
   "metadata": {},
   "outputs": [
    {
     "data": {
      "text/html": [
       "<div>\n",
       "<style scoped>\n",
       "    .dataframe tbody tr th:only-of-type {\n",
       "        vertical-align: middle;\n",
       "    }\n",
       "\n",
       "    .dataframe tbody tr th {\n",
       "        vertical-align: top;\n",
       "    }\n",
       "\n",
       "    .dataframe thead th {\n",
       "        text-align: right;\n",
       "    }\n",
       "</style>\n",
       "<table border=\"1\" class=\"dataframe\">\n",
       "  <thead>\n",
       "    <tr style=\"text-align: right;\">\n",
       "      <th></th>\n",
       "      <th>listing_price</th>\n",
       "    </tr>\n",
       "    <tr>\n",
       "      <th>listing_date</th>\n",
       "      <th></th>\n",
       "    </tr>\n",
       "  </thead>\n",
       "  <tbody>\n",
       "    <tr>\n",
       "      <th>2019-09-09</th>\n",
       "      <td>277630.0</td>\n",
       "    </tr>\n",
       "    <tr>\n",
       "      <th>2019-12-04</th>\n",
       "      <td>58200.0</td>\n",
       "    </tr>\n",
       "    <tr>\n",
       "      <th>2020-02-07</th>\n",
       "      <td>8620.0</td>\n",
       "    </tr>\n",
       "    <tr>\n",
       "      <th>2020-12-02</th>\n",
       "      <td>94880.0</td>\n",
       "    </tr>\n",
       "    <tr>\n",
       "      <th>2020-12-02</th>\n",
       "      <td>0.0</td>\n",
       "    </tr>\n",
       "  </tbody>\n",
       "</table>\n",
       "</div>"
      ],
      "text/plain": [
       "              listing_price\n",
       "listing_date               \n",
       "2019-09-09         277630.0\n",
       "2019-12-04          58200.0\n",
       "2020-02-07           8620.0\n",
       "2020-12-02          94880.0\n",
       "2020-12-02              0.0"
      ]
     },
     "execution_count": 307,
     "metadata": {},
     "output_type": "execute_result"
    }
   ],
   "source": [
    "#CREATE VISUAL: NFT Volume per Day\n",
    "sales_df = sales_df.sort_index(ascending=True)\n",
    "sales_df.head()"
   ]
  },
  {
   "cell_type": "code",
   "execution_count": 308,
   "id": "1679e69f-5dff-4cd4-a5b1-5752ddf0528f",
   "metadata": {},
   "outputs": [
    {
     "data": {
      "text/html": [
       "<div>\n",
       "<style scoped>\n",
       "    .dataframe tbody tr th:only-of-type {\n",
       "        vertical-align: middle;\n",
       "    }\n",
       "\n",
       "    .dataframe tbody tr th {\n",
       "        vertical-align: top;\n",
       "    }\n",
       "\n",
       "    .dataframe thead th {\n",
       "        text-align: right;\n",
       "    }\n",
       "</style>\n",
       "<table border=\"1\" class=\"dataframe\">\n",
       "  <thead>\n",
       "    <tr style=\"text-align: right;\">\n",
       "      <th></th>\n",
       "      <th>listing_price</th>\n",
       "    </tr>\n",
       "    <tr>\n",
       "      <th>listing_date</th>\n",
       "      <th></th>\n",
       "    </tr>\n",
       "  </thead>\n",
       "  <tbody>\n",
       "    <tr>\n",
       "      <th>2019-09-09</th>\n",
       "      <td>277630.0</td>\n",
       "    </tr>\n",
       "    <tr>\n",
       "      <th>2019-12-04</th>\n",
       "      <td>58200.0</td>\n",
       "    </tr>\n",
       "    <tr>\n",
       "      <th>2020-02-07</th>\n",
       "      <td>8620.0</td>\n",
       "    </tr>\n",
       "    <tr>\n",
       "      <th>2020-12-02</th>\n",
       "      <td>285440.0</td>\n",
       "    </tr>\n",
       "    <tr>\n",
       "      <th>2020-12-12</th>\n",
       "      <td>188900.0</td>\n",
       "    </tr>\n",
       "  </tbody>\n",
       "</table>\n",
       "</div>"
      ],
      "text/plain": [
       "              listing_price\n",
       "listing_date               \n",
       "2019-09-09         277630.0\n",
       "2019-12-04          58200.0\n",
       "2020-02-07           8620.0\n",
       "2020-12-02         285440.0\n",
       "2020-12-12         188900.0"
      ]
     },
     "execution_count": 308,
     "metadata": {},
     "output_type": "execute_result"
    }
   ],
   "source": [
    "#create new df\n",
    "volsales_df = sales_df.groupby([\"listing_date\"]).sum()\n",
    "volsales_df = volsales_df.sort_values(\"listing_date\")\n",
    "\n",
    "volsales_df.head(5)"
   ]
  },
  {
   "cell_type": "code",
   "execution_count": 309,
   "id": "1dc68f6a-c40a-492b-bf38-3ed8d43d48fe",
   "metadata": {},
   "outputs": [],
   "source": [
    "#Plot the data using a bar chart to show trends in each time period\n",
    "plot_3 = volsales_df.hvplot.bar(\n",
    "    title= \"Volume of Sales Per Day (USD$)\",\n",
    "    xlabel = \"Date\",\n",
    "    ylabel = \"Volume of Sales\",\n",
    "    rot=45,\n",
    "    yformatter=\"%.0f\",\n",
    "    width=1200,\n",
    "#     color=\"listing_price\",\n",
    "    grid=True,\n",
    "#    colorbar=True\n",
    "\n",
    ")"
   ]
  },
  {
   "cell_type": "code",
   "execution_count": 310,
   "id": "aa52d383-c91c-49af-b471-5c39f4714e36",
   "metadata": {},
   "outputs": [
    {
     "data": {},
     "metadata": {},
     "output_type": "display_data"
    },
    {
     "data": {
      "application/vnd.holoviews_exec.v0+json": "",
      "text/html": [
       "<div id='19695'>\n",
       "\n",
       "\n",
       "\n",
       "\n",
       "\n",
       "  <div class=\"bk-root\" id=\"fd127e32-eeb5-4e06-9f67-30e2f6ae5a16\" data-root-id=\"19695\"></div>\n",
       "</div>\n",
       "<script type=\"application/javascript\">(function(root) {\n",
       "  function embed_document(root) {\n",
       "    var docs_json = {\"5e4de4a6-721f-419a-8c7b-4bed197d26c4\":{\"defs\":[{\"extends\":null,\"module\":null,\"name\":\"ReactiveHTML1\",\"overrides\":[],\"properties\":[]},{\"extends\":null,\"module\":null,\"name\":\"FlexBox1\",\"overrides\":[],\"properties\":[{\"default\":\"flex-start\",\"kind\":null,\"name\":\"align_content\"},{\"default\":\"flex-start\",\"kind\":null,\"name\":\"align_items\"},{\"default\":\"row\",\"kind\":null,\"name\":\"flex_direction\"},{\"default\":\"wrap\",\"kind\":null,\"name\":\"flex_wrap\"},{\"default\":\"flex-start\",\"kind\":null,\"name\":\"justify_content\"}]},{\"extends\":null,\"module\":null,\"name\":\"TemplateActions1\",\"overrides\":[],\"properties\":[{\"default\":0,\"kind\":null,\"name\":\"open_modal\"},{\"default\":0,\"kind\":null,\"name\":\"close_modal\"}]},{\"extends\":null,\"module\":null,\"name\":\"MaterialTemplateActions1\",\"overrides\":[],\"properties\":[{\"default\":0,\"kind\":null,\"name\":\"open_modal\"},{\"default\":0,\"kind\":null,\"name\":\"close_modal\"}]}],\"roots\":{\"references\":[{\"attributes\":{\"fill_color\":{\"value\":\"#30a2da\"},\"top\":{\"field\":\"listing_price\"},\"width\":{\"value\":0.8},\"x\":{\"field\":\"listing_date\"}},\"id\":\"19732\",\"type\":\"VBar\"},{\"attributes\":{},\"id\":\"19743\",\"type\":\"AllLabels\"},{\"attributes\":{},\"id\":\"19718\",\"type\":\"WheelZoomTool\"},{\"attributes\":{},\"id\":\"19739\",\"type\":\"AllLabels\"},{\"attributes\":{\"overlay\":{\"id\":\"19721\"}},\"id\":\"19719\",\"type\":\"BoxZoomTool\"},{\"attributes\":{\"axis_label\":\"Date\",\"formatter\":{\"id\":\"19741\"},\"major_label_orientation\":0.7853981633974483,\"major_label_policy\":{\"id\":\"19739\"},\"ticker\":{\"id\":\"19710\"}},\"id\":\"19709\",\"type\":\"CategoricalAxis\"},{\"attributes\":{},\"id\":\"19720\",\"type\":\"ResetTool\"},{\"attributes\":{\"axis\":{\"id\":\"19709\"},\"ticker\":{\"id\":\"19710\"}},\"id\":\"19711\",\"type\":\"Grid\"},{\"attributes\":{\"axis_label\":\"Volume of Sales\",\"formatter\":{\"id\":\"19738\"},\"major_label_policy\":{\"id\":\"19743\"},\"ticker\":{\"id\":\"19713\"}},\"id\":\"19712\",\"type\":\"LinearAxis\"},{\"attributes\":{\"data\":{\"listing_date\":[\"2019-09-09\",\"2019-12-04\",\"2020-02-07\",\"2020-12-02\",\"2020-12-12\",\"2021-01-11\",\"2021-03-17\",\"2021-04-16\",\"2021-04-22\",\"2021-05-11\",\"2021-06-29\",\"2021-07-12\",\"2021-07-16\",\"2021-07-26\",\"2021-07-27\",\"2021-07-30\",\"2021-08-01\",\"2021-08-05\",\"2021-08-11\",\"2021-08-15\",\"2021-08-27\",\"2021-08-28\",\"2021-09-01\",\"2021-09-03\",\"2021-09-04\",\"2021-09-05\",\"2021-09-06\",\"2021-09-08\",\"2021-09-11\",\"2021-09-12\",\"2021-09-13\",\"2021-09-18\",\"2021-09-24\",\"2021-09-26\",\"2021-09-28\",\"2021-10-04\",\"2021-10-12\",\"2021-10-14\",\"2021-10-16\",\"2021-10-17\",\"2021-10-19\",\"2021-10-20\",\"2021-10-25\",\"2021-10-26\",\"2021-10-30\",\"2021-11-01\"],\"listing_price\":{\"__ndarray__\":\"AAAAAPjxEEEAAAAAAGvsQAAAAAAA1sBAAAAAAABsEUEAAAAAIA8HQQAAAAAABe5AAAAAAAD61EAAAAAAAEwdQQAAAACA7OVAAAAAALB6IUEAAAAAAAAAAAAAAAAA+QVBAAAAAADX+UABAAAAgI/jQAAAAABWWBtBAAAAAAD6yUAAAAAAIGD7QAAAAADgL/1AAAAAAAAAAAAAAAAAANvqQAAAAAAYkBFB/P///7MQGkEAAAAAAKLCQAAAAACAk95AAAAAAADm3kAAAAAAAOPiQAAAAABQQfVAAAAAAMB0IUEAAAAAgNfRQAAAAAAAFsxAAQAAAAAl10AAAAAAAGHSQAAAAAAAcNdAAAAAABDYHEEAAAAAgKfpQAAAAAAAZNlAAAAAAICA00AAAAAAIOT+QAAAAACAR/BAAAAAAAAp80AAAAAAAMLFQAAAAAAAIMxAAAAAAADm5EAAAAAAULgFQQAAAAAAkOpAAAAAAAAAWUA=\",\"dtype\":\"float64\",\"order\":\"little\",\"shape\":[46]}},\"selected\":{\"id\":\"19730\"},\"selection_policy\":{\"id\":\"19756\"}},\"id\":\"19729\",\"type\":\"ColumnDataSource\"},{\"attributes\":{\"format\":\"%.0f\"},\"id\":\"19738\",\"type\":\"PrintfTickFormatter\"},{\"attributes\":{},\"id\":\"19705\",\"type\":\"CategoricalScale\"},{\"attributes\":{\"margin\":[5,5,5,5],\"name\":\"HSpacer16046\",\"sizing_mode\":\"stretch_width\"},\"id\":\"19767\",\"type\":\"Spacer\"},{\"attributes\":{\"factors\":[\"2019-09-09\",\"2019-12-04\",\"2020-02-07\",\"2020-12-02\",\"2020-12-12\",\"2021-01-11\",\"2021-03-17\",\"2021-04-16\",\"2021-04-22\",\"2021-05-11\",\"2021-06-29\",\"2021-07-12\",\"2021-07-16\",\"2021-07-26\",\"2021-07-27\",\"2021-07-30\",\"2021-08-01\",\"2021-08-05\",\"2021-08-11\",\"2021-08-15\",\"2021-08-27\",\"2021-08-28\",\"2021-09-01\",\"2021-09-03\",\"2021-09-04\",\"2021-09-05\",\"2021-09-06\",\"2021-09-08\",\"2021-09-11\",\"2021-09-12\",\"2021-09-13\",\"2021-09-18\",\"2021-09-24\",\"2021-09-26\",\"2021-09-28\",\"2021-10-04\",\"2021-10-12\",\"2021-10-14\",\"2021-10-16\",\"2021-10-17\",\"2021-10-19\",\"2021-10-20\",\"2021-10-25\",\"2021-10-26\",\"2021-10-30\",\"2021-11-01\"],\"tags\":[[[\"listing_date\",\"listing_date\",null]]]},\"id\":\"19697\",\"type\":\"FactorRange\"},{\"attributes\":{},\"id\":\"19707\",\"type\":\"LinearScale\"},{\"attributes\":{},\"id\":\"19730\",\"type\":\"Selection\"},{\"attributes\":{},\"id\":\"19710\",\"type\":\"CategoricalTicker\"},{\"attributes\":{\"bottom\":{\"value\":0},\"fill_alpha\":{\"value\":1.0},\"fill_color\":{\"value\":\"#30a2da\"},\"hatch_alpha\":{\"value\":1.0},\"hatch_color\":{\"value\":\"black\"},\"hatch_scale\":{\"value\":12.0},\"hatch_weight\":{\"value\":1.0},\"line_alpha\":{\"value\":1.0},\"line_cap\":{\"value\":\"butt\"},\"line_color\":{\"value\":\"black\"},\"line_dash\":{\"value\":[]},\"line_dash_offset\":{\"value\":0},\"line_join\":{\"value\":\"bevel\"},\"line_width\":{\"value\":1},\"top\":{\"field\":\"listing_price\"},\"width\":{\"value\":0.8},\"x\":{\"field\":\"listing_date\"}},\"id\":\"19737\",\"type\":\"VBar\"},{\"attributes\":{\"children\":[{\"id\":\"19696\"},{\"id\":\"19700\"},{\"id\":\"19767\"}],\"margin\":[0,0,0,0],\"name\":\"Row16041\",\"tags\":[\"embedded\"]},\"id\":\"19695\",\"type\":\"Row\"},{\"attributes\":{},\"id\":\"19713\",\"type\":\"BasicTicker\"},{\"attributes\":{\"axis\":{\"id\":\"19712\"},\"dimension\":1,\"ticker\":{\"id\":\"19713\"}},\"id\":\"19715\",\"type\":\"Grid\"},{\"attributes\":{\"active_multi\":null,\"tools\":[{\"id\":\"19699\"},{\"id\":\"19716\"},{\"id\":\"19717\"},{\"id\":\"19718\"},{\"id\":\"19719\"},{\"id\":\"19720\"}]},\"id\":\"19722\",\"type\":\"Toolbar\"},{\"attributes\":{},\"id\":\"19756\",\"type\":\"UnionRenderers\"},{\"attributes\":{\"end\":630036.0,\"reset_end\":630036.0,\"reset_start\":0.0,\"tags\":[[[\"listing_price\",\"listing_price\",null]]]},\"id\":\"19698\",\"type\":\"Range1d\"},{\"attributes\":{\"data_source\":{\"id\":\"19729\"},\"glyph\":{\"id\":\"19732\"},\"hover_glyph\":null,\"muted_glyph\":{\"id\":\"19734\"},\"nonselection_glyph\":{\"id\":\"19733\"},\"selection_glyph\":{\"id\":\"19737\"},\"view\":{\"id\":\"19736\"}},\"id\":\"19735\",\"type\":\"GlyphRenderer\"},{\"attributes\":{},\"id\":\"19717\",\"type\":\"PanTool\"},{\"attributes\":{\"bottom_units\":\"screen\",\"fill_alpha\":0.5,\"fill_color\":\"lightgrey\",\"left_units\":\"screen\",\"level\":\"overlay\",\"line_alpha\":1.0,\"line_color\":\"black\",\"line_dash\":[4,4],\"line_width\":2,\"right_units\":\"screen\",\"syncable\":false,\"top_units\":\"screen\"},\"id\":\"19721\",\"type\":\"BoxAnnotation\"},{\"attributes\":{\"source\":{\"id\":\"19729\"}},\"id\":\"19736\",\"type\":\"CDSView\"},{\"attributes\":{\"fill_alpha\":{\"value\":0.1},\"fill_color\":{\"value\":\"#30a2da\"},\"line_alpha\":{\"value\":0.1},\"top\":{\"field\":\"listing_price\"},\"width\":{\"value\":0.8},\"x\":{\"field\":\"listing_date\"}},\"id\":\"19733\",\"type\":\"VBar\"},{\"attributes\":{\"margin\":[5,5,5,5],\"name\":\"HSpacer16045\",\"sizing_mode\":\"stretch_width\"},\"id\":\"19696\",\"type\":\"Spacer\"},{\"attributes\":{\"fill_alpha\":{\"value\":0.2},\"fill_color\":{\"value\":\"#30a2da\"},\"line_alpha\":{\"value\":0.2},\"top\":{\"field\":\"listing_price\"},\"width\":{\"value\":0.8},\"x\":{\"field\":\"listing_date\"}},\"id\":\"19734\",\"type\":\"VBar\"},{\"attributes\":{\"below\":[{\"id\":\"19709\"}],\"center\":[{\"id\":\"19711\"},{\"id\":\"19715\"}],\"height\":300,\"left\":[{\"id\":\"19712\"}],\"margin\":[5,5,5,5],\"min_border_bottom\":10,\"min_border_left\":10,\"min_border_right\":10,\"min_border_top\":10,\"renderers\":[{\"id\":\"19735\"}],\"sizing_mode\":\"fixed\",\"title\":{\"id\":\"19701\"},\"toolbar\":{\"id\":\"19722\"},\"width\":1200,\"x_range\":{\"id\":\"19697\"},\"x_scale\":{\"id\":\"19705\"},\"y_range\":{\"id\":\"19698\"},\"y_scale\":{\"id\":\"19707\"}},\"id\":\"19700\",\"subtype\":\"Figure\",\"type\":\"Plot\"},{\"attributes\":{\"callback\":null,\"renderers\":[{\"id\":\"19735\"}],\"tags\":[\"hv_created\"],\"tooltips\":[[\"listing_date\",\"@{listing_date}\"],[\"listing_price\",\"@{listing_price}\"]]},\"id\":\"19699\",\"type\":\"HoverTool\"},{\"attributes\":{},\"id\":\"19716\",\"type\":\"SaveTool\"},{\"attributes\":{\"text\":\"Volume of Sales Per Day (USD$)\",\"text_color\":\"black\",\"text_font_size\":\"12pt\"},\"id\":\"19701\",\"type\":\"Title\"},{\"attributes\":{},\"id\":\"19741\",\"type\":\"CategoricalTickFormatter\"}],\"root_ids\":[\"19695\"]},\"title\":\"Bokeh Application\",\"version\":\"2.3.2\"}};\n",
       "    var render_items = [{\"docid\":\"5e4de4a6-721f-419a-8c7b-4bed197d26c4\",\"root_ids\":[\"19695\"],\"roots\":{\"19695\":\"fd127e32-eeb5-4e06-9f67-30e2f6ae5a16\"}}];\n",
       "    root.Bokeh.embed.embed_items_notebook(docs_json, render_items);\n",
       "  }\n",
       "  if (root.Bokeh !== undefined && root.Bokeh.Panel !== undefined) {\n",
       "    embed_document(root);\n",
       "  } else {\n",
       "    var attempts = 0;\n",
       "    var timer = setInterval(function(root) {\n",
       "      if (root.Bokeh !== undefined && root.Bokeh.Panel !== undefined) {\n",
       "        clearInterval(timer);\n",
       "        embed_document(root);\n",
       "      } else if (document.readyState == \"complete\") {\n",
       "        attempts++;\n",
       "        if (attempts > 200) {\n",
       "          clearInterval(timer);\n",
       "          console.log(\"Bokeh: ERROR: Unable to run BokehJS code because BokehJS library is missing\");\n",
       "        }\n",
       "      }\n",
       "    }, 25, root)\n",
       "  }\n",
       "})(window);</script>"
      ],
      "text/plain": [
       ":Bars   [listing_date]   (listing_price)"
      ]
     },
     "execution_count": 310,
     "metadata": {
      "application/vnd.holoviews_exec.v0+json": {
       "id": "19695"
      }
     },
     "output_type": "execute_result"
    }
   ],
   "source": [
    "plot_3"
   ]
  },
  {
   "cell_type": "markdown",
   "id": "a390fc9d-546d-45da-bb8a-8f36ddba4b06",
   "metadata": {},
   "source": [
    "#### This visual provided our group with volume of sales per day, rather than count of sales per day as shown in the prior visual.  As seen in the graph, there are several timeframes with higher than normal sales volume, including November 2020, June 2021, August 2021, and September 2021."
   ]
  },
  {
   "cell_type": "markdown",
   "id": "8c74bc16-40bc-4320-93df-c2163f5322f0",
   "metadata": {},
   "source": [
    "### Visual #4: Top 10 NFT Bids on OpenSea"
   ]
  },
  {
   "cell_type": "code",
   "execution_count": 311,
   "id": "f69eeaa4-ca68-4c59-a53e-6e101bce0009",
   "metadata": {},
   "outputs": [],
   "source": [
    "#CREATE VISUAL: Top 10 Bids\n",
    "\n",
    "data_list = opensea_data_pull[\"asset_events\"]\n",
    "\n",
    "listing_date_list = []\n",
    "listing_price_list = []\n",
    "\n",
    "# iterate through each item in list\n",
    "for each in data_list:\n",
    "    \n",
    "    # grab the id\n",
    "    listing_date = each[\"asset\"][\"asset_contract\"][\"created_date\"]\n",
    "    listing_date = listing_date[0:10]  # reformat dates to be cleaner\n",
    "\n",
    "    listing_price = (each[\"bid_amount\"])\n",
    "    try:\n",
    "        listing_price = float(listing_price)\n",
    "        listing_price = listing_price/ 10000000000000000\n",
    "    except:\n",
    "        listing_price=0\n",
    "\n",
    "    # append id to list of ids\n",
    "    listing_date_list.append(listing_date)\n",
    "    listing_price_list.append(listing_price)"
   ]
  },
  {
   "cell_type": "code",
   "execution_count": 312,
   "id": "fb6496f8-6426-4f34-a4d8-3f4d59821529",
   "metadata": {},
   "outputs": [],
   "source": [
    "# cleaner method. give column headers\n",
    "df = pd.DataFrame(\n",
    "    {'listing_date': listing_date_list,\n",
    "     'listing_price': listing_price_list\n",
    "     })"
   ]
  },
  {
   "cell_type": "code",
   "execution_count": 313,
   "id": "9e722844-a67c-4d97-a7da-bbb1c9e3b5ae",
   "metadata": {},
   "outputs": [
    {
     "data": {
      "text/html": [
       "<div>\n",
       "<style scoped>\n",
       "    .dataframe tbody tr th:only-of-type {\n",
       "        vertical-align: middle;\n",
       "    }\n",
       "\n",
       "    .dataframe tbody tr th {\n",
       "        vertical-align: top;\n",
       "    }\n",
       "\n",
       "    .dataframe thead th {\n",
       "        text-align: right;\n",
       "    }\n",
       "</style>\n",
       "<table border=\"1\" class=\"dataframe\">\n",
       "  <thead>\n",
       "    <tr style=\"text-align: right;\">\n",
       "      <th></th>\n",
       "      <th>0</th>\n",
       "    </tr>\n",
       "  </thead>\n",
       "  <tbody>\n",
       "    <tr>\n",
       "      <th>62</th>\n",
       "      <td>572.760</td>\n",
       "    </tr>\n",
       "    <tr>\n",
       "      <th>85</th>\n",
       "      <td>480.000</td>\n",
       "    </tr>\n",
       "    <tr>\n",
       "      <th>23</th>\n",
       "      <td>334.273</td>\n",
       "    </tr>\n",
       "    <tr>\n",
       "      <th>99</th>\n",
       "      <td>322.000</td>\n",
       "    </tr>\n",
       "    <tr>\n",
       "      <th>57</th>\n",
       "      <td>287.750</td>\n",
       "    </tr>\n",
       "    <tr>\n",
       "      <th>15</th>\n",
       "      <td>277.630</td>\n",
       "    </tr>\n",
       "    <tr>\n",
       "      <th>1</th>\n",
       "      <td>250.000</td>\n",
       "    </tr>\n",
       "    <tr>\n",
       "      <th>74</th>\n",
       "      <td>180.000</td>\n",
       "    </tr>\n",
       "    <tr>\n",
       "      <th>42</th>\n",
       "      <td>154.250</td>\n",
       "    </tr>\n",
       "    <tr>\n",
       "      <th>73</th>\n",
       "      <td>112.130</td>\n",
       "    </tr>\n",
       "  </tbody>\n",
       "</table>\n",
       "</div>"
      ],
      "text/plain": [
       "          0\n",
       "62  572.760\n",
       "85  480.000\n",
       "23  334.273\n",
       "99  322.000\n",
       "57  287.750\n",
       "15  277.630\n",
       "1   250.000\n",
       "74  180.000\n",
       "42  154.250\n",
       "73  112.130"
      ]
     },
     "execution_count": 313,
     "metadata": {},
     "output_type": "execute_result"
    }
   ],
   "source": [
    "# Prepare data of Top 10 NFT Bids on OpenSea in barchart\n",
    "bid_price_df = pd.DataFrame(listing_price_list)\n",
    "top_bids = bid_price_df.sort_values(0, ascending=False)\n",
    "bid_price= top_bids.head(10)\n",
    "bid_price"
   ]
  },
  {
   "cell_type": "code",
   "execution_count": 314,
   "id": "7e470d89-8bb8-4899-afc0-476aca620bce",
   "metadata": {},
   "outputs": [],
   "source": [
    "#Plot the data using a bar chart to show trend in top 10\n",
    "plot_4  = bid_price.hvplot.bar(title=\"Top 10 NFT Bids on OpenSea\", xlabel=\"NFT Project Index Number\", ylabel=\"Bid Price ($USD)\", grid=True)"
   ]
  },
  {
   "cell_type": "code",
   "execution_count": 315,
   "id": "14f5dfbf-950b-4e0f-8b35-fcf4db72ac1b",
   "metadata": {},
   "outputs": [
    {
     "data": {},
     "metadata": {},
     "output_type": "display_data"
    },
    {
     "data": {
      "application/vnd.holoviews_exec.v0+json": "",
      "text/html": [
       "<div id='19814'>\n",
       "\n",
       "\n",
       "\n",
       "\n",
       "\n",
       "  <div class=\"bk-root\" id=\"42022850-df34-42cd-ab07-621e8cf96992\" data-root-id=\"19814\"></div>\n",
       "</div>\n",
       "<script type=\"application/javascript\">(function(root) {\n",
       "  function embed_document(root) {\n",
       "    var docs_json = {\"0c7fe5c9-6907-4ea0-89b0-d8d0a6badde3\":{\"defs\":[{\"extends\":null,\"module\":null,\"name\":\"ReactiveHTML1\",\"overrides\":[],\"properties\":[]},{\"extends\":null,\"module\":null,\"name\":\"FlexBox1\",\"overrides\":[],\"properties\":[{\"default\":\"flex-start\",\"kind\":null,\"name\":\"align_content\"},{\"default\":\"flex-start\",\"kind\":null,\"name\":\"align_items\"},{\"default\":\"row\",\"kind\":null,\"name\":\"flex_direction\"},{\"default\":\"wrap\",\"kind\":null,\"name\":\"flex_wrap\"},{\"default\":\"flex-start\",\"kind\":null,\"name\":\"justify_content\"}]},{\"extends\":null,\"module\":null,\"name\":\"TemplateActions1\",\"overrides\":[],\"properties\":[{\"default\":0,\"kind\":null,\"name\":\"open_modal\"},{\"default\":0,\"kind\":null,\"name\":\"close_modal\"}]},{\"extends\":null,\"module\":null,\"name\":\"MaterialTemplateActions1\",\"overrides\":[],\"properties\":[{\"default\":0,\"kind\":null,\"name\":\"open_modal\"},{\"default\":0,\"kind\":null,\"name\":\"close_modal\"}]}],\"roots\":{\"references\":[{\"attributes\":{\"factors\":[\"62\",\"85\",\"23\",\"99\",\"57\",\"15\",\"1\",\"74\",\"42\",\"73\"],\"tags\":[[[\"index\",\"index\",null]]]},\"id\":\"19816\",\"type\":\"FactorRange\"},{\"attributes\":{},\"id\":\"19835\",\"type\":\"SaveTool\"},{\"attributes\":{},\"id\":\"19860\",\"type\":\"BasicTickFormatter\"},{\"attributes\":{},\"id\":\"19836\",\"type\":\"PanTool\"},{\"attributes\":{},\"id\":\"19839\",\"type\":\"ResetTool\"},{\"attributes\":{},\"id\":\"19837\",\"type\":\"WheelZoomTool\"},{\"attributes\":{\"text\":\"Top 10 NFT Bids on OpenSea\",\"text_color\":\"black\",\"text_font_size\":\"12pt\"},\"id\":\"19820\",\"type\":\"Title\"},{\"attributes\":{\"overlay\":{\"id\":\"19840\"}},\"id\":\"19838\",\"type\":\"BoxZoomTool\"},{\"attributes\":{\"axis_label\":\"NFT Project Index Number\",\"formatter\":{\"id\":\"19859\"},\"major_label_policy\":{\"id\":\"19857\"},\"ticker\":{\"id\":\"19829\"}},\"id\":\"19828\",\"type\":\"CategoricalAxis\"},{\"attributes\":{\"axis\":{\"id\":\"19828\"},\"ticker\":{\"id\":\"19829\"}},\"id\":\"19830\",\"type\":\"Grid\"},{\"attributes\":{\"data_source\":{\"id\":\"19848\"},\"glyph\":{\"id\":\"19851\"},\"hover_glyph\":null,\"muted_glyph\":{\"id\":\"19853\"},\"nonselection_glyph\":{\"id\":\"19852\"},\"selection_glyph\":{\"id\":\"19856\"},\"view\":{\"id\":\"19855\"}},\"id\":\"19854\",\"type\":\"GlyphRenderer\"},{\"attributes\":{\"end\":618.823,\"reset_end\":618.823,\"reset_start\":0.0,\"tags\":[[[\"0\",\"0\",null]]]},\"id\":\"19817\",\"type\":\"Range1d\"},{\"attributes\":{},\"id\":\"19824\",\"type\":\"CategoricalScale\"},{\"attributes\":{},\"id\":\"19826\",\"type\":\"LinearScale\"},{\"attributes\":{},\"id\":\"19861\",\"type\":\"AllLabels\"},{\"attributes\":{},\"id\":\"19873\",\"type\":\"UnionRenderers\"},{\"attributes\":{},\"id\":\"19829\",\"type\":\"CategoricalTicker\"},{\"attributes\":{\"callback\":null,\"renderers\":[{\"id\":\"19854\"}],\"tags\":[\"hv_created\"],\"tooltips\":[[\"index\",\"@{index}\"],[\"0\",\"@{A_0}\"]]},\"id\":\"19818\",\"type\":\"HoverTool\"},{\"attributes\":{\"children\":[{\"id\":\"19815\"},{\"id\":\"19819\"},{\"id\":\"19885\"}],\"margin\":[0,0,0,0],\"name\":\"Row16189\",\"tags\":[\"embedded\"]},\"id\":\"19814\",\"type\":\"Row\"},{\"attributes\":{\"axis\":{\"id\":\"19831\"},\"dimension\":1,\"ticker\":{\"id\":\"19832\"}},\"id\":\"19834\",\"type\":\"Grid\"},{\"attributes\":{},\"id\":\"19857\",\"type\":\"AllLabels\"},{\"attributes\":{},\"id\":\"19832\",\"type\":\"BasicTicker\"},{\"attributes\":{\"margin\":[5,5,5,5],\"name\":\"HSpacer16194\",\"sizing_mode\":\"stretch_width\"},\"id\":\"19885\",\"type\":\"Spacer\"},{\"attributes\":{\"axis_label\":\"Bid Price ($USD)\",\"formatter\":{\"id\":\"19860\"},\"major_label_policy\":{\"id\":\"19861\"},\"ticker\":{\"id\":\"19832\"}},\"id\":\"19831\",\"type\":\"LinearAxis\"},{\"attributes\":{\"active_multi\":null,\"tools\":[{\"id\":\"19818\"},{\"id\":\"19835\"},{\"id\":\"19836\"},{\"id\":\"19837\"},{\"id\":\"19838\"},{\"id\":\"19839\"}]},\"id\":\"19841\",\"type\":\"Toolbar\"},{\"attributes\":{\"fill_alpha\":{\"value\":0.1},\"fill_color\":{\"value\":\"#30a2da\"},\"line_alpha\":{\"value\":0.1},\"top\":{\"field\":\"A_0\"},\"width\":{\"value\":0.8},\"x\":{\"field\":\"index\"}},\"id\":\"19852\",\"type\":\"VBar\"},{\"attributes\":{\"below\":[{\"id\":\"19828\"}],\"center\":[{\"id\":\"19830\"},{\"id\":\"19834\"}],\"height\":300,\"left\":[{\"id\":\"19831\"}],\"margin\":[5,5,5,5],\"min_border_bottom\":10,\"min_border_left\":10,\"min_border_right\":10,\"min_border_top\":10,\"renderers\":[{\"id\":\"19854\"}],\"sizing_mode\":\"fixed\",\"title\":{\"id\":\"19820\"},\"toolbar\":{\"id\":\"19841\"},\"width\":700,\"x_range\":{\"id\":\"19816\"},\"x_scale\":{\"id\":\"19824\"},\"y_range\":{\"id\":\"19817\"},\"y_scale\":{\"id\":\"19826\"}},\"id\":\"19819\",\"subtype\":\"Figure\",\"type\":\"Plot\"},{\"attributes\":{\"margin\":[5,5,5,5],\"name\":\"HSpacer16193\",\"sizing_mode\":\"stretch_width\"},\"id\":\"19815\",\"type\":\"Spacer\"},{\"attributes\":{\"fill_alpha\":{\"value\":0.2},\"fill_color\":{\"value\":\"#30a2da\"},\"line_alpha\":{\"value\":0.2},\"top\":{\"field\":\"A_0\"},\"width\":{\"value\":0.8},\"x\":{\"field\":\"index\"}},\"id\":\"19853\",\"type\":\"VBar\"},{\"attributes\":{\"bottom_units\":\"screen\",\"fill_alpha\":0.5,\"fill_color\":\"lightgrey\",\"left_units\":\"screen\",\"level\":\"overlay\",\"line_alpha\":1.0,\"line_color\":\"black\",\"line_dash\":[4,4],\"line_width\":2,\"right_units\":\"screen\",\"syncable\":false,\"top_units\":\"screen\"},\"id\":\"19840\",\"type\":\"BoxAnnotation\"},{\"attributes\":{},\"id\":\"19859\",\"type\":\"CategoricalTickFormatter\"},{\"attributes\":{\"bottom\":{\"value\":0},\"fill_alpha\":{\"value\":1.0},\"fill_color\":{\"value\":\"#30a2da\"},\"hatch_alpha\":{\"value\":1.0},\"hatch_color\":{\"value\":\"black\"},\"hatch_scale\":{\"value\":12.0},\"hatch_weight\":{\"value\":1.0},\"line_alpha\":{\"value\":1.0},\"line_cap\":{\"value\":\"butt\"},\"line_color\":{\"value\":\"black\"},\"line_dash\":{\"value\":[]},\"line_dash_offset\":{\"value\":0},\"line_join\":{\"value\":\"bevel\"},\"line_width\":{\"value\":1},\"top\":{\"field\":\"A_0\"},\"width\":{\"value\":0.8},\"x\":{\"field\":\"index\"}},\"id\":\"19856\",\"type\":\"VBar\"},{\"attributes\":{\"data\":{\"A_0\":{\"__ndarray__\":\"rkfhehTmgUAAAAAAAAB+QOp8PzVe5HRAAAAAAAAgdEAAAAAAAPxxQK5H4XoUWnFAAAAAAABAb0AAAAAAAIBmQAAAAAAASGNAuB6F61EIXEA=\",\"dtype\":\"float64\",\"order\":\"little\",\"shape\":[10]},\"index\":[\"62\",\"85\",\"23\",\"99\",\"57\",\"15\",\"1\",\"74\",\"42\",\"73\"]},\"selected\":{\"id\":\"19849\"},\"selection_policy\":{\"id\":\"19873\"}},\"id\":\"19848\",\"type\":\"ColumnDataSource\"},{\"attributes\":{\"source\":{\"id\":\"19848\"}},\"id\":\"19855\",\"type\":\"CDSView\"},{\"attributes\":{\"fill_color\":{\"value\":\"#30a2da\"},\"top\":{\"field\":\"A_0\"},\"width\":{\"value\":0.8},\"x\":{\"field\":\"index\"}},\"id\":\"19851\",\"type\":\"VBar\"},{\"attributes\":{},\"id\":\"19849\",\"type\":\"Selection\"}],\"root_ids\":[\"19814\"]},\"title\":\"Bokeh Application\",\"version\":\"2.3.2\"}};\n",
       "    var render_items = [{\"docid\":\"0c7fe5c9-6907-4ea0-89b0-d8d0a6badde3\",\"root_ids\":[\"19814\"],\"roots\":{\"19814\":\"42022850-df34-42cd-ab07-621e8cf96992\"}}];\n",
       "    root.Bokeh.embed.embed_items_notebook(docs_json, render_items);\n",
       "  }\n",
       "  if (root.Bokeh !== undefined && root.Bokeh.Panel !== undefined) {\n",
       "    embed_document(root);\n",
       "  } else {\n",
       "    var attempts = 0;\n",
       "    var timer = setInterval(function(root) {\n",
       "      if (root.Bokeh !== undefined && root.Bokeh.Panel !== undefined) {\n",
       "        clearInterval(timer);\n",
       "        embed_document(root);\n",
       "      } else if (document.readyState == \"complete\") {\n",
       "        attempts++;\n",
       "        if (attempts > 200) {\n",
       "          clearInterval(timer);\n",
       "          console.log(\"Bokeh: ERROR: Unable to run BokehJS code because BokehJS library is missing\");\n",
       "        }\n",
       "      }\n",
       "    }, 25, root)\n",
       "  }\n",
       "})(window);</script>"
      ],
      "text/plain": [
       ":Bars   [index]   (0)"
      ]
     },
     "execution_count": 315,
     "metadata": {
      "application/vnd.holoviews_exec.v0+json": {
       "id": "19814"
      }
     },
     "output_type": "execute_result"
    }
   ],
   "source": [
    "plot_4"
   ]
  },
  {
   "cell_type": "markdown",
   "id": "67bbead1-f3d2-4f04-b475-22b6a96385bc",
   "metadata": {},
   "source": [
    "#### This visual provided our group with the top 10 most expensively priced NFT projects.  As of 11/3/2021, the most expensive bids are between 690 to 67 (which varies per minute as data is updated)."
   ]
  },
  {
   "cell_type": "markdown",
   "id": "3a44cb01-d8e3-4db7-8a6a-6a2cf40019f3",
   "metadata": {},
   "source": [
    "### Visual #5: Number of Sales per Token ID"
   ]
  },
  {
   "cell_type": "code",
   "execution_count": 316,
   "id": "1e6f8824-67f4-494e-b532-d41558859f4d",
   "metadata": {},
   "outputs": [],
   "source": [
    "#CREATE VISUAL: Number of sales per token ID\n",
    "# Pull dates and prices for each asset\n",
    "token_sales_list = opensea_data_pull1['asset_events']\n",
    "token_id_list = []\n",
    "num_sales_list = []\n",
    "\n",
    "# Iterate through each item in list\n",
    "for each in token_sales_list:\n",
    "    # grab the id\n",
    "    token_id = each['asset']['token_id']\n",
    "    token_id = token_id[0:10]\n",
    "    try:\n",
    "        num_sales = each['asset']['num_sales']\n",
    "    except:\n",
    "        num_sales = 0\n",
    "        \n",
    "    # append id to list of ids\n",
    "    token_id_list.append(token_id)\n",
    "    num_sales_list.append(num_sales)"
   ]
  },
  {
   "cell_type": "code",
   "execution_count": 317,
   "id": "28366e5d-605c-46c7-b456-1073973a5ac8",
   "metadata": {},
   "outputs": [],
   "source": [
    "# Cleaner method, give column headers\n",
    "bidtrends_df = pd.DataFrame(\n",
    "    {'token_id': token_id_list,\n",
    "     'num_sales': num_sales_list\n",
    "     })"
   ]
  },
  {
   "cell_type": "code",
   "execution_count": 318,
   "id": "f9caaaa5-f055-4c2a-8cf4-9c7f7a0552f9",
   "metadata": {},
   "outputs": [],
   "source": [
    "#Plot the data using a bar chart to show trends over time periods\n",
    "plot_5 = bidtrends_df.hvplot.bar(\n",
    "                        title=\"Number of Sales per NFT by Token ID\",\n",
    "                        x='token_id',\n",
    "                        xlabel=\"Token IDs\",\n",
    "                        ylabel=\"Number of Sales\",\n",
    "                        rot=45,\n",
    "                        width=1500,\n",
    "                        grid=True\n",
    "                        )"
   ]
  },
  {
   "cell_type": "code",
   "execution_count": 319,
   "id": "2bb84865-9548-4851-a1b8-d5cee3b491dc",
   "metadata": {},
   "outputs": [
    {
     "data": {},
     "metadata": {},
     "output_type": "display_data"
    },
    {
     "data": {
      "application/vnd.holoviews_exec.v0+json": "",
      "text/html": [
       "<div id='19937'>\n",
       "\n",
       "\n",
       "\n",
       "\n",
       "\n",
       "  <div class=\"bk-root\" id=\"d570fb5f-40e6-4c3f-9f79-921512bb0d69\" data-root-id=\"19937\"></div>\n",
       "</div>\n",
       "<script type=\"application/javascript\">(function(root) {\n",
       "  function embed_document(root) {\n",
       "    var docs_json = {\"9343b847-e672-4a19-bc38-2df745e7b86f\":{\"defs\":[{\"extends\":null,\"module\":null,\"name\":\"ReactiveHTML1\",\"overrides\":[],\"properties\":[]},{\"extends\":null,\"module\":null,\"name\":\"FlexBox1\",\"overrides\":[],\"properties\":[{\"default\":\"flex-start\",\"kind\":null,\"name\":\"align_content\"},{\"default\":\"flex-start\",\"kind\":null,\"name\":\"align_items\"},{\"default\":\"row\",\"kind\":null,\"name\":\"flex_direction\"},{\"default\":\"wrap\",\"kind\":null,\"name\":\"flex_wrap\"},{\"default\":\"flex-start\",\"kind\":null,\"name\":\"justify_content\"}]},{\"extends\":null,\"module\":null,\"name\":\"TemplateActions1\",\"overrides\":[],\"properties\":[{\"default\":0,\"kind\":null,\"name\":\"open_modal\"},{\"default\":0,\"kind\":null,\"name\":\"close_modal\"}]},{\"extends\":null,\"module\":null,\"name\":\"MaterialTemplateActions1\",\"overrides\":[],\"properties\":[{\"default\":0,\"kind\":null,\"name\":\"open_modal\"},{\"default\":0,\"kind\":null,\"name\":\"close_modal\"}]}],\"roots\":{\"references\":[{\"attributes\":{\"active_multi\":null,\"tools\":[{\"id\":\"19941\"},{\"id\":\"19958\"},{\"id\":\"19959\"},{\"id\":\"19960\"},{\"id\":\"19961\"},{\"id\":\"19962\"}]},\"id\":\"19964\",\"type\":\"Toolbar\"},{\"attributes\":{},\"id\":\"19947\",\"type\":\"CategoricalScale\"},{\"attributes\":{},\"id\":\"19955\",\"type\":\"BasicTicker\"},{\"attributes\":{\"callback\":null,\"renderers\":[{\"id\":\"19977\"}],\"tags\":[\"hv_created\"],\"tooltips\":[[\"token_id\",\"@{token_id}\"],[\"num_sales\",\"@{num_sales}\"]]},\"id\":\"19941\",\"type\":\"HoverTool\"},{\"attributes\":{\"overlay\":{\"id\":\"19963\"}},\"id\":\"19961\",\"type\":\"BoxZoomTool\"},{\"attributes\":{\"axis\":{\"id\":\"19951\"},\"ticker\":{\"id\":\"19952\"}},\"id\":\"19953\",\"type\":\"Grid\"},{\"attributes\":{\"axis_label\":\"Token IDs\",\"formatter\":{\"id\":\"19982\"},\"major_label_orientation\":0.7853981633974483,\"major_label_policy\":{\"id\":\"19980\"},\"ticker\":{\"id\":\"19952\"}},\"id\":\"19951\",\"type\":\"CategoricalAxis\"},{\"attributes\":{\"bottom\":{\"value\":0},\"fill_alpha\":{\"value\":1.0},\"fill_color\":{\"value\":\"#30a2da\"},\"hatch_alpha\":{\"value\":1.0},\"hatch_color\":{\"value\":\"black\"},\"hatch_scale\":{\"value\":12.0},\"hatch_weight\":{\"value\":1.0},\"line_alpha\":{\"value\":1.0},\"line_cap\":{\"value\":\"butt\"},\"line_color\":{\"value\":\"black\"},\"line_dash\":{\"value\":[]},\"line_dash_offset\":{\"value\":0},\"line_join\":{\"value\":\"bevel\"},\"line_width\":{\"value\":1},\"top\":{\"field\":\"num_sales\"},\"width\":{\"value\":0.8},\"x\":{\"field\":\"token_id\"}},\"id\":\"19979\",\"type\":\"VBar\"},{\"attributes\":{\"text\":\"Number of Sales per NFT by Token ID\",\"text_color\":\"black\",\"text_font_size\":\"12pt\"},\"id\":\"19943\",\"type\":\"Title\"},{\"attributes\":{\"end\":5.5,\"reset_end\":5.5,\"reset_start\":0.0,\"tags\":[[[\"num_sales\",\"num_sales\",null]]]},\"id\":\"19940\",\"type\":\"Range1d\"},{\"attributes\":{},\"id\":\"19960\",\"type\":\"WheelZoomTool\"},{\"attributes\":{},\"id\":\"19962\",\"type\":\"ResetTool\"},{\"attributes\":{\"below\":[{\"id\":\"19951\"}],\"center\":[{\"id\":\"19953\"},{\"id\":\"19957\"}],\"height\":300,\"left\":[{\"id\":\"19954\"}],\"margin\":[5,5,5,5],\"min_border_bottom\":10,\"min_border_left\":10,\"min_border_right\":10,\"min_border_top\":10,\"renderers\":[{\"id\":\"19977\"}],\"sizing_mode\":\"fixed\",\"title\":{\"id\":\"19943\"},\"toolbar\":{\"id\":\"19964\"},\"width\":1500,\"x_range\":{\"id\":\"19939\"},\"x_scale\":{\"id\":\"19947\"},\"y_range\":{\"id\":\"19940\"},\"y_scale\":{\"id\":\"19949\"}},\"id\":\"19942\",\"subtype\":\"Figure\",\"type\":\"Plot\"},{\"attributes\":{},\"id\":\"19959\",\"type\":\"PanTool\"},{\"attributes\":{\"data_source\":{\"id\":\"19971\"},\"glyph\":{\"id\":\"19974\"},\"hover_glyph\":null,\"muted_glyph\":{\"id\":\"19976\"},\"nonselection_glyph\":{\"id\":\"19975\"},\"selection_glyph\":{\"id\":\"19979\"},\"view\":{\"id\":\"19978\"}},\"id\":\"19977\",\"type\":\"GlyphRenderer\"},{\"attributes\":{},\"id\":\"19982\",\"type\":\"CategoricalTickFormatter\"},{\"attributes\":{\"margin\":[5,5,5,5],\"name\":\"HSpacer16343\",\"sizing_mode\":\"stretch_width\"},\"id\":\"19938\",\"type\":\"Spacer\"},{\"attributes\":{},\"id\":\"19958\",\"type\":\"SaveTool\"},{\"attributes\":{\"fill_alpha\":{\"value\":0.1},\"fill_color\":{\"value\":\"#30a2da\"},\"line_alpha\":{\"value\":0.1},\"top\":{\"field\":\"num_sales\"},\"width\":{\"value\":0.8},\"x\":{\"field\":\"token_id\"}},\"id\":\"19975\",\"type\":\"VBar\"},{\"attributes\":{\"margin\":[5,5,5,5],\"name\":\"HSpacer16344\",\"sizing_mode\":\"stretch_width\"},\"id\":\"20008\",\"type\":\"Spacer\"},{\"attributes\":{},\"id\":\"19996\",\"type\":\"UnionRenderers\"},{\"attributes\":{\"fill_color\":{\"value\":\"#30a2da\"},\"top\":{\"field\":\"num_sales\"},\"width\":{\"value\":0.8},\"x\":{\"field\":\"token_id\"}},\"id\":\"19974\",\"type\":\"VBar\"},{\"attributes\":{\"data\":{\"num_sales\":[0,0,0,0,0,2,3,0,1,0,3,0,3,1,0,0,0,0,1,2,2,0,0,0,1,0,1,3,2,0,0,0,1,1,0,1,1,2,0,2,0,0,1,1,0,0,0,0,1,1,0,5,0,0,1,3,0,2,0,1,3,5,0,0,1,0,0,0,0,3,0,0,0,1,0,1,0,1,5,1,0,0,0,1,0,0,1,1,2,0,2,0,0,1,0,0,1,1,1,0],\"token_id\":[\"136\",\"36000000\",\"7671\",\"3645\",\"1151364664\",\"1772\",\"2068\",\"1246\",\"8519\",\"554\",\"9654\",\"27\",\"3328\",\"1162\",\"9763\",\"495\",\"3531\",\"5803\",\"4843\",\"1500\",\"8610\",\"1606\",\"428\",\"26451\",\"2445\",\"139000095\",\"1401\",\"6338981479\",\"1094\",\"1061776350\",\"961\",\"6793\",\"8942\",\"4483\",\"7489\",\"7929\",\"6036\",\"1511\",\"5251\",\"1811\",\"7792941130\",\"5933\",\"173000716\",\"5791017961\",\"5755\",\"1779\",\"928\",\"8136\",\"4495\",\"803\",\"4960748095\",\"6405\",\"4016\",\"1203\",\"8583\",\"1274\",\"1735\",\"4629\",\"7549983964\",\"1274\",\"9374\",\"6338981479\",\"7827\",\"1083\",\"5222\",\"2422\",\"623\",\"4046\",\"5377\",\"1216\",\"140321\",\"394\",\"7290\",\"433\",\"4523\",\"24357\",\"2500\",\"7904\",\"1237\",\"9296\",\"1328\",\"2534\",\"213\",\"3\",\"1795\",\"2792\",\"5478\",\"3775\",\"6338981479\",\"1815\",\"4587\",\"1939\",\"5535473497\",\"281\",\"3856\",\"9586\",\"3744\",\"1679\",\"9453\",\"4587\"]},\"selected\":{\"id\":\"19972\"},\"selection_policy\":{\"id\":\"19996\"}},\"id\":\"19971\",\"type\":\"ColumnDataSource\"},{\"attributes\":{},\"id\":\"19972\",\"type\":\"Selection\"},{\"attributes\":{\"fill_alpha\":{\"value\":0.2},\"fill_color\":{\"value\":\"#30a2da\"},\"line_alpha\":{\"value\":0.2},\"top\":{\"field\":\"num_sales\"},\"width\":{\"value\":0.8},\"x\":{\"field\":\"token_id\"}},\"id\":\"19976\",\"type\":\"VBar\"},{\"attributes\":{},\"id\":\"19983\",\"type\":\"BasicTickFormatter\"},{\"attributes\":{\"factors\":[\"136\",\"36000000\",\"7671\",\"3645\",\"1151364664\",\"1772\",\"2068\",\"1246\",\"8519\",\"554\",\"9654\",\"27\",\"3328\",\"1162\",\"9763\",\"495\",\"3531\",\"5803\",\"4843\",\"1500\",\"8610\",\"1606\",\"428\",\"26451\",\"2445\",\"139000095\",\"1401\",\"6338981479\",\"1094\",\"1061776350\",\"961\",\"6793\",\"8942\",\"4483\",\"7489\",\"7929\",\"6036\",\"1511\",\"5251\",\"1811\",\"7792941130\",\"5933\",\"173000716\",\"5791017961\",\"5755\",\"1779\",\"928\",\"8136\",\"4495\",\"803\",\"4960748095\",\"6405\",\"4016\",\"1203\",\"8583\",\"1274\",\"1735\",\"4629\",\"7549983964\",\"9374\",\"7827\",\"1083\",\"5222\",\"2422\",\"623\",\"4046\",\"5377\",\"1216\",\"140321\",\"394\",\"7290\",\"433\",\"4523\",\"24357\",\"2500\",\"7904\",\"1237\",\"9296\",\"1328\",\"2534\",\"213\",\"3\",\"1795\",\"2792\",\"5478\",\"3775\",\"1815\",\"4587\",\"1939\",\"5535473497\",\"281\",\"3856\",\"9586\",\"3744\",\"1679\",\"9453\"],\"tags\":[[[\"token_id\",\"token_id\",null]]]},\"id\":\"19939\",\"type\":\"FactorRange\"},{\"attributes\":{\"axis\":{\"id\":\"19954\"},\"dimension\":1,\"ticker\":{\"id\":\"19955\"}},\"id\":\"19957\",\"type\":\"Grid\"},{\"attributes\":{},\"id\":\"19980\",\"type\":\"AllLabels\"},{\"attributes\":{\"axis_label\":\"Number of Sales\",\"formatter\":{\"id\":\"19983\"},\"major_label_policy\":{\"id\":\"19984\"},\"ticker\":{\"id\":\"19955\"}},\"id\":\"19954\",\"type\":\"LinearAxis\"},{\"attributes\":{},\"id\":\"19984\",\"type\":\"AllLabels\"},{\"attributes\":{\"children\":[{\"id\":\"19938\"},{\"id\":\"19942\"},{\"id\":\"20008\"}],\"margin\":[0,0,0,0],\"name\":\"Row16339\",\"tags\":[\"embedded\"]},\"id\":\"19937\",\"type\":\"Row\"},{\"attributes\":{},\"id\":\"19952\",\"type\":\"CategoricalTicker\"},{\"attributes\":{\"source\":{\"id\":\"19971\"}},\"id\":\"19978\",\"type\":\"CDSView\"},{\"attributes\":{\"bottom_units\":\"screen\",\"fill_alpha\":0.5,\"fill_color\":\"lightgrey\",\"left_units\":\"screen\",\"level\":\"overlay\",\"line_alpha\":1.0,\"line_color\":\"black\",\"line_dash\":[4,4],\"line_width\":2,\"right_units\":\"screen\",\"syncable\":false,\"top_units\":\"screen\"},\"id\":\"19963\",\"type\":\"BoxAnnotation\"},{\"attributes\":{},\"id\":\"19949\",\"type\":\"LinearScale\"}],\"root_ids\":[\"19937\"]},\"title\":\"Bokeh Application\",\"version\":\"2.3.2\"}};\n",
       "    var render_items = [{\"docid\":\"9343b847-e672-4a19-bc38-2df745e7b86f\",\"root_ids\":[\"19937\"],\"roots\":{\"19937\":\"d570fb5f-40e6-4c3f-9f79-921512bb0d69\"}}];\n",
       "    root.Bokeh.embed.embed_items_notebook(docs_json, render_items);\n",
       "  }\n",
       "  if (root.Bokeh !== undefined && root.Bokeh.Panel !== undefined) {\n",
       "    embed_document(root);\n",
       "  } else {\n",
       "    var attempts = 0;\n",
       "    var timer = setInterval(function(root) {\n",
       "      if (root.Bokeh !== undefined && root.Bokeh.Panel !== undefined) {\n",
       "        clearInterval(timer);\n",
       "        embed_document(root);\n",
       "      } else if (document.readyState == \"complete\") {\n",
       "        attempts++;\n",
       "        if (attempts > 200) {\n",
       "          clearInterval(timer);\n",
       "          console.log(\"Bokeh: ERROR: Unable to run BokehJS code because BokehJS library is missing\");\n",
       "        }\n",
       "      }\n",
       "    }, 25, root)\n",
       "  }\n",
       "})(window);</script>"
      ],
      "text/plain": [
       ":Bars   [token_id]   (num_sales)"
      ]
     },
     "execution_count": 319,
     "metadata": {
      "application/vnd.holoviews_exec.v0+json": {
       "id": "19937"
      }
     },
     "output_type": "execute_result"
    }
   ],
   "source": [
    "plot_5"
   ]
  },
  {
   "cell_type": "markdown",
   "id": "df04de78-ca09-477e-8f47-2441ae8bf38c",
   "metadata": {},
   "source": [
    "#### This visual provided our group with number of sales per token ID.  As you can see by the visual above, most tokens sell around 3 times or less.  However, there is one token that has sold significantly more times than all others (6 times)."
   ]
  },
  {
   "cell_type": "markdown",
   "id": "d2999a9e-774f-4185-ad14-033dc3e12761",
   "metadata": {},
   "source": [
    "### Visual #6: Total NFT Buyers and Sellers"
   ]
  },
  {
   "cell_type": "code",
   "execution_count": 320,
   "id": "70279de8-c269-4a87-a012-c5dbad216339",
   "metadata": {},
   "outputs": [],
   "source": [
    "#CREATE VISUAL: Total NFT Buyers and Sellers\n",
    "# Find the total amount of buyers and sellers\n",
    "data_list = opensea_data_pull1['asset_events']\n",
    "\n",
    "#Organize a list of buyer usernames\n",
    "buyers_list = []\n",
    "\n",
    "#Organize a list of seller usernames\n",
    "sellers_list = []\n",
    "\n",
    "# iterate through each item in list\n",
    "for each in data_list:\n",
    "    # grab the buyers and sellers\n",
    "    #buyer_username = each[“asset”][“owner”][“user”][“username”]\n",
    "    #listing_date = listing_date[0:10]  # reformat dates to be cleaner\n",
    "    try:\n",
    "        seller_username = each['from_account']['user']['username']\n",
    "    #listing_price = listing_price / 10000000000000\n",
    "    except:\n",
    "        seller_username = 'NoneType'\n",
    "    # This is code for the assets database directly below\n",
    "    try:\n",
    "        buyer_username = each['asset']['owner']['user']['username']\n",
    "    #listing_price = listing_price / 10000000000000\n",
    "    except:\n",
    "        buyer_username = 'NoneType'\n",
    "        \n",
    "    # append id to list of ids\n",
    "    #seller_username = each[“creator”][“user”][“username”]\n",
    "    #creator = each[“owner”][“user”][“username”]\n",
    "    #listing_price = listing_price / 10000000000000\n",
    "    # append id to list of ids\n",
    "    buyers_list.append(buyer_username)\n",
    "    sellers_list.append(seller_username)"
   ]
  },
  {
   "cell_type": "code",
   "execution_count": 321,
   "id": "c46a3cbd-211e-41bf-9bbc-99e4c941f75e",
   "metadata": {},
   "outputs": [],
   "source": [
    "users_df = pd.DataFrame(\n",
    "    {'buyer_username': buyers_list,\n",
    "     'seller_username': sellers_list\n",
    "     })"
   ]
  },
  {
   "cell_type": "code",
   "execution_count": 322,
   "id": "24a9d755-c96a-45c7-bd2b-ae9b33527c52",
   "metadata": {},
   "outputs": [
    {
     "data": {
      "text/plain": [
       "<bound method DataFrame.dropna of    buyer_username seller_username\n",
       "0     NullAddress        NoneType\n",
       "1       straybits            KJ1G\n",
       "2          taylor        NoneType\n",
       "3     twiggyalien     nft_farming\n",
       "4        NoneType        NoneType\n",
       "..            ...             ...\n",
       "95         NFTAPE            None\n",
       "96           Most            None\n",
       "97       SuperMan            None\n",
       "98     DCLBlogger            None\n",
       "99       NoneType      DeviledEgg\n",
       "\n",
       "[100 rows x 2 columns]>"
      ]
     },
     "execution_count": 322,
     "metadata": {},
     "output_type": "execute_result"
    }
   ],
   "source": [
    "users_df.dropna"
   ]
  },
  {
   "cell_type": "code",
   "execution_count": 323,
   "id": "8dd2dbd0-189f-40d3-92bd-2ba6f0ec09cf",
   "metadata": {},
   "outputs": [
    {
     "data": {
      "text/plain": [
       "buyer_username     85\n",
       "seller_username    73\n",
       "dtype: int64"
      ]
     },
     "execution_count": 323,
     "metadata": {},
     "output_type": "execute_result"
    }
   ],
   "source": [
    "countusers_df = users_df.count()\n",
    "countusers_df"
   ]
  },
  {
   "cell_type": "code",
   "execution_count": 324,
   "id": "3ec45084-a33e-4a05-aa43-c80c05fbf9a7",
   "metadata": {},
   "outputs": [],
   "source": [
    "#Plot the data using a bar chart to compare the volume of buyers/sellers\n",
    "plot_6 = countusers_df.hvplot.bar(title=\"Buyers and Sellers\", xlabel=\"Buyer/Seller\", ylabel=\"Number\", grid=True)"
   ]
  },
  {
   "cell_type": "code",
   "execution_count": 325,
   "id": "f727f434-d5b0-480a-988f-6f35b70e821c",
   "metadata": {},
   "outputs": [
    {
     "data": {},
     "metadata": {},
     "output_type": "display_data"
    },
    {
     "data": {
      "application/vnd.holoviews_exec.v0+json": "",
      "text/html": [
       "<div id='20060'>\n",
       "\n",
       "\n",
       "\n",
       "\n",
       "\n",
       "  <div class=\"bk-root\" id=\"68753a1f-6173-4145-b15d-3396aa0a901a\" data-root-id=\"20060\"></div>\n",
       "</div>\n",
       "<script type=\"application/javascript\">(function(root) {\n",
       "  function embed_document(root) {\n",
       "    var docs_json = {\"62674384-8071-48b5-8508-55027b94165f\":{\"defs\":[{\"extends\":null,\"module\":null,\"name\":\"ReactiveHTML1\",\"overrides\":[],\"properties\":[]},{\"extends\":null,\"module\":null,\"name\":\"FlexBox1\",\"overrides\":[],\"properties\":[{\"default\":\"flex-start\",\"kind\":null,\"name\":\"align_content\"},{\"default\":\"flex-start\",\"kind\":null,\"name\":\"align_items\"},{\"default\":\"row\",\"kind\":null,\"name\":\"flex_direction\"},{\"default\":\"wrap\",\"kind\":null,\"name\":\"flex_wrap\"},{\"default\":\"flex-start\",\"kind\":null,\"name\":\"justify_content\"}]},{\"extends\":null,\"module\":null,\"name\":\"TemplateActions1\",\"overrides\":[],\"properties\":[{\"default\":0,\"kind\":null,\"name\":\"open_modal\"},{\"default\":0,\"kind\":null,\"name\":\"close_modal\"}]},{\"extends\":null,\"module\":null,\"name\":\"MaterialTemplateActions1\",\"overrides\":[],\"properties\":[{\"default\":0,\"kind\":null,\"name\":\"open_modal\"},{\"default\":0,\"kind\":null,\"name\":\"close_modal\"}]}],\"roots\":{\"references\":[{\"attributes\":{},\"id\":\"20070\",\"type\":\"CategoricalScale\"},{\"attributes\":{},\"id\":\"20078\",\"type\":\"BasicTicker\"},{\"attributes\":{\"margin\":[5,5,5,5],\"name\":\"HSpacer16491\",\"sizing_mode\":\"stretch_width\"},\"id\":\"20061\",\"type\":\"Spacer\"},{\"attributes\":{\"data\":{\"A_0\":[85,73],\"index\":[\"buyer_username\",\"seller_username\"]},\"selected\":{\"id\":\"20095\"},\"selection_policy\":{\"id\":\"20119\"}},\"id\":\"20094\",\"type\":\"ColumnDataSource\"},{\"attributes\":{\"axis\":{\"id\":\"20074\"},\"ticker\":{\"id\":\"20075\"}},\"id\":\"20076\",\"type\":\"Grid\"},{\"attributes\":{\"margin\":[5,5,5,5],\"name\":\"HSpacer16492\",\"sizing_mode\":\"stretch_width\"},\"id\":\"20131\",\"type\":\"Spacer\"},{\"attributes\":{\"axis_label\":\"Buyer/Seller\",\"formatter\":{\"id\":\"20105\"},\"major_label_policy\":{\"id\":\"20103\"},\"ticker\":{\"id\":\"20075\"}},\"id\":\"20074\",\"type\":\"CategoricalAxis\"},{\"attributes\":{\"factors\":[\"buyer_username\",\"seller_username\"],\"tags\":[[[\"index\",\"index\",null]]]},\"id\":\"20062\",\"type\":\"FactorRange\"},{\"attributes\":{},\"id\":\"20106\",\"type\":\"BasicTickFormatter\"},{\"attributes\":{\"children\":[{\"id\":\"20061\"},{\"id\":\"20065\"},{\"id\":\"20131\"}],\"margin\":[0,0,0,0],\"name\":\"Row16487\",\"tags\":[\"embedded\"]},\"id\":\"20060\",\"type\":\"Row\"},{\"attributes\":{\"callback\":null,\"renderers\":[{\"id\":\"20100\"}],\"tags\":[\"hv_created\"],\"tooltips\":[[\"index\",\"@{index}\"],[\"0\",\"@{A_0}\"]]},\"id\":\"20064\",\"type\":\"HoverTool\"},{\"attributes\":{},\"id\":\"20085\",\"type\":\"ResetTool\"},{\"attributes\":{\"bottom_units\":\"screen\",\"fill_alpha\":0.5,\"fill_color\":\"lightgrey\",\"left_units\":\"screen\",\"level\":\"overlay\",\"line_alpha\":1.0,\"line_color\":\"black\",\"line_dash\":[4,4],\"line_width\":2,\"right_units\":\"screen\",\"syncable\":false,\"top_units\":\"screen\"},\"id\":\"20086\",\"type\":\"BoxAnnotation\"},{\"attributes\":{\"below\":[{\"id\":\"20074\"}],\"center\":[{\"id\":\"20076\"},{\"id\":\"20080\"}],\"height\":300,\"left\":[{\"id\":\"20077\"}],\"margin\":[5,5,5,5],\"min_border_bottom\":10,\"min_border_left\":10,\"min_border_right\":10,\"min_border_top\":10,\"renderers\":[{\"id\":\"20100\"}],\"sizing_mode\":\"fixed\",\"title\":{\"id\":\"20066\"},\"toolbar\":{\"id\":\"20087\"},\"width\":700,\"x_range\":{\"id\":\"20062\"},\"x_scale\":{\"id\":\"20070\"},\"y_range\":{\"id\":\"20063\"},\"y_scale\":{\"id\":\"20072\"}},\"id\":\"20065\",\"subtype\":\"Figure\",\"type\":\"Plot\"},{\"attributes\":{\"text\":\"Buyers and Sellers\",\"text_color\":\"black\",\"text_font_size\":\"12pt\"},\"id\":\"20066\",\"type\":\"Title\"},{\"attributes\":{},\"id\":\"20095\",\"type\":\"Selection\"},{\"attributes\":{\"data_source\":{\"id\":\"20094\"},\"glyph\":{\"id\":\"20097\"},\"hover_glyph\":null,\"muted_glyph\":{\"id\":\"20099\"},\"nonselection_glyph\":{\"id\":\"20098\"},\"selection_glyph\":{\"id\":\"20102\"},\"view\":{\"id\":\"20101\"}},\"id\":\"20100\",\"type\":\"GlyphRenderer\"},{\"attributes\":{},\"id\":\"20103\",\"type\":\"AllLabels\"},{\"attributes\":{},\"id\":\"20081\",\"type\":\"SaveTool\"},{\"attributes\":{},\"id\":\"20107\",\"type\":\"AllLabels\"},{\"attributes\":{\"fill_alpha\":{\"value\":0.1},\"fill_color\":{\"value\":\"#30a2da\"},\"line_alpha\":{\"value\":0.1},\"top\":{\"field\":\"A_0\"},\"width\":{\"value\":0.8},\"x\":{\"field\":\"index\"}},\"id\":\"20098\",\"type\":\"VBar\"},{\"attributes\":{\"end\":86.2,\"reset_end\":86.2,\"reset_start\":0.0,\"tags\":[[[\"0\",\"0\",null]]]},\"id\":\"20063\",\"type\":\"Range1d\"},{\"attributes\":{\"active_multi\":null,\"tools\":[{\"id\":\"20064\"},{\"id\":\"20081\"},{\"id\":\"20082\"},{\"id\":\"20083\"},{\"id\":\"20084\"},{\"id\":\"20085\"}]},\"id\":\"20087\",\"type\":\"Toolbar\"},{\"attributes\":{\"fill_color\":{\"value\":\"#30a2da\"},\"top\":{\"field\":\"A_0\"},\"width\":{\"value\":0.8},\"x\":{\"field\":\"index\"}},\"id\":\"20097\",\"type\":\"VBar\"},{\"attributes\":{\"bottom\":{\"value\":0},\"fill_alpha\":{\"value\":1.0},\"fill_color\":{\"value\":\"#30a2da\"},\"hatch_alpha\":{\"value\":1.0},\"hatch_color\":{\"value\":\"black\"},\"hatch_scale\":{\"value\":12.0},\"hatch_weight\":{\"value\":1.0},\"line_alpha\":{\"value\":1.0},\"line_cap\":{\"value\":\"butt\"},\"line_color\":{\"value\":\"black\"},\"line_dash\":{\"value\":[]},\"line_dash_offset\":{\"value\":0},\"line_join\":{\"value\":\"bevel\"},\"line_width\":{\"value\":1},\"top\":{\"field\":\"A_0\"},\"width\":{\"value\":0.8},\"x\":{\"field\":\"index\"}},\"id\":\"20102\",\"type\":\"VBar\"},{\"attributes\":{},\"id\":\"20119\",\"type\":\"UnionRenderers\"},{\"attributes\":{},\"id\":\"20105\",\"type\":\"CategoricalTickFormatter\"},{\"attributes\":{\"fill_alpha\":{\"value\":0.2},\"fill_color\":{\"value\":\"#30a2da\"},\"line_alpha\":{\"value\":0.2},\"top\":{\"field\":\"A_0\"},\"width\":{\"value\":0.8},\"x\":{\"field\":\"index\"}},\"id\":\"20099\",\"type\":\"VBar\"},{\"attributes\":{\"axis\":{\"id\":\"20077\"},\"dimension\":1,\"ticker\":{\"id\":\"20078\"}},\"id\":\"20080\",\"type\":\"Grid\"},{\"attributes\":{},\"id\":\"20082\",\"type\":\"PanTool\"},{\"attributes\":{\"axis_label\":\"Number\",\"formatter\":{\"id\":\"20106\"},\"major_label_policy\":{\"id\":\"20107\"},\"ticker\":{\"id\":\"20078\"}},\"id\":\"20077\",\"type\":\"LinearAxis\"},{\"attributes\":{},\"id\":\"20075\",\"type\":\"CategoricalTicker\"},{\"attributes\":{\"source\":{\"id\":\"20094\"}},\"id\":\"20101\",\"type\":\"CDSView\"},{\"attributes\":{\"overlay\":{\"id\":\"20086\"}},\"id\":\"20084\",\"type\":\"BoxZoomTool\"},{\"attributes\":{},\"id\":\"20072\",\"type\":\"LinearScale\"},{\"attributes\":{},\"id\":\"20083\",\"type\":\"WheelZoomTool\"}],\"root_ids\":[\"20060\"]},\"title\":\"Bokeh Application\",\"version\":\"2.3.2\"}};\n",
       "    var render_items = [{\"docid\":\"62674384-8071-48b5-8508-55027b94165f\",\"root_ids\":[\"20060\"],\"roots\":{\"20060\":\"68753a1f-6173-4145-b15d-3396aa0a901a\"}}];\n",
       "    root.Bokeh.embed.embed_items_notebook(docs_json, render_items);\n",
       "  }\n",
       "  if (root.Bokeh !== undefined && root.Bokeh.Panel !== undefined) {\n",
       "    embed_document(root);\n",
       "  } else {\n",
       "    var attempts = 0;\n",
       "    var timer = setInterval(function(root) {\n",
       "      if (root.Bokeh !== undefined && root.Bokeh.Panel !== undefined) {\n",
       "        clearInterval(timer);\n",
       "        embed_document(root);\n",
       "      } else if (document.readyState == \"complete\") {\n",
       "        attempts++;\n",
       "        if (attempts > 200) {\n",
       "          clearInterval(timer);\n",
       "          console.log(\"Bokeh: ERROR: Unable to run BokehJS code because BokehJS library is missing\");\n",
       "        }\n",
       "      }\n",
       "    }, 25, root)\n",
       "  }\n",
       "})(window);</script>"
      ],
      "text/plain": [
       ":Bars   [index]   (0)"
      ]
     },
     "execution_count": 325,
     "metadata": {
      "application/vnd.holoviews_exec.v0+json": {
       "id": "20060"
      }
     },
     "output_type": "execute_result"
    }
   ],
   "source": [
    "plot_6"
   ]
  },
  {
   "cell_type": "markdown",
   "id": "ced8d10e-96a9-4a91-985a-39a4518022e2",
   "metadata": {},
   "source": [
    "#### This visual provided our group with the total amount of NFT Buyers and Sellers.  As you can see, there are currently more buyers of NFTs than there are sellers."
   ]
  },
  {
   "cell_type": "markdown",
   "id": "3b7dc170-f82b-4e69-95c0-fb5dc5b7a334",
   "metadata": {},
   "source": [
    "### Visual #7: Top 5 NFT Projects by Market Cap"
   ]
  },
  {
   "cell_type": "code",
   "execution_count": 326,
   "id": "5cfeaa8c-3215-47b1-89d4-7acd91025b05",
   "metadata": {},
   "outputs": [
    {
     "name": "stdout",
     "output_type": "stream",
     "text": [
      "                       NFT Projects by Market Cap\n",
      "NFT Projects                     Market Cap (ETH)\n",
      "CryptoPunks                            1193025.61\n",
      "Bored Ape Yacht Club                    418574.92\n",
      "Fidenza by Tyler Hobbs                   163336.5\n",
      "CyberKongs                               62897.74\n",
      "Emblem Vault                             33402.22\n"
     ]
    }
   ],
   "source": [
    "#CREATE VISUAL: Top 5 NFT Projects by Market Cap\n",
    "NFT_Project_MarketCap = pd.read_csv('../Project_1_Group_3/NFT Projects by Market Cap.csv')\n",
    "print (NFT_Project_MarketCap)"
   ]
  },
  {
   "cell_type": "code",
   "execution_count": 327,
   "id": "ec3ec689-63f5-47cc-98ff-84eaaf5a8446",
   "metadata": {},
   "outputs": [
    {
     "data": {
      "text/html": [
       "<div>\n",
       "<style scoped>\n",
       "    .dataframe tbody tr th:only-of-type {\n",
       "        vertical-align: middle;\n",
       "    }\n",
       "\n",
       "    .dataframe tbody tr th {\n",
       "        vertical-align: top;\n",
       "    }\n",
       "\n",
       "    .dataframe thead th {\n",
       "        text-align: right;\n",
       "    }\n",
       "</style>\n",
       "<table border=\"1\" class=\"dataframe\">\n",
       "  <thead>\n",
       "    <tr style=\"text-align: right;\">\n",
       "      <th></th>\n",
       "      <th>NFT Projects by Market Cap</th>\n",
       "    </tr>\n",
       "  </thead>\n",
       "  <tbody>\n",
       "    <tr>\n",
       "      <th>CryptoPunks</th>\n",
       "      <td>1193025.61</td>\n",
       "    </tr>\n",
       "    <tr>\n",
       "      <th>Bored Ape Yacht Club</th>\n",
       "      <td>418574.92</td>\n",
       "    </tr>\n",
       "    <tr>\n",
       "      <th>Fidenza by Tyler Hobbs</th>\n",
       "      <td>163336.5</td>\n",
       "    </tr>\n",
       "    <tr>\n",
       "      <th>CyberKongs</th>\n",
       "      <td>62897.74</td>\n",
       "    </tr>\n",
       "    <tr>\n",
       "      <th>Emblem Vault</th>\n",
       "      <td>33402.22</td>\n",
       "    </tr>\n",
       "  </tbody>\n",
       "</table>\n",
       "</div>"
      ],
      "text/plain": [
       "                       NFT Projects by Market Cap\n",
       "CryptoPunks                            1193025.61\n",
       "Bored Ape Yacht Club                    418574.92\n",
       "Fidenza by Tyler Hobbs                   163336.5\n",
       "CyberKongs                               62897.74\n",
       "Emblem Vault                             33402.22"
      ]
     },
     "execution_count": 327,
     "metadata": {},
     "output_type": "execute_result"
    }
   ],
   "source": [
    "#Add data into a dataframe\n",
    "MarketCap_df= pd.DataFrame(NFT_Project_MarketCap).head(6).drop([\"NFT Projects\"])\n",
    "MarketCap_df"
   ]
  },
  {
   "cell_type": "code",
   "execution_count": 328,
   "id": "e8996ee3-531d-4d46-95d4-90ecb97ce533",
   "metadata": {},
   "outputs": [
    {
     "data": {
      "text/html": [
       "<div>\n",
       "<style scoped>\n",
       "    .dataframe tbody tr th:only-of-type {\n",
       "        vertical-align: middle;\n",
       "    }\n",
       "\n",
       "    .dataframe tbody tr th {\n",
       "        vertical-align: top;\n",
       "    }\n",
       "\n",
       "    .dataframe thead th {\n",
       "        text-align: right;\n",
       "    }\n",
       "</style>\n",
       "<table border=\"1\" class=\"dataframe\">\n",
       "  <thead>\n",
       "    <tr style=\"text-align: right;\">\n",
       "      <th></th>\n",
       "      <th>Market_Cap</th>\n",
       "    </tr>\n",
       "  </thead>\n",
       "  <tbody>\n",
       "    <tr>\n",
       "      <th>CryptoPunks</th>\n",
       "      <td>1193025.61</td>\n",
       "    </tr>\n",
       "    <tr>\n",
       "      <th>Bored Ape Yacht Club</th>\n",
       "      <td>418574.92</td>\n",
       "    </tr>\n",
       "    <tr>\n",
       "      <th>Fidenza by Tyler Hobbs</th>\n",
       "      <td>163336.5</td>\n",
       "    </tr>\n",
       "    <tr>\n",
       "      <th>CyberKongs</th>\n",
       "      <td>62897.74</td>\n",
       "    </tr>\n",
       "    <tr>\n",
       "      <th>Emblem Vault</th>\n",
       "      <td>33402.22</td>\n",
       "    </tr>\n",
       "  </tbody>\n",
       "</table>\n",
       "</div>"
      ],
      "text/plain": [
       "                        Market_Cap\n",
       "CryptoPunks             1193025.61\n",
       "Bored Ape Yacht Club     418574.92\n",
       "Fidenza by Tyler Hobbs    163336.5\n",
       "CyberKongs                62897.74\n",
       "Emblem Vault              33402.22"
      ]
     },
     "execution_count": 328,
     "metadata": {},
     "output_type": "execute_result"
    }
   ],
   "source": [
    "#Rename columns\n",
    "columns = [\"Market_Cap\"]\n",
    "MarketCap_df.columns = columns\n",
    "MarketCap_df"
   ]
  },
  {
   "cell_type": "code",
   "execution_count": 329,
   "id": "15e4b4e9-0505-4d7c-8171-a3484e4555b4",
   "metadata": {},
   "outputs": [
    {
     "data": {
      "text/plain": [
       "Market_Cap    object\n",
       "dtype: object"
      ]
     },
     "execution_count": 329,
     "metadata": {},
     "output_type": "execute_result"
    }
   ],
   "source": [
    "#Change data type for plot\n",
    "MarketCap_df.dtypes"
   ]
  },
  {
   "cell_type": "code",
   "execution_count": 330,
   "id": "750239b3-2a15-4602-ad1f-e675e18b1abd",
   "metadata": {},
   "outputs": [
    {
     "data": {
      "text/plain": [
       "CryptoPunks               1193025.61\n",
       "Bored Ape Yacht Club       418574.92\n",
       "Fidenza by Tyler Hobbs     163336.50\n",
       "CyberKongs                  62897.74\n",
       "Emblem Vault                33402.22\n",
       "Name: Market_Cap, dtype: float64"
      ]
     },
     "execution_count": 330,
     "metadata": {},
     "output_type": "execute_result"
    }
   ],
   "source": [
    "MarketCap_df[\"Market_Cap\"] = MarketCap_df[\"Market_Cap\"].astype(\"float\")\n",
    "MarketCap_df[\"Market_Cap\"]"
   ]
  },
  {
   "cell_type": "code",
   "execution_count": 331,
   "id": "63e0db52-f70c-43f9-91c6-83e5061b7192",
   "metadata": {},
   "outputs": [
    {
     "data": {
      "image/png": "[encoded data removed]",
      "text/plain": [
       "<Figure size 792x432 with 1 Axes>"
      ]
     },
     "metadata": {},
     "output_type": "display_data"
    }
   ],
   "source": [
    "#Plot the data using a pie chart to show the different projects\n",
    "plot_7 = MarketCap_df.plot.pie(title={\"Top 5 NFT Projects by Market Cap\"}, ylabel='Market_Cap', subplots=True, figsize=(11, 6))"
   ]
  },
  {
   "cell_type": "code",
   "execution_count": 332,
   "id": "cca20fe5-5028-4846-9749-e0bacdd688be",
   "metadata": {},
   "outputs": [
    {
     "data": {
      "text/plain": [
       "array([<AxesSubplot:title={'center':'Top 5 NFT Projects by Market Cap'}, ylabel='Market_Cap'>],\n",
       "      dtype=object)"
      ]
     },
     "execution_count": 332,
     "metadata": {},
     "output_type": "execute_result"
    }
   ],
   "source": [
    "plot_7"
   ]
  },
  {
   "cell_type": "markdown",
   "id": "4cd49030-40e1-4774-915b-53520189fc9a",
   "metadata": {},
   "source": [
    "#### This visual provided our group with the top 5 NFT projects by Market Cap.  CryptoPunks far exceeds all otehr projects, at almost 1200000 ETH."
   ]
  },
  {
   "cell_type": "markdown",
   "id": "1cfca670-3f26-4a6a-8836-9f449bddef7c",
   "metadata": {},
   "source": [
    "### Visual #8: IN PROCESS BY ANDREW - WILL USE ANOTHER LIBRARY"
   ]
  },
  {
   "cell_type": "code",
   "execution_count": 333,
   "id": "0a05eb15-40b4-4264-be21-f24b8f612242",
   "metadata": {},
   "outputs": [],
   "source": [
    "#CREATE VISUAL: ADD HERE"
   ]
  },
  {
   "cell_type": "code",
   "execution_count": 334,
   "id": "c103c934-6133-47a4-9191-817309e157e0",
   "metadata": {},
   "outputs": [],
   "source": [
    "#Plot the data using a xxxx chart in order to xxx\n",
    "#plot_8 = "
   ]
  },
  {
   "cell_type": "markdown",
   "id": "b5db36a4-6469-4d77-a2f4-515e881005d3",
   "metadata": {},
   "source": [
    "#### This visual provided our group with..."
   ]
  },
  {
   "cell_type": "markdown",
   "id": "158374bb-3255-4942-8123-d9a0c0926dfa",
   "metadata": {},
   "source": []
  },
  {
   "cell_type": "markdown",
   "id": "efbd2842-3325-475d-9ab5-f1bfa077e569",
   "metadata": {},
   "source": [
    "### DASHBOARD"
   ]
  },
  {
   "cell_type": "markdown",
   "id": "871bbcaf-447b-49ae-bb09-c77ad6b326cc",
   "metadata": {},
   "source": [
    "#### We created a dashboard for the presentation, and included Background/Narrative tabs as well as all visualizations."
   ]
  },
  {
   "cell_type": "markdown",
   "id": "7b8e647a-418a-4b77-890e-9f64c2d00aac",
   "metadata": {},
   "source": [
    "##### First Step: Create Markdowns for Overview Tabs"
   ]
  },
  {
   "cell_type": "code",
   "execution_count": 350,
   "id": "2319b49d-313b-4d35-b2b8-59bcbf4f48f8",
   "metadata": {},
   "outputs": [],
   "source": [
    "markdown_titlepage = \"\"\"\n",
    "\n",
    "# Let's Put the \"Fun\" in Non-Fungible Tokens (NFTs)  \n",
    "  \n",
    "Presentation Date: November 6, 2021  \n",
    "    \n",
    "Prepared by Andrew, Rachel, Sam, and Jinhyeong  \n",
    "  \n",
    "![image](./images/NFTheads.png)\n",
    "\n",
    "\"\"\""
   ]
  },
  {
   "cell_type": "code",
   "execution_count": 336,
   "id": "26485676-b827-44ec-93f1-7b14a9d991c4",
   "metadata": {},
   "outputs": [],
   "source": [
    "markdown_intro = \"\"\"\n",
    "# Project Objective  \n",
    "  \n",
    "Our project is to research and learn patterns and trends in NFTs.  \n",
    "We will be using the OpenSea API to retrieve data regarding NFTs to determine the following:  \n",
    ">- What are NFTs?  \n",
    ">- What are the financial trends?  \n",
    ">- How profitable are NFTs?    \n",
    "  \n",
    "  \n",
    "  ![image](./images/NFTCollector.png)\n",
    "\"\"\""
   ]
  },
  {
   "cell_type": "code",
   "execution_count": 349,
   "id": "13ec2ee5-824b-42cc-a48d-88526ad7ede4",
   "metadata": {},
   "outputs": [],
   "source": [
    "markdown_background1 = \"\"\"\n",
    "# What are NFTs?  \n",
    "  \n",
    ">NFTs, or nonfungible tokens, are unique assets that can’t be replaced with something else,  \n",
    ">and are verified and stored using blockchain technology.  They can include everything from  \n",
    ">music to a website domain, but the current craze is really around digital artwork.    \n",
    "  \n",
    ">The market exceeded $10B in transaction volume as of 3Q2021.  \n",
    "  \n",
    "<h3 align=\"center\"> ![image](./images/NFTcoin.png) </h3> \n",
    "\n",
    "\"\"\""
   ]
  },
  {
   "cell_type": "code",
   "execution_count": 352,
   "id": "afbeb511-1a46-4e4d-9699-ab19bbb1448d",
   "metadata": {},
   "outputs": [],
   "source": [
    "markdown_background2 = \"\"\"\n",
    "# Examples of Recently Sold NFTs  \n",
    "  \n",
    ">The NFT art scene has exploded in recent months, with some of the most expensive NFT sales  \n",
    ">conducted in the last six months.  A few examples include:    \n",
    "  \n",
    ">- CryptoPunk #7523,  $11.8 million  \n",
    ">- CryptoPunk #7804, $7.56 million  \n",
    ">- Ocean Front, $6 million  \n",
    ">- World Wide Web source code, $5.43 million  \n",
    "  \n",
    "  \n",
    "<p float=\"left\">\n",
    "![image](./images/cryptopunk7523.png)  \n",
    "![image](./images/cryptopunk7804.png)  \n",
    "![image](./images/oceanfront.png)  \n",
    "![image](./images/WWWsourcecode.png)\n",
    "</p>\n",
    "\"\"\""
   ]
  },
  {
   "cell_type": "code",
   "execution_count": 339,
   "id": "7e699d99-fecb-43a0-a3ff-9d874646e9de",
   "metadata": {},
   "outputs": [],
   "source": [
    "markdown_background3 = \"\"\"\n",
    "# Minting and Purchasing an NFT  \n",
    "  \n",
    ">For NFTs to become valuable and scarce they have to be minted. The term minting in NFTs is similar   \n",
    ">to minting a coin of silver. Once an NFT is minted on the Ethereum blockchain it becomes unchangeable   \n",
    ">and tamper-proof. Newly minted NFTs then are able to be sold on third party websites. These websites   \n",
    ">include Nifty Gateway, Zora, and OpeanSea to name a few.    \n",
    "  \n",
    ">For a buyer to purchase an NFT they have to purchase the NFT using Ethereum Tokens.  \n",
    ">Other blockchain networks that mint NFTs beside Ethereum include Solana, Polygon, and Binance Smart   \n",
    ">Chain, to name a few. Yet Ethereum reigns supreme for NFTs on chain.  \n",
    "\n",
    "\"\"\""
   ]
  },
  {
   "cell_type": "code",
   "execution_count": 340,
   "id": "4cf32734-e884-4054-b664-93b467aa99e6",
   "metadata": {},
   "outputs": [],
   "source": [
    "markdown_background4 = \"\"\"\n",
    "# The Rise of NFTs\n",
    "\n",
    ">NFTs have only been around for a little over a half a decade so they have not become commonplace in  \n",
    ">today’s society. Yet the NFT space has gained some notoriety this past year due to the fact that   \n",
    ">massive amounts of money have been allocated to purchase some NFT projects. The vast majority of  \n",
    ">people in the NFT space, which are the artists and buyers, are between the ages of 18-39.    \n",
    "  \n",
    "![image](./images/beeple.png)\n",
    "\"\"\""
   ]
  },
  {
   "cell_type": "code",
   "execution_count": 358,
   "id": "19bb8982-9dbe-40f7-91db-327d00d4a151",
   "metadata": {},
   "outputs": [],
   "source": [
    "markdown_end = \"\"\"\n",
    "We learned a lot about NFTs.  Given the data you have seen and this new trend...  \n",
    "**would YOU buy an NFT?**\n",
    "  \n",
    "![image](./images/NFT_comic.png)\n",
    "\"\"\""
   ]
  },
  {
   "cell_type": "code",
   "execution_count": 342,
   "id": "2729a247-aa98-46bd-8a3a-a25d8b3c4a93",
   "metadata": {},
   "outputs": [],
   "source": [
    "#creating a double plot for one of the dashboard tabs since visuals 2 and 3 relate\n",
    "salesvol_dash = pn.Column(plot_2,plot_3)"
   ]
  },
  {
   "cell_type": "code",
   "execution_count": 343,
   "id": "5b3f4b85-1be2-4c7b-9e76-3ce4fbb6fc0d",
   "metadata": {},
   "outputs": [],
   "source": [
    "visualoverview = \"\"\"\n",
    "\n",
    "# Visualization Overview  \n",
    "  \n",
    "1. NFT Bid Trends\n",
    "2. Number of NFT Sales per Day\n",
    "1. Volume of NFT Sales per Day\n",
    "2. Top 10 NFT Bid Prices\n",
    "1. Number of Sales per Token ID\n",
    "2. Total Buyers/Sellers\n",
    "1. Top 5 NFT Projects by Market Cap\n",
    "2.  TBD\n",
    "\n",
    "\"\"\""
   ]
  },
  {
   "cell_type": "code",
   "execution_count": 360,
   "id": "486a6d32-5868-4fde-8c5b-3f676565a097",
   "metadata": {},
   "outputs": [
    {
     "data": {},
     "metadata": {},
     "output_type": "display_data"
    },
    {
     "data": {},
     "metadata": {},
     "output_type": "display_data"
    },
    {
     "data": {
      "application/vnd.holoviews_exec.v0+json": "",
      "text/html": [
       "<div id='26457'>\n",
       "\n",
       "\n",
       "\n",
       "\n",
       "\n",
       "  <div class=\"bk-root\" id=\"63bd1990-810e-4ec8-bade-f48ef46509f1\" data-root-id=\"26457\"></div>\n",
       "</div>\n",
       "<script type=\"application/javascript\">(function(root) {\n",
       "  function embed_document(root) {\n",
       "    var docs_json = {\"21dfc4b1-ed53-46f7-a2b3-099a254af521\":{\"defs\":[{\"extends\":null,\"module\":null,\"name\":\"ReactiveHTML1\",\"overrides\":[],\"properties\":[]},{\"extends\":null,\"module\":null,\"name\":\"FlexBox1\",\"overrides\":[],\"properties\":[{\"default\":\"flex-start\",\"kind\":null,\"name\":\"align_content\"},{\"default\":\"flex-start\",\"kind\":null,\"name\":\"align_items\"},{\"default\":\"row\",\"kind\":null,\"name\":\"flex_direction\"},{\"default\":\"wrap\",\"kind\":null,\"name\":\"flex_wrap\"},{\"default\":\"flex-start\",\"kind\":null,\"name\":\"justify_content\"}]},{\"extends\":null,\"module\":null,\"name\":\"TemplateActions1\",\"overrides\":[],\"properties\":[{\"default\":0,\"kind\":null,\"name\":\"open_modal\"},{\"default\":0,\"kind\":null,\"name\":\"close_modal\"}]},{\"extends\":null,\"module\":null,\"name\":\"MaterialTemplateActions1\",\"overrides\":[],\"properties\":[{\"default\":0,\"kind\":null,\"name\":\"open_modal\"},{\"default\":0,\"kind\":null,\"name\":\"close_modal\"}]}],\"roots\":{\"references\":[{\"attributes\":{\"source\":{\"id\":\"26713\"}},\"id\":\"26720\",\"type\":\"CDSView\"},{\"attributes\":{\"axis_label\":\"NFT Project Index Number\",\"formatter\":{\"id\":\"26724\"},\"major_label_policy\":{\"id\":\"26722\"},\"ticker\":{\"id\":\"26694\"}},\"id\":\"26693\",\"type\":\"CategoricalAxis\"},{\"attributes\":{\"axis\":{\"id\":\"26693\"},\"ticker\":{\"id\":\"26694\"}},\"id\":\"26695\",\"type\":\"Grid\"},{\"attributes\":{},\"id\":\"26691\",\"type\":\"LinearScale\"},{\"attributes\":{},\"id\":\"26486\",\"type\":\"BasicTicker\"},{\"attributes\":{},\"id\":\"26694\",\"type\":\"CategoricalTicker\"},{\"attributes\":{\"bottom_units\":\"screen\",\"fill_alpha\":0.5,\"fill_color\":\"lightgrey\",\"left_units\":\"screen\",\"level\":\"overlay\",\"line_alpha\":1.0,\"line_color\":\"black\",\"line_dash\":[4,4],\"line_width\":2,\"right_units\":\"screen\",\"syncable\":false,\"top_units\":\"screen\"},\"id\":\"26634\",\"type\":\"BoxAnnotation\"},{\"attributes\":{\"text\":\"NFT Bid Trends\",\"text_color\":\"black\",\"text_font_size\":\"12pt\"},\"id\":\"26474\",\"type\":\"Title\"},{\"attributes\":{\"source\":{\"id\":\"26502\"}},\"id\":\"26509\",\"type\":\"CDSView\"},{\"attributes\":{\"axis\":{\"id\":\"26696\"},\"dimension\":1,\"ticker\":{\"id\":\"26697\"}},\"id\":\"26699\",\"type\":\"Grid\"},{\"attributes\":{\"data_source\":{\"id\":\"26642\"},\"glyph\":{\"id\":\"26645\"},\"hover_glyph\":null,\"muted_glyph\":{\"id\":\"26647\"},\"nonselection_glyph\":{\"id\":\"26646\"},\"selection_glyph\":{\"id\":\"26650\"},\"view\":{\"id\":\"26649\"}},\"id\":\"26648\",\"type\":\"GlyphRenderer\"},{\"attributes\":{\"css_classes\":[\"markdown\"],\"margin\":[5,5,5,5],\"name\":\"Background Tab 2\",\"text\":\"&lt;h1&gt;Examples of Recently Sold NFTs&lt;/h1&gt;\\n&lt;blockquote&gt;\\n&lt;p&gt;The NFT art scene has exploded in recent months, with some of the most expensive NFT sales&lt;br&gt;\\nconducted in the last six months.  A few examples include:    &lt;/p&gt;\\n&lt;ul&gt;\\n&lt;li&gt;CryptoPunk #7523,  $11.8 million  &lt;/li&gt;\\n&lt;li&gt;CryptoPunk #7804, $7.56 million  &lt;/li&gt;\\n&lt;li&gt;Ocean Front, $6 million  &lt;/li&gt;\\n&lt;li&gt;World Wide Web source code, $5.43 million  &lt;/li&gt;\\n&lt;/ul&gt;\\n&lt;/blockquote&gt;\\n&lt;p float=&quot;left&quot;&gt;\\n![image](./images/cryptopunk7523.png)  \\n![image](./images/cryptopunk7804.png)  \\n![image](./images/oceanfront.png)  \\n![image](./images/WWWsourcecode.png)\\n&lt;/p&gt;\"},\"id\":\"26462\",\"type\":\"panel.models.markup.HTML\"},{\"attributes\":{},\"id\":\"26697\",\"type\":\"BasicTicker\"},{\"attributes\":{\"axis_label\":\"Bid Price ($USD)\",\"formatter\":{\"id\":\"26725\"},\"major_label_policy\":{\"id\":\"26726\"},\"ticker\":{\"id\":\"26697\"}},\"id\":\"26696\",\"type\":\"LinearAxis\"},{\"attributes\":{\"data\":{\"num_sales\":[0,0,0,0,0,2,3,0,1,0,3,0,3,1,0,0,0,0,1,2,2,0,0,0,1,0,1,3,2,0,0,0,1,1,0,1,1,2,0,2,0,0,1,1,0,0,0,0,1,1,0,5,0,0,1,3,0,2,0,1,3,5,0,0,1,0,0,0,0,3,0,0,0,1,0,1,0,1,5,1,0,0,0,1,0,0,1,1,2,0,2,0,0,1,0,0,1,1,1,0],\"token_id\":[\"136\",\"36000000\",\"7671\",\"3645\",\"1151364664\",\"1772\",\"2068\",\"1246\",\"8519\",\"554\",\"9654\",\"27\",\"3328\",\"1162\",\"9763\",\"495\",\"3531\",\"5803\",\"4843\",\"1500\",\"8610\",\"1606\",\"428\",\"26451\",\"2445\",\"139000095\",\"1401\",\"6338981479\",\"1094\",\"1061776350\",\"961\",\"6793\",\"8942\",\"4483\",\"7489\",\"7929\",\"6036\",\"1511\",\"5251\",\"1811\",\"7792941130\",\"5933\",\"173000716\",\"5791017961\",\"5755\",\"1779\",\"928\",\"8136\",\"4495\",\"803\",\"4960748095\",\"6405\",\"4016\",\"1203\",\"8583\",\"1274\",\"1735\",\"4629\",\"7549983964\",\"1274\",\"9374\",\"6338981479\",\"7827\",\"1083\",\"5222\",\"2422\",\"623\",\"4046\",\"5377\",\"1216\",\"140321\",\"394\",\"7290\",\"433\",\"4523\",\"24357\",\"2500\",\"7904\",\"1237\",\"9296\",\"1328\",\"2534\",\"213\",\"3\",\"1795\",\"2792\",\"5478\",\"3775\",\"6338981479\",\"1815\",\"4587\",\"1939\",\"5535473497\",\"281\",\"3856\",\"9586\",\"3744\",\"1679\",\"9453\",\"4587\"]},\"selected\":{\"id\":\"26784\"},\"selection_policy\":{\"id\":\"26808\"}},\"id\":\"26783\",\"type\":\"ColumnDataSource\"},{\"attributes\":{\"fill_alpha\":{\"value\":0.2},\"fill_color\":{\"value\":\"#30a2da\"},\"line_alpha\":{\"value\":0.2},\"top\":{\"field\":\"A_0\"},\"width\":{\"value\":0.8},\"x\":{\"field\":\"index\"}},\"id\":\"26718\",\"type\":\"VBar\"},{\"attributes\":{\"bottom_units\":\"screen\",\"fill_alpha\":0.5,\"fill_color\":\"lightgrey\",\"left_units\":\"screen\",\"level\":\"overlay\",\"line_alpha\":1.0,\"line_color\":\"black\",\"line_dash\":[4,4],\"line_width\":2,\"right_units\":\"screen\",\"syncable\":false,\"top_units\":\"screen\"},\"id\":\"26494\",\"type\":\"BoxAnnotation\"},{\"attributes\":{\"line_color\":\"#30a2da\",\"line_width\":2,\"x\":{\"field\":\"listing_date\"},\"y\":{\"field\":\"listing_price\"}},\"id\":\"26505\",\"type\":\"Line\"},{\"attributes\":{},\"id\":\"26808\",\"type\":\"UnionRenderers\"},{\"attributes\":{},\"id\":\"26493\",\"type\":\"ResetTool\"},{\"attributes\":{\"active_multi\":null,\"tools\":[{\"id\":\"26612\"},{\"id\":\"26629\"},{\"id\":\"26630\"},{\"id\":\"26631\"},{\"id\":\"26632\"},{\"id\":\"26633\"}]},\"id\":\"26635\",\"type\":\"Toolbar\"},{\"attributes\":{\"fill_color\":{\"value\":\"#30a2da\"},\"top\":{\"field\":\"A_0\"},\"width\":{\"value\":0.8},\"x\":{\"field\":\"index\"}},\"id\":\"26716\",\"type\":\"VBar\"},{\"attributes\":{},\"id\":\"26483\",\"type\":\"CategoricalTicker\"},{\"attributes\":{\"below\":[{\"id\":\"26482\"}],\"center\":[{\"id\":\"26484\"},{\"id\":\"26488\"}],\"height\":300,\"left\":[{\"id\":\"26485\"}],\"margin\":[5,5,5,5],\"min_border_bottom\":10,\"min_border_left\":10,\"min_border_right\":10,\"min_border_top\":10,\"renderers\":[{\"id\":\"26508\"}],\"sizing_mode\":\"fixed\",\"title\":{\"id\":\"26474\"},\"toolbar\":{\"id\":\"26495\"},\"width\":1200,\"x_range\":{\"id\":\"26470\"},\"x_scale\":{\"id\":\"26478\"},\"y_range\":{\"id\":\"26471\"},\"y_scale\":{\"id\":\"26480\"}},\"id\":\"26473\",\"subtype\":\"Figure\",\"type\":\"Plot\"},{\"attributes\":{\"overlay\":{\"id\":\"26494\"}},\"id\":\"26492\",\"type\":\"BoxZoomTool\"},{\"attributes\":{\"end\":630036.0,\"reset_end\":630.036,\"reset_start\":-57.276,\"start\":-57.276,\"tags\":[[[\"listing_price\",\"listing_price\",null]]]},\"id\":\"26471\",\"type\":\"Range1d\"},{\"attributes\":{\"child\":{\"id\":\"26473\"},\"name\":\"NFT Bid Trends\",\"title\":\"NFT Bid Trends\"},\"id\":\"26539\",\"type\":\"Panel\"},{\"attributes\":{},\"id\":\"26669\",\"type\":\"UnionRenderers\"},{\"attributes\":{},\"id\":\"26700\",\"type\":\"SaveTool\"},{\"attributes\":{\"source\":{\"id\":\"26642\"}},\"id\":\"26649\",\"type\":\"CDSView\"},{\"attributes\":{},\"id\":\"26701\",\"type\":\"PanTool\"},{\"attributes\":{\"axis\":{\"id\":\"26485\"},\"dimension\":1,\"ticker\":{\"id\":\"26486\"}},\"id\":\"26488\",\"type\":\"Grid\"},{\"attributes\":{},\"id\":\"26511\",\"type\":\"AllLabels\"},{\"attributes\":{},\"id\":\"26704\",\"type\":\"ResetTool\"},{\"attributes\":{},\"id\":\"26702\",\"type\":\"WheelZoomTool\"},{\"attributes\":{\"data\":{\"listing_date\":[\"2019-09-09\",\"2019-12-04\",\"2020-02-07\",\"2020-12-02\",\"2020-12-12\",\"2021-01-11\",\"2021-03-17\",\"2021-04-16\",\"2021-04-22\",\"2021-05-11\",\"2021-06-29\",\"2021-07-12\",\"2021-07-16\",\"2021-07-26\",\"2021-07-27\",\"2021-07-30\",\"2021-08-01\",\"2021-08-05\",\"2021-08-11\",\"2021-08-15\",\"2021-08-27\",\"2021-08-28\",\"2021-09-01\",\"2021-09-03\",\"2021-09-04\",\"2021-09-05\",\"2021-09-06\",\"2021-09-08\",\"2021-09-11\",\"2021-09-12\",\"2021-09-13\",\"2021-09-18\",\"2021-09-24\",\"2021-09-26\",\"2021-09-28\",\"2021-10-04\",\"2021-10-12\",\"2021-10-14\",\"2021-10-16\",\"2021-10-17\",\"2021-10-19\",\"2021-10-20\",\"2021-10-25\",\"2021-10-26\",\"2021-10-30\",\"2021-11-01\"],\"listing_price\":[1,1,1,6,2,1,1,1,1,1,1,1,1,3,6,1,1,2,3,1,1,2,1,2,1,2,3,2,1,1,1,1,2,8,2,1,1,2,1,4,1,1,1,4,17,1]},\"selected\":{\"id\":\"26574\"},\"selection_policy\":{\"id\":\"26598\"}},\"id\":\"26573\",\"type\":\"ColumnDataSource\"},{\"attributes\":{},\"id\":\"26738\",\"type\":\"UnionRenderers\"},{\"attributes\":{\"child\":{\"id\":\"26466\"},\"name\":\"Background Tab 4\",\"title\":\"Background Tab 4\"},\"id\":\"26467\",\"type\":\"Panel\"},{\"attributes\":{\"child\":{\"id\":\"26895\"},\"name\":\"Conclusion\",\"title\":\"Conclusion\"},\"id\":\"26896\",\"type\":\"Panel\"},{\"attributes\":{\"bottom\":{\"value\":0},\"fill_alpha\":{\"value\":1.0},\"fill_color\":{\"value\":\"#30a2da\"},\"hatch_alpha\":{\"value\":1.0},\"hatch_color\":{\"value\":\"black\"},\"hatch_scale\":{\"value\":12.0},\"hatch_weight\":{\"value\":1.0},\"line_alpha\":{\"value\":1.0},\"line_cap\":{\"value\":\"butt\"},\"line_color\":{\"value\":\"black\"},\"line_dash\":{\"value\":[]},\"line_dash_offset\":{\"value\":0},\"line_join\":{\"value\":\"bevel\"},\"line_width\":{\"value\":1},\"top\":{\"field\":\"listing_price\"},\"width\":{\"value\":0.8},\"x\":{\"field\":\"listing_date\"}},\"id\":\"26650\",\"type\":\"VBar\"},{\"attributes\":{\"data_source\":{\"id\":\"26502\"},\"glyph\":{\"id\":\"26505\"},\"hover_glyph\":null,\"muted_glyph\":{\"id\":\"26507\"},\"nonselection_glyph\":{\"id\":\"26506\"},\"selection_glyph\":{\"id\":\"26510\"},\"view\":{\"id\":\"26509\"}},\"id\":\"26508\",\"type\":\"GlyphRenderer\"},{\"attributes\":{\"overlay\":{\"id\":\"26705\"}},\"id\":\"26703\",\"type\":\"BoxZoomTool\"},{\"attributes\":{},\"id\":\"26792\",\"type\":\"AllLabels\"},{\"attributes\":{\"line_alpha\":0.2,\"line_color\":\"#30a2da\",\"line_width\":2,\"x\":{\"field\":\"listing_date\"},\"y\":{\"field\":\"listing_price\"}},\"id\":\"26507\",\"type\":\"Line\"},{\"attributes\":{\"factors\":[\"136\",\"36000000\",\"7671\",\"3645\",\"1151364664\",\"1772\",\"2068\",\"1246\",\"8519\",\"554\",\"9654\",\"27\",\"3328\",\"1162\",\"9763\",\"495\",\"3531\",\"5803\",\"4843\",\"1500\",\"8610\",\"1606\",\"428\",\"26451\",\"2445\",\"139000095\",\"1401\",\"6338981479\",\"1094\",\"1061776350\",\"961\",\"6793\",\"8942\",\"4483\",\"7489\",\"7929\",\"6036\",\"1511\",\"5251\",\"1811\",\"7792941130\",\"5933\",\"173000716\",\"5791017961\",\"5755\",\"1779\",\"928\",\"8136\",\"4495\",\"803\",\"4960748095\",\"6405\",\"4016\",\"1203\",\"8583\",\"1274\",\"1735\",\"4629\",\"7549983964\",\"9374\",\"7827\",\"1083\",\"5222\",\"2422\",\"623\",\"4046\",\"5377\",\"1216\",\"140321\",\"394\",\"7290\",\"433\",\"4523\",\"24357\",\"2500\",\"7904\",\"1237\",\"9296\",\"1328\",\"2534\",\"213\",\"3\",\"1795\",\"2792\",\"5478\",\"3775\",\"1815\",\"4587\",\"1939\",\"5535473497\",\"281\",\"3856\",\"9586\",\"3744\",\"1679\",\"9453\"],\"tags\":[[[\"token_id\",\"token_id\",null]]]},\"id\":\"26751\",\"type\":\"FactorRange\"},{\"attributes\":{},\"id\":\"26491\",\"type\":\"WheelZoomTool\"},{\"attributes\":{\"fill_color\":{\"value\":\"#30a2da\"},\"top\":{\"field\":\"num_sales\"},\"width\":{\"value\":0.8},\"x\":{\"field\":\"token_id\"}},\"id\":\"26786\",\"type\":\"VBar\"},{\"attributes\":{},\"id\":\"26503\",\"type\":\"Selection\"},{\"attributes\":{\"child\":{\"id\":\"26754\"},\"name\":\"Number of Sales per Token ID\",\"title\":\"Number of Sales per Token ID\"},\"id\":\"26820\",\"type\":\"Panel\"},{\"attributes\":{},\"id\":\"26490\",\"type\":\"PanTool\"},{\"attributes\":{},\"id\":\"26656\",\"type\":\"AllLabels\"},{\"attributes\":{},\"id\":\"26654\",\"type\":\"CategoricalTickFormatter\"},{\"attributes\":{\"child\":{\"id\":\"26458\"},\"name\":\"Project 1 - Group 3\",\"title\":\"Project 1 - Group 3\"},\"id\":\"26459\",\"type\":\"Panel\"},{\"attributes\":{},\"id\":\"26770\",\"type\":\"SaveTool\"},{\"attributes\":{},\"id\":\"26489\",\"type\":\"SaveTool\"},{\"attributes\":{\"bottom_units\":\"screen\",\"fill_alpha\":0.5,\"fill_color\":\"lightgrey\",\"left_units\":\"screen\",\"level\":\"overlay\",\"line_alpha\":1.0,\"line_color\":\"black\",\"line_dash\":[4,4],\"line_width\":2,\"right_units\":\"screen\",\"syncable\":false,\"top_units\":\"screen\"},\"id\":\"26705\",\"type\":\"BoxAnnotation\"},{\"attributes\":{\"line_alpha\":0.1,\"line_color\":\"#30a2da\",\"line_width\":2,\"x\":{\"field\":\"listing_date\"},\"y\":{\"field\":\"listing_price\"}},\"id\":\"26506\",\"type\":\"Line\"},{\"attributes\":{\"callback\":null,\"renderers\":[{\"id\":\"26789\"}],\"tags\":[\"hv_created\"],\"tooltips\":[[\"token_id\",\"@{token_id}\"],[\"num_sales\",\"@{num_sales}\"]]},\"id\":\"26753\",\"type\":\"HoverTool\"},{\"attributes\":{},\"id\":\"26513\",\"type\":\"CategoricalTickFormatter\"},{\"attributes\":{},\"id\":\"26598\",\"type\":\"UnionRenderers\"},{\"attributes\":{\"data\":{\"listing_date\":[\"2019-09-09\",\"2019-12-04\",\"2020-02-07\",\"2020-12-02\",\"2020-12-02\",\"2020-12-02\",\"2020-12-02\",\"2020-12-02\",\"2020-12-02\",\"2020-12-12\",\"2020-12-12\",\"2021-01-11\",\"2021-03-17\",\"2021-04-16\",\"2021-04-22\",\"2021-05-11\",\"2021-06-29\",\"2021-07-12\",\"2021-07-16\",\"2021-07-26\",\"2021-07-26\",\"2021-07-26\",\"2021-07-27\",\"2021-07-27\",\"2021-07-27\",\"2021-07-27\",\"2021-07-27\",\"2021-07-27\",\"2021-07-30\",\"2021-08-01\",\"2021-08-05\",\"2021-08-05\",\"2021-08-11\",\"2021-08-11\",\"2021-08-11\",\"2021-08-15\",\"2021-08-27\",\"2021-08-28\",\"2021-08-28\",\"2021-09-01\",\"2021-09-03\",\"2021-09-03\",\"2021-09-04\",\"2021-09-05\",\"2021-09-05\",\"2021-09-06\",\"2021-09-06\",\"2021-09-06\",\"2021-09-08\",\"2021-09-08\",\"2021-09-11\",\"2021-09-12\",\"2021-09-13\",\"2021-09-18\",\"2021-09-24\",\"2021-09-24\",\"2021-09-26\",\"2021-09-26\",\"2021-09-26\",\"2021-09-26\",\"2021-09-26\",\"2021-09-26\",\"2021-09-26\",\"2021-09-26\",\"2021-09-28\",\"2021-09-28\",\"2021-10-04\",\"2021-10-12\",\"2021-10-14\",\"2021-10-14\",\"2021-10-16\",\"2021-10-17\",\"2021-10-17\",\"2021-10-17\",\"2021-10-17\",\"2021-10-19\",\"2021-10-20\",\"2021-10-25\",\"2021-10-26\",\"2021-10-26\",\"2021-10-26\",\"2021-10-26\",\"2021-10-30\",\"2021-10-30\",\"2021-10-30\",\"2021-10-30\",\"2021-10-30\",\"2021-10-30\",\"2021-10-30\",\"2021-10-30\",\"2021-10-30\",\"2021-10-30\",\"2021-10-30\",\"2021-10-30\",\"2021-10-30\",\"2021-10-30\",\"2021-10-30\",\"2021-10-30\",\"2021-10-30\",\"2021-11-01\"],\"listing_price\":{\"__ndarray__\":\"rkfhehRacUCamZmZmRlNQD0K16NwPSFAuB6F61G4V0AAAAAAAAAAAB+F61G4vldAAAAAAAAAAACF61G4HuVXQAAAAAAAAAAAAAAAAABIY0AzMzMzM1NBQD0K16NwvU5AexSuR+F6NUAAAAAAAAB+QDMzMzMzc0ZArkfhehTmgUAAAAAAAAAAAAAAAAAAgGZA9ihcj8J1WkAqXI/C9SggQKVwPQrXIzBArkfhehSuL0Atsp3vpzJaQKRwPQrX40VArkfhehT+WUCkcD0K1+NFQM3MzMzMDFlAAAAAAADASUCamZmZmZkqQLgehetRCFxAw/UoXI/iTUCkcD0K1+NNQAAAAAAAAAAAAAAAAAAAAAAAAAAAAAAAAAAAAAAAgEtAAAAAAAD8cUBSuB6F6zFXQOp8PzVe5HRAFK5H4XoUI0ApXI/C9Sg0QM3MzMzMTCZApHA9CtejP0DsUbgehes3QIXrUbgehS1AaJHtfD/FR0BSuB6F61EzQDMzMzMzMzRAAAAAAAAgdEAAAAAAAEBvQIXrUbgeRTJAw/UoXI/CLEA0MzMzM7M3QFK4HoXr0TJAAAAAAAAAKEAAAAAAAAAoQAAAAAAAgE5AAAAAAACATkBmZmZmZmZLQAAAAAAAgE5AAAAAAACATkAAAAAAAIBOQAAAAAAAgE5ApHA9CtfjSUDNzMzMzMxEQOJ6FK5H4SVAAAAAAAAAOkC4HoXrUfgzQGdmZmZmpjRAuB6F61F4WkDsUbgehatQQM3MzMzMTC5AKVyPwvWoL0AAAAAAAIAxQAAAAAAAAD5ASOF6FK5HJkDNzMzMzMwsQGZmZmZmZkVAAAAAAADARkAAAAAAAABFQAAAAAAAQElA16NwPQr3Q0CamZmZmZkJQJqZmZmZmQlAmpmZmZmZCUCamZmZmZkJQJqZmZmZmQlAmpmZmZmZCUCamZmZmZkJQJqZmZmZmQlAmpmZmZmZCUCamZmZmZkJQJqZmZmZmQlAmpmZmZmZCUCamZmZmZkJQJqZmZmZmQlAmpmZmZmZCUCamZmZmZkJQJqZmZmZmQlAmpmZmZmZuT8=\",\"dtype\":\"float64\",\"order\":\"little\",\"shape\":[100]}},\"selected\":{\"id\":\"26503\"},\"selection_policy\":{\"id\":\"26527\"}},\"id\":\"26502\",\"type\":\"ColumnDataSource\"},{\"attributes\":{\"bottom\":{\"value\":0},\"fill_alpha\":{\"value\":1.0},\"fill_color\":{\"value\":\"#30a2da\"},\"hatch_alpha\":{\"value\":1.0},\"hatch_color\":{\"value\":\"black\"},\"hatch_scale\":{\"value\":12.0},\"hatch_weight\":{\"value\":1.0},\"line_alpha\":{\"value\":1.0},\"line_cap\":{\"value\":\"butt\"},\"line_color\":{\"value\":\"black\"},\"line_dash\":{\"value\":[]},\"line_dash_offset\":{\"value\":0},\"line_join\":{\"value\":\"bevel\"},\"line_width\":{\"value\":1},\"top\":{\"field\":\"num_sales\"},\"width\":{\"value\":0.8},\"x\":{\"field\":\"token_id\"}},\"id\":\"26791\",\"type\":\"VBar\"},{\"attributes\":{},\"id\":\"26478\",\"type\":\"CategoricalScale\"},{\"attributes\":{\"factors\":[\"2019-09-09\",\"2019-12-04\",\"2020-02-07\",\"2020-12-02\",\"2020-12-12\",\"2021-01-11\",\"2021-03-17\",\"2021-04-16\",\"2021-04-22\",\"2021-05-11\",\"2021-06-29\",\"2021-07-12\",\"2021-07-16\",\"2021-07-26\",\"2021-07-27\",\"2021-07-30\",\"2021-08-01\",\"2021-08-05\",\"2021-08-11\",\"2021-08-15\",\"2021-08-27\",\"2021-08-28\",\"2021-09-01\",\"2021-09-03\",\"2021-09-04\",\"2021-09-05\",\"2021-09-06\",\"2021-09-08\",\"2021-09-11\",\"2021-09-12\",\"2021-09-13\",\"2021-09-18\",\"2021-09-24\",\"2021-09-26\",\"2021-09-28\",\"2021-10-04\",\"2021-10-12\",\"2021-10-14\",\"2021-10-16\",\"2021-10-17\",\"2021-10-19\",\"2021-10-20\",\"2021-10-25\",\"2021-10-26\",\"2021-10-30\",\"2021-11-01\"],\"tags\":[[[\"listing_date\",\"listing_date\",null]]]},\"id\":\"26470\",\"type\":\"FactorRange\"},{\"attributes\":{},\"id\":\"26480\",\"type\":\"LinearScale\"},{\"attributes\":{\"callback\":null,\"renderers\":[{\"id\":\"26648\"}],\"tags\":[\"hv_created\"],\"tooltips\":[[\"listing_date\",\"@{listing_date}\"],[\"listing_price\",\"@{listing_price}\"]]},\"id\":\"26612\",\"type\":\"HoverTool\"},{\"attributes\":{\"bottom\":{\"value\":0},\"fill_alpha\":{\"value\":1.0},\"fill_color\":{\"value\":\"#30a2da\"},\"hatch_alpha\":{\"value\":1.0},\"hatch_color\":{\"value\":\"black\"},\"hatch_scale\":{\"value\":12.0},\"hatch_weight\":{\"value\":1.0},\"line_alpha\":{\"value\":1.0},\"line_cap\":{\"value\":\"butt\"},\"line_color\":{\"value\":\"black\"},\"line_dash\":{\"value\":[]},\"line_dash_offset\":{\"value\":0},\"line_join\":{\"value\":\"bevel\"},\"line_width\":{\"value\":1},\"top\":{\"field\":\"listing_price\"},\"width\":{\"value\":0.8},\"x\":{\"field\":\"listing_date\"}},\"id\":\"26581\",\"type\":\"VBar\"},{\"attributes\":{},\"id\":\"26574\",\"type\":\"Selection\"},{\"attributes\":{\"css_classes\":[\"markdown\"],\"margin\":[5,5,5,5],\"name\":\"Background Tab 1\",\"text\":\"&lt;h1&gt;What are NFTs?&lt;/h1&gt;\\n&lt;blockquote&gt;\\n&lt;p&gt;NFTs, or nonfungible tokens, are unique assets that can\\u2019t be replaced with something else,&lt;br&gt;\\nand are verified and stored using blockchain technology.  They can include everything from&lt;br&gt;\\nmusic to a website domain, but the current craze is really around digital artwork.    &lt;/p&gt;\\n&lt;p&gt;The market exceeded $10B in transaction volume as of 3Q2021.  &lt;/p&gt;\\n&lt;/blockquote&gt;\\n&lt;h3 align=&quot;center&quot;&gt; ![image](./images/NFTcoin.png) &lt;/h3&gt;\"},\"id\":\"26460\",\"type\":\"panel.models.markup.HTML\"},{\"attributes\":{\"children\":[{\"id\":\"26544\"},{\"id\":\"26613\"}],\"margin\":[0,0,0,0],\"name\":\"Column16572\"},\"id\":\"26540\",\"type\":\"Column\"},{\"attributes\":{\"active_multi\":null,\"tools\":[{\"id\":\"26683\"},{\"id\":\"26700\"},{\"id\":\"26701\"},{\"id\":\"26702\"},{\"id\":\"26703\"},{\"id\":\"26704\"}]},\"id\":\"26706\",\"type\":\"Toolbar\"},{\"attributes\":{\"format\":\"%.0f\"},\"id\":\"26651\",\"type\":\"PrintfTickFormatter\"},{\"attributes\":{\"axis\":{\"id\":\"26482\"},\"ticker\":{\"id\":\"26483\"}},\"id\":\"26484\",\"type\":\"Grid\"},{\"attributes\":{},\"id\":\"26527\",\"type\":\"UnionRenderers\"},{\"attributes\":{\"child\":{\"id\":\"26684\"},\"name\":\"Top 10 NFT Bid Prices\",\"title\":\"Top 10 NFT Bid Prices\"},\"id\":\"26750\",\"type\":\"Panel\"},{\"attributes\":{\"css_classes\":[\"markdown\"],\"margin\":[5,5,5,5],\"name\":\"Visualization Overview\",\"text\":\"&lt;h1&gt;Visualization Overview&lt;/h1&gt;\\n&lt;ol&gt;\\n&lt;li&gt;NFT Bid Trends&lt;/li&gt;\\n&lt;li&gt;Number of NFT Sales per Day&lt;/li&gt;\\n&lt;li&gt;Volume of NFT Sales per Day&lt;/li&gt;\\n&lt;li&gt;Top 10 NFT Bid Prices&lt;/li&gt;\\n&lt;li&gt;Number of Sales per Token ID&lt;/li&gt;\\n&lt;li&gt;Total Buyers/Sellers&lt;/li&gt;\\n&lt;li&gt;Top 5 NFT Projects by Market Cap&lt;/li&gt;\\n&lt;li&gt;TBD&lt;/li&gt;\\n&lt;/ol&gt;\"},\"id\":\"26468\",\"type\":\"panel.models.markup.HTML\"},{\"attributes\":{\"axis_label\":\"Listing Price\",\"formatter\":{\"id\":\"26514\"},\"major_label_policy\":{\"id\":\"26515\"},\"ticker\":{\"id\":\"26486\"}},\"id\":\"26485\",\"type\":\"LinearAxis\"},{\"attributes\":{\"data_source\":{\"id\":\"26713\"},\"glyph\":{\"id\":\"26716\"},\"hover_glyph\":null,\"muted_glyph\":{\"id\":\"26718\"},\"nonselection_glyph\":{\"id\":\"26717\"},\"selection_glyph\":{\"id\":\"26721\"},\"view\":{\"id\":\"26720\"}},\"id\":\"26719\",\"type\":\"GlyphRenderer\"},{\"attributes\":{\"axis_label\":\"Date\",\"formatter\":{\"id\":\"26513\"},\"major_label_orientation\":0.7853981633974483,\"major_label_policy\":{\"id\":\"26511\"},\"ticker\":{\"id\":\"26483\"}},\"id\":\"26482\",\"type\":\"CategoricalAxis\"},{\"attributes\":{},\"id\":\"26514\",\"type\":\"BasicTickFormatter\"},{\"attributes\":{\"fill_alpha\":{\"value\":0.1},\"fill_color\":{\"value\":\"#30a2da\"},\"line_alpha\":{\"value\":0.1},\"top\":{\"field\":\"A_0\"},\"width\":{\"value\":0.8},\"x\":{\"field\":\"index\"}},\"id\":\"26717\",\"type\":\"VBar\"},{\"attributes\":{},\"id\":\"26837\",\"type\":\"BasicTicker\"},{\"attributes\":{\"bottom_units\":\"screen\",\"fill_alpha\":0.5,\"fill_color\":\"lightgrey\",\"left_units\":\"screen\",\"level\":\"overlay\",\"line_alpha\":1.0,\"line_color\":\"black\",\"line_dash\":[4,4],\"line_width\":2,\"right_units\":\"screen\",\"syncable\":false,\"top_units\":\"screen\"},\"id\":\"26775\",\"type\":\"BoxAnnotation\"},{\"attributes\":{\"css_classes\":[\"markdown\"],\"margin\":[5,5,5,5],\"name\":\"Conclusion\",\"text\":\"&lt;p&gt;We learned a lot about NFTs.  Given the data you have seen and this new trend&amp;hellip;&lt;br&gt;\\n&lt;strong&gt;would YOU buy an NFT?&lt;/strong&gt;&lt;/p&gt;\\n&lt;p&gt;&lt;img alt=&quot;image&quot; src=&quot;./images/NFT_comic.png&quot;&gt;&lt;/p&gt;\"},\"id\":\"26895\",\"type\":\"panel.models.markup.HTML\"},{\"attributes\":{\"bottom\":{\"value\":0},\"fill_alpha\":{\"value\":1.0},\"fill_color\":{\"value\":\"#30a2da\"},\"hatch_alpha\":{\"value\":1.0},\"hatch_color\":{\"value\":\"black\"},\"hatch_scale\":{\"value\":12.0},\"hatch_weight\":{\"value\":1.0},\"line_alpha\":{\"value\":1.0},\"line_cap\":{\"value\":\"butt\"},\"line_color\":{\"value\":\"black\"},\"line_dash\":{\"value\":[]},\"line_dash_offset\":{\"value\":0},\"line_join\":{\"value\":\"bevel\"},\"line_width\":{\"value\":1},\"top\":{\"field\":\"A_0\"},\"width\":{\"value\":0.8},\"x\":{\"field\":\"index\"}},\"id\":\"26861\",\"type\":\"VBar\"},{\"attributes\":{\"end\":5.5,\"reset_end\":5.5,\"reset_start\":0.0,\"tags\":[[[\"num_sales\",\"num_sales\",null]]]},\"id\":\"26752\",\"type\":\"Range1d\"},{\"attributes\":{\"axis\":{\"id\":\"26833\"},\"ticker\":{\"id\":\"26834\"}},\"id\":\"26835\",\"type\":\"Grid\"},{\"attributes\":{\"fill_color\":{\"value\":\"#30a2da\"},\"top\":{\"field\":\"listing_price\"},\"width\":{\"value\":0.8},\"x\":{\"field\":\"listing_date\"}},\"id\":\"26576\",\"type\":\"VBar\"},{\"attributes\":{},\"id\":\"26560\",\"type\":\"SaveTool\"},{\"attributes\":{\"source\":{\"id\":\"26853\"}},\"id\":\"26860\",\"type\":\"CDSView\"},{\"attributes\":{},\"id\":\"26561\",\"type\":\"PanTool\"},{\"attributes\":{\"below\":[{\"id\":\"26763\"}],\"center\":[{\"id\":\"26765\"},{\"id\":\"26769\"}],\"height\":300,\"left\":[{\"id\":\"26766\"}],\"margin\":[5,5,5,5],\"min_border_bottom\":10,\"min_border_left\":10,\"min_border_right\":10,\"min_border_top\":10,\"renderers\":[{\"id\":\"26789\"}],\"sizing_mode\":\"fixed\",\"title\":{\"id\":\"26755\"},\"toolbar\":{\"id\":\"26776\"},\"width\":1500,\"x_range\":{\"id\":\"26751\"},\"x_scale\":{\"id\":\"26759\"},\"y_range\":{\"id\":\"26752\"},\"y_scale\":{\"id\":\"26761\"}},\"id\":\"26754\",\"subtype\":\"Figure\",\"type\":\"Plot\"},{\"attributes\":{\"axis\":{\"id\":\"26763\"},\"ticker\":{\"id\":\"26764\"}},\"id\":\"26765\",\"type\":\"Grid\"},{\"attributes\":{},\"id\":\"26834\",\"type\":\"CategoricalTicker\"},{\"attributes\":{},\"id\":\"26564\",\"type\":\"ResetTool\"},{\"attributes\":{\"fill_alpha\":{\"value\":0.1},\"fill_color\":{\"value\":\"#30a2da\"},\"line_alpha\":{\"value\":0.1},\"top\":{\"field\":\"num_sales\"},\"width\":{\"value\":0.8},\"x\":{\"field\":\"token_id\"}},\"id\":\"26787\",\"type\":\"VBar\"},{\"attributes\":{},\"id\":\"26562\",\"type\":\"WheelZoomTool\"},{\"attributes\":{},\"id\":\"26643\",\"type\":\"Selection\"},{\"attributes\":{\"axis_label\":\"Number\",\"formatter\":{\"id\":\"26865\"},\"major_label_policy\":{\"id\":\"26866\"},\"ticker\":{\"id\":\"26837\"}},\"id\":\"26836\",\"type\":\"LinearAxis\"},{\"attributes\":{},\"id\":\"26767\",\"type\":\"BasicTicker\"},{\"attributes\":{\"overlay\":{\"id\":\"26775\"}},\"id\":\"26773\",\"type\":\"BoxZoomTool\"},{\"attributes\":{},\"id\":\"26515\",\"type\":\"AllLabels\"},{\"attributes\":{\"bottom\":{\"value\":0},\"fill_alpha\":{\"value\":1.0},\"fill_color\":{\"value\":\"#30a2da\"},\"hatch_alpha\":{\"value\":1.0},\"hatch_color\":{\"value\":\"black\"},\"hatch_scale\":{\"value\":12.0},\"hatch_weight\":{\"value\":1.0},\"line_alpha\":{\"value\":1.0},\"line_cap\":{\"value\":\"butt\"},\"line_color\":{\"value\":\"black\"},\"line_dash\":{\"value\":[]},\"line_dash_offset\":{\"value\":0},\"line_join\":{\"value\":\"bevel\"},\"line_width\":{\"value\":1},\"top\":{\"field\":\"A_0\"},\"width\":{\"value\":0.8},\"x\":{\"field\":\"index\"}},\"id\":\"26721\",\"type\":\"VBar\"},{\"attributes\":{},\"id\":\"26772\",\"type\":\"WheelZoomTool\"},{\"attributes\":{\"overlay\":{\"id\":\"26565\"}},\"id\":\"26563\",\"type\":\"BoxZoomTool\"},{\"attributes\":{\"child\":{\"id\":\"26540\"},\"name\":\"Column16572\",\"title\":\"Number and Volume of NFT Sales per Day\"},\"id\":\"26680\",\"type\":\"Panel\"},{\"attributes\":{\"axis\":{\"id\":\"26836\"},\"dimension\":1,\"ticker\":{\"id\":\"26837\"}},\"id\":\"26839\",\"type\":\"Grid\"},{\"attributes\":{},\"id\":\"26771\",\"type\":\"PanTool\"},{\"attributes\":{\"client_comm_id\":\"5c27f08ad69348279a2aa0e4884587e9\",\"comm_id\":\"2ff1384c7c284aea9511205614141c91\",\"plot_id\":\"26457\"},\"id\":\"27074\",\"type\":\"panel.models.comm_manager.CommManager\"},{\"attributes\":{\"css_classes\":[\"markdown\"],\"margin\":[5,5,5,5],\"name\":\"Markdown19994\",\"text\":\"&lt;p&gt;LAST VISUAL TBD&lt;/p&gt;\"},\"id\":\"26893\",\"type\":\"panel.models.markup.HTML\"},{\"attributes\":{},\"id\":\"26878\",\"type\":\"UnionRenderers\"},{\"attributes\":{\"axis_label\":\"Token IDs\",\"formatter\":{\"id\":\"26794\"},\"major_label_orientation\":0.7853981633974483,\"major_label_policy\":{\"id\":\"26792\"},\"ticker\":{\"id\":\"26764\"}},\"id\":\"26763\",\"type\":\"CategoricalAxis\"},{\"attributes\":{\"child\":{\"id\":\"26893\"},\"name\":\"Markdown19994\",\"title\":\"Markdown\"},\"id\":\"26894\",\"type\":\"Panel\"},{\"attributes\":{\"margin\":[0,0,0,0],\"tabs\":[{\"id\":\"26459\"},{\"id\":\"26461\"},{\"id\":\"26463\"},{\"id\":\"26465\"},{\"id\":\"26467\"},{\"id\":\"26469\"},{\"id\":\"26539\"},{\"id\":\"26680\"},{\"id\":\"26750\"},{\"id\":\"26820\"},{\"id\":\"26890\"},{\"id\":\"26892\"},{\"id\":\"26894\"},{\"id\":\"26896\"}]},\"id\":\"26457\",\"type\":\"Tabs\"},{\"attributes\":{},\"id\":\"26865\",\"type\":\"BasicTickFormatter\"},{\"attributes\":{\"fill_color\":{\"value\":\"#30a2da\"},\"top\":{\"field\":\"A_0\"},\"width\":{\"value\":0.8},\"x\":{\"field\":\"index\"}},\"id\":\"26856\",\"type\":\"VBar\"},{\"attributes\":{\"fill_color\":{\"value\":\"#30a2da\"},\"top\":{\"field\":\"listing_price\"},\"width\":{\"value\":0.8},\"x\":{\"field\":\"listing_date\"}},\"id\":\"26645\",\"type\":\"VBar\"},{\"attributes\":{\"below\":[{\"id\":\"26622\"}],\"center\":[{\"id\":\"26624\"},{\"id\":\"26628\"}],\"height\":300,\"left\":[{\"id\":\"26625\"}],\"margin\":[5,5,5,5],\"min_border_bottom\":10,\"min_border_left\":10,\"min_border_right\":10,\"min_border_top\":10,\"renderers\":[{\"id\":\"26648\"}],\"sizing_mode\":\"fixed\",\"title\":{\"id\":\"26614\"},\"toolbar\":{\"id\":\"26635\"},\"width\":1200,\"x_range\":{\"id\":\"26470\"},\"x_scale\":{\"id\":\"26618\"},\"y_range\":{\"id\":\"26471\"},\"y_scale\":{\"id\":\"26620\"}},\"id\":\"26613\",\"subtype\":\"Figure\",\"type\":\"Plot\"},{\"attributes\":{\"css_classes\":[\"markdown\"],\"margin\":[5,5,5,5],\"name\":\"Project 1 - Group 3\",\"text\":\"&lt;h1&gt;Let&amp;rsquo;s Put the &amp;ldquo;Fun&amp;rdquo; in Non-Fungible Tokens (NFTs)&lt;/h1&gt;\\n&lt;p&gt;Presentation Date: November 6, 2021  &lt;/p&gt;\\n&lt;p&gt;Prepared by Andrew, Rachel, Sam, and Jinhyeong  &lt;/p&gt;\\n&lt;p&gt;img src=&amp;rdquo;/images/NFTheads.png&amp;rdquo;&lt;/p&gt;\"},\"id\":\"26458\",\"type\":\"panel.models.markup.HTML\"},{\"attributes\":{\"data_source\":{\"id\":\"26853\"},\"glyph\":{\"id\":\"26856\"},\"hover_glyph\":null,\"muted_glyph\":{\"id\":\"26858\"},\"nonselection_glyph\":{\"id\":\"26857\"},\"selection_glyph\":{\"id\":\"26861\"},\"view\":{\"id\":\"26860\"}},\"id\":\"26859\",\"type\":\"GlyphRenderer\"},{\"attributes\":{},\"id\":\"26725\",\"type\":\"BasicTickFormatter\"},{\"attributes\":{\"text\":\"Volume of Sales Per Day (USD$)\",\"text_color\":\"black\",\"text_font_size\":\"12pt\"},\"id\":\"26614\",\"type\":\"Title\"},{\"attributes\":{},\"id\":\"26724\",\"type\":\"CategoricalTickFormatter\"},{\"attributes\":{},\"id\":\"26840\",\"type\":\"SaveTool\"},{\"attributes\":{\"child\":{\"id\":\"26824\"},\"name\":\"Total NFT Buyers/Sellers\",\"title\":\"Total NFT Buyers/Sellers\"},\"id\":\"26890\",\"type\":\"Panel\"},{\"attributes\":{},\"id\":\"26722\",\"type\":\"AllLabels\"},{\"attributes\":{},\"id\":\"26726\",\"type\":\"AllLabels\"},{\"attributes\":{},\"id\":\"26841\",\"type\":\"PanTool\"},{\"attributes\":{\"factors\":[\"62\",\"85\",\"23\",\"99\",\"57\",\"15\",\"1\",\"74\",\"42\",\"73\",\"buyer_username\",\"seller_username\"],\"tags\":[[[\"index\",\"index\",null]]]},\"id\":\"26681\",\"type\":\"FactorRange\"},{\"attributes\":{},\"id\":\"26844\",\"type\":\"ResetTool\"},{\"attributes\":{\"active_multi\":null,\"tools\":[{\"id\":\"26543\"},{\"id\":\"26560\"},{\"id\":\"26561\"},{\"id\":\"26562\"},{\"id\":\"26563\"},{\"id\":\"26564\"}]},\"id\":\"26566\",\"type\":\"Toolbar\"},{\"attributes\":{},\"id\":\"26842\",\"type\":\"WheelZoomTool\"},{\"attributes\":{},\"id\":\"26582\",\"type\":\"AllLabels\"},{\"attributes\":{\"child\":{\"id\":\"26468\"},\"name\":\"Visualization Overview\",\"title\":\"Visualization Overview\"},\"id\":\"26469\",\"type\":\"Panel\"},{\"attributes\":{\"margin\":[5,5,5,5],\"name\":\"Top 5 NFT Projects by Market Cap\",\"text\":\"&lt;pre&gt;[&lt;AxesSubplot:title={&#x27;center&#x27;:&#x27;Top 5 NFT Projects by Market Cap&#x27;}, ylabel=&#x27;Market_Cap&#x27;&gt;]&lt;/pre&gt;\"},\"id\":\"26891\",\"type\":\"panel.models.markup.HTML\"},{\"attributes\":{\"end\":618.823,\"reset_end\":618.823,\"reset_start\":0.0,\"tags\":[[[\"0\",\"0\",null]]]},\"id\":\"26682\",\"type\":\"Range1d\"},{\"attributes\":{\"data_source\":{\"id\":\"26573\"},\"glyph\":{\"id\":\"26576\"},\"hover_glyph\":null,\"muted_glyph\":{\"id\":\"26578\"},\"nonselection_glyph\":{\"id\":\"26577\"},\"selection_glyph\":{\"id\":\"26581\"},\"view\":{\"id\":\"26580\"}},\"id\":\"26579\",\"type\":\"GlyphRenderer\"},{\"attributes\":{\"data_source\":{\"id\":\"26783\"},\"glyph\":{\"id\":\"26786\"},\"hover_glyph\":null,\"muted_glyph\":{\"id\":\"26788\"},\"nonselection_glyph\":{\"id\":\"26787\"},\"selection_glyph\":{\"id\":\"26791\"},\"view\":{\"id\":\"26790\"}},\"id\":\"26789\",\"type\":\"GlyphRenderer\"},{\"attributes\":{\"axis\":{\"id\":\"26622\"},\"ticker\":{\"id\":\"26623\"}},\"id\":\"26624\",\"type\":\"Grid\"},{\"attributes\":{\"axis_label\":\"Date\",\"formatter\":{\"id\":\"26654\"},\"major_label_orientation\":0.7853981633974483,\"major_label_policy\":{\"id\":\"26652\"},\"ticker\":{\"id\":\"26623\"}},\"id\":\"26622\",\"type\":\"CategoricalAxis\"},{\"attributes\":{\"overlay\":{\"id\":\"26845\"}},\"id\":\"26843\",\"type\":\"BoxZoomTool\"},{\"attributes\":{\"fill_alpha\":{\"value\":0.2},\"fill_color\":{\"value\":\"#30a2da\"},\"line_alpha\":{\"value\":0.2},\"top\":{\"field\":\"A_0\"},\"width\":{\"value\":0.8},\"x\":{\"field\":\"index\"}},\"id\":\"26858\",\"type\":\"VBar\"},{\"attributes\":{\"bottom_units\":\"screen\",\"fill_alpha\":0.5,\"fill_color\":\"lightgrey\",\"left_units\":\"screen\",\"level\":\"overlay\",\"line_alpha\":1.0,\"line_color\":\"black\",\"line_dash\":[4,4],\"line_width\":2,\"right_units\":\"screen\",\"syncable\":false,\"top_units\":\"screen\"},\"id\":\"26565\",\"type\":\"BoxAnnotation\"},{\"attributes\":{\"child\":{\"id\":\"26891\"},\"name\":\"Top 5 NFT Projects by Market Cap\",\"title\":\"Top 5 NFT Projects by Market Cap\"},\"id\":\"26892\",\"type\":\"Panel\"},{\"attributes\":{\"line_color\":\"#30a2da\",\"line_width\":2,\"x\":{\"field\":\"listing_date\"},\"y\":{\"field\":\"listing_price\"}},\"id\":\"26510\",\"type\":\"Line\"},{\"attributes\":{},\"id\":\"26626\",\"type\":\"BasicTicker\"},{\"attributes\":{},\"id\":\"26759\",\"type\":\"CategoricalScale\"},{\"attributes\":{},\"id\":\"26618\",\"type\":\"CategoricalScale\"},{\"attributes\":{},\"id\":\"26774\",\"type\":\"ResetTool\"},{\"attributes\":{},\"id\":\"26866\",\"type\":\"AllLabels\"},{\"attributes\":{},\"id\":\"26764\",\"type\":\"CategoricalTicker\"},{\"attributes\":{},\"id\":\"26585\",\"type\":\"BasicTickFormatter\"},{\"attributes\":{\"css_classes\":[\"markdown\"],\"margin\":[5,5,5,5],\"name\":\"Background Tab 3\",\"text\":\"&lt;h1&gt;Minting and Purchasing an NFT&lt;/h1&gt;\\n&lt;blockquote&gt;\\n&lt;p&gt;For NFTs to become valuable and scarce they have to be minted. The term minting in NFTs is similar &lt;br&gt;\\nto minting a coin of silver. Once an NFT is minted on the Ethereum blockchain it becomes unchangeable &lt;br&gt;\\nand tamper-proof. Newly minted NFTs then are able to be sold on third party websites. These websites &lt;br&gt;\\ninclude Nifty Gateway, Zora, and OpeanSea to name a few.    &lt;/p&gt;\\n&lt;p&gt;For a buyer to purchase an NFT they have to purchase the NFT using Ethereum Tokens.&lt;br&gt;\\nOther blockchain networks that mint NFTs beside Ethereum include Solana, Polygon, and Binance Smart &lt;br&gt;\\nChain, to name a few. Yet Ethereum reigns supreme for NFTs on chain.  &lt;/p&gt;\\n&lt;/blockquote&gt;\"},\"id\":\"26464\",\"type\":\"panel.models.markup.HTML\"},{\"attributes\":{\"below\":[{\"id\":\"26553\"}],\"center\":[{\"id\":\"26555\"},{\"id\":\"26559\"}],\"height\":300,\"left\":[{\"id\":\"26556\"}],\"margin\":[5,5,5,5],\"min_border_bottom\":10,\"min_border_left\":10,\"min_border_right\":10,\"min_border_top\":10,\"renderers\":[{\"id\":\"26579\"}],\"sizing_mode\":\"fixed\",\"title\":{\"id\":\"26545\"},\"toolbar\":{\"id\":\"26566\"},\"width\":1200,\"x_range\":{\"id\":\"26470\"},\"x_scale\":{\"id\":\"26549\"},\"y_range\":{\"id\":\"26471\"},\"y_scale\":{\"id\":\"26551\"}},\"id\":\"26544\",\"subtype\":\"Figure\",\"type\":\"Plot\"},{\"attributes\":{\"callback\":null,\"renderers\":[{\"id\":\"26508\"}],\"tags\":[\"hv_created\"],\"tooltips\":[[\"listing_date\",\"@{listing_date}\"],[\"listing_price\",\"@{listing_price}\"]]},\"id\":\"26472\",\"type\":\"HoverTool\"},{\"attributes\":{},\"id\":\"26620\",\"type\":\"LinearScale\"},{\"attributes\":{\"child\":{\"id\":\"26460\"},\"name\":\"Background Tab 1\",\"title\":\"Background Tab 1\"},\"id\":\"26461\",\"type\":\"Panel\"},{\"attributes\":{\"source\":{\"id\":\"26573\"}},\"id\":\"26580\",\"type\":\"CDSView\"},{\"attributes\":{\"fill_alpha\":{\"value\":0.1},\"fill_color\":{\"value\":\"#30a2da\"},\"line_alpha\":{\"value\":0.1},\"top\":{\"field\":\"listing_price\"},\"width\":{\"value\":0.8},\"x\":{\"field\":\"listing_date\"}},\"id\":\"26646\",\"type\":\"VBar\"},{\"attributes\":{\"axis\":{\"id\":\"26766\"},\"dimension\":1,\"ticker\":{\"id\":\"26767\"}},\"id\":\"26769\",\"type\":\"Grid\"},{\"attributes\":{},\"id\":\"26623\",\"type\":\"CategoricalTicker\"},{\"attributes\":{\"data\":{\"A_0\":[85,73],\"index\":[\"buyer_username\",\"seller_username\"]},\"selected\":{\"id\":\"26854\"},\"selection_policy\":{\"id\":\"26878\"}},\"id\":\"26853\",\"type\":\"ColumnDataSource\"},{\"attributes\":{\"data\":{\"listing_date\":[\"2019-09-09\",\"2019-12-04\",\"2020-02-07\",\"2020-12-02\",\"2020-12-12\",\"2021-01-11\",\"2021-03-17\",\"2021-04-16\",\"2021-04-22\",\"2021-05-11\",\"2021-06-29\",\"2021-07-12\",\"2021-07-16\",\"2021-07-26\",\"2021-07-27\",\"2021-07-30\",\"2021-08-01\",\"2021-08-05\",\"2021-08-11\",\"2021-08-15\",\"2021-08-27\",\"2021-08-28\",\"2021-09-01\",\"2021-09-03\",\"2021-09-04\",\"2021-09-05\",\"2021-09-06\",\"2021-09-08\",\"2021-09-11\",\"2021-09-12\",\"2021-09-13\",\"2021-09-18\",\"2021-09-24\",\"2021-09-26\",\"2021-09-28\",\"2021-10-04\",\"2021-10-12\",\"2021-10-14\",\"2021-10-16\",\"2021-10-17\",\"2021-10-19\",\"2021-10-20\",\"2021-10-25\",\"2021-10-26\",\"2021-10-30\",\"2021-11-01\"],\"listing_price\":{\"__ndarray__\":\"AAAAAPjxEEEAAAAAAGvsQAAAAAAA1sBAAAAAAABsEUEAAAAAIA8HQQAAAAAABe5AAAAAAAD61EAAAAAAAEwdQQAAAACA7OVAAAAAALB6IUEAAAAAAAAAAAAAAAAA+QVBAAAAAADX+UABAAAAgI/jQAAAAABWWBtBAAAAAAD6yUAAAAAAIGD7QAAAAADgL/1AAAAAAAAAAAAAAAAAANvqQAAAAAAYkBFB/P///7MQGkEAAAAAAKLCQAAAAACAk95AAAAAAADm3kAAAAAAAOPiQAAAAABQQfVAAAAAAMB0IUEAAAAAgNfRQAAAAAAAFsxAAQAAAAAl10AAAAAAAGHSQAAAAAAAcNdAAAAAABDYHEEAAAAAgKfpQAAAAAAAZNlAAAAAAICA00AAAAAAIOT+QAAAAACAR/BAAAAAAAAp80AAAAAAAMLFQAAAAAAAIMxAAAAAAADm5EAAAAAAULgFQQAAAAAAkOpAAAAAAAAAWUA=\",\"dtype\":\"float64\",\"order\":\"little\",\"shape\":[46]}},\"selected\":{\"id\":\"26643\"},\"selection_policy\":{\"id\":\"26669\"}},\"id\":\"26642\",\"type\":\"ColumnDataSource\"},{\"attributes\":{\"axis_label\":\"Volume of Sales\",\"formatter\":{\"id\":\"26651\"},\"major_label_policy\":{\"id\":\"26656\"},\"ticker\":{\"id\":\"26626\"}},\"id\":\"26625\",\"type\":\"LinearAxis\"},{\"attributes\":{},\"id\":\"26584\",\"type\":\"CategoricalTickFormatter\"},{\"attributes\":{\"text\":\"Number of NFT Sales Per Day\",\"text_color\":\"black\",\"text_font_size\":\"12pt\"},\"id\":\"26545\",\"type\":\"Title\"},{\"attributes\":{},\"id\":\"26864\",\"type\":\"CategoricalTickFormatter\"},{\"attributes\":{},\"id\":\"26586\",\"type\":\"AllLabels\"},{\"attributes\":{\"axis\":{\"id\":\"26625\"},\"dimension\":1,\"ticker\":{\"id\":\"26626\"}},\"id\":\"26628\",\"type\":\"Grid\"},{\"attributes\":{\"fill_alpha\":{\"value\":0.1},\"fill_color\":{\"value\":\"#30a2da\"},\"line_alpha\":{\"value\":0.1},\"top\":{\"field\":\"listing_price\"},\"width\":{\"value\":0.8},\"x\":{\"field\":\"listing_date\"}},\"id\":\"26577\",\"type\":\"VBar\"},{\"attributes\":{\"callback\":null,\"renderers\":[{\"id\":\"26719\"}],\"tags\":[\"hv_created\"],\"tooltips\":[[\"index\",\"@{index}\"],[\"0\",\"@{A_0}\"]]},\"id\":\"26683\",\"type\":\"HoverTool\"},{\"attributes\":{},\"id\":\"26796\",\"type\":\"AllLabels\"},{\"attributes\":{},\"id\":\"26761\",\"type\":\"LinearScale\"},{\"attributes\":{},\"id\":\"26795\",\"type\":\"BasicTickFormatter\"},{\"attributes\":{\"child\":{\"id\":\"26462\"},\"name\":\"Background Tab 2\",\"title\":\"Background Tab 2\"},\"id\":\"26463\",\"type\":\"Panel\"},{\"attributes\":{\"axis_label\":\"Date\",\"formatter\":{\"id\":\"26584\"},\"major_label_orientation\":0.7853981633974483,\"major_label_policy\":{\"id\":\"26582\"},\"ticker\":{\"id\":\"26554\"}},\"id\":\"26553\",\"type\":\"CategoricalAxis\"},{\"attributes\":{},\"id\":\"26652\",\"type\":\"AllLabels\"},{\"attributes\":{\"active_multi\":null,\"tools\":[{\"id\":\"26753\"},{\"id\":\"26770\"},{\"id\":\"26771\"},{\"id\":\"26772\"},{\"id\":\"26773\"},{\"id\":\"26774\"}]},\"id\":\"26776\",\"type\":\"Toolbar\"},{\"attributes\":{\"axis\":{\"id\":\"26553\"},\"ticker\":{\"id\":\"26554\"}},\"id\":\"26555\",\"type\":\"Grid\"},{\"attributes\":{\"bottom_units\":\"screen\",\"fill_alpha\":0.5,\"fill_color\":\"lightgrey\",\"left_units\":\"screen\",\"level\":\"overlay\",\"line_alpha\":1.0,\"line_color\":\"black\",\"line_dash\":[4,4],\"line_width\":2,\"right_units\":\"screen\",\"syncable\":false,\"top_units\":\"screen\"},\"id\":\"26845\",\"type\":\"BoxAnnotation\"},{\"attributes\":{\"fill_alpha\":{\"value\":0.2},\"fill_color\":{\"value\":\"#30a2da\"},\"line_alpha\":{\"value\":0.2},\"top\":{\"field\":\"listing_price\"},\"width\":{\"value\":0.8},\"x\":{\"field\":\"listing_date\"}},\"id\":\"26647\",\"type\":\"VBar\"},{\"attributes\":{\"active_multi\":null,\"tools\":[{\"id\":\"26472\"},{\"id\":\"26489\"},{\"id\":\"26490\"},{\"id\":\"26491\"},{\"id\":\"26492\"},{\"id\":\"26493\"}]},\"id\":\"26495\",\"type\":\"Toolbar\"},{\"attributes\":{},\"id\":\"26557\",\"type\":\"BasicTicker\"},{\"attributes\":{},\"id\":\"26549\",\"type\":\"CategoricalScale\"},{\"attributes\":{},\"id\":\"26854\",\"type\":\"Selection\"},{\"attributes\":{\"text\":\"Number of Sales per NFT by Token ID\",\"text_color\":\"black\",\"text_font_size\":\"12pt\"},\"id\":\"26755\",\"type\":\"Title\"},{\"attributes\":{\"callback\":null,\"renderers\":[{\"id\":\"26859\"}],\"tags\":[\"hv_created\"],\"tooltips\":[[\"index\",\"@{index}\"],[\"0\",\"@{A_0}\"]]},\"id\":\"26823\",\"type\":\"HoverTool\"},{\"attributes\":{\"source\":{\"id\":\"26783\"}},\"id\":\"26790\",\"type\":\"CDSView\"},{\"attributes\":{},\"id\":\"26784\",\"type\":\"Selection\"},{\"attributes\":{},\"id\":\"26551\",\"type\":\"LinearScale\"},{\"attributes\":{},\"id\":\"26629\",\"type\":\"SaveTool\"},{\"attributes\":{},\"id\":\"26794\",\"type\":\"CategoricalTickFormatter\"},{\"attributes\":{},\"id\":\"26630\",\"type\":\"PanTool\"},{\"attributes\":{\"child\":{\"id\":\"26464\"},\"name\":\"Background Tab 3\",\"title\":\"Background Tab 3\"},\"id\":\"26465\",\"type\":\"Panel\"},{\"attributes\":{},\"id\":\"26554\",\"type\":\"CategoricalTicker\"},{\"attributes\":{},\"id\":\"26633\",\"type\":\"ResetTool\"},{\"attributes\":{\"below\":[{\"id\":\"26833\"}],\"center\":[{\"id\":\"26835\"},{\"id\":\"26839\"}],\"height\":300,\"left\":[{\"id\":\"26836\"}],\"margin\":[5,5,5,5],\"min_border_bottom\":10,\"min_border_left\":10,\"min_border_right\":10,\"min_border_top\":10,\"renderers\":[{\"id\":\"26859\"}],\"sizing_mode\":\"fixed\",\"title\":{\"id\":\"26825\"},\"toolbar\":{\"id\":\"26846\"},\"width\":700,\"x_range\":{\"id\":\"26681\"},\"x_scale\":{\"id\":\"26829\"},\"y_range\":{\"id\":\"26682\"},\"y_scale\":{\"id\":\"26831\"}},\"id\":\"26824\",\"subtype\":\"Figure\",\"type\":\"Plot\"},{\"attributes\":{},\"id\":\"26631\",\"type\":\"WheelZoomTool\"},{\"attributes\":{\"text\":\"Top 10 NFT Bids on OpenSea\",\"text_color\":\"black\",\"text_font_size\":\"12pt\"},\"id\":\"26685\",\"type\":\"Title\"},{\"attributes\":{\"active_multi\":null,\"tools\":[{\"id\":\"26823\"},{\"id\":\"26840\"},{\"id\":\"26841\"},{\"id\":\"26842\"},{\"id\":\"26843\"},{\"id\":\"26844\"}]},\"id\":\"26846\",\"type\":\"Toolbar\"},{\"attributes\":{},\"id\":\"26831\",\"type\":\"LinearScale\"},{\"attributes\":{\"axis_label\":\"Sales Count\",\"formatter\":{\"id\":\"26585\"},\"major_label_policy\":{\"id\":\"26586\"},\"ticker\":{\"id\":\"26557\"}},\"id\":\"26556\",\"type\":\"LinearAxis\"},{\"attributes\":{\"text\":\"Buyers and Sellers\",\"text_color\":\"black\",\"text_font_size\":\"12pt\"},\"id\":\"26825\",\"type\":\"Title\"},{\"attributes\":{\"overlay\":{\"id\":\"26634\"}},\"id\":\"26632\",\"type\":\"BoxZoomTool\"},{\"attributes\":{\"axis\":{\"id\":\"26556\"},\"dimension\":1,\"ticker\":{\"id\":\"26557\"}},\"id\":\"26559\",\"type\":\"Grid\"},{\"attributes\":{\"fill_alpha\":{\"value\":0.1},\"fill_color\":{\"value\":\"#30a2da\"},\"line_alpha\":{\"value\":0.1},\"top\":{\"field\":\"A_0\"},\"width\":{\"value\":0.8},\"x\":{\"field\":\"index\"}},\"id\":\"26857\",\"type\":\"VBar\"},{\"attributes\":{\"fill_alpha\":{\"value\":0.2},\"fill_color\":{\"value\":\"#30a2da\"},\"line_alpha\":{\"value\":0.2},\"top\":{\"field\":\"listing_price\"},\"width\":{\"value\":0.8},\"x\":{\"field\":\"listing_date\"}},\"id\":\"26578\",\"type\":\"VBar\"},{\"attributes\":{\"below\":[{\"id\":\"26693\"}],\"center\":[{\"id\":\"26695\"},{\"id\":\"26699\"}],\"height\":300,\"left\":[{\"id\":\"26696\"}],\"margin\":[5,5,5,5],\"min_border_bottom\":10,\"min_border_left\":10,\"min_border_right\":10,\"min_border_top\":10,\"renderers\":[{\"id\":\"26719\"}],\"sizing_mode\":\"fixed\",\"title\":{\"id\":\"26685\"},\"toolbar\":{\"id\":\"26706\"},\"width\":700,\"x_range\":{\"id\":\"26681\"},\"x_scale\":{\"id\":\"26689\"},\"y_range\":{\"id\":\"26682\"},\"y_scale\":{\"id\":\"26691\"}},\"id\":\"26684\",\"subtype\":\"Figure\",\"type\":\"Plot\"},{\"attributes\":{\"callback\":null,\"renderers\":[{\"id\":\"26579\"}],\"tags\":[\"hv_created\"],\"tooltips\":[[\"listing_date\",\"@{listing_date}\"],[\"listing_price\",\"@{listing_price}\"]]},\"id\":\"26543\",\"type\":\"HoverTool\"},{\"attributes\":{\"css_classes\":[\"markdown\"],\"margin\":[5,5,5,5],\"name\":\"Background Tab 4\",\"text\":\"&lt;h1&gt;The Rise of NFTs&lt;/h1&gt;\\n&lt;blockquote&gt;\\n&lt;p&gt;NFTs have only been around for a little over a half a decade so they have not become commonplace in&lt;br&gt;\\ntoday\\u2019s society. Yet the NFT space has gained some notoriety this past year due to the fact that &lt;br&gt;\\nmassive amounts of money have been allocated to purchase some NFT projects. The vast majority of&lt;br&gt;\\npeople in the NFT space, which are the artists and buyers, are between the ages of 18-39.    &lt;/p&gt;\\n&lt;/blockquote&gt;\\n&lt;p&gt;&lt;img alt=&quot;image&quot; src=&quot;./images/beeple.png&quot;&gt;&lt;/p&gt;\"},\"id\":\"26466\",\"type\":\"panel.models.markup.HTML\"},{\"attributes\":{\"axis_label\":\"Buyer/Seller\",\"formatter\":{\"id\":\"26864\"},\"major_label_policy\":{\"id\":\"26862\"},\"ticker\":{\"id\":\"26834\"}},\"id\":\"26833\",\"type\":\"CategoricalAxis\"},{\"attributes\":{\"data\":{\"A_0\":{\"__ndarray__\":\"rkfhehTmgUAAAAAAAAB+QOp8PzVe5HRAAAAAAAAgdEAAAAAAAPxxQK5H4XoUWnFAAAAAAABAb0AAAAAAAIBmQAAAAAAASGNAuB6F61EIXEA=\",\"dtype\":\"float64\",\"order\":\"little\",\"shape\":[10]},\"index\":[\"62\",\"85\",\"23\",\"99\",\"57\",\"15\",\"1\",\"74\",\"42\",\"73\"]},\"selected\":{\"id\":\"26714\"},\"selection_policy\":{\"id\":\"26738\"}},\"id\":\"26713\",\"type\":\"ColumnDataSource\"},{\"attributes\":{\"fill_alpha\":{\"value\":0.2},\"fill_color\":{\"value\":\"#30a2da\"},\"line_alpha\":{\"value\":0.2},\"top\":{\"field\":\"num_sales\"},\"width\":{\"value\":0.8},\"x\":{\"field\":\"token_id\"}},\"id\":\"26788\",\"type\":\"VBar\"},{\"attributes\":{},\"id\":\"26862\",\"type\":\"AllLabels\"},{\"attributes\":{},\"id\":\"26714\",\"type\":\"Selection\"},{\"attributes\":{\"axis_label\":\"Number of Sales\",\"formatter\":{\"id\":\"26795\"},\"major_label_policy\":{\"id\":\"26796\"},\"ticker\":{\"id\":\"26767\"}},\"id\":\"26766\",\"type\":\"LinearAxis\"},{\"attributes\":{},\"id\":\"26829\",\"type\":\"CategoricalScale\"},{\"attributes\":{},\"id\":\"26689\",\"type\":\"CategoricalScale\"}],\"root_ids\":[\"26457\",\"27074\"]},\"title\":\"Bokeh Application\",\"version\":\"2.3.2\"}};\n",
       "    var render_items = [{\"docid\":\"21dfc4b1-ed53-46f7-a2b3-099a254af521\",\"root_ids\":[\"26457\"],\"roots\":{\"26457\":\"63bd1990-810e-4ec8-bade-f48ef46509f1\"}}];\n",
       "    root.Bokeh.embed.embed_items_notebook(docs_json, render_items);\n",
       "  }\n",
       "  if (root.Bokeh !== undefined && root.Bokeh.Panel !== undefined) {\n",
       "    embed_document(root);\n",
       "  } else {\n",
       "    var attempts = 0;\n",
       "    var timer = setInterval(function(root) {\n",
       "      if (root.Bokeh !== undefined && root.Bokeh.Panel !== undefined) {\n",
       "        clearInterval(timer);\n",
       "        embed_document(root);\n",
       "      } else if (document.readyState == \"complete\") {\n",
       "        attempts++;\n",
       "        if (attempts > 200) {\n",
       "          clearInterval(timer);\n",
       "          console.log(\"Bokeh: ERROR: Unable to run BokehJS code because BokehJS library is missing\");\n",
       "        }\n",
       "      }\n",
       "    }, 25, root)\n",
       "  }\n",
       "})(window);</script>"
      ],
      "text/plain": [
       "Tabs\n",
       "    [0] Markdown(str, name='Project 1 - Group 3')\n",
       "    [1] Markdown(str, name='Background Tab 1')\n",
       "    [2] Markdown(str, name='Background Tab 2')\n",
       "    [3] Markdown(str, name='Background Tab 3')\n",
       "    [4] Markdown(str, name='Background Tab 4')\n",
       "    [5] Markdown(str, name='Visualization Overview')\n",
       "    [6] HoloViews(Curve, name='NFT Bid Trends')\n",
       "    [7] Column\n",
       "        [0] HoloViews(Bars)\n",
       "        [1] HoloViews(Bars)\n",
       "    [8] HoloViews(Bars, name='Top 10 NFT Bid Prices')\n",
       "    [9] HoloViews(Bars, name='Number of Sales p...)\n",
       "    [10] HoloViews(Bars, name='Total NFT Buyers/Sellers'...)\n",
       "    [11] Str(ndarray, name='Top 5 NFT Projects b...)\n",
       "    [12] Markdown(str)\n",
       "    [13] Markdown(str, name='Conclusion')"
      ]
     },
     "execution_count": 360,
     "metadata": {
      "application/vnd.holoviews_exec.v0+json": {
       "id": "26457"
      }
     },
     "output_type": "execute_result"
    }
   ],
   "source": [
    "#Create Dashboard - NEED TO ADD LAST VISUAL FROM ANDREW and FIX IMAGES\n",
    "pn.Tabs(\n",
    "    (\"Project 1 - Group 3\",markdown_titlepage),\n",
    "    (\"Background Tab 1\",markdown_background1),\n",
    "    (\"Background Tab 2\",markdown_background2),\n",
    "    (\"Background Tab 3\",markdown_background3),\n",
    "    (\"Background Tab 4\",markdown_background4),\n",
    "    (\"Visualization Overview\",visualoverview),\n",
    "    (\"NFT Bid Trends\",plot_1),\n",
    "    (\"Number and Volume of NFT Sales per Day\",salesvol_dash),\n",
    "    (\"Top 10 NFT Bid Prices\",plot_4),\n",
    "    (\"Number of Sales per Token ID\",plot_5),\n",
    "    (\"Total NFT Buyers/Sellers\",plot_6),\n",
    "    (\"Top 5 NFT Projects by Market Cap\",plot_7),\n",
    "    (\"LAST VISUAL TBD\"),\n",
    "    (\"Conclusion\",markdown_end)\n",
    "    \n",
    "       )"
   ]
  },
  {
   "cell_type": "code",
   "execution_count": 345,
   "id": "3cc4b210-541a-4d17-ab46-70b616bd6f1f",
   "metadata": {},
   "outputs": [],
   "source": [
    "#Create an html of the dashboard for presentation purposes once finalized\n",
    "#pn.Tabs(\n",
    "#    (\"Project 1 - Group 3\",markdown_titlepage),\n",
    "#    (\"Background Tab 1\",markdown_background1),\n",
    "#    (\"Background Tab 2\",markdown_background2),\n",
    " #   (\"Backgrond Tab 3\",markdown_background3),\n",
    " #   (\"Background Tab 4\",markdown_background4),\n",
    " #  (\"Visualization Overview\",visualoverview),\n",
    "  #  (\"NFT Bid Trends\",plot_1),\n",
    " #   (\"Number and Volume of NFT Sales per Day\",salesvol_dash),\n",
    " #   (\"Top 10 NFT Bid Prices\",plot_4),\n",
    " #   (\"Number of Sales per Token ID\",plot_5),\n",
    " #   (\"Total NFT Buyers/Sellers\",plot_6),\n",
    " #   (\"Top 5 NFT Projects by Market Cap\",plot_7),\n",
    " #   (\"LAST VISUAL TBD\"),\n",
    " #   (\"Conclusion\",markdown_end)\n",
    " #      ).save(\"Dashboard_Presentation.html\", embed=True)"
   ]
  },
  {
   "cell_type": "code",
   "execution_count": null,
   "id": "32a6c841-9809-49f9-b34f-5b21b6a0e5a2",
   "metadata": {},
   "outputs": [],
   "source": []
  },
  {
   "cell_type": "code",
   "execution_count": null,
   "id": "11c198e3-8d1f-404b-8511-377710240c05",
   "metadata": {},
   "outputs": [],
   "source": []
  }
 ],
 "metadata": {
  "kernelspec": {
   "display_name": "Python [conda env:pyvizenv] *",
   "language": "python",
   "name": "conda-env-pyvizenv-py"
  },
  "language_info": {
   "codemirror_mode": {
    "name": "ipython",
    "version": 3
   },
   "file_extension": ".py",
   "mimetype": "text/x-python",
   "name": "python",
   "nbconvert_exporter": "python",
   "pygments_lexer": "ipython3",
   "version": "3.7.10"
  }
 },
 "nbformat": 4,
 "nbformat_minor": 5
}
