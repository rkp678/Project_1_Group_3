{
 "cells": [
  {
   "cell_type": "markdown",
   "id": "9564d414-bf1d-4bfa-b11c-daaed9bc9463",
   "metadata": {},
   "source": [
    "# Plotting Visualizations - Project 1 Group 3 (NFTs)"
   ]
  },
  {
   "cell_type": "code",
   "execution_count": 317,
   "id": "915e9dd2-8932-4454-a198-954bebe95d98",
   "metadata": {},
   "outputs": [],
   "source": [
    "# Run imports\n",
    "import requests\n",
    "import json\n",
    "import pandas as pd\n",
    "\n",
    "import hvplot.pandas \n",
    "import numpy as np\n",
    "import panel as pn\n",
    "from panel.interact import interact\n",
    "from panel import widgets\n",
    "import matplotlib.pyplot as plt\n",
    "\n",
    "from math import pi\n",
    "from bokeh.palettes import Category20c\n",
    "from bokeh.plotting import figure, show\n",
    "from bokeh.transform import cumsum\n",
    "from bokeh.io import export_png\n"
   ]
  },
  {
   "cell_type": "markdown",
   "id": "dc570cf8-2892-4f11-9b39-c686a7a41d86",
   "metadata": {},
   "source": [
    "### Prepare Data"
   ]
  },
  {
   "cell_type": "code",
   "execution_count": 318,
   "id": "c24fa92c-2bb5-45da-9591-c592b17c28a8",
   "metadata": {},
   "outputs": [],
   "source": [
    "# Add Urls to data sources\n",
    "url = \"https://api.opensea.io/api/v1/events?limit=100\"\n",
    "url1 = \"https://api.opensea.io/api/v1/events?only_opensea=false&offset=0&limit=50\"\n",
    "url2 = \"https://api.opensea.io/api/v1/assets?order_direction=desc&offset=0&limit=50\"\n",
    "\n",
    "response = requests.request(\"GET\", url)\n",
    "opensea_data_pull = json.loads(response.text)\n",
    "opensea_data_pull1 = json.loads(response.text)\n"
   ]
  },
  {
   "cell_type": "code",
   "execution_count": 319,
   "id": "cc80ba78-2343-455e-be74-a5ec9f7e4fb8",
   "metadata": {},
   "outputs": [],
   "source": [
    "# Data paths for reference:\n",
    "# bbb = opensea_data_pull[\"assets\"][5][\"asset_contract\"][\"default_to_fiat\"]\n",
    "# price = opensea_data_pull[\"asset_events\"][0][\"payment_token\"][\"usd_price\"]\n",
    "# bid = opensea_data_pull[\"asset_events\"][0][\"bid_amount\"]"
   ]
  },
  {
   "cell_type": "markdown",
   "id": "85f83330-87a8-4225-a1ce-a872796e9b59",
   "metadata": {},
   "source": [
    "### Visual #1: NFT Bid Trends"
   ]
  },
  {
   "cell_type": "code",
   "execution_count": 320,
   "id": "5f2aeb30-8534-4389-8bbd-e8a16de1b543",
   "metadata": {},
   "outputs": [],
   "source": [
    "#CREATE VISUAL: NFT BID TRENDS\n",
    "# Pull dates and prices for each asset and create variables\n",
    "data_list = opensea_data_pull[\"asset_events\"]\n",
    "\n",
    "listing_date_list = []\n",
    "listing_price_list = []"
   ]
  },
  {
   "cell_type": "code",
   "execution_count": 321,
   "id": "3ba977a6-1fc8-410c-a078-4f55d506bfde",
   "metadata": {},
   "outputs": [],
   "source": [
    "# Iterate through each item in list\n",
    "for each in data_list:\n",
    "    \n",
    "    # grab the id\n",
    "    listing_date = each[\"asset\"][\"asset_contract\"][\"created_date\"]\n",
    "    listing_date = listing_date[0:10]  # reformat dates to be cleaner\n",
    "\n",
    "    listing_price = each[\"bid_amount\"]\n",
    "    try:\n",
    "        listing_price = float(listing_price)\n",
    "        listing_price = (listing_price/ 10000000000000000)\n",
    "    except:\n",
    "        listing_price = 0\n",
    "        \n",
    "    # append id to list of ids\n",
    "    listing_date_list.append(listing_date)\n",
    "    listing_price_list.append(listing_price)"
   ]
  },
  {
   "cell_type": "code",
   "execution_count": 322,
   "id": "c4bafe83-ed49-4873-8d40-269d62f6f460",
   "metadata": {},
   "outputs": [],
   "source": [
    "# Cleaner method, give column headers\n",
    "bidtrends_df = pd.DataFrame(\n",
    "    {'listing_date': listing_date_list,\n",
    "     'listing_price': listing_price_list\n",
    "     })"
   ]
  },
  {
   "cell_type": "code",
   "execution_count": 323,
   "id": "03a6d6c1-4a9d-4b2e-ae66-460fb89dbc09",
   "metadata": {},
   "outputs": [
    {
     "data": {
      "text/html": [
       "<div>\n",
       "<style scoped>\n",
       "    .dataframe tbody tr th:only-of-type {\n",
       "        vertical-align: middle;\n",
       "    }\n",
       "\n",
       "    .dataframe tbody tr th {\n",
       "        vertical-align: top;\n",
       "    }\n",
       "\n",
       "    .dataframe thead th {\n",
       "        text-align: right;\n",
       "    }\n",
       "</style>\n",
       "<table border=\"1\" class=\"dataframe\">\n",
       "  <thead>\n",
       "    <tr style=\"text-align: right;\">\n",
       "      <th></th>\n",
       "      <th>listing_date</th>\n",
       "      <th>listing_price</th>\n",
       "    </tr>\n",
       "  </thead>\n",
       "  <tbody>\n",
       "    <tr>\n",
       "      <th>0</th>\n",
       "      <td>2021-06-30</td>\n",
       "      <td>12.67</td>\n",
       "    </tr>\n",
       "    <tr>\n",
       "      <th>1</th>\n",
       "      <td>2021-08-13</td>\n",
       "      <td>35.09</td>\n",
       "    </tr>\n",
       "    <tr>\n",
       "      <th>2</th>\n",
       "      <td>2021-10-14</td>\n",
       "      <td>103.66</td>\n",
       "    </tr>\n",
       "    <tr>\n",
       "      <th>3</th>\n",
       "      <td>2021-07-26</td>\n",
       "      <td>18.25</td>\n",
       "    </tr>\n",
       "    <tr>\n",
       "      <th>4</th>\n",
       "      <td>2021-01-28</td>\n",
       "      <td>59.15</td>\n",
       "    </tr>\n",
       "  </tbody>\n",
       "</table>\n",
       "</div>"
      ],
      "text/plain": [
       "  listing_date  listing_price\n",
       "0   2021-06-30          12.67\n",
       "1   2021-08-13          35.09\n",
       "2   2021-10-14         103.66\n",
       "3   2021-07-26          18.25\n",
       "4   2021-01-28          59.15"
      ]
     },
     "execution_count": 323,
     "metadata": {},
     "output_type": "execute_result"
    }
   ],
   "source": [
    "#Clean data, drop NAs\n",
    "bidtrends_df = bidtrends_df.dropna()\n",
    "bidtrends_df.head()"
   ]
  },
  {
   "cell_type": "code",
   "execution_count": 324,
   "id": "310e8487-2ff2-449f-b9c4-2d1e05776c87",
   "metadata": {},
   "outputs": [],
   "source": [
    "#Sort values by date\n",
    "bidtrends_df = bidtrends_df.sort_values(\"listing_date\")"
   ]
  },
  {
   "cell_type": "code",
   "execution_count": 325,
   "id": "0ed3805b-d8fa-4c1c-841e-03a684b07bd6",
   "metadata": {},
   "outputs": [],
   "source": [
    "#Plot the data using a line plot to show differences over time and name the plot for easier dashboard build later on\n",
    "plot_1 = bidtrends_df.hvplot.line(x=\"listing_date\", y=\"listing_price\", xlabel=\"Date\", ylabel=\"Listing Price\", title=\"NFT Bid Trends\", rot=45, width=1200, grid=True)"
   ]
  },
  {
   "cell_type": "code",
   "execution_count": 326,
   "id": "2d872948-d1b9-4c9b-9e5e-7867d0de33b8",
   "metadata": {},
   "outputs": [
    {
     "data": {},
     "metadata": {},
     "output_type": "display_data"
    },
    {
     "data": {
      "application/vnd.holoviews_exec.v0+json": "",
      "text/html": [
       "<div id='33369'>\n",
       "\n",
       "\n",
       "\n",
       "\n",
       "\n",
       "  <div class=\"bk-root\" id=\"e1501e57-338d-4192-b91c-bb3fa4cb4bda\" data-root-id=\"33369\"></div>\n",
       "</div>\n",
       "<script type=\"application/javascript\">(function(root) {\n",
       "  function embed_document(root) {\n",
       "    var docs_json = {\"911ef392-51aa-4830-b499-9fbefc4e427b\":{\"defs\":[{\"extends\":null,\"module\":null,\"name\":\"ReactiveHTML1\",\"overrides\":[],\"properties\":[]},{\"extends\":null,\"module\":null,\"name\":\"FlexBox1\",\"overrides\":[],\"properties\":[{\"default\":\"flex-start\",\"kind\":null,\"name\":\"align_content\"},{\"default\":\"flex-start\",\"kind\":null,\"name\":\"align_items\"},{\"default\":\"row\",\"kind\":null,\"name\":\"flex_direction\"},{\"default\":\"wrap\",\"kind\":null,\"name\":\"flex_wrap\"},{\"default\":\"flex-start\",\"kind\":null,\"name\":\"justify_content\"}]},{\"extends\":null,\"module\":null,\"name\":\"TemplateActions1\",\"overrides\":[],\"properties\":[{\"default\":0,\"kind\":null,\"name\":\"open_modal\"},{\"default\":0,\"kind\":null,\"name\":\"close_modal\"}]},{\"extends\":null,\"module\":null,\"name\":\"MaterialTemplateActions1\",\"overrides\":[],\"properties\":[{\"default\":0,\"kind\":null,\"name\":\"open_modal\"},{\"default\":0,\"kind\":null,\"name\":\"close_modal\"}]}],\"roots\":{\"references\":[{\"attributes\":{},\"id\":\"33379\",\"type\":\"CategoricalScale\"},{\"attributes\":{\"below\":[{\"id\":\"33383\"}],\"center\":[{\"id\":\"33385\"},{\"id\":\"33389\"}],\"height\":300,\"left\":[{\"id\":\"33386\"}],\"margin\":[5,5,5,5],\"min_border_bottom\":10,\"min_border_left\":10,\"min_border_right\":10,\"min_border_top\":10,\"renderers\":[{\"id\":\"33409\"}],\"sizing_mode\":\"fixed\",\"title\":{\"id\":\"33375\"},\"toolbar\":{\"id\":\"33396\"},\"width\":1200,\"x_range\":{\"id\":\"33371\"},\"x_scale\":{\"id\":\"33379\"},\"y_range\":{\"id\":\"33372\"},\"y_scale\":{\"id\":\"33381\"}},\"id\":\"33374\",\"subtype\":\"Figure\",\"type\":\"Plot\"},{\"attributes\":{},\"id\":\"33381\",\"type\":\"LinearScale\"},{\"attributes\":{\"source\":{\"id\":\"33403\"}},\"id\":\"33410\",\"type\":\"CDSView\"},{\"attributes\":{},\"id\":\"33416\",\"type\":\"AllLabels\"},{\"attributes\":{},\"id\":\"33387\",\"type\":\"BasicTicker\"},{\"attributes\":{\"line_color\":\"#30a2da\",\"line_width\":2,\"x\":{\"field\":\"listing_date\"},\"y\":{\"field\":\"listing_price\"}},\"id\":\"33411\",\"type\":\"Line\"},{\"attributes\":{\"bottom_units\":\"screen\",\"fill_alpha\":0.5,\"fill_color\":\"lightgrey\",\"left_units\":\"screen\",\"level\":\"overlay\",\"line_alpha\":1.0,\"line_color\":\"black\",\"line_dash\":[4,4],\"line_width\":2,\"right_units\":\"screen\",\"syncable\":false,\"top_units\":\"screen\"},\"id\":\"33395\",\"type\":\"BoxAnnotation\"},{\"attributes\":{},\"id\":\"33390\",\"type\":\"SaveTool\"},{\"attributes\":{\"factors\":[\"2018-04-16\",\"2020-12-02\",\"2021-01-28\",\"2021-03-07\",\"2021-04-16\",\"2021-05-03\",\"2021-06-14\",\"2021-06-18\",\"2021-06-27\",\"2021-06-28\",\"2021-06-30\",\"2021-07-12\",\"2021-07-22\",\"2021-07-26\",\"2021-07-27\",\"2021-07-28\",\"2021-08-03\",\"2021-08-11\",\"2021-08-12\",\"2021-08-13\",\"2021-08-15\",\"2021-08-27\",\"2021-08-28\",\"2021-08-31\",\"2021-09-01\",\"2021-09-03\",\"2021-09-05\",\"2021-09-06\",\"2021-09-07\",\"2021-09-08\",\"2021-09-11\",\"2021-09-16\",\"2021-09-22\",\"2021-09-23\",\"2021-09-26\",\"2021-09-27\",\"2021-10-04\",\"2021-10-10\",\"2021-10-12\",\"2021-10-13\",\"2021-10-14\",\"2021-10-16\",\"2021-10-17\",\"2021-10-23\",\"2021-10-25\",\"2021-10-26\",\"2021-10-29\",\"2021-10-31\",\"2021-11-02\",\"2021-11-04\"],\"tags\":[[[\"listing_date\",\"listing_date\",null]]]},\"id\":\"33371\",\"type\":\"FactorRange\"},{\"attributes\":{\"line_color\":\"#30a2da\",\"line_width\":2,\"x\":{\"field\":\"listing_date\"},\"y\":{\"field\":\"listing_price\"}},\"id\":\"33406\",\"type\":\"Line\"},{\"attributes\":{\"children\":[{\"id\":\"33370\"},{\"id\":\"33374\"},{\"id\":\"33440\"}],\"margin\":[0,0,0,0],\"name\":\"Row16801\",\"tags\":[\"embedded\"]},\"id\":\"33369\",\"type\":\"Row\"},{\"attributes\":{\"data_source\":{\"id\":\"33403\"},\"glyph\":{\"id\":\"33406\"},\"hover_glyph\":null,\"muted_glyph\":{\"id\":\"33408\"},\"nonselection_glyph\":{\"id\":\"33407\"},\"selection_glyph\":{\"id\":\"33411\"},\"view\":{\"id\":\"33410\"}},\"id\":\"33409\",\"type\":\"GlyphRenderer\"},{\"attributes\":{},\"id\":\"33404\",\"type\":\"Selection\"},{\"attributes\":{\"active_multi\":null,\"tools\":[{\"id\":\"33373\"},{\"id\":\"33390\"},{\"id\":\"33391\"},{\"id\":\"33392\"},{\"id\":\"33393\"},{\"id\":\"33394\"}]},\"id\":\"33396\",\"type\":\"Toolbar\"},{\"attributes\":{\"end\":626.12,\"reset_end\":626.12,\"reset_start\":-56.92000000000001,\"start\":-56.92000000000001,\"tags\":[[[\"listing_price\",\"listing_price\",null]]]},\"id\":\"33372\",\"type\":\"Range1d\"},{\"attributes\":{\"line_alpha\":0.2,\"line_color\":\"#30a2da\",\"line_width\":2,\"x\":{\"field\":\"listing_date\"},\"y\":{\"field\":\"listing_price\"}},\"id\":\"33408\",\"type\":\"Line\"},{\"attributes\":{},\"id\":\"33414\",\"type\":\"AllLabels\"},{\"attributes\":{\"axis_label\":\"Listing Price\",\"formatter\":{\"id\":\"33415\"},\"major_label_policy\":{\"id\":\"33416\"},\"ticker\":{\"id\":\"33387\"}},\"id\":\"33386\",\"type\":\"LinearAxis\"},{\"attributes\":{\"axis\":{\"id\":\"33386\"},\"dimension\":1,\"ticker\":{\"id\":\"33387\"}},\"id\":\"33389\",\"type\":\"Grid\"},{\"attributes\":{},\"id\":\"33427\",\"type\":\"UnionRenderers\"},{\"attributes\":{\"axis\":{\"id\":\"33383\"},\"ticker\":{\"id\":\"33384\"}},\"id\":\"33385\",\"type\":\"Grid\"},{\"attributes\":{\"margin\":[5,5,5,5],\"name\":\"HSpacer16806\",\"sizing_mode\":\"stretch_width\"},\"id\":\"33440\",\"type\":\"Spacer\"},{\"attributes\":{\"data\":{\"listing_date\":[\"2018-04-16\",\"2020-12-02\",\"2020-12-02\",\"2020-12-02\",\"2020-12-02\",\"2021-01-28\",\"2021-03-07\",\"2021-04-16\",\"2021-04-16\",\"2021-05-03\",\"2021-06-14\",\"2021-06-18\",\"2021-06-27\",\"2021-06-27\",\"2021-06-27\",\"2021-06-27\",\"2021-06-28\",\"2021-06-30\",\"2021-07-12\",\"2021-07-12\",\"2021-07-12\",\"2021-07-12\",\"2021-07-12\",\"2021-07-12\",\"2021-07-22\",\"2021-07-26\",\"2021-07-26\",\"2021-07-27\",\"2021-07-28\",\"2021-07-28\",\"2021-08-03\",\"2021-08-03\",\"2021-08-11\",\"2021-08-12\",\"2021-08-13\",\"2021-08-15\",\"2021-08-15\",\"2021-08-15\",\"2021-08-27\",\"2021-08-28\",\"2021-08-28\",\"2021-08-28\",\"2021-08-28\",\"2021-08-28\",\"2021-08-28\",\"2021-08-28\",\"2021-08-31\",\"2021-09-01\",\"2021-09-03\",\"2021-09-03\",\"2021-09-05\",\"2021-09-05\",\"2021-09-05\",\"2021-09-05\",\"2021-09-06\",\"2021-09-06\",\"2021-09-06\",\"2021-09-07\",\"2021-09-08\",\"2021-09-08\",\"2021-09-11\",\"2021-09-11\",\"2021-09-16\",\"2021-09-22\",\"2021-09-23\",\"2021-09-26\",\"2021-09-26\",\"2021-09-27\",\"2021-10-04\",\"2021-10-10\",\"2021-10-10\",\"2021-10-10\",\"2021-10-10\",\"2021-10-12\",\"2021-10-13\",\"2021-10-14\",\"2021-10-14\",\"2021-10-14\",\"2021-10-14\",\"2021-10-14\",\"2021-10-14\",\"2021-10-14\",\"2021-10-14\",\"2021-10-14\",\"2021-10-14\",\"2021-10-14\",\"2021-10-14\",\"2021-10-14\",\"2021-10-16\",\"2021-10-16\",\"2021-10-16\",\"2021-10-17\",\"2021-10-23\",\"2021-10-25\",\"2021-10-25\",\"2021-10-26\",\"2021-10-29\",\"2021-10-31\",\"2021-11-02\",\"2021-11-04\"],\"listing_price\":{\"__ndarray__\":\"AAAAAAAgZUCuR+F6FK41QM3MzMzMzDNAZmZmZmZmX0AAAAAAAAAAADMzMzMzk01AMzMzMzMzJ0DNzMzMzECAQM3MzMzMQIBAAAAAAACIc0ApXI/C9agkQGZmZmZmtmFAAAAAAAAwgUCamZmZmcmBQAAAAAAAMIFAzczMzMyAgUApXI/C9UhPQNejcD0KVylA16NwPQq3aUDhehSuR+FqQLlJDAIrp2lAFK5H4XrkakDhehSuR+FqQHkUrkfh6mpApHA9CtdzWUAAAAAAAEAyQGZmZmZmJjJAAAAAAADAXEAzMzMzMzMmQGdmZmZm5jdACdejcD2KOkCamZmZmRk5QAAAAAAAAAAAw/UoXI9CMkDsUbgehYtBQGZmZmZmZlBAH4XrUbjOUEBxPQrXo7BQQAAAAAAAABhAAAAAAAAAJ0AAAAAAAEBvQAAAAAAAQG9AAAAAAAAAJEAAAAAAAIBdQAAAAAAAMF1AmJmZmZnpb0DD9Shcj0IhQAAAAAAAgD9AZmZmZmamMkDsUbgehWsoQMzMzMzM/GdAZmZmZma2Z0ApXI/C9SgvQNejcD0KlzVATDeJQWDFS0CamZmZmZk0QDVeukkMkktAfBSuR+F6MkCuR+F6FK4tQK5H4XoUri1A7FG4HoVrNUA9CtejcP0zQLgehetRGGBAUrgehetRNkDNzMzMzMwkQM3MzMzMzEpAAAAAAAAAS0Bcj8L1KNwiQEjhehSu50BAAAAAAAAAO0C4HoXrUfg5QAAAAAAAADtAAAAAAAAAO0BH4XoUric0QK5H4XoUDkVAH4XrUbjeWUBxPQrXo3BaQArXo3A96llApHA9CtfjWUAfhetRuN5ZQAAAAAAAsFlA4XoUrkdBWkAAAAAAAMBZQHE9CtejcFpAZmZmZmbGWUBmZmZmZsZZQHE9CtejEFpAAAAAAACwWUA/sB1rCudWQAAAAAAAoFZAAAAAAAAAWUD2KFyPwjUxQK5H4XoULi9AMzMzMzOzR0DXo3A9CndHQNejcD0Kl0ZAmpmZmZkZN0CamZmZmZk3QAAAAAAAACRAAAAAAAAAAAA=\",\"dtype\":\"float64\",\"order\":\"little\",\"shape\":[100]}},\"selected\":{\"id\":\"33404\"},\"selection_policy\":{\"id\":\"33427\"}},\"id\":\"33403\",\"type\":\"ColumnDataSource\"},{\"attributes\":{},\"id\":\"33392\",\"type\":\"WheelZoomTool\"},{\"attributes\":{\"axis_label\":\"Date\",\"formatter\":{\"id\":\"33413\"},\"major_label_orientation\":0.7853981633974483,\"major_label_policy\":{\"id\":\"33414\"},\"ticker\":{\"id\":\"33384\"}},\"id\":\"33383\",\"type\":\"CategoricalAxis\"},{\"attributes\":{},\"id\":\"33384\",\"type\":\"CategoricalTicker\"},{\"attributes\":{\"overlay\":{\"id\":\"33395\"}},\"id\":\"33393\",\"type\":\"BoxZoomTool\"},{\"attributes\":{},\"id\":\"33413\",\"type\":\"CategoricalTickFormatter\"},{\"attributes\":{},\"id\":\"33415\",\"type\":\"BasicTickFormatter\"},{\"attributes\":{},\"id\":\"33391\",\"type\":\"PanTool\"},{\"attributes\":{\"text\":\"NFT Bid Trends\",\"text_color\":\"black\",\"text_font_size\":\"12pt\"},\"id\":\"33375\",\"type\":\"Title\"},{\"attributes\":{\"callback\":null,\"renderers\":[{\"id\":\"33409\"}],\"tags\":[\"hv_created\"],\"tooltips\":[[\"listing_date\",\"@{listing_date}\"],[\"listing_price\",\"@{listing_price}\"]]},\"id\":\"33373\",\"type\":\"HoverTool\"},{\"attributes\":{},\"id\":\"33394\",\"type\":\"ResetTool\"},{\"attributes\":{\"line_alpha\":0.1,\"line_color\":\"#30a2da\",\"line_width\":2,\"x\":{\"field\":\"listing_date\"},\"y\":{\"field\":\"listing_price\"}},\"id\":\"33407\",\"type\":\"Line\"},{\"attributes\":{\"margin\":[5,5,5,5],\"name\":\"HSpacer16805\",\"sizing_mode\":\"stretch_width\"},\"id\":\"33370\",\"type\":\"Spacer\"}],\"root_ids\":[\"33369\"]},\"title\":\"Bokeh Application\",\"version\":\"2.3.2\"}};\n",
       "    var render_items = [{\"docid\":\"911ef392-51aa-4830-b499-9fbefc4e427b\",\"root_ids\":[\"33369\"],\"roots\":{\"33369\":\"e1501e57-338d-4192-b91c-bb3fa4cb4bda\"}}];\n",
       "    root.Bokeh.embed.embed_items_notebook(docs_json, render_items);\n",
       "  }\n",
       "  if (root.Bokeh !== undefined && root.Bokeh.Panel !== undefined) {\n",
       "    embed_document(root);\n",
       "  } else {\n",
       "    var attempts = 0;\n",
       "    var timer = setInterval(function(root) {\n",
       "      if (root.Bokeh !== undefined && root.Bokeh.Panel !== undefined) {\n",
       "        clearInterval(timer);\n",
       "        embed_document(root);\n",
       "      } else if (document.readyState == \"complete\") {\n",
       "        attempts++;\n",
       "        if (attempts > 200) {\n",
       "          clearInterval(timer);\n",
       "          console.log(\"Bokeh: ERROR: Unable to run BokehJS code because BokehJS library is missing\");\n",
       "        }\n",
       "      }\n",
       "    }, 25, root)\n",
       "  }\n",
       "})(window);</script>"
      ],
      "text/plain": [
       ":Curve   [listing_date]   (listing_price)"
      ]
     },
     "execution_count": 326,
     "metadata": {
      "application/vnd.holoviews_exec.v0+json": {
       "id": "33369"
      }
     },
     "output_type": "execute_result"
    }
   ],
   "source": [
    "plot_1"
   ]
  },
  {
   "cell_type": "markdown",
   "id": "2bfa7227-ad54-4d0e-b230-0c8b0410422f",
   "metadata": {},
   "source": [
    "#### Visual 1 Conclusion:  This visual provided our group with the trends in NFT bid prices from 2018-2021.  As you can see by the graph, bids have periodic jumps throughout the year, most notably in November and December 2020, and April, June, August, September, and October.  They are sporadic and there does not appear to be seasonality or obvious trends."
   ]
  },
  {
   "cell_type": "markdown",
   "id": "cbb802f3-d870-43ee-9ce0-d844f971ca73",
   "metadata": {},
   "source": [
    "### Visual #2: Number of NFT Sales per Day"
   ]
  },
  {
   "cell_type": "code",
   "execution_count": 327,
   "id": "77024dca-d663-4d69-8877-6227507c6724",
   "metadata": {},
   "outputs": [],
   "source": [
    "#CREATE VISUAL: Number of NFT Sales per Day\n",
    "data_list = opensea_data_pull[\"asset_events\"]\n",
    "\n",
    "#Create variables\n",
    "listing_date_list = []\n",
    "listing_price_list = []\n",
    "\n",
    "# iterate through each item in list\n",
    "for each in data_list:\n",
    "    \n",
    "    # grab the id\n",
    "    listing_date = each[\"asset\"][\"asset_contract\"][\"created_date\"]\n",
    "    listing_date = listing_date[0:10]  # reformat dates to be cleaner\n",
    "    try:\n",
    "        listing_price = float(each[\"bid_amount\"])\n",
    "        listing_price = listing_price / 10000000000000\n",
    "    except:\n",
    "        listing_price = 0\n",
    "        \n",
    "    # append id to list of ids\n",
    "    listing_date_list.append(listing_date)\n",
    "    listing_price_list.append(listing_price)"
   ]
  },
  {
   "cell_type": "code",
   "execution_count": 328,
   "id": "4c654aa3-f33c-47f9-bc23-28ee5464200f",
   "metadata": {},
   "outputs": [],
   "source": [
    "# cleaner method. give column headers\n",
    "sales_df = pd.DataFrame(\n",
    "    {'listing_date': listing_date_list,\n",
    "     'listing_price': listing_price_list\n",
    "     })\n",
    "sales_df = sales_df.set_index(\"listing_date\")\n",
    "sales_df = sales_df.dropna()"
   ]
  },
  {
   "cell_type": "code",
   "execution_count": 329,
   "id": "3b6008e4-dc88-40d8-a3af-18a09b9e6c84",
   "metadata": {},
   "outputs": [
    {
     "data": {
      "text/html": [
       "<div>\n",
       "<style scoped>\n",
       "    .dataframe tbody tr th:only-of-type {\n",
       "        vertical-align: middle;\n",
       "    }\n",
       "\n",
       "    .dataframe tbody tr th {\n",
       "        vertical-align: top;\n",
       "    }\n",
       "\n",
       "    .dataframe thead th {\n",
       "        text-align: right;\n",
       "    }\n",
       "</style>\n",
       "<table border=\"1\" class=\"dataframe\">\n",
       "  <thead>\n",
       "    <tr style=\"text-align: right;\">\n",
       "      <th></th>\n",
       "      <th>listing_price</th>\n",
       "    </tr>\n",
       "    <tr>\n",
       "      <th>listing_date</th>\n",
       "      <th></th>\n",
       "    </tr>\n",
       "  </thead>\n",
       "  <tbody>\n",
       "    <tr>\n",
       "      <th>2018-04-16</th>\n",
       "      <td>1</td>\n",
       "    </tr>\n",
       "    <tr>\n",
       "      <th>2020-12-02</th>\n",
       "      <td>4</td>\n",
       "    </tr>\n",
       "    <tr>\n",
       "      <th>2021-01-28</th>\n",
       "      <td>1</td>\n",
       "    </tr>\n",
       "    <tr>\n",
       "      <th>2021-03-07</th>\n",
       "      <td>1</td>\n",
       "    </tr>\n",
       "    <tr>\n",
       "      <th>2021-04-16</th>\n",
       "      <td>2</td>\n",
       "    </tr>\n",
       "    <tr>\n",
       "      <th>2021-05-03</th>\n",
       "      <td>1</td>\n",
       "    </tr>\n",
       "    <tr>\n",
       "      <th>2021-06-14</th>\n",
       "      <td>1</td>\n",
       "    </tr>\n",
       "    <tr>\n",
       "      <th>2021-06-18</th>\n",
       "      <td>1</td>\n",
       "    </tr>\n",
       "    <tr>\n",
       "      <th>2021-06-27</th>\n",
       "      <td>4</td>\n",
       "    </tr>\n",
       "    <tr>\n",
       "      <th>2021-06-28</th>\n",
       "      <td>1</td>\n",
       "    </tr>\n",
       "    <tr>\n",
       "      <th>2021-06-30</th>\n",
       "      <td>1</td>\n",
       "    </tr>\n",
       "    <tr>\n",
       "      <th>2021-07-12</th>\n",
       "      <td>6</td>\n",
       "    </tr>\n",
       "    <tr>\n",
       "      <th>2021-07-22</th>\n",
       "      <td>1</td>\n",
       "    </tr>\n",
       "    <tr>\n",
       "      <th>2021-07-26</th>\n",
       "      <td>2</td>\n",
       "    </tr>\n",
       "    <tr>\n",
       "      <th>2021-07-27</th>\n",
       "      <td>1</td>\n",
       "    </tr>\n",
       "    <tr>\n",
       "      <th>2021-07-28</th>\n",
       "      <td>2</td>\n",
       "    </tr>\n",
       "    <tr>\n",
       "      <th>2021-08-03</th>\n",
       "      <td>2</td>\n",
       "    </tr>\n",
       "    <tr>\n",
       "      <th>2021-08-11</th>\n",
       "      <td>1</td>\n",
       "    </tr>\n",
       "    <tr>\n",
       "      <th>2021-08-12</th>\n",
       "      <td>1</td>\n",
       "    </tr>\n",
       "    <tr>\n",
       "      <th>2021-08-13</th>\n",
       "      <td>1</td>\n",
       "    </tr>\n",
       "  </tbody>\n",
       "</table>\n",
       "</div>"
      ],
      "text/plain": [
       "              listing_price\n",
       "listing_date               \n",
       "2018-04-16                1\n",
       "2020-12-02                4\n",
       "2021-01-28                1\n",
       "2021-03-07                1\n",
       "2021-04-16                2\n",
       "2021-05-03                1\n",
       "2021-06-14                1\n",
       "2021-06-18                1\n",
       "2021-06-27                4\n",
       "2021-06-28                1\n",
       "2021-06-30                1\n",
       "2021-07-12                6\n",
       "2021-07-22                1\n",
       "2021-07-26                2\n",
       "2021-07-27                1\n",
       "2021-07-28                2\n",
       "2021-08-03                2\n",
       "2021-08-11                1\n",
       "2021-08-12                1\n",
       "2021-08-13                1"
      ]
     },
     "execution_count": 329,
     "metadata": {},
     "output_type": "execute_result"
    }
   ],
   "source": [
    "#create data frame for number of sales\n",
    "numsales_df = sales_df.groupby([\"listing_date\"]).count()\n",
    "numsales_df = numsales_df.sort_values(\"listing_date\")\n",
    "numsales_df.head(20)"
   ]
  },
  {
   "cell_type": "code",
   "execution_count": 330,
   "id": "18af250e-32d1-4a5d-b9e1-a88ea5c547e9",
   "metadata": {},
   "outputs": [],
   "source": [
    "#Plot the data using a bar chart to show trends in each time period\n",
    "plot_2 = numsales_df.hvplot.bar(\n",
    "    title= \"Number of NFT Sales Per Day\",\n",
    "    xlabel = \"Date\",\n",
    "    ylabel = \"Sales Count\",\n",
    "    rot=45,\n",
    "    width=1200,\n",
    "    #color=\"Sales Count\",\n",
    "    grid=True\n",
    ")"
   ]
  },
  {
   "cell_type": "code",
   "execution_count": 331,
   "id": "17e1ac4c-eb43-4dd3-ab38-f17176728c64",
   "metadata": {},
   "outputs": [
    {
     "data": {},
     "metadata": {},
     "output_type": "display_data"
    },
    {
     "data": {
      "application/vnd.holoviews_exec.v0+json": "",
      "text/html": [
       "<div id='33492'>\n",
       "\n",
       "\n",
       "\n",
       "\n",
       "\n",
       "  <div class=\"bk-root\" id=\"eb4e4c12-0c9e-491b-af0c-3422cb7f6e99\" data-root-id=\"33492\"></div>\n",
       "</div>\n",
       "<script type=\"application/javascript\">(function(root) {\n",
       "  function embed_document(root) {\n",
       "    var docs_json = {\"541b1303-2d8c-4b04-bbe8-0f75671d4ca1\":{\"defs\":[{\"extends\":null,\"module\":null,\"name\":\"ReactiveHTML1\",\"overrides\":[],\"properties\":[]},{\"extends\":null,\"module\":null,\"name\":\"FlexBox1\",\"overrides\":[],\"properties\":[{\"default\":\"flex-start\",\"kind\":null,\"name\":\"align_content\"},{\"default\":\"flex-start\",\"kind\":null,\"name\":\"align_items\"},{\"default\":\"row\",\"kind\":null,\"name\":\"flex_direction\"},{\"default\":\"wrap\",\"kind\":null,\"name\":\"flex_wrap\"},{\"default\":\"flex-start\",\"kind\":null,\"name\":\"justify_content\"}]},{\"extends\":null,\"module\":null,\"name\":\"TemplateActions1\",\"overrides\":[],\"properties\":[{\"default\":0,\"kind\":null,\"name\":\"open_modal\"},{\"default\":0,\"kind\":null,\"name\":\"close_modal\"}]},{\"extends\":null,\"module\":null,\"name\":\"MaterialTemplateActions1\",\"overrides\":[],\"properties\":[{\"default\":0,\"kind\":null,\"name\":\"open_modal\"},{\"default\":0,\"kind\":null,\"name\":\"close_modal\"}]}],\"roots\":{\"references\":[{\"attributes\":{},\"id\":\"33507\",\"type\":\"CategoricalTicker\"},{\"attributes\":{\"margin\":[5,5,5,5],\"name\":\"HSpacer16984\",\"sizing_mode\":\"stretch_width\"},\"id\":\"33493\",\"type\":\"Spacer\"},{\"attributes\":{},\"id\":\"33536\",\"type\":\"CategoricalTickFormatter\"},{\"attributes\":{\"margin\":[5,5,5,5],\"name\":\"HSpacer16985\",\"sizing_mode\":\"stretch_width\"},\"id\":\"33563\",\"type\":\"Spacer\"},{\"attributes\":{},\"id\":\"33538\",\"type\":\"BasicTickFormatter\"},{\"attributes\":{\"axis\":{\"id\":\"33506\"},\"ticker\":{\"id\":\"33507\"}},\"id\":\"33508\",\"type\":\"Grid\"},{\"attributes\":{\"factors\":[\"2018-04-16\",\"2020-12-02\",\"2021-01-28\",\"2021-03-07\",\"2021-04-16\",\"2021-05-03\",\"2021-06-14\",\"2021-06-18\",\"2021-06-27\",\"2021-06-28\",\"2021-06-30\",\"2021-07-12\",\"2021-07-22\",\"2021-07-26\",\"2021-07-27\",\"2021-07-28\",\"2021-08-03\",\"2021-08-11\",\"2021-08-12\",\"2021-08-13\",\"2021-08-15\",\"2021-08-27\",\"2021-08-28\",\"2021-08-31\",\"2021-09-01\",\"2021-09-03\",\"2021-09-05\",\"2021-09-06\",\"2021-09-07\",\"2021-09-08\",\"2021-09-11\",\"2021-09-16\",\"2021-09-22\",\"2021-09-23\",\"2021-09-26\",\"2021-09-27\",\"2021-10-04\",\"2021-10-10\",\"2021-10-12\",\"2021-10-13\",\"2021-10-14\",\"2021-10-16\",\"2021-10-17\",\"2021-10-23\",\"2021-10-25\",\"2021-10-26\",\"2021-10-29\",\"2021-10-31\",\"2021-11-02\",\"2021-11-04\"],\"tags\":[[[\"listing_date\",\"listing_date\",null]]]},\"id\":\"33494\",\"type\":\"FactorRange\"},{\"attributes\":{\"data\":{\"listing_date\":[\"2018-04-16\",\"2020-12-02\",\"2021-01-28\",\"2021-03-07\",\"2021-04-16\",\"2021-05-03\",\"2021-06-14\",\"2021-06-18\",\"2021-06-27\",\"2021-06-28\",\"2021-06-30\",\"2021-07-12\",\"2021-07-22\",\"2021-07-26\",\"2021-07-27\",\"2021-07-28\",\"2021-08-03\",\"2021-08-11\",\"2021-08-12\",\"2021-08-13\",\"2021-08-15\",\"2021-08-27\",\"2021-08-28\",\"2021-08-31\",\"2021-09-01\",\"2021-09-03\",\"2021-09-05\",\"2021-09-06\",\"2021-09-07\",\"2021-09-08\",\"2021-09-11\",\"2021-09-16\",\"2021-09-22\",\"2021-09-23\",\"2021-09-26\",\"2021-09-27\",\"2021-10-04\",\"2021-10-10\",\"2021-10-12\",\"2021-10-13\",\"2021-10-14\",\"2021-10-16\",\"2021-10-17\",\"2021-10-23\",\"2021-10-25\",\"2021-10-26\",\"2021-10-29\",\"2021-10-31\",\"2021-11-02\",\"2021-11-04\"],\"listing_price\":[1,4,1,1,2,1,1,1,4,1,1,6,1,2,1,2,2,1,1,1,3,1,7,1,1,2,4,3,1,2,2,1,1,1,2,1,1,4,1,1,13,3,1,1,2,1,1,1,1,1]},\"selected\":{\"id\":\"33527\"},\"selection_policy\":{\"id\":\"33550\"}},\"id\":\"33526\",\"type\":\"ColumnDataSource\"},{\"attributes\":{},\"id\":\"33550\",\"type\":\"UnionRenderers\"},{\"attributes\":{},\"id\":\"33504\",\"type\":\"LinearScale\"},{\"attributes\":{},\"id\":\"33515\",\"type\":\"WheelZoomTool\"},{\"attributes\":{},\"id\":\"33517\",\"type\":\"ResetTool\"},{\"attributes\":{},\"id\":\"33527\",\"type\":\"Selection\"},{\"attributes\":{\"axis\":{\"id\":\"33509\"},\"dimension\":1,\"ticker\":{\"id\":\"33510\"}},\"id\":\"33512\",\"type\":\"Grid\"},{\"attributes\":{\"overlay\":{\"id\":\"33518\"}},\"id\":\"33516\",\"type\":\"BoxZoomTool\"},{\"attributes\":{},\"id\":\"33514\",\"type\":\"PanTool\"},{\"attributes\":{\"bottom_units\":\"screen\",\"fill_alpha\":0.5,\"fill_color\":\"lightgrey\",\"left_units\":\"screen\",\"level\":\"overlay\",\"line_alpha\":1.0,\"line_color\":\"black\",\"line_dash\":[4,4],\"line_width\":2,\"right_units\":\"screen\",\"syncable\":false,\"top_units\":\"screen\"},\"id\":\"33518\",\"type\":\"BoxAnnotation\"},{\"attributes\":{\"bottom\":{\"value\":0},\"fill_alpha\":{\"value\":1.0},\"fill_color\":{\"value\":\"#30a2da\"},\"hatch_alpha\":{\"value\":1.0},\"hatch_color\":{\"value\":\"black\"},\"hatch_scale\":{\"value\":12.0},\"hatch_weight\":{\"value\":1.0},\"line_alpha\":{\"value\":1.0},\"line_cap\":{\"value\":\"butt\"},\"line_color\":{\"value\":\"black\"},\"line_dash\":{\"value\":[]},\"line_dash_offset\":{\"value\":0},\"line_join\":{\"value\":\"bevel\"},\"line_width\":{\"value\":1},\"top\":{\"field\":\"listing_price\"},\"width\":{\"value\":0.8},\"x\":{\"field\":\"listing_date\"}},\"id\":\"33534\",\"type\":\"VBar\"},{\"attributes\":{\"active_multi\":null,\"tools\":[{\"id\":\"33496\"},{\"id\":\"33513\"},{\"id\":\"33514\"},{\"id\":\"33515\"},{\"id\":\"33516\"},{\"id\":\"33517\"}]},\"id\":\"33519\",\"type\":\"Toolbar\"},{\"attributes\":{\"callback\":null,\"renderers\":[{\"id\":\"33532\"}],\"tags\":[\"hv_created\"],\"tooltips\":[[\"listing_date\",\"@{listing_date}\"],[\"listing_price\",\"@{listing_price}\"]]},\"id\":\"33496\",\"type\":\"HoverTool\"},{\"attributes\":{\"text\":\"Number of NFT Sales Per Day\",\"text_color\":\"black\",\"text_font_size\":\"12pt\"},\"id\":\"33498\",\"type\":\"Title\"},{\"attributes\":{\"fill_alpha\":{\"value\":0.1},\"fill_color\":{\"value\":\"#30a2da\"},\"line_alpha\":{\"value\":0.1},\"top\":{\"field\":\"listing_price\"},\"width\":{\"value\":0.8},\"x\":{\"field\":\"listing_date\"}},\"id\":\"33530\",\"type\":\"VBar\"},{\"attributes\":{\"fill_alpha\":{\"value\":0.2},\"fill_color\":{\"value\":\"#30a2da\"},\"line_alpha\":{\"value\":0.2},\"top\":{\"field\":\"listing_price\"},\"width\":{\"value\":0.8},\"x\":{\"field\":\"listing_date\"}},\"id\":\"33531\",\"type\":\"VBar\"},{\"attributes\":{\"children\":[{\"id\":\"33493\"},{\"id\":\"33497\"},{\"id\":\"33563\"}],\"margin\":[0,0,0,0],\"name\":\"Row16980\",\"tags\":[\"embedded\"]},\"id\":\"33492\",\"type\":\"Row\"},{\"attributes\":{\"below\":[{\"id\":\"33506\"}],\"center\":[{\"id\":\"33508\"},{\"id\":\"33512\"}],\"height\":300,\"left\":[{\"id\":\"33509\"}],\"margin\":[5,5,5,5],\"min_border_bottom\":10,\"min_border_left\":10,\"min_border_right\":10,\"min_border_top\":10,\"renderers\":[{\"id\":\"33532\"}],\"sizing_mode\":\"fixed\",\"title\":{\"id\":\"33498\"},\"toolbar\":{\"id\":\"33519\"},\"width\":1200,\"x_range\":{\"id\":\"33494\"},\"x_scale\":{\"id\":\"33502\"},\"y_range\":{\"id\":\"33495\"},\"y_scale\":{\"id\":\"33504\"}},\"id\":\"33497\",\"subtype\":\"Figure\",\"type\":\"Plot\"},{\"attributes\":{\"data_source\":{\"id\":\"33526\"},\"glyph\":{\"id\":\"33529\"},\"hover_glyph\":null,\"muted_glyph\":{\"id\":\"33531\"},\"nonselection_glyph\":{\"id\":\"33530\"},\"selection_glyph\":{\"id\":\"33534\"},\"view\":{\"id\":\"33533\"}},\"id\":\"33532\",\"type\":\"GlyphRenderer\"},{\"attributes\":{\"axis_label\":\"Date\",\"formatter\":{\"id\":\"33536\"},\"major_label_orientation\":0.7853981633974483,\"major_label_policy\":{\"id\":\"33537\"},\"ticker\":{\"id\":\"33507\"}},\"id\":\"33506\",\"type\":\"CategoricalAxis\"},{\"attributes\":{},\"id\":\"33510\",\"type\":\"BasicTicker\"},{\"attributes\":{},\"id\":\"33502\",\"type\":\"CategoricalScale\"},{\"attributes\":{\"end\":14.2,\"reset_end\":14.2,\"reset_start\":0.0,\"tags\":[[[\"listing_price\",\"listing_price\",null]]]},\"id\":\"33495\",\"type\":\"Range1d\"},{\"attributes\":{},\"id\":\"33539\",\"type\":\"AllLabels\"},{\"attributes\":{},\"id\":\"33513\",\"type\":\"SaveTool\"},{\"attributes\":{\"source\":{\"id\":\"33526\"}},\"id\":\"33533\",\"type\":\"CDSView\"},{\"attributes\":{},\"id\":\"33537\",\"type\":\"AllLabels\"},{\"attributes\":{\"axis_label\":\"Sales Count\",\"formatter\":{\"id\":\"33538\"},\"major_label_policy\":{\"id\":\"33539\"},\"ticker\":{\"id\":\"33510\"}},\"id\":\"33509\",\"type\":\"LinearAxis\"},{\"attributes\":{\"fill_color\":{\"value\":\"#30a2da\"},\"top\":{\"field\":\"listing_price\"},\"width\":{\"value\":0.8},\"x\":{\"field\":\"listing_date\"}},\"id\":\"33529\",\"type\":\"VBar\"}],\"root_ids\":[\"33492\"]},\"title\":\"Bokeh Application\",\"version\":\"2.3.2\"}};\n",
       "    var render_items = [{\"docid\":\"541b1303-2d8c-4b04-bbe8-0f75671d4ca1\",\"root_ids\":[\"33492\"],\"roots\":{\"33492\":\"eb4e4c12-0c9e-491b-af0c-3422cb7f6e99\"}}];\n",
       "    root.Bokeh.embed.embed_items_notebook(docs_json, render_items);\n",
       "  }\n",
       "  if (root.Bokeh !== undefined && root.Bokeh.Panel !== undefined) {\n",
       "    embed_document(root);\n",
       "  } else {\n",
       "    var attempts = 0;\n",
       "    var timer = setInterval(function(root) {\n",
       "      if (root.Bokeh !== undefined && root.Bokeh.Panel !== undefined) {\n",
       "        clearInterval(timer);\n",
       "        embed_document(root);\n",
       "      } else if (document.readyState == \"complete\") {\n",
       "        attempts++;\n",
       "        if (attempts > 200) {\n",
       "          clearInterval(timer);\n",
       "          console.log(\"Bokeh: ERROR: Unable to run BokehJS code because BokehJS library is missing\");\n",
       "        }\n",
       "      }\n",
       "    }, 25, root)\n",
       "  }\n",
       "})(window);</script>"
      ],
      "text/plain": [
       ":Bars   [listing_date]   (listing_price)"
      ]
     },
     "execution_count": 331,
     "metadata": {
      "application/vnd.holoviews_exec.v0+json": {
       "id": "33492"
      }
     },
     "output_type": "execute_result"
    }
   ],
   "source": [
    "plot_2"
   ]
  },
  {
   "cell_type": "markdown",
   "id": "579706ae-c671-4244-b6ba-a2743bdaef09",
   "metadata": {},
   "source": [
    "#### Visual 2 Conclusion:  This visual provided our group with the number of NFT sales per day.  You can see jumps in sales periodically throughout the year, with the most significant jump in June of 2021.  Again, these seem sporadic with no obvious trends."
   ]
  },
  {
   "cell_type": "markdown",
   "id": "ca283fd6-e0a2-489b-9045-7c6c7d02df99",
   "metadata": {},
   "source": [
    "### Visual #3: Dollar Volume of Sales per Day"
   ]
  },
  {
   "cell_type": "code",
   "execution_count": 332,
   "id": "756d5933-4f13-4f81-8af8-cbfba2847d19",
   "metadata": {},
   "outputs": [
    {
     "data": {
      "text/html": [
       "<div>\n",
       "<style scoped>\n",
       "    .dataframe tbody tr th:only-of-type {\n",
       "        vertical-align: middle;\n",
       "    }\n",
       "\n",
       "    .dataframe tbody tr th {\n",
       "        vertical-align: top;\n",
       "    }\n",
       "\n",
       "    .dataframe thead th {\n",
       "        text-align: right;\n",
       "    }\n",
       "</style>\n",
       "<table border=\"1\" class=\"dataframe\">\n",
       "  <thead>\n",
       "    <tr style=\"text-align: right;\">\n",
       "      <th></th>\n",
       "      <th>listing_price</th>\n",
       "    </tr>\n",
       "    <tr>\n",
       "      <th>listing_date</th>\n",
       "      <th></th>\n",
       "    </tr>\n",
       "  </thead>\n",
       "  <tbody>\n",
       "    <tr>\n",
       "      <th>2018-04-16</th>\n",
       "      <td>169000.0</td>\n",
       "    </tr>\n",
       "    <tr>\n",
       "      <th>2020-12-02</th>\n",
       "      <td>21680.0</td>\n",
       "    </tr>\n",
       "    <tr>\n",
       "      <th>2020-12-02</th>\n",
       "      <td>19800.0</td>\n",
       "    </tr>\n",
       "    <tr>\n",
       "      <th>2020-12-02</th>\n",
       "      <td>125600.0</td>\n",
       "    </tr>\n",
       "    <tr>\n",
       "      <th>2020-12-02</th>\n",
       "      <td>0.0</td>\n",
       "    </tr>\n",
       "  </tbody>\n",
       "</table>\n",
       "</div>"
      ],
      "text/plain": [
       "              listing_price\n",
       "listing_date               \n",
       "2018-04-16         169000.0\n",
       "2020-12-02          21680.0\n",
       "2020-12-02          19800.0\n",
       "2020-12-02         125600.0\n",
       "2020-12-02              0.0"
      ]
     },
     "execution_count": 332,
     "metadata": {},
     "output_type": "execute_result"
    }
   ],
   "source": [
    "#CREATE VISUAL: NFT Volume per Day\n",
    "sales_df = sales_df.sort_index(ascending=True)\n",
    "sales_df.head()"
   ]
  },
  {
   "cell_type": "code",
   "execution_count": 333,
   "id": "1679e69f-5dff-4cd4-a5b1-5752ddf0528f",
   "metadata": {},
   "outputs": [
    {
     "data": {
      "text/html": [
       "<div>\n",
       "<style scoped>\n",
       "    .dataframe tbody tr th:only-of-type {\n",
       "        vertical-align: middle;\n",
       "    }\n",
       "\n",
       "    .dataframe tbody tr th {\n",
       "        vertical-align: top;\n",
       "    }\n",
       "\n",
       "    .dataframe thead th {\n",
       "        text-align: right;\n",
       "    }\n",
       "</style>\n",
       "<table border=\"1\" class=\"dataframe\">\n",
       "  <thead>\n",
       "    <tr style=\"text-align: right;\">\n",
       "      <th></th>\n",
       "      <th>listing_price</th>\n",
       "    </tr>\n",
       "    <tr>\n",
       "      <th>listing_date</th>\n",
       "      <th></th>\n",
       "    </tr>\n",
       "  </thead>\n",
       "  <tbody>\n",
       "    <tr>\n",
       "      <th>2018-04-16</th>\n",
       "      <td>169000.0</td>\n",
       "    </tr>\n",
       "    <tr>\n",
       "      <th>2020-12-02</th>\n",
       "      <td>167080.0</td>\n",
       "    </tr>\n",
       "    <tr>\n",
       "      <th>2021-01-28</th>\n",
       "      <td>59150.0</td>\n",
       "    </tr>\n",
       "    <tr>\n",
       "      <th>2021-03-07</th>\n",
       "      <td>11600.0</td>\n",
       "    </tr>\n",
       "    <tr>\n",
       "      <th>2021-04-16</th>\n",
       "      <td>1040200.0</td>\n",
       "    </tr>\n",
       "  </tbody>\n",
       "</table>\n",
       "</div>"
      ],
      "text/plain": [
       "              listing_price\n",
       "listing_date               \n",
       "2018-04-16         169000.0\n",
       "2020-12-02         167080.0\n",
       "2021-01-28          59150.0\n",
       "2021-03-07          11600.0\n",
       "2021-04-16        1040200.0"
      ]
     },
     "execution_count": 333,
     "metadata": {},
     "output_type": "execute_result"
    }
   ],
   "source": [
    "#create new df\n",
    "volsales_df = sales_df.groupby([\"listing_date\"]).sum()\n",
    "volsales_df = volsales_df.sort_values(\"listing_date\")\n",
    "\n",
    "volsales_df.head(5)"
   ]
  },
  {
   "cell_type": "code",
   "execution_count": 334,
   "id": "1dc68f6a-c40a-492b-bf38-3ed8d43d48fe",
   "metadata": {},
   "outputs": [],
   "source": [
    "#Plot the data using a bar chart to show trends in each time period\n",
    "plot_3 = volsales_df.hvplot.bar(\n",
    "    title= \"Volume of Sales Per Day (USD$)\",\n",
    "    xlabel = \"Date\",\n",
    "    ylabel = \"Volume of Sales\",\n",
    "    rot=45,\n",
    "    yformatter=\"%.0f\",\n",
    "    width=1200,\n",
    "#     color=\"listing_price\",\n",
    "    grid=True,\n",
    "#    colorbar=True\n",
    "\n",
    ")"
   ]
  },
  {
   "cell_type": "code",
   "execution_count": 335,
   "id": "aa52d383-c91c-49af-b471-5c39f4714e36",
   "metadata": {},
   "outputs": [
    {
     "data": {},
     "metadata": {},
     "output_type": "display_data"
    },
    {
     "data": {
      "application/vnd.holoviews_exec.v0+json": "",
      "text/html": [
       "<div id='33615'>\n",
       "\n",
       "\n",
       "\n",
       "\n",
       "\n",
       "  <div class=\"bk-root\" id=\"e852c3e9-e30b-4048-aae1-a5cc8d5bc56d\" data-root-id=\"33615\"></div>\n",
       "</div>\n",
       "<script type=\"application/javascript\">(function(root) {\n",
       "  function embed_document(root) {\n",
       "    var docs_json = {\"a2a7642e-26ed-4f10-8c85-b3e840fdb5cb\":{\"defs\":[{\"extends\":null,\"module\":null,\"name\":\"ReactiveHTML1\",\"overrides\":[],\"properties\":[]},{\"extends\":null,\"module\":null,\"name\":\"FlexBox1\",\"overrides\":[],\"properties\":[{\"default\":\"flex-start\",\"kind\":null,\"name\":\"align_content\"},{\"default\":\"flex-start\",\"kind\":null,\"name\":\"align_items\"},{\"default\":\"row\",\"kind\":null,\"name\":\"flex_direction\"},{\"default\":\"wrap\",\"kind\":null,\"name\":\"flex_wrap\"},{\"default\":\"flex-start\",\"kind\":null,\"name\":\"justify_content\"}]},{\"extends\":null,\"module\":null,\"name\":\"TemplateActions1\",\"overrides\":[],\"properties\":[{\"default\":0,\"kind\":null,\"name\":\"open_modal\"},{\"default\":0,\"kind\":null,\"name\":\"close_modal\"}]},{\"extends\":null,\"module\":null,\"name\":\"MaterialTemplateActions1\",\"overrides\":[],\"properties\":[{\"default\":0,\"kind\":null,\"name\":\"open_modal\"},{\"default\":0,\"kind\":null,\"name\":\"close_modal\"}]}],\"roots\":{\"references\":[{\"attributes\":{\"bottom\":{\"value\":0},\"fill_alpha\":{\"value\":1.0},\"fill_color\":{\"value\":\"#30a2da\"},\"hatch_alpha\":{\"value\":1.0},\"hatch_color\":{\"value\":\"black\"},\"hatch_scale\":{\"value\":12.0},\"hatch_weight\":{\"value\":1.0},\"line_alpha\":{\"value\":1.0},\"line_cap\":{\"value\":\"butt\"},\"line_color\":{\"value\":\"black\"},\"line_dash\":{\"value\":[]},\"line_dash_offset\":{\"value\":0},\"line_join\":{\"value\":\"bevel\"},\"line_width\":{\"value\":1},\"top\":{\"field\":\"listing_price\"},\"width\":{\"value\":0.8},\"x\":{\"field\":\"listing_date\"}},\"id\":\"33657\",\"type\":\"VBar\"},{\"attributes\":{\"margin\":[5,5,5,5],\"name\":\"HSpacer17134\",\"sizing_mode\":\"stretch_width\"},\"id\":\"33687\",\"type\":\"Spacer\"},{\"attributes\":{\"axis\":{\"id\":\"33629\"},\"ticker\":{\"id\":\"33630\"}},\"id\":\"33631\",\"type\":\"Grid\"},{\"attributes\":{\"fill_color\":{\"value\":\"#30a2da\"},\"top\":{\"field\":\"listing_price\"},\"width\":{\"value\":0.8},\"x\":{\"field\":\"listing_date\"}},\"id\":\"33652\",\"type\":\"VBar\"},{\"attributes\":{\"fill_alpha\":{\"value\":0.1},\"fill_color\":{\"value\":\"#30a2da\"},\"line_alpha\":{\"value\":0.1},\"top\":{\"field\":\"listing_price\"},\"width\":{\"value\":0.8},\"x\":{\"field\":\"listing_date\"}},\"id\":\"33653\",\"type\":\"VBar\"},{\"attributes\":{\"fill_alpha\":{\"value\":0.2},\"fill_color\":{\"value\":\"#30a2da\"},\"line_alpha\":{\"value\":0.2},\"top\":{\"field\":\"listing_price\"},\"width\":{\"value\":0.8},\"x\":{\"field\":\"listing_date\"}},\"id\":\"33654\",\"type\":\"VBar\"},{\"attributes\":{},\"id\":\"33663\",\"type\":\"AllLabels\"},{\"attributes\":{},\"id\":\"33630\",\"type\":\"CategoricalTicker\"},{\"attributes\":{},\"id\":\"33625\",\"type\":\"CategoricalScale\"},{\"attributes\":{\"format\":\"%.0f\"},\"id\":\"33658\",\"type\":\"PrintfTickFormatter\"},{\"attributes\":{\"callback\":null,\"renderers\":[{\"id\":\"33655\"}],\"tags\":[\"hv_created\"],\"tooltips\":[[\"listing_date\",\"@{listing_date}\"],[\"listing_price\",\"@{listing_price}\"]]},\"id\":\"33619\",\"type\":\"HoverTool\"},{\"attributes\":{},\"id\":\"33638\",\"type\":\"WheelZoomTool\"},{\"attributes\":{},\"id\":\"33636\",\"type\":\"SaveTool\"},{\"attributes\":{},\"id\":\"33660\",\"type\":\"CategoricalTickFormatter\"},{\"attributes\":{\"margin\":[5,5,5,5],\"name\":\"HSpacer17133\",\"sizing_mode\":\"stretch_width\"},\"id\":\"33616\",\"type\":\"Spacer\"},{\"attributes\":{},\"id\":\"33633\",\"type\":\"BasicTicker\"},{\"attributes\":{\"data\":{\"listing_date\":[\"2018-04-16\",\"2020-12-02\",\"2021-01-28\",\"2021-03-07\",\"2021-04-16\",\"2021-05-03\",\"2021-06-14\",\"2021-06-18\",\"2021-06-27\",\"2021-06-28\",\"2021-06-30\",\"2021-07-12\",\"2021-07-22\",\"2021-07-26\",\"2021-07-27\",\"2021-07-28\",\"2021-08-03\",\"2021-08-11\",\"2021-08-12\",\"2021-08-13\",\"2021-08-15\",\"2021-08-27\",\"2021-08-28\",\"2021-08-31\",\"2021-09-01\",\"2021-09-03\",\"2021-09-05\",\"2021-09-06\",\"2021-09-07\",\"2021-09-08\",\"2021-09-11\",\"2021-09-16\",\"2021-09-22\",\"2021-09-23\",\"2021-09-26\",\"2021-09-27\",\"2021-10-04\",\"2021-10-10\",\"2021-10-12\",\"2021-10-13\",\"2021-10-14\",\"2021-10-16\",\"2021-10-17\",\"2021-10-23\",\"2021-10-25\",\"2021-10-26\",\"2021-10-29\",\"2021-10-31\",\"2021-11-02\",\"2021-11-04\"],\"listing_price\":{\"__ndarray__\":\"AAAAAEChBEEAAAAAQGUEQQAAAADA4exAAAAAAACoxkAAAAAAkL4vQQAAAADQEhNBAAAAAAAtxEAAAAAAIEwBQQAAAAAaAkFBAAAAAECN7kAAAAAAAL/IQAAAAADQZjNBAAAAACDb+EAAAAAAAMbhQAAAAACAE/xAAAAAAAAX4UAAAAAAADfpQAAAAAAAAAAAAAAAAADV0UAAAAAAQCLhQAAAAAAwXQhBAAAAAABwt0AAAAAAvN4uQQAAAAAA28BAAAAAAADD3kAAAAAAACPeQAAAAABIjxlBAAAAAJgGAEEBAAAAAAzSQAAAAAAA/NxAAAAAAEA45EAAAAAAgG//QAAAAAAAzNVAAAAAAABQxEAAAAAAAEX6QAAAAAAAa8JAAAAAAECC4EAAAAAAoB36QP////+/rtNAAAAAAMCP5EAAAAAAMJg0QYi/Jgv4NxFBAAAAAIDO0EAAAAAAAHPOQAAAAACgB/dAAAAAAIAP5kAAAAAAAI/WQAAAAAAADNdAAAAAAACIw0AAAAAAAAAAAA==\",\"dtype\":\"float64\",\"order\":\"little\",\"shape\":[50]}},\"selected\":{\"id\":\"33650\"},\"selection_policy\":{\"id\":\"33675\"}},\"id\":\"33649\",\"type\":\"ColumnDataSource\"},{\"attributes\":{\"active_multi\":null,\"tools\":[{\"id\":\"33619\"},{\"id\":\"33636\"},{\"id\":\"33637\"},{\"id\":\"33638\"},{\"id\":\"33639\"},{\"id\":\"33640\"}]},\"id\":\"33642\",\"type\":\"Toolbar\"},{\"attributes\":{},\"id\":\"33640\",\"type\":\"ResetTool\"},{\"attributes\":{\"data_source\":{\"id\":\"33649\"},\"glyph\":{\"id\":\"33652\"},\"hover_glyph\":null,\"muted_glyph\":{\"id\":\"33654\"},\"nonselection_glyph\":{\"id\":\"33653\"},\"selection_glyph\":{\"id\":\"33657\"},\"view\":{\"id\":\"33656\"}},\"id\":\"33655\",\"type\":\"GlyphRenderer\"},{\"attributes\":{\"source\":{\"id\":\"33649\"}},\"id\":\"33656\",\"type\":\"CDSView\"},{\"attributes\":{},\"id\":\"33650\",\"type\":\"Selection\"},{\"attributes\":{\"text\":\"Volume of Sales Per Day (USD$)\",\"text_color\":\"black\",\"text_font_size\":\"12pt\"},\"id\":\"33621\",\"type\":\"Title\"},{\"attributes\":{},\"id\":\"33637\",\"type\":\"PanTool\"},{\"attributes\":{},\"id\":\"33661\",\"type\":\"AllLabels\"},{\"attributes\":{\"children\":[{\"id\":\"33616\"},{\"id\":\"33620\"},{\"id\":\"33687\"}],\"margin\":[0,0,0,0],\"name\":\"Row17129\",\"tags\":[\"embedded\"]},\"id\":\"33615\",\"type\":\"Row\"},{\"attributes\":{\"axis_label\":\"Volume of Sales\",\"formatter\":{\"id\":\"33658\"},\"major_label_policy\":{\"id\":\"33663\"},\"ticker\":{\"id\":\"33633\"}},\"id\":\"33632\",\"type\":\"LinearAxis\"},{\"attributes\":{\"axis_label\":\"Date\",\"formatter\":{\"id\":\"33660\"},\"major_label_orientation\":0.7853981633974483,\"major_label_policy\":{\"id\":\"33661\"},\"ticker\":{\"id\":\"33630\"}},\"id\":\"33629\",\"type\":\"CategoricalAxis\"},{\"attributes\":{},\"id\":\"33627\",\"type\":\"LinearScale\"},{\"attributes\":{\"below\":[{\"id\":\"33629\"}],\"center\":[{\"id\":\"33631\"},{\"id\":\"33635\"}],\"height\":300,\"left\":[{\"id\":\"33632\"}],\"margin\":[5,5,5,5],\"min_border_bottom\":10,\"min_border_left\":10,\"min_border_right\":10,\"min_border_top\":10,\"renderers\":[{\"id\":\"33655\"}],\"sizing_mode\":\"fixed\",\"title\":{\"id\":\"33621\"},\"toolbar\":{\"id\":\"33642\"},\"width\":1200,\"x_range\":{\"id\":\"33617\"},\"x_scale\":{\"id\":\"33625\"},\"y_range\":{\"id\":\"33618\"},\"y_scale\":{\"id\":\"33627\"}},\"id\":\"33620\",\"subtype\":\"Figure\",\"type\":\"Plot\"},{\"attributes\":{\"axis\":{\"id\":\"33632\"},\"dimension\":1,\"ticker\":{\"id\":\"33633\"}},\"id\":\"33635\",\"type\":\"Grid\"},{\"attributes\":{\"overlay\":{\"id\":\"33641\"}},\"id\":\"33639\",\"type\":\"BoxZoomTool\"},{\"attributes\":{},\"id\":\"33675\",\"type\":\"UnionRenderers\"},{\"attributes\":{\"bottom_units\":\"screen\",\"fill_alpha\":0.5,\"fill_color\":\"lightgrey\",\"left_units\":\"screen\",\"level\":\"overlay\",\"line_alpha\":1.0,\"line_color\":\"black\",\"line_dash\":[4,4],\"line_width\":2,\"right_units\":\"screen\",\"syncable\":false,\"top_units\":\"screen\"},\"id\":\"33641\",\"type\":\"BoxAnnotation\"},{\"attributes\":{\"end\":2452230.0,\"reset_end\":2452230.0,\"reset_start\":0.0,\"tags\":[[[\"listing_price\",\"listing_price\",null]]]},\"id\":\"33618\",\"type\":\"Range1d\"},{\"attributes\":{\"factors\":[\"2018-04-16\",\"2020-12-02\",\"2021-01-28\",\"2021-03-07\",\"2021-04-16\",\"2021-05-03\",\"2021-06-14\",\"2021-06-18\",\"2021-06-27\",\"2021-06-28\",\"2021-06-30\",\"2021-07-12\",\"2021-07-22\",\"2021-07-26\",\"2021-07-27\",\"2021-07-28\",\"2021-08-03\",\"2021-08-11\",\"2021-08-12\",\"2021-08-13\",\"2021-08-15\",\"2021-08-27\",\"2021-08-28\",\"2021-08-31\",\"2021-09-01\",\"2021-09-03\",\"2021-09-05\",\"2021-09-06\",\"2021-09-07\",\"2021-09-08\",\"2021-09-11\",\"2021-09-16\",\"2021-09-22\",\"2021-09-23\",\"2021-09-26\",\"2021-09-27\",\"2021-10-04\",\"2021-10-10\",\"2021-10-12\",\"2021-10-13\",\"2021-10-14\",\"2021-10-16\",\"2021-10-17\",\"2021-10-23\",\"2021-10-25\",\"2021-10-26\",\"2021-10-29\",\"2021-10-31\",\"2021-11-02\",\"2021-11-04\"],\"tags\":[[[\"listing_date\",\"listing_date\",null]]]},\"id\":\"33617\",\"type\":\"FactorRange\"}],\"root_ids\":[\"33615\"]},\"title\":\"Bokeh Application\",\"version\":\"2.3.2\"}};\n",
       "    var render_items = [{\"docid\":\"a2a7642e-26ed-4f10-8c85-b3e840fdb5cb\",\"root_ids\":[\"33615\"],\"roots\":{\"33615\":\"e852c3e9-e30b-4048-aae1-a5cc8d5bc56d\"}}];\n",
       "    root.Bokeh.embed.embed_items_notebook(docs_json, render_items);\n",
       "  }\n",
       "  if (root.Bokeh !== undefined && root.Bokeh.Panel !== undefined) {\n",
       "    embed_document(root);\n",
       "  } else {\n",
       "    var attempts = 0;\n",
       "    var timer = setInterval(function(root) {\n",
       "      if (root.Bokeh !== undefined && root.Bokeh.Panel !== undefined) {\n",
       "        clearInterval(timer);\n",
       "        embed_document(root);\n",
       "      } else if (document.readyState == \"complete\") {\n",
       "        attempts++;\n",
       "        if (attempts > 200) {\n",
       "          clearInterval(timer);\n",
       "          console.log(\"Bokeh: ERROR: Unable to run BokehJS code because BokehJS library is missing\");\n",
       "        }\n",
       "      }\n",
       "    }, 25, root)\n",
       "  }\n",
       "})(window);</script>"
      ],
      "text/plain": [
       ":Bars   [listing_date]   (listing_price)"
      ]
     },
     "execution_count": 335,
     "metadata": {
      "application/vnd.holoviews_exec.v0+json": {
       "id": "33615"
      }
     },
     "output_type": "execute_result"
    }
   ],
   "source": [
    "plot_3"
   ]
  },
  {
   "cell_type": "markdown",
   "id": "a390fc9d-546d-45da-bb8a-8f36ddba4b06",
   "metadata": {},
   "source": [
    "#### Visual 3 Conclusion:  This visual provided our group with volume of sales per day, rather than count of sales per day as shown in the prior visual.  As seen in the graph, there are several timeframes with higher than normal sales volume, including November 2020, June 2021, August 2021, and September 2021."
   ]
  },
  {
   "cell_type": "markdown",
   "id": "8c74bc16-40bc-4320-93df-c2163f5322f0",
   "metadata": {},
   "source": [
    "### Visual #4: Top 10 NFT Bids on OpenSea"
   ]
  },
  {
   "cell_type": "code",
   "execution_count": 336,
   "id": "f69eeaa4-ca68-4c59-a53e-6e101bce0009",
   "metadata": {},
   "outputs": [],
   "source": [
    "#CREATE VISUAL: Top 10 Bids\n",
    "\n",
    "data_list = opensea_data_pull[\"asset_events\"]\n",
    "\n",
    "listing_date_list = []\n",
    "listing_price_list = []\n",
    "\n",
    "# iterate through each item in list\n",
    "for each in data_list:\n",
    "    \n",
    "    # grab the id\n",
    "    listing_date = each[\"asset\"][\"asset_contract\"][\"created_date\"]\n",
    "    listing_date = listing_date[0:10]  # reformat dates to be cleaner\n",
    "\n",
    "    listing_price = (each[\"bid_amount\"])\n",
    "    try:\n",
    "        listing_price = float(listing_price)\n",
    "        listing_price = listing_price/ 10000000000000000\n",
    "    except:\n",
    "        listing_price=0\n",
    "\n",
    "    # append id to list of ids\n",
    "    listing_date_list.append(listing_date)\n",
    "    listing_price_list.append(listing_price)"
   ]
  },
  {
   "cell_type": "code",
   "execution_count": 337,
   "id": "fb6496f8-6426-4f34-a4d8-3f4d59821529",
   "metadata": {},
   "outputs": [],
   "source": [
    "# cleaner method. give column headers\n",
    "df = pd.DataFrame(\n",
    "    {'listing_date': listing_date_list,\n",
    "     'listing_price': listing_price_list\n",
    "     })"
   ]
  },
  {
   "cell_type": "code",
   "execution_count": 338,
   "id": "9e722844-a67c-4d97-a7da-bbb1c9e3b5ae",
   "metadata": {},
   "outputs": [
    {
     "data": {
      "text/html": [
       "<div>\n",
       "<style scoped>\n",
       "    .dataframe tbody tr th:only-of-type {\n",
       "        vertical-align: middle;\n",
       "    }\n",
       "\n",
       "    .dataframe tbody tr th {\n",
       "        vertical-align: top;\n",
       "    }\n",
       "\n",
       "    .dataframe thead th {\n",
       "        text-align: right;\n",
       "    }\n",
       "</style>\n",
       "<table border=\"1\" class=\"dataframe\">\n",
       "  <thead>\n",
       "    <tr style=\"text-align: right;\">\n",
       "      <th></th>\n",
       "      <th>0</th>\n",
       "    </tr>\n",
       "  </thead>\n",
       "  <tbody>\n",
       "    <tr>\n",
       "      <th>47</th>\n",
       "      <td>569.2</td>\n",
       "    </tr>\n",
       "    <tr>\n",
       "      <th>99</th>\n",
       "      <td>560.1</td>\n",
       "    </tr>\n",
       "    <tr>\n",
       "      <th>30</th>\n",
       "      <td>550.0</td>\n",
       "    </tr>\n",
       "    <tr>\n",
       "      <th>5</th>\n",
       "      <td>550.0</td>\n",
       "    </tr>\n",
       "    <tr>\n",
       "      <th>59</th>\n",
       "      <td>520.1</td>\n",
       "    </tr>\n",
       "    <tr>\n",
       "      <th>24</th>\n",
       "      <td>520.1</td>\n",
       "    </tr>\n",
       "    <tr>\n",
       "      <th>23</th>\n",
       "      <td>312.5</td>\n",
       "    </tr>\n",
       "    <tr>\n",
       "      <th>91</th>\n",
       "      <td>255.3</td>\n",
       "    </tr>\n",
       "    <tr>\n",
       "      <th>75</th>\n",
       "      <td>250.0</td>\n",
       "    </tr>\n",
       "    <tr>\n",
       "      <th>79</th>\n",
       "      <td>250.0</td>\n",
       "    </tr>\n",
       "  </tbody>\n",
       "</table>\n",
       "</div>"
      ],
      "text/plain": [
       "        0\n",
       "47  569.2\n",
       "99  560.1\n",
       "30  550.0\n",
       "5   550.0\n",
       "59  520.1\n",
       "24  520.1\n",
       "23  312.5\n",
       "91  255.3\n",
       "75  250.0\n",
       "79  250.0"
      ]
     },
     "execution_count": 338,
     "metadata": {},
     "output_type": "execute_result"
    }
   ],
   "source": [
    "# Prepare data of Top 10 NFT Bids on OpenSea in barchart\n",
    "bid_price_df = pd.DataFrame(listing_price_list)\n",
    "top_bids = bid_price_df.sort_values(0, ascending=False)\n",
    "bid_price= top_bids.head(10)\n",
    "bid_price"
   ]
  },
  {
   "cell_type": "code",
   "execution_count": 339,
   "id": "7e470d89-8bb8-4899-afc0-476aca620bce",
   "metadata": {},
   "outputs": [],
   "source": [
    "#Plot the data using a bar chart to show trend in top 10\n",
    "plot_4  = bid_price.hvplot.bar(title=\"Top 10 NFT Bids on OpenSea\", xlabel=\"NFT Project Index Number\", ylabel=\"Bid Price ($USD)\", grid=True)"
   ]
  },
  {
   "cell_type": "code",
   "execution_count": 340,
   "id": "14f5dfbf-950b-4e0f-8b35-fcf4db72ac1b",
   "metadata": {},
   "outputs": [
    {
     "data": {},
     "metadata": {},
     "output_type": "display_data"
    },
    {
     "data": {
      "application/vnd.holoviews_exec.v0+json": "",
      "text/html": [
       "<div id='33734'>\n",
       "\n",
       "\n",
       "\n",
       "\n",
       "\n",
       "  <div class=\"bk-root\" id=\"5c506c8c-f65a-45c2-92d9-2baf351029a7\" data-root-id=\"33734\"></div>\n",
       "</div>\n",
       "<script type=\"application/javascript\">(function(root) {\n",
       "  function embed_document(root) {\n",
       "    var docs_json = {\"25524d73-deff-4596-9fac-0168f709b3f9\":{\"defs\":[{\"extends\":null,\"module\":null,\"name\":\"ReactiveHTML1\",\"overrides\":[],\"properties\":[]},{\"extends\":null,\"module\":null,\"name\":\"FlexBox1\",\"overrides\":[],\"properties\":[{\"default\":\"flex-start\",\"kind\":null,\"name\":\"align_content\"},{\"default\":\"flex-start\",\"kind\":null,\"name\":\"align_items\"},{\"default\":\"row\",\"kind\":null,\"name\":\"flex_direction\"},{\"default\":\"wrap\",\"kind\":null,\"name\":\"flex_wrap\"},{\"default\":\"flex-start\",\"kind\":null,\"name\":\"justify_content\"}]},{\"extends\":null,\"module\":null,\"name\":\"TemplateActions1\",\"overrides\":[],\"properties\":[{\"default\":0,\"kind\":null,\"name\":\"open_modal\"},{\"default\":0,\"kind\":null,\"name\":\"close_modal\"}]},{\"extends\":null,\"module\":null,\"name\":\"MaterialTemplateActions1\",\"overrides\":[],\"properties\":[{\"default\":0,\"kind\":null,\"name\":\"open_modal\"},{\"default\":0,\"kind\":null,\"name\":\"close_modal\"}]}],\"roots\":{\"references\":[{\"attributes\":{\"source\":{\"id\":\"33768\"}},\"id\":\"33775\",\"type\":\"CDSView\"},{\"attributes\":{\"fill_alpha\":{\"value\":0.1},\"fill_color\":{\"value\":\"#30a2da\"},\"line_alpha\":{\"value\":0.1},\"top\":{\"field\":\"A_0\"},\"width\":{\"value\":0.8},\"x\":{\"field\":\"index\"}},\"id\":\"33772\",\"type\":\"VBar\"},{\"attributes\":{\"callback\":null,\"renderers\":[{\"id\":\"33774\"}],\"tags\":[\"hv_created\"],\"tooltips\":[[\"index\",\"@{index}\"],[\"0\",\"@{A_0}\"]]},\"id\":\"33738\",\"type\":\"HoverTool\"},{\"attributes\":{\"active_multi\":null,\"tools\":[{\"id\":\"33738\"},{\"id\":\"33755\"},{\"id\":\"33756\"},{\"id\":\"33757\"},{\"id\":\"33758\"},{\"id\":\"33759\"}]},\"id\":\"33761\",\"type\":\"Toolbar\"},{\"attributes\":{\"overlay\":{\"id\":\"33760\"}},\"id\":\"33758\",\"type\":\"BoxZoomTool\"},{\"attributes\":{\"axis_label\":\"Bid Price ($USD)\",\"formatter\":{\"id\":\"33780\"},\"major_label_policy\":{\"id\":\"33781\"},\"ticker\":{\"id\":\"33752\"}},\"id\":\"33751\",\"type\":\"LinearAxis\"},{\"attributes\":{},\"id\":\"33744\",\"type\":\"CategoricalScale\"},{\"attributes\":{\"bottom\":{\"value\":0},\"fill_alpha\":{\"value\":1.0},\"fill_color\":{\"value\":\"#30a2da\"},\"hatch_alpha\":{\"value\":1.0},\"hatch_color\":{\"value\":\"black\"},\"hatch_scale\":{\"value\":12.0},\"hatch_weight\":{\"value\":1.0},\"line_alpha\":{\"value\":1.0},\"line_cap\":{\"value\":\"butt\"},\"line_color\":{\"value\":\"black\"},\"line_dash\":{\"value\":[]},\"line_dash_offset\":{\"value\":0},\"line_join\":{\"value\":\"bevel\"},\"line_width\":{\"value\":1},\"top\":{\"field\":\"A_0\"},\"width\":{\"value\":0.8},\"x\":{\"field\":\"index\"}},\"id\":\"33776\",\"type\":\"VBar\"},{\"attributes\":{},\"id\":\"33752\",\"type\":\"BasicTicker\"},{\"attributes\":{\"text\":\"Top 10 NFT Bids on OpenSea\",\"text_color\":\"black\",\"text_font_size\":\"12pt\"},\"id\":\"33740\",\"type\":\"Title\"},{\"attributes\":{},\"id\":\"33792\",\"type\":\"UnionRenderers\"},{\"attributes\":{\"fill_color\":{\"value\":\"#30a2da\"},\"top\":{\"field\":\"A_0\"},\"width\":{\"value\":0.8},\"x\":{\"field\":\"index\"}},\"id\":\"33771\",\"type\":\"VBar\"},{\"attributes\":{\"factors\":[\"47\",\"99\",\"30\",\"5\",\"59\",\"24\",\"23\",\"91\",\"75\",\"79\"],\"tags\":[[[\"index\",\"index\",null]]]},\"id\":\"33736\",\"type\":\"FactorRange\"},{\"attributes\":{},\"id\":\"33749\",\"type\":\"CategoricalTicker\"},{\"attributes\":{},\"id\":\"33781\",\"type\":\"AllLabels\"},{\"attributes\":{},\"id\":\"33759\",\"type\":\"ResetTool\"},{\"attributes\":{},\"id\":\"33746\",\"type\":\"LinearScale\"},{\"attributes\":{\"data_source\":{\"id\":\"33768\"},\"glyph\":{\"id\":\"33771\"},\"hover_glyph\":null,\"muted_glyph\":{\"id\":\"33773\"},\"nonselection_glyph\":{\"id\":\"33772\"},\"selection_glyph\":{\"id\":\"33776\"},\"view\":{\"id\":\"33775\"}},\"id\":\"33774\",\"type\":\"GlyphRenderer\"},{\"attributes\":{},\"id\":\"33756\",\"type\":\"PanTool\"},{\"attributes\":{},\"id\":\"33755\",\"type\":\"SaveTool\"},{\"attributes\":{\"end\":601.12,\"reset_end\":601.12,\"reset_start\":0.0,\"tags\":[[[\"0\",\"0\",null]]]},\"id\":\"33737\",\"type\":\"Range1d\"},{\"attributes\":{\"margin\":[5,5,5,5],\"name\":\"HSpacer17281\",\"sizing_mode\":\"stretch_width\"},\"id\":\"33735\",\"type\":\"Spacer\"},{\"attributes\":{},\"id\":\"33769\",\"type\":\"Selection\"},{\"attributes\":{\"axis\":{\"id\":\"33751\"},\"dimension\":1,\"ticker\":{\"id\":\"33752\"}},\"id\":\"33754\",\"type\":\"Grid\"},{\"attributes\":{},\"id\":\"33757\",\"type\":\"WheelZoomTool\"},{\"attributes\":{\"axis\":{\"id\":\"33748\"},\"ticker\":{\"id\":\"33749\"}},\"id\":\"33750\",\"type\":\"Grid\"},{\"attributes\":{\"below\":[{\"id\":\"33748\"}],\"center\":[{\"id\":\"33750\"},{\"id\":\"33754\"}],\"height\":300,\"left\":[{\"id\":\"33751\"}],\"margin\":[5,5,5,5],\"min_border_bottom\":10,\"min_border_left\":10,\"min_border_right\":10,\"min_border_top\":10,\"renderers\":[{\"id\":\"33774\"}],\"sizing_mode\":\"fixed\",\"title\":{\"id\":\"33740\"},\"toolbar\":{\"id\":\"33761\"},\"width\":700,\"x_range\":{\"id\":\"33736\"},\"x_scale\":{\"id\":\"33744\"},\"y_range\":{\"id\":\"33737\"},\"y_scale\":{\"id\":\"33746\"}},\"id\":\"33739\",\"subtype\":\"Figure\",\"type\":\"Plot\"},{\"attributes\":{},\"id\":\"33780\",\"type\":\"BasicTickFormatter\"},{\"attributes\":{\"margin\":[5,5,5,5],\"name\":\"HSpacer17282\",\"sizing_mode\":\"stretch_width\"},\"id\":\"33805\",\"type\":\"Spacer\"},{\"attributes\":{},\"id\":\"33779\",\"type\":\"AllLabels\"},{\"attributes\":{\"fill_alpha\":{\"value\":0.2},\"fill_color\":{\"value\":\"#30a2da\"},\"line_alpha\":{\"value\":0.2},\"top\":{\"field\":\"A_0\"},\"width\":{\"value\":0.8},\"x\":{\"field\":\"index\"}},\"id\":\"33773\",\"type\":\"VBar\"},{\"attributes\":{},\"id\":\"33778\",\"type\":\"CategoricalTickFormatter\"},{\"attributes\":{\"bottom_units\":\"screen\",\"fill_alpha\":0.5,\"fill_color\":\"lightgrey\",\"left_units\":\"screen\",\"level\":\"overlay\",\"line_alpha\":1.0,\"line_color\":\"black\",\"line_dash\":[4,4],\"line_width\":2,\"right_units\":\"screen\",\"syncable\":false,\"top_units\":\"screen\"},\"id\":\"33760\",\"type\":\"BoxAnnotation\"},{\"attributes\":{\"data\":{\"A_0\":{\"__ndarray__\":\"mpmZmZnJgUDNzMzMzICBQAAAAAAAMIFAAAAAAAAwgUDNzMzMzECAQM3MzMzMQIBAAAAAAACIc0CYmZmZmelvQAAAAAAAQG9AAAAAAABAb0A=\",\"dtype\":\"float64\",\"order\":\"little\",\"shape\":[10]},\"index\":[\"47\",\"99\",\"30\",\"5\",\"59\",\"24\",\"23\",\"91\",\"75\",\"79\"]},\"selected\":{\"id\":\"33769\"},\"selection_policy\":{\"id\":\"33792\"}},\"id\":\"33768\",\"type\":\"ColumnDataSource\"},{\"attributes\":{\"children\":[{\"id\":\"33735\"},{\"id\":\"33739\"},{\"id\":\"33805\"}],\"margin\":[0,0,0,0],\"name\":\"Row17277\",\"tags\":[\"embedded\"]},\"id\":\"33734\",\"type\":\"Row\"},{\"attributes\":{\"axis_label\":\"NFT Project Index Number\",\"formatter\":{\"id\":\"33778\"},\"major_label_policy\":{\"id\":\"33779\"},\"ticker\":{\"id\":\"33749\"}},\"id\":\"33748\",\"type\":\"CategoricalAxis\"}],\"root_ids\":[\"33734\"]},\"title\":\"Bokeh Application\",\"version\":\"2.3.2\"}};\n",
       "    var render_items = [{\"docid\":\"25524d73-deff-4596-9fac-0168f709b3f9\",\"root_ids\":[\"33734\"],\"roots\":{\"33734\":\"5c506c8c-f65a-45c2-92d9-2baf351029a7\"}}];\n",
       "    root.Bokeh.embed.embed_items_notebook(docs_json, render_items);\n",
       "  }\n",
       "  if (root.Bokeh !== undefined && root.Bokeh.Panel !== undefined) {\n",
       "    embed_document(root);\n",
       "  } else {\n",
       "    var attempts = 0;\n",
       "    var timer = setInterval(function(root) {\n",
       "      if (root.Bokeh !== undefined && root.Bokeh.Panel !== undefined) {\n",
       "        clearInterval(timer);\n",
       "        embed_document(root);\n",
       "      } else if (document.readyState == \"complete\") {\n",
       "        attempts++;\n",
       "        if (attempts > 200) {\n",
       "          clearInterval(timer);\n",
       "          console.log(\"Bokeh: ERROR: Unable to run BokehJS code because BokehJS library is missing\");\n",
       "        }\n",
       "      }\n",
       "    }, 25, root)\n",
       "  }\n",
       "})(window);</script>"
      ],
      "text/plain": [
       ":Bars   [index]   (0)"
      ]
     },
     "execution_count": 340,
     "metadata": {
      "application/vnd.holoviews_exec.v0+json": {
       "id": "33734"
      }
     },
     "output_type": "execute_result"
    }
   ],
   "source": [
    "plot_4"
   ]
  },
  {
   "cell_type": "markdown",
   "id": "67bbead1-f3d2-4f04-b475-22b6a96385bc",
   "metadata": {},
   "source": [
    "#### Visual 4 Conclusion:  This visual provided our group with the top 10 most expensively priced NFT projects.  As of 11/4/2021, the most expensive bids are between 569 to 79 (which varies per minute as data is updated).  The constantly changing bid prices indicate these assets are not stable."
   ]
  },
  {
   "cell_type": "markdown",
   "id": "3a44cb01-d8e3-4db7-8a6a-6a2cf40019f3",
   "metadata": {},
   "source": [
    "### Visual #5: Number of Sales per Token ID"
   ]
  },
  {
   "cell_type": "code",
   "execution_count": 341,
   "id": "1e6f8824-67f4-494e-b532-d41558859f4d",
   "metadata": {},
   "outputs": [],
   "source": [
    "#CREATE VISUAL: Number of sales per token ID\n",
    "# Pull dates and prices for each asset\n",
    "token_sales_list = opensea_data_pull1['asset_events']\n",
    "token_id_list = []\n",
    "num_sales_list = []\n",
    "\n",
    "# Iterate through each item in list\n",
    "for each in token_sales_list:\n",
    "    # grab the id\n",
    "    token_id = each['asset']['token_id']\n",
    "    token_id = token_id[0:10]\n",
    "    try:\n",
    "        num_sales = each['asset']['num_sales']\n",
    "    except:\n",
    "        num_sales = 0\n",
    "        \n",
    "    # append id to list of ids\n",
    "    token_id_list.append(token_id)\n",
    "    num_sales_list.append(num_sales)"
   ]
  },
  {
   "cell_type": "code",
   "execution_count": 342,
   "id": "28366e5d-605c-46c7-b456-1073973a5ac8",
   "metadata": {},
   "outputs": [],
   "source": [
    "# Cleaner method, give column headers\n",
    "bidtrends_df = pd.DataFrame(\n",
    "    {'token_id': token_id_list,\n",
    "     'num_sales': num_sales_list\n",
    "     })"
   ]
  },
  {
   "cell_type": "code",
   "execution_count": 343,
   "id": "f9caaaa5-f055-4c2a-8cf4-9c7f7a0552f9",
   "metadata": {},
   "outputs": [],
   "source": [
    "#Plot the data using a bar chart to show trends over time periods\n",
    "plot_5 = bidtrends_df.hvplot.bar(\n",
    "                        title=\"Number of Sales per NFT by Token ID\",\n",
    "                        x='token_id',\n",
    "                        xlabel=\"Token IDs\",\n",
    "                        ylabel=\"Number of Sales\",\n",
    "                        rot=45,\n",
    "                        width=1500,\n",
    "                        grid=True\n",
    "                        )"
   ]
  },
  {
   "cell_type": "code",
   "execution_count": 344,
   "id": "2bb84865-9548-4851-a1b8-d5cee3b491dc",
   "metadata": {},
   "outputs": [
    {
     "data": {},
     "metadata": {},
     "output_type": "display_data"
    },
    {
     "data": {
      "application/vnd.holoviews_exec.v0+json": "",
      "text/html": [
       "<div id='33857'>\n",
       "\n",
       "\n",
       "\n",
       "\n",
       "\n",
       "  <div class=\"bk-root\" id=\"ec11687b-5c08-43e4-993e-62e4909c8a49\" data-root-id=\"33857\"></div>\n",
       "</div>\n",
       "<script type=\"application/javascript\">(function(root) {\n",
       "  function embed_document(root) {\n",
       "    var docs_json = {\"3c25e4be-41ea-4e04-aedc-37cbb7613cf4\":{\"defs\":[{\"extends\":null,\"module\":null,\"name\":\"ReactiveHTML1\",\"overrides\":[],\"properties\":[]},{\"extends\":null,\"module\":null,\"name\":\"FlexBox1\",\"overrides\":[],\"properties\":[{\"default\":\"flex-start\",\"kind\":null,\"name\":\"align_content\"},{\"default\":\"flex-start\",\"kind\":null,\"name\":\"align_items\"},{\"default\":\"row\",\"kind\":null,\"name\":\"flex_direction\"},{\"default\":\"wrap\",\"kind\":null,\"name\":\"flex_wrap\"},{\"default\":\"flex-start\",\"kind\":null,\"name\":\"justify_content\"}]},{\"extends\":null,\"module\":null,\"name\":\"TemplateActions1\",\"overrides\":[],\"properties\":[{\"default\":0,\"kind\":null,\"name\":\"open_modal\"},{\"default\":0,\"kind\":null,\"name\":\"close_modal\"}]},{\"extends\":null,\"module\":null,\"name\":\"MaterialTemplateActions1\",\"overrides\":[],\"properties\":[{\"default\":0,\"kind\":null,\"name\":\"open_modal\"},{\"default\":0,\"kind\":null,\"name\":\"close_modal\"}]}],\"roots\":{\"references\":[{\"attributes\":{\"axis\":{\"id\":\"33874\"},\"dimension\":1,\"ticker\":{\"id\":\"33875\"}},\"id\":\"33877\",\"type\":\"Grid\"},{\"attributes\":{\"axis\":{\"id\":\"33871\"},\"ticker\":{\"id\":\"33872\"}},\"id\":\"33873\",\"type\":\"Grid\"},{\"attributes\":{\"axis_label\":\"Number of Sales\",\"formatter\":{\"id\":\"33903\"},\"major_label_policy\":{\"id\":\"33904\"},\"ticker\":{\"id\":\"33875\"}},\"id\":\"33874\",\"type\":\"LinearAxis\"},{\"attributes\":{\"data\":{\"num_sales\":[2,0,1,1,0,1,0,1,0,2,0,0,2,0,3,0,0,0,0,0,4,0,3,0,1,1,3,0,0,1,0,4,0,4,1,0,1,1,1,2,2,1,0,0,2,0,1,3,2,1,1,1,1,1,0,0,1,0,0,0,1,0,2,0,0,1,1,4,2,2,0,0,3,3,1,2,0,0,1,1,1,0,1,0,2,1,0,0,2,3,0,3,0,2,0,3,0,0,5,3],\"token_id\":[\"8271\",\"7250\",\"8808\",\"9434\",\"8652\",\"2854\",\"4953\",\"1700\",\"3194\",\"8339\",\"1338\",\"4875\",\"795\",\"1383\",\"3672\",\"5840\",\"9815\",\"1405\",\"3271\",\"8510\",\"6338981479\",\"22984\",\"6629\",\"57\",\"3075\",\"2035\",\"4584\",\"5758\",\"9436\",\"985\",\"7074\",\"4403\",\"6147\",\"4559272832\",\"1809\",\"8573\",\"989\",\"2585\",\"861\",\"1639\",\"4840\",\"5517\",\"2321\",\"1945855582\",\"9712\",\"22\",\"4207\",\"2432\",\"611\",\"916\",\"9384\",\"7802\",\"528\",\"1402\",\"9842\",\"9503\",\"3237\",\"8926\",\"2007665964\",\"2942\",\"196\",\"8837\",\"7639\",\"8049\",\"800\",\"3192\",\"5356\",\"2656\",\"5074\",\"4981676894\",\"1940\",\"3570\",\"3191\",\"3009\",\"1405\",\"7243\",\"991\",\"3970\",\"238\",\"425\",\"9102\",\"7397818359\",\"1070\",\"7238\",\"1501\",\"452\",\"3535\",\"6822\",\"6944\",\"5195\",\"1043\",\"3318\",\"2868\",\"1401\",\"7462\",\"3608\",\"7153\",\"4887\",\"1355\",\"8100\"]},\"selected\":{\"id\":\"33892\"},\"selection_policy\":{\"id\":\"33915\"}},\"id\":\"33891\",\"type\":\"ColumnDataSource\"},{\"attributes\":{\"overlay\":{\"id\":\"33883\"}},\"id\":\"33881\",\"type\":\"BoxZoomTool\"},{\"attributes\":{},\"id\":\"33879\",\"type\":\"PanTool\"},{\"attributes\":{},\"id\":\"33880\",\"type\":\"WheelZoomTool\"},{\"attributes\":{},\"id\":\"33902\",\"type\":\"AllLabels\"},{\"attributes\":{\"data_source\":{\"id\":\"33891\"},\"glyph\":{\"id\":\"33894\"},\"hover_glyph\":null,\"muted_glyph\":{\"id\":\"33896\"},\"nonselection_glyph\":{\"id\":\"33895\"},\"selection_glyph\":{\"id\":\"33899\"},\"view\":{\"id\":\"33898\"}},\"id\":\"33897\",\"type\":\"GlyphRenderer\"},{\"attributes\":{\"margin\":[5,5,5,5],\"name\":\"HSpacer17432\",\"sizing_mode\":\"stretch_width\"},\"id\":\"33928\",\"type\":\"Spacer\"},{\"attributes\":{},\"id\":\"33875\",\"type\":\"BasicTicker\"},{\"attributes\":{\"active_multi\":null,\"tools\":[{\"id\":\"33861\"},{\"id\":\"33878\"},{\"id\":\"33879\"},{\"id\":\"33880\"},{\"id\":\"33881\"},{\"id\":\"33882\"}]},\"id\":\"33884\",\"type\":\"Toolbar\"},{\"attributes\":{},\"id\":\"33901\",\"type\":\"CategoricalTickFormatter\"},{\"attributes\":{},\"id\":\"33915\",\"type\":\"UnionRenderers\"},{\"attributes\":{\"fill_alpha\":{\"value\":0.2},\"fill_color\":{\"value\":\"#30a2da\"},\"line_alpha\":{\"value\":0.2},\"top\":{\"field\":\"num_sales\"},\"width\":{\"value\":0.8},\"x\":{\"field\":\"token_id\"}},\"id\":\"33896\",\"type\":\"VBar\"},{\"attributes\":{\"fill_alpha\":{\"value\":0.1},\"fill_color\":{\"value\":\"#30a2da\"},\"line_alpha\":{\"value\":0.1},\"top\":{\"field\":\"num_sales\"},\"width\":{\"value\":0.8},\"x\":{\"field\":\"token_id\"}},\"id\":\"33895\",\"type\":\"VBar\"},{\"attributes\":{},\"id\":\"33904\",\"type\":\"AllLabels\"},{\"attributes\":{\"below\":[{\"id\":\"33871\"}],\"center\":[{\"id\":\"33873\"},{\"id\":\"33877\"}],\"height\":300,\"left\":[{\"id\":\"33874\"}],\"margin\":[5,5,5,5],\"min_border_bottom\":10,\"min_border_left\":10,\"min_border_right\":10,\"min_border_top\":10,\"renderers\":[{\"id\":\"33897\"}],\"sizing_mode\":\"fixed\",\"title\":{\"id\":\"33863\"},\"toolbar\":{\"id\":\"33884\"},\"width\":1500,\"x_range\":{\"id\":\"33859\"},\"x_scale\":{\"id\":\"33867\"},\"y_range\":{\"id\":\"33860\"},\"y_scale\":{\"id\":\"33869\"}},\"id\":\"33862\",\"subtype\":\"Figure\",\"type\":\"Plot\"},{\"attributes\":{},\"id\":\"33867\",\"type\":\"CategoricalScale\"},{\"attributes\":{},\"id\":\"33903\",\"type\":\"BasicTickFormatter\"},{\"attributes\":{\"bottom_units\":\"screen\",\"fill_alpha\":0.5,\"fill_color\":\"lightgrey\",\"left_units\":\"screen\",\"level\":\"overlay\",\"line_alpha\":1.0,\"line_color\":\"black\",\"line_dash\":[4,4],\"line_width\":2,\"right_units\":\"screen\",\"syncable\":false,\"top_units\":\"screen\"},\"id\":\"33883\",\"type\":\"BoxAnnotation\"},{\"attributes\":{\"end\":5.5,\"reset_end\":5.5,\"reset_start\":0.0,\"tags\":[[[\"num_sales\",\"num_sales\",null]]]},\"id\":\"33860\",\"type\":\"Range1d\"},{\"attributes\":{\"axis_label\":\"Token IDs\",\"formatter\":{\"id\":\"33901\"},\"major_label_orientation\":0.7853981633974483,\"major_label_policy\":{\"id\":\"33902\"},\"ticker\":{\"id\":\"33872\"}},\"id\":\"33871\",\"type\":\"CategoricalAxis\"},{\"attributes\":{\"source\":{\"id\":\"33891\"}},\"id\":\"33898\",\"type\":\"CDSView\"},{\"attributes\":{},\"id\":\"33878\",\"type\":\"SaveTool\"},{\"attributes\":{\"children\":[{\"id\":\"33858\"},{\"id\":\"33862\"},{\"id\":\"33928\"}],\"margin\":[0,0,0,0],\"name\":\"Row17427\",\"tags\":[\"embedded\"]},\"id\":\"33857\",\"type\":\"Row\"},{\"attributes\":{},\"id\":\"33872\",\"type\":\"CategoricalTicker\"},{\"attributes\":{},\"id\":\"33869\",\"type\":\"LinearScale\"},{\"attributes\":{},\"id\":\"33892\",\"type\":\"Selection\"},{\"attributes\":{\"text\":\"Number of Sales per NFT by Token ID\",\"text_color\":\"black\",\"text_font_size\":\"12pt\"},\"id\":\"33863\",\"type\":\"Title\"},{\"attributes\":{},\"id\":\"33882\",\"type\":\"ResetTool\"},{\"attributes\":{\"fill_color\":{\"value\":\"#30a2da\"},\"top\":{\"field\":\"num_sales\"},\"width\":{\"value\":0.8},\"x\":{\"field\":\"token_id\"}},\"id\":\"33894\",\"type\":\"VBar\"},{\"attributes\":{\"callback\":null,\"renderers\":[{\"id\":\"33897\"}],\"tags\":[\"hv_created\"],\"tooltips\":[[\"token_id\",\"@{token_id}\"],[\"num_sales\",\"@{num_sales}\"]]},\"id\":\"33861\",\"type\":\"HoverTool\"},{\"attributes\":{\"bottom\":{\"value\":0},\"fill_alpha\":{\"value\":1.0},\"fill_color\":{\"value\":\"#30a2da\"},\"hatch_alpha\":{\"value\":1.0},\"hatch_color\":{\"value\":\"black\"},\"hatch_scale\":{\"value\":12.0},\"hatch_weight\":{\"value\":1.0},\"line_alpha\":{\"value\":1.0},\"line_cap\":{\"value\":\"butt\"},\"line_color\":{\"value\":\"black\"},\"line_dash\":{\"value\":[]},\"line_dash_offset\":{\"value\":0},\"line_join\":{\"value\":\"bevel\"},\"line_width\":{\"value\":1},\"top\":{\"field\":\"num_sales\"},\"width\":{\"value\":0.8},\"x\":{\"field\":\"token_id\"}},\"id\":\"33899\",\"type\":\"VBar\"},{\"attributes\":{\"margin\":[5,5,5,5],\"name\":\"HSpacer17431\",\"sizing_mode\":\"stretch_width\"},\"id\":\"33858\",\"type\":\"Spacer\"},{\"attributes\":{\"factors\":[\"8271\",\"7250\",\"8808\",\"9434\",\"8652\",\"2854\",\"4953\",\"1700\",\"3194\",\"8339\",\"1338\",\"4875\",\"795\",\"1383\",\"3672\",\"5840\",\"9815\",\"1405\",\"3271\",\"8510\",\"6338981479\",\"22984\",\"6629\",\"57\",\"3075\",\"2035\",\"4584\",\"5758\",\"9436\",\"985\",\"7074\",\"4403\",\"6147\",\"4559272832\",\"1809\",\"8573\",\"989\",\"2585\",\"861\",\"1639\",\"4840\",\"5517\",\"2321\",\"1945855582\",\"9712\",\"22\",\"4207\",\"2432\",\"611\",\"916\",\"9384\",\"7802\",\"528\",\"1402\",\"9842\",\"9503\",\"3237\",\"8926\",\"2007665964\",\"2942\",\"196\",\"8837\",\"7639\",\"8049\",\"800\",\"3192\",\"5356\",\"2656\",\"5074\",\"4981676894\",\"1940\",\"3570\",\"3191\",\"3009\",\"7243\",\"991\",\"3970\",\"238\",\"425\",\"9102\",\"7397818359\",\"1070\",\"7238\",\"1501\",\"452\",\"3535\",\"6822\",\"6944\",\"5195\",\"1043\",\"3318\",\"2868\",\"1401\",\"7462\",\"3608\",\"7153\",\"4887\",\"1355\",\"8100\"],\"tags\":[[[\"token_id\",\"token_id\",null]]]},\"id\":\"33859\",\"type\":\"FactorRange\"}],\"root_ids\":[\"33857\"]},\"title\":\"Bokeh Application\",\"version\":\"2.3.2\"}};\n",
       "    var render_items = [{\"docid\":\"3c25e4be-41ea-4e04-aedc-37cbb7613cf4\",\"root_ids\":[\"33857\"],\"roots\":{\"33857\":\"ec11687b-5c08-43e4-993e-62e4909c8a49\"}}];\n",
       "    root.Bokeh.embed.embed_items_notebook(docs_json, render_items);\n",
       "  }\n",
       "  if (root.Bokeh !== undefined && root.Bokeh.Panel !== undefined) {\n",
       "    embed_document(root);\n",
       "  } else {\n",
       "    var attempts = 0;\n",
       "    var timer = setInterval(function(root) {\n",
       "      if (root.Bokeh !== undefined && root.Bokeh.Panel !== undefined) {\n",
       "        clearInterval(timer);\n",
       "        embed_document(root);\n",
       "      } else if (document.readyState == \"complete\") {\n",
       "        attempts++;\n",
       "        if (attempts > 200) {\n",
       "          clearInterval(timer);\n",
       "          console.log(\"Bokeh: ERROR: Unable to run BokehJS code because BokehJS library is missing\");\n",
       "        }\n",
       "      }\n",
       "    }, 25, root)\n",
       "  }\n",
       "})(window);</script>"
      ],
      "text/plain": [
       ":Bars   [token_id]   (num_sales)"
      ]
     },
     "execution_count": 344,
     "metadata": {
      "application/vnd.holoviews_exec.v0+json": {
       "id": "33857"
      }
     },
     "output_type": "execute_result"
    }
   ],
   "source": [
    "plot_5"
   ]
  },
  {
   "cell_type": "markdown",
   "id": "df04de78-ca09-477e-8f47-2441ae8bf38c",
   "metadata": {},
   "source": [
    "#### Visual 5 Conclusion:  This visual provided our group with number of sales per token ID.  As you can see by the visual above, most tokens sell around 2 times or less.  However, there is one token that has sold more times than all others (5 times)."
   ]
  },
  {
   "cell_type": "markdown",
   "id": "d2999a9e-774f-4185-ad14-033dc3e12761",
   "metadata": {},
   "source": [
    "### Visual #6: Total NFT Buyers and Sellers"
   ]
  },
  {
   "cell_type": "code",
   "execution_count": 345,
   "id": "70279de8-c269-4a87-a012-c5dbad216339",
   "metadata": {},
   "outputs": [],
   "source": [
    "#CREATE VISUAL: Total NFT Buyers and Sellers\n",
    "# Find the total amount of buyers and sellers\n",
    "data_list = opensea_data_pull1['asset_events']\n",
    "\n",
    "#Organize a list of buyer usernames\n",
    "buyers_list = []\n",
    "\n",
    "#Organize a list of seller usernames\n",
    "sellers_list = []\n",
    "\n",
    "# iterate through each item in list\n",
    "for each in data_list:\n",
    "    # grab the buyers and sellers\n",
    "    #buyer_username = each[“asset”][“owner”][“user”][“username”]\n",
    "    #listing_date = listing_date[0:10]  # reformat dates to be cleaner\n",
    "    try:\n",
    "        seller_username = each['from_account']['user']['username']\n",
    "    #listing_price = listing_price / 10000000000000\n",
    "    except:\n",
    "        seller_username = 'NoneType'\n",
    "    # This is code for the assets database directly below\n",
    "    try:\n",
    "        buyer_username = each['asset']['owner']['user']['username']\n",
    "    #listing_price = listing_price / 10000000000000\n",
    "    except:\n",
    "        buyer_username = 'NoneType'\n",
    "        \n",
    "    # append id to list of ids\n",
    "    #seller_username = each[“creator”][“user”][“username”]\n",
    "    #creator = each[“owner”][“user”][“username”]\n",
    "    #listing_price = listing_price / 10000000000000\n",
    "    # append id to list of ids\n",
    "    buyers_list.append(buyer_username)\n",
    "    sellers_list.append(seller_username)"
   ]
  },
  {
   "cell_type": "code",
   "execution_count": 346,
   "id": "c46a3cbd-211e-41bf-9bbc-99e4c941f75e",
   "metadata": {},
   "outputs": [],
   "source": [
    "users_df = pd.DataFrame(\n",
    "    {'buyer_username': buyers_list,\n",
    "     'seller_username': sellers_list\n",
    "     })"
   ]
  },
  {
   "cell_type": "code",
   "execution_count": 347,
   "id": "24a9d755-c96a-45c7-bd2b-ae9b33527c52",
   "metadata": {},
   "outputs": [
    {
     "data": {
      "text/plain": [
       "<bound method DataFrame.dropna of    buyer_username  seller_username\n",
       "0       mobyvault  headmaster42069\n",
       "1        caoniama         NoneType\n",
       "2        NoneType             None\n",
       "3            None           8A4A12\n",
       "4            None             None\n",
       "..            ...              ...\n",
       "95     UncleAlien         NoneType\n",
       "96           None           90476b\n",
       "97   MetaHero1000          _Artus_\n",
       "98           None             None\n",
       "99   heybkk_Vault             KJ1N\n",
       "\n",
       "[100 rows x 2 columns]>"
      ]
     },
     "execution_count": 347,
     "metadata": {},
     "output_type": "execute_result"
    }
   ],
   "source": [
    "users_df.dropna"
   ]
  },
  {
   "cell_type": "code",
   "execution_count": 348,
   "id": "8dd2dbd0-189f-40d3-92bd-2ba6f0ec09cf",
   "metadata": {},
   "outputs": [
    {
     "data": {
      "text/plain": [
       "buyer_username     83\n",
       "seller_username    64\n",
       "dtype: int64"
      ]
     },
     "execution_count": 348,
     "metadata": {},
     "output_type": "execute_result"
    }
   ],
   "source": [
    "countusers_df = users_df.count()\n",
    "countusers_df"
   ]
  },
  {
   "cell_type": "code",
   "execution_count": 349,
   "id": "3ec45084-a33e-4a05-aa43-c80c05fbf9a7",
   "metadata": {},
   "outputs": [],
   "source": [
    "#Plot the data using a bar chart to compare the volume of buyers/sellers\n",
    "plot_6 = countusers_df.hvplot.bar(title=\"Buyers and Sellers\", xlabel=\"Buyer/Seller\", ylabel=\"Number\", grid=True)"
   ]
  },
  {
   "cell_type": "code",
   "execution_count": 350,
   "id": "f727f434-d5b0-480a-988f-6f35b70e821c",
   "metadata": {},
   "outputs": [
    {
     "data": {},
     "metadata": {},
     "output_type": "display_data"
    },
    {
     "data": {
      "application/vnd.holoviews_exec.v0+json": "",
      "text/html": [
       "<div id='33980'>\n",
       "\n",
       "\n",
       "\n",
       "\n",
       "\n",
       "  <div class=\"bk-root\" id=\"40a62d60-b68b-45b6-8000-bccabca4f18e\" data-root-id=\"33980\"></div>\n",
       "</div>\n",
       "<script type=\"application/javascript\">(function(root) {\n",
       "  function embed_document(root) {\n",
       "    var docs_json = {\"8f1b1480-023d-4faf-9b61-9b2063ec210d\":{\"defs\":[{\"extends\":null,\"module\":null,\"name\":\"ReactiveHTML1\",\"overrides\":[],\"properties\":[]},{\"extends\":null,\"module\":null,\"name\":\"FlexBox1\",\"overrides\":[],\"properties\":[{\"default\":\"flex-start\",\"kind\":null,\"name\":\"align_content\"},{\"default\":\"flex-start\",\"kind\":null,\"name\":\"align_items\"},{\"default\":\"row\",\"kind\":null,\"name\":\"flex_direction\"},{\"default\":\"wrap\",\"kind\":null,\"name\":\"flex_wrap\"},{\"default\":\"flex-start\",\"kind\":null,\"name\":\"justify_content\"}]},{\"extends\":null,\"module\":null,\"name\":\"TemplateActions1\",\"overrides\":[],\"properties\":[{\"default\":0,\"kind\":null,\"name\":\"open_modal\"},{\"default\":0,\"kind\":null,\"name\":\"close_modal\"}]},{\"extends\":null,\"module\":null,\"name\":\"MaterialTemplateActions1\",\"overrides\":[],\"properties\":[{\"default\":0,\"kind\":null,\"name\":\"open_modal\"},{\"default\":0,\"kind\":null,\"name\":\"close_modal\"}]}],\"roots\":{\"references\":[{\"attributes\":{\"callback\":null,\"renderers\":[{\"id\":\"34020\"}],\"tags\":[\"hv_created\"],\"tooltips\":[[\"index\",\"@{index}\"],[\"0\",\"@{A_0}\"]]},\"id\":\"33984\",\"type\":\"HoverTool\"},{\"attributes\":{\"fill_color\":{\"value\":\"#30a2da\"},\"top\":{\"field\":\"A_0\"},\"width\":{\"value\":0.8},\"x\":{\"field\":\"index\"}},\"id\":\"34017\",\"type\":\"VBar\"},{\"attributes\":{\"overlay\":{\"id\":\"34006\"}},\"id\":\"34004\",\"type\":\"BoxZoomTool\"},{\"attributes\":{\"children\":[{\"id\":\"33981\"},{\"id\":\"33985\"},{\"id\":\"34051\"}],\"margin\":[0,0,0,0],\"name\":\"Row17575\",\"tags\":[\"embedded\"]},\"id\":\"33980\",\"type\":\"Row\"},{\"attributes\":{},\"id\":\"34027\",\"type\":\"AllLabels\"},{\"attributes\":{\"data\":{\"A_0\":[83,64],\"index\":[\"buyer_username\",\"seller_username\"]},\"selected\":{\"id\":\"34015\"},\"selection_policy\":{\"id\":\"34038\"}},\"id\":\"34014\",\"type\":\"ColumnDataSource\"},{\"attributes\":{\"source\":{\"id\":\"34014\"}},\"id\":\"34021\",\"type\":\"CDSView\"},{\"attributes\":{\"bottom\":{\"value\":0},\"fill_alpha\":{\"value\":1.0},\"fill_color\":{\"value\":\"#30a2da\"},\"hatch_alpha\":{\"value\":1.0},\"hatch_color\":{\"value\":\"black\"},\"hatch_scale\":{\"value\":12.0},\"hatch_weight\":{\"value\":1.0},\"line_alpha\":{\"value\":1.0},\"line_cap\":{\"value\":\"butt\"},\"line_color\":{\"value\":\"black\"},\"line_dash\":{\"value\":[]},\"line_dash_offset\":{\"value\":0},\"line_join\":{\"value\":\"bevel\"},\"line_width\":{\"value\":1},\"top\":{\"field\":\"A_0\"},\"width\":{\"value\":0.8},\"x\":{\"field\":\"index\"}},\"id\":\"34022\",\"type\":\"VBar\"},{\"attributes\":{},\"id\":\"34015\",\"type\":\"Selection\"},{\"attributes\":{\"axis_label\":\"Buyer/Seller\",\"formatter\":{\"id\":\"34024\"},\"major_label_policy\":{\"id\":\"34025\"},\"ticker\":{\"id\":\"33995\"}},\"id\":\"33994\",\"type\":\"CategoricalAxis\"},{\"attributes\":{},\"id\":\"34005\",\"type\":\"ResetTool\"},{\"attributes\":{\"axis_label\":\"Number\",\"formatter\":{\"id\":\"34026\"},\"major_label_policy\":{\"id\":\"34027\"},\"ticker\":{\"id\":\"33998\"}},\"id\":\"33997\",\"type\":\"LinearAxis\"},{\"attributes\":{\"active_multi\":null,\"tools\":[{\"id\":\"33984\"},{\"id\":\"34001\"},{\"id\":\"34002\"},{\"id\":\"34003\"},{\"id\":\"34004\"},{\"id\":\"34005\"}]},\"id\":\"34007\",\"type\":\"Toolbar\"},{\"attributes\":{\"margin\":[5,5,5,5],\"name\":\"HSpacer17579\",\"sizing_mode\":\"stretch_width\"},\"id\":\"33981\",\"type\":\"Spacer\"},{\"attributes\":{},\"id\":\"34038\",\"type\":\"UnionRenderers\"},{\"attributes\":{\"margin\":[5,5,5,5],\"name\":\"HSpacer17580\",\"sizing_mode\":\"stretch_width\"},\"id\":\"34051\",\"type\":\"Spacer\"},{\"attributes\":{\"axis\":{\"id\":\"33997\"},\"dimension\":1,\"ticker\":{\"id\":\"33998\"}},\"id\":\"34000\",\"type\":\"Grid\"},{\"attributes\":{},\"id\":\"34025\",\"type\":\"AllLabels\"},{\"attributes\":{},\"id\":\"33992\",\"type\":\"LinearScale\"},{\"attributes\":{\"end\":84.9,\"reset_end\":84.9,\"reset_start\":0.0,\"tags\":[[[\"0\",\"0\",null]]]},\"id\":\"33983\",\"type\":\"Range1d\"},{\"attributes\":{\"fill_alpha\":{\"value\":0.2},\"fill_color\":{\"value\":\"#30a2da\"},\"line_alpha\":{\"value\":0.2},\"top\":{\"field\":\"A_0\"},\"width\":{\"value\":0.8},\"x\":{\"field\":\"index\"}},\"id\":\"34019\",\"type\":\"VBar\"},{\"attributes\":{},\"id\":\"34003\",\"type\":\"WheelZoomTool\"},{\"attributes\":{\"below\":[{\"id\":\"33994\"}],\"center\":[{\"id\":\"33996\"},{\"id\":\"34000\"}],\"height\":300,\"left\":[{\"id\":\"33997\"}],\"margin\":[5,5,5,5],\"min_border_bottom\":10,\"min_border_left\":10,\"min_border_right\":10,\"min_border_top\":10,\"renderers\":[{\"id\":\"34020\"}],\"sizing_mode\":\"fixed\",\"title\":{\"id\":\"33986\"},\"toolbar\":{\"id\":\"34007\"},\"width\":700,\"x_range\":{\"id\":\"33982\"},\"x_scale\":{\"id\":\"33990\"},\"y_range\":{\"id\":\"33983\"},\"y_scale\":{\"id\":\"33992\"}},\"id\":\"33985\",\"subtype\":\"Figure\",\"type\":\"Plot\"},{\"attributes\":{},\"id\":\"33995\",\"type\":\"CategoricalTicker\"},{\"attributes\":{},\"id\":\"34024\",\"type\":\"CategoricalTickFormatter\"},{\"attributes\":{\"axis\":{\"id\":\"33994\"},\"ticker\":{\"id\":\"33995\"}},\"id\":\"33996\",\"type\":\"Grid\"},{\"attributes\":{},\"id\":\"34026\",\"type\":\"BasicTickFormatter\"},{\"attributes\":{},\"id\":\"34001\",\"type\":\"SaveTool\"},{\"attributes\":{\"fill_alpha\":{\"value\":0.1},\"fill_color\":{\"value\":\"#30a2da\"},\"line_alpha\":{\"value\":0.1},\"top\":{\"field\":\"A_0\"},\"width\":{\"value\":0.8},\"x\":{\"field\":\"index\"}},\"id\":\"34018\",\"type\":\"VBar\"},{\"attributes\":{},\"id\":\"33998\",\"type\":\"BasicTicker\"},{\"attributes\":{},\"id\":\"33990\",\"type\":\"CategoricalScale\"},{\"attributes\":{\"bottom_units\":\"screen\",\"fill_alpha\":0.5,\"fill_color\":\"lightgrey\",\"left_units\":\"screen\",\"level\":\"overlay\",\"line_alpha\":1.0,\"line_color\":\"black\",\"line_dash\":[4,4],\"line_width\":2,\"right_units\":\"screen\",\"syncable\":false,\"top_units\":\"screen\"},\"id\":\"34006\",\"type\":\"BoxAnnotation\"},{\"attributes\":{\"text\":\"Buyers and Sellers\",\"text_color\":\"black\",\"text_font_size\":\"12pt\"},\"id\":\"33986\",\"type\":\"Title\"},{\"attributes\":{\"data_source\":{\"id\":\"34014\"},\"glyph\":{\"id\":\"34017\"},\"hover_glyph\":null,\"muted_glyph\":{\"id\":\"34019\"},\"nonselection_glyph\":{\"id\":\"34018\"},\"selection_glyph\":{\"id\":\"34022\"},\"view\":{\"id\":\"34021\"}},\"id\":\"34020\",\"type\":\"GlyphRenderer\"},{\"attributes\":{},\"id\":\"34002\",\"type\":\"PanTool\"},{\"attributes\":{\"factors\":[\"buyer_username\",\"seller_username\"],\"tags\":[[[\"index\",\"index\",null]]]},\"id\":\"33982\",\"type\":\"FactorRange\"}],\"root_ids\":[\"33980\"]},\"title\":\"Bokeh Application\",\"version\":\"2.3.2\"}};\n",
       "    var render_items = [{\"docid\":\"8f1b1480-023d-4faf-9b61-9b2063ec210d\",\"root_ids\":[\"33980\"],\"roots\":{\"33980\":\"40a62d60-b68b-45b6-8000-bccabca4f18e\"}}];\n",
       "    root.Bokeh.embed.embed_items_notebook(docs_json, render_items);\n",
       "  }\n",
       "  if (root.Bokeh !== undefined && root.Bokeh.Panel !== undefined) {\n",
       "    embed_document(root);\n",
       "  } else {\n",
       "    var attempts = 0;\n",
       "    var timer = setInterval(function(root) {\n",
       "      if (root.Bokeh !== undefined && root.Bokeh.Panel !== undefined) {\n",
       "        clearInterval(timer);\n",
       "        embed_document(root);\n",
       "      } else if (document.readyState == \"complete\") {\n",
       "        attempts++;\n",
       "        if (attempts > 200) {\n",
       "          clearInterval(timer);\n",
       "          console.log(\"Bokeh: ERROR: Unable to run BokehJS code because BokehJS library is missing\");\n",
       "        }\n",
       "      }\n",
       "    }, 25, root)\n",
       "  }\n",
       "})(window);</script>"
      ],
      "text/plain": [
       ":Bars   [index]   (0)"
      ]
     },
     "execution_count": 350,
     "metadata": {
      "application/vnd.holoviews_exec.v0+json": {
       "id": "33980"
      }
     },
     "output_type": "execute_result"
    }
   ],
   "source": [
    "plot_6"
   ]
  },
  {
   "cell_type": "markdown",
   "id": "ced8d10e-96a9-4a91-985a-39a4518022e2",
   "metadata": {},
   "source": [
    "#### Visual 6 Conclusion:  ThisVisual 1 Conclusion:   visual provided our group with the total amount of NFT Buyers and Sellers.  As you can see, there are currently more buyers of NFTs than there are sellers."
   ]
  },
  {
   "cell_type": "markdown",
   "id": "3b7dc170-f82b-4e69-95c0-fb5dc5b7a334",
   "metadata": {},
   "source": [
    "### Visual #7: Top 5 NFT Projects by Market Cap"
   ]
  },
  {
   "cell_type": "code",
   "execution_count": 351,
   "id": "5cfeaa8c-3215-47b1-89d4-7acd91025b05",
   "metadata": {},
   "outputs": [
    {
     "name": "stdout",
     "output_type": "stream",
     "text": [
      "                       NFT Projects by Market Cap\n",
      "NFT Projects                     Market Cap (ETH)\n",
      "CryptoPunks                            1193025.61\n",
      "Bored Ape Yacht Club                    418574.92\n",
      "Fidenza by Tyler Hobbs                   163336.5\n",
      "CyberKongs                               62897.74\n",
      "Emblem Vault                             33402.22\n"
     ]
    }
   ],
   "source": [
    "#CREATE VISUAL: Top 5 NFT Projects by Market Cap\n",
    "NFT_Project_MarketCap = pd.read_csv('../Project_1_Group_3/NFT Projects by Market Cap.csv')\n",
    "print (NFT_Project_MarketCap)"
   ]
  },
  {
   "cell_type": "code",
   "execution_count": 352,
   "id": "ec3ec689-63f5-47cc-98ff-84eaaf5a8446",
   "metadata": {},
   "outputs": [
    {
     "data": {
      "text/html": [
       "<div>\n",
       "<style scoped>\n",
       "    .dataframe tbody tr th:only-of-type {\n",
       "        vertical-align: middle;\n",
       "    }\n",
       "\n",
       "    .dataframe tbody tr th {\n",
       "        vertical-align: top;\n",
       "    }\n",
       "\n",
       "    .dataframe thead th {\n",
       "        text-align: right;\n",
       "    }\n",
       "</style>\n",
       "<table border=\"1\" class=\"dataframe\">\n",
       "  <thead>\n",
       "    <tr style=\"text-align: right;\">\n",
       "      <th></th>\n",
       "      <th>NFT Projects by Market Cap</th>\n",
       "    </tr>\n",
       "  </thead>\n",
       "  <tbody>\n",
       "    <tr>\n",
       "      <th>CryptoPunks</th>\n",
       "      <td>1193025.61</td>\n",
       "    </tr>\n",
       "    <tr>\n",
       "      <th>Bored Ape Yacht Club</th>\n",
       "      <td>418574.92</td>\n",
       "    </tr>\n",
       "    <tr>\n",
       "      <th>Fidenza by Tyler Hobbs</th>\n",
       "      <td>163336.5</td>\n",
       "    </tr>\n",
       "    <tr>\n",
       "      <th>CyberKongs</th>\n",
       "      <td>62897.74</td>\n",
       "    </tr>\n",
       "    <tr>\n",
       "      <th>Emblem Vault</th>\n",
       "      <td>33402.22</td>\n",
       "    </tr>\n",
       "  </tbody>\n",
       "</table>\n",
       "</div>"
      ],
      "text/plain": [
       "                       NFT Projects by Market Cap\n",
       "CryptoPunks                            1193025.61\n",
       "Bored Ape Yacht Club                    418574.92\n",
       "Fidenza by Tyler Hobbs                   163336.5\n",
       "CyberKongs                               62897.74\n",
       "Emblem Vault                             33402.22"
      ]
     },
     "execution_count": 352,
     "metadata": {},
     "output_type": "execute_result"
    }
   ],
   "source": [
    "#Add data into a dataframe\n",
    "MarketCap_df= pd.DataFrame(NFT_Project_MarketCap).head(6).drop([\"NFT Projects\"])\n",
    "MarketCap_df"
   ]
  },
  {
   "cell_type": "code",
   "execution_count": 353,
   "id": "e8996ee3-531d-4d46-95d4-90ecb97ce533",
   "metadata": {},
   "outputs": [
    {
     "data": {
      "text/html": [
       "<div>\n",
       "<style scoped>\n",
       "    .dataframe tbody tr th:only-of-type {\n",
       "        vertical-align: middle;\n",
       "    }\n",
       "\n",
       "    .dataframe tbody tr th {\n",
       "        vertical-align: top;\n",
       "    }\n",
       "\n",
       "    .dataframe thead th {\n",
       "        text-align: right;\n",
       "    }\n",
       "</style>\n",
       "<table border=\"1\" class=\"dataframe\">\n",
       "  <thead>\n",
       "    <tr style=\"text-align: right;\">\n",
       "      <th></th>\n",
       "      <th>Market_Cap</th>\n",
       "    </tr>\n",
       "  </thead>\n",
       "  <tbody>\n",
       "    <tr>\n",
       "      <th>CryptoPunks</th>\n",
       "      <td>1193025.61</td>\n",
       "    </tr>\n",
       "    <tr>\n",
       "      <th>Bored Ape Yacht Club</th>\n",
       "      <td>418574.92</td>\n",
       "    </tr>\n",
       "    <tr>\n",
       "      <th>Fidenza by Tyler Hobbs</th>\n",
       "      <td>163336.5</td>\n",
       "    </tr>\n",
       "    <tr>\n",
       "      <th>CyberKongs</th>\n",
       "      <td>62897.74</td>\n",
       "    </tr>\n",
       "    <tr>\n",
       "      <th>Emblem Vault</th>\n",
       "      <td>33402.22</td>\n",
       "    </tr>\n",
       "  </tbody>\n",
       "</table>\n",
       "</div>"
      ],
      "text/plain": [
       "                        Market_Cap\n",
       "CryptoPunks             1193025.61\n",
       "Bored Ape Yacht Club     418574.92\n",
       "Fidenza by Tyler Hobbs    163336.5\n",
       "CyberKongs                62897.74\n",
       "Emblem Vault              33402.22"
      ]
     },
     "execution_count": 353,
     "metadata": {},
     "output_type": "execute_result"
    }
   ],
   "source": [
    "#Rename columns\n",
    "columns = [\"Market_Cap\"]\n",
    "MarketCap_df.columns = columns\n",
    "MarketCap_df"
   ]
  },
  {
   "cell_type": "code",
   "execution_count": 354,
   "id": "15e4b4e9-0505-4d7c-8171-a3484e4555b4",
   "metadata": {},
   "outputs": [
    {
     "data": {
      "text/plain": [
       "Market_Cap    object\n",
       "dtype: object"
      ]
     },
     "execution_count": 354,
     "metadata": {},
     "output_type": "execute_result"
    }
   ],
   "source": [
    "#Change data type for plot\n",
    "MarketCap_df.dtypes"
   ]
  },
  {
   "cell_type": "code",
   "execution_count": 355,
   "id": "750239b3-2a15-4602-ad1f-e675e18b1abd",
   "metadata": {},
   "outputs": [
    {
     "data": {
      "text/plain": [
       "CryptoPunks               1193025.61\n",
       "Bored Ape Yacht Club       418574.92\n",
       "Fidenza by Tyler Hobbs     163336.50\n",
       "CyberKongs                  62897.74\n",
       "Emblem Vault                33402.22\n",
       "Name: Market_Cap, dtype: float64"
      ]
     },
     "execution_count": 355,
     "metadata": {},
     "output_type": "execute_result"
    }
   ],
   "source": [
    "MarketCap_df[\"Market_Cap\"] = MarketCap_df[\"Market_Cap\"].astype(\"float\")\n",
    "MarketCap_df[\"Market_Cap\"]"
   ]
  },
  {
   "cell_type": "code",
   "execution_count": 356,
   "id": "7a1b595a-c7ab-4055-aae4-badea089d49d",
   "metadata": {},
   "outputs": [],
   "source": [
    "#Used data from MarketCap_df to fill in values in order to troubleshoot (graph was not working with df input)\n",
    "x = {\n",
    "    'CryptoPunks': 1193025.61,\n",
    "    'Bored Ape Yacht Club': 418574.92,\n",
    "    'Fidenza by Tyler Hobbs': 163336.50,\n",
    "    'CyberKongs': 62897.74,\n",
    "    'Emblem Vault': 33402.22\n",
    "}"
   ]
  },
  {
   "cell_type": "code",
   "execution_count": 357,
   "id": "8c3ff892-935b-4f75-a2d4-c2c84c7aad9f",
   "metadata": {},
   "outputs": [
    {
     "name": "stderr",
     "output_type": "stream",
     "text": [
      "BokehDeprecationWarning: 'legend' keyword is deprecated, use explicit 'legend_label', 'legend_field', or 'legend_group' keywords instead\n"
     ]
    },
    {
     "data": {
      "text/html": [
       "\n",
       "\n",
       "\n",
       "\n",
       "\n",
       "\n",
       "  <div class=\"bk-root\" id=\"8c5d576e-4c91-42cc-86c4-a752fd2203ea\" data-root-id=\"34103\"></div>\n"
      ]
     },
     "metadata": {},
     "output_type": "display_data"
    },
    {
     "data": {
      "application/javascript": [
       "(function(root) {\n",
       "  function embed_document(root) {\n",
       "    \n",
       "  var docs_json = {\"aa4c00e2-af99-407c-bec9-cff6aa459377\":{\"defs\":[{\"extends\":null,\"module\":null,\"name\":\"ReactiveHTML1\",\"overrides\":[],\"properties\":[]},{\"extends\":null,\"module\":null,\"name\":\"FlexBox1\",\"overrides\":[],\"properties\":[{\"default\":\"flex-start\",\"kind\":null,\"name\":\"align_content\"},{\"default\":\"flex-start\",\"kind\":null,\"name\":\"align_items\"},{\"default\":\"row\",\"kind\":null,\"name\":\"flex_direction\"},{\"default\":\"wrap\",\"kind\":null,\"name\":\"flex_wrap\"},{\"default\":\"flex-start\",\"kind\":null,\"name\":\"justify_content\"}]},{\"extends\":null,\"module\":null,\"name\":\"TemplateActions1\",\"overrides\":[],\"properties\":[{\"default\":0,\"kind\":null,\"name\":\"open_modal\"},{\"default\":0,\"kind\":null,\"name\":\"close_modal\"}]},{\"extends\":null,\"module\":null,\"name\":\"MaterialTemplateActions1\",\"overrides\":[],\"properties\":[{\"default\":0,\"kind\":null,\"name\":\"open_modal\"},{\"default\":0,\"kind\":null,\"name\":\"close_modal\"}]}],\"roots\":{\"references\":[{\"attributes\":{\"below\":[{\"id\":\"34114\"}],\"center\":[{\"id\":\"34117\"},{\"id\":\"34121\"},{\"id\":\"34142\"}],\"height\":350,\"left\":[{\"id\":\"34118\"}],\"renderers\":[{\"id\":\"34131\"}],\"title\":{\"id\":\"34104\"},\"toolbar\":{\"id\":\"34123\"},\"toolbar_location\":null,\"x_range\":{\"id\":\"34106\"},\"x_scale\":{\"id\":\"34110\"},\"y_range\":{\"id\":\"34108\"},\"y_scale\":{\"id\":\"34112\"}},\"id\":\"34103\",\"subtype\":\"Figure\",\"type\":\"Plot\"},{\"attributes\":{\"data\":{\"Project\":[\"CryptoPunks\",\"Bored Ape Yacht Club\",\"Fidenza by Tyler Hobbs\",\"CyberKongs\",\"Emblem Vault\"],\"angle\":{\"__ndarray__\":\"AzWubgwGEECIyqZD13z2Py9Vzs7fjOE/k0xbMnoIyz9GGuhPUra8Pw==\",\"dtype\":\"float64\",\"order\":\"little\",\"shape\":[5]},\"color\":[\"#3182bd\",\"#6baed6\",\"#9ecae1\",\"#c6dbef\",\"#e6550d\"],\"index\":[0,1,2,3,4],\"value\":{\"__ndarray__\":\"w/UonEE0MkHhehSuO4wZQQAAAABE8ANB4XoUrje27kCkcD0KR0/gQA==\",\"dtype\":\"float64\",\"order\":\"little\",\"shape\":[5]}},\"selected\":{\"id\":\"34141\"},\"selection_policy\":{\"id\":\"34140\"}},\"id\":\"34127\",\"type\":\"ColumnDataSource\"},{\"attributes\":{\"axis\":{\"id\":\"34118\"},\"dimension\":1,\"grid_line_color\":null,\"ticker\":null},\"id\":\"34121\",\"type\":\"Grid\"},{\"attributes\":{\"source\":{\"id\":\"34127\"}},\"id\":\"34132\",\"type\":\"CDSView\"},{\"attributes\":{},\"id\":\"34141\",\"type\":\"Selection\"},{\"attributes\":{},\"id\":\"34140\",\"type\":\"UnionRenderers\"},{\"attributes\":{\"items\":[{\"id\":\"34143\"}]},\"id\":\"34142\",\"type\":\"Legend\"},{\"attributes\":{\"field\":\"angle\",\"include_zero\":true},\"id\":\"34125\",\"type\":\"CumSum\"},{\"attributes\":{},\"id\":\"34139\",\"type\":\"AllLabels\"},{\"attributes\":{\"data_source\":{\"id\":\"34127\"},\"glyph\":{\"id\":\"34129\"},\"hover_glyph\":null,\"muted_glyph\":null,\"nonselection_glyph\":{\"id\":\"34130\"},\"view\":{\"id\":\"34132\"}},\"id\":\"34131\",\"type\":\"GlyphRenderer\"},{\"attributes\":{\"active_multi\":null,\"tools\":[{\"id\":\"34122\"}]},\"id\":\"34123\",\"type\":\"Toolbar\"},{\"attributes\":{},\"id\":\"34135\",\"type\":\"BasicTickFormatter\"},{\"attributes\":{\"end_angle\":{\"expr\":{\"id\":\"34126\"}},\"fill_color\":{\"field\":\"color\"},\"line_color\":{\"value\":\"white\"},\"radius\":{\"value\":0.4},\"start_angle\":{\"expr\":{\"id\":\"34125\"}},\"x\":{\"value\":0},\"y\":{\"value\":1}},\"id\":\"34129\",\"type\":\"Wedge\"},{\"attributes\":{\"text\":\"Top 5 NFT Projects by Market Cap\"},\"id\":\"34104\",\"type\":\"Title\"},{\"attributes\":{\"end_angle\":{\"expr\":{\"id\":\"34126\"}},\"fill_alpha\":{\"value\":0.1},\"fill_color\":{\"field\":\"color\"},\"line_alpha\":{\"value\":0.1},\"line_color\":{\"value\":\"white\"},\"radius\":{\"value\":0.4},\"start_angle\":{\"expr\":{\"id\":\"34125\"}},\"x\":{\"value\":0},\"y\":{\"value\":1}},\"id\":\"34130\",\"type\":\"Wedge\"},{\"attributes\":{},\"id\":\"34110\",\"type\":\"LinearScale\"},{\"attributes\":{\"axis_label\":null,\"formatter\":{\"id\":\"34138\"},\"major_label_policy\":{\"id\":\"34139\"},\"ticker\":{\"id\":\"34115\"},\"visible\":false},\"id\":\"34114\",\"type\":\"LinearAxis\"},{\"attributes\":{\"axis\":{\"id\":\"34114\"},\"grid_line_color\":null,\"ticker\":null},\"id\":\"34117\",\"type\":\"Grid\"},{\"attributes\":{\"field\":\"angle\"},\"id\":\"34126\",\"type\":\"CumSum\"},{\"attributes\":{},\"id\":\"34112\",\"type\":\"LinearScale\"},{\"attributes\":{\"label\":{\"field\":\"Project\"},\"renderers\":[{\"id\":\"34131\"}]},\"id\":\"34143\",\"type\":\"LegendItem\"},{\"attributes\":{\"start\":-0.5},\"id\":\"34106\",\"type\":\"Range1d\"},{\"attributes\":{},\"id\":\"34136\",\"type\":\"AllLabels\"},{\"attributes\":{\"callback\":null,\"tooltips\":\"@Project: @value\"},\"id\":\"34122\",\"type\":\"HoverTool\"},{\"attributes\":{},\"id\":\"34119\",\"type\":\"BasicTicker\"},{\"attributes\":{\"axis_label\":null,\"formatter\":{\"id\":\"34135\"},\"major_label_policy\":{\"id\":\"34136\"},\"ticker\":{\"id\":\"34119\"},\"visible\":false},\"id\":\"34118\",\"type\":\"LinearAxis\"},{\"attributes\":{},\"id\":\"34108\",\"type\":\"DataRange1d\"},{\"attributes\":{},\"id\":\"34138\",\"type\":\"BasicTickFormatter\"},{\"attributes\":{},\"id\":\"34115\",\"type\":\"BasicTicker\"}],\"root_ids\":[\"34103\"]},\"title\":\"Bokeh Application\",\"version\":\"2.3.2\"}};\n",
       "  var render_items = [{\"docid\":\"aa4c00e2-af99-407c-bec9-cff6aa459377\",\"root_ids\":[\"34103\"],\"roots\":{\"34103\":\"8c5d576e-4c91-42cc-86c4-a752fd2203ea\"}}];\n",
       "  root.Bokeh.embed.embed_items_notebook(docs_json, render_items);\n",
       "\n",
       "  }\n",
       "  if (root.Bokeh !== undefined) {\n",
       "    embed_document(root);\n",
       "  } else {\n",
       "    var attempts = 0;\n",
       "    var timer = setInterval(function(root) {\n",
       "      if (root.Bokeh !== undefined) {\n",
       "        clearInterval(timer);\n",
       "        embed_document(root);\n",
       "      } else {\n",
       "        attempts++;\n",
       "        if (attempts > 100) {\n",
       "          clearInterval(timer);\n",
       "          console.log(\"Bokeh: ERROR: Unable to run BokehJS code because BokehJS library is missing\");\n",
       "        }\n",
       "      }\n",
       "    }, 10, root)\n",
       "  }\n",
       "})(window);"
      ],
      "application/vnd.bokehjs_exec.v0+json": ""
     },
     "metadata": {
      "application/vnd.bokehjs_exec.v0+json": {
       "id": "34103"
      }
     },
     "output_type": "display_data"
    }
   ],
   "source": [
    "#To meet technical requirements of the project, we used another library Bokeh to run a pie chart\n",
    "x = MarketCap_df[\"Market_Cap\"]\n",
    "\n",
    "data = pd.Series(x).reset_index(name=\"value\").rename(columns={\"index\":\"Project\"})\n",
    "data['angle'] = data['value']/data['value'].sum() * 2*pi\n",
    "data['color'] = Category20c[len(x)]\n",
    "\n",
    "plot_7 = figure(height=350, title=\"Top 5 NFT Projects by Market Cap\", toolbar_location=None,\n",
    "                tools=\"hover\", tooltips=\"@Project: @value\", x_range=(-0.5, 1.0))\n",
    "plot_7.wedge(x=0, y=1, radius=0.4,\n",
    "                start_angle=cumsum('angle', include_zero=True), end_angle=cumsum('angle'),\n",
    "                line_color=\"white\", fill_color='color', legend='Project', source=data)\n",
    "plot_7.axis.axis_label=None\n",
    "plot_7.axis.visible=False\n",
    "plot_7.grid.grid_line_color = None\n",
    "show(plot_7)\n"
   ]
  },
  {
   "cell_type": "markdown",
   "id": "4cd49030-40e1-4774-915b-53520189fc9a",
   "metadata": {},
   "source": [
    "#### Visual 7 Conclusion:  This visual provided our group with the top 5 NFT projects by Market Cap.  CryptoPunks far exceeds all other projects, at almost 1200000 ETH."
   ]
  },
  {
   "cell_type": "markdown",
   "id": "efbd2842-3325-475d-9ab5-f1bfa077e569",
   "metadata": {},
   "source": [
    "### DASHBOARD"
   ]
  },
  {
   "cell_type": "markdown",
   "id": "871bbcaf-447b-49ae-bb09-c77ad6b326cc",
   "metadata": {},
   "source": [
    "#### We created a dashboard for the presentation, and included Background/Narrative tabs as well as all visualizations.  The dashboard was saved as an html and used as our presentation."
   ]
  },
  {
   "cell_type": "markdown",
   "id": "7b8e647a-418a-4b77-890e-9f64c2d00aac",
   "metadata": {},
   "source": [
    "##### First Step: Create Markdowns for Overview Tabs"
   ]
  },
  {
   "cell_type": "code",
   "execution_count": 358,
   "id": "2319b49d-313b-4d35-b2b8-59bcbf4f48f8",
   "metadata": {},
   "outputs": [],
   "source": [
    "markdown_titlepage = \"\"\"\n",
    "\n",
    "# Let's Put the \"Fun\" in Non-Fungible Tokens (NFTs)  \n",
    "  \n",
    "Presentation Date: November 6, 2021  \n",
    "    \n",
    "Prepared by Andrew, Rachel, Sam, and Jinhyeong  \n",
    "  \n",
    "![image](./images/NFTheads.png)\n",
    "\n",
    "\"\"\""
   ]
  },
  {
   "cell_type": "code",
   "execution_count": 359,
   "id": "26485676-b827-44ec-93f1-7b14a9d991c4",
   "metadata": {},
   "outputs": [],
   "source": [
    "markdown_intro = \"\"\"\n",
    "# Project Objective  \n",
    "  \n",
    "Our project is to research and learn patterns and trends in NFTs.  \n",
    "We will be using the OpenSea API to retrieve data regarding NFTs to determine the following:  \n",
    ">- What are NFTs?  \n",
    ">- What are the financial trends?  \n",
    ">- How profitable are NFTs?    \n",
    "  \n",
    "  \n",
    "![image](./images/NFTCollector.png)\n",
    "\"\"\""
   ]
  },
  {
   "cell_type": "code",
   "execution_count": 360,
   "id": "13ec2ee5-824b-42cc-a48d-88526ad7ede4",
   "metadata": {},
   "outputs": [],
   "source": [
    "markdown_background1 = \"\"\"\n",
    "# What are NFTs?  \n",
    "  \n",
    ">NFTs, or nonfungible tokens, are unique assets that can’t be replaced with something else,  \n",
    ">and are verified and stored using blockchain technology.  They can include everything from  \n",
    ">music to a website domain, but the current craze is really around digital artwork.    \n",
    "  \n",
    ">The market exceeded $10B in transaction volume as of 3Q2021.  \n",
    "  \n",
    "![image](./images/NFTcoin.png)\n",
    "\n",
    "\"\"\""
   ]
  },
  {
   "cell_type": "code",
   "execution_count": 361,
   "id": "afbeb511-1a46-4e4d-9699-ab19bbb1448d",
   "metadata": {},
   "outputs": [],
   "source": [
    "markdown_background2 = \"\"\"\n",
    "# Examples of Recently Sold NFTs  \n",
    "  \n",
    ">The NFT art scene has exploded in recent months, with some of the most expensive NFT sales  \n",
    ">conducted in the last six months.  A few examples include:    \n",
    "  \n",
    ">- CryptoPunk #7523,  $11.8 million  \n",
    ">- CryptoPunk #7804, $7.56 million  \n",
    ">- Ocean Front, $6 million  \n",
    ">- World Wide Web source code, $5.43 million  \n",
    "  \n",
    "  \n",
    "![image](./images/cryptopunk7523.png)  \n",
    "![image](./images/cryptopunk7804.png)  \n",
    "![image](./images/oceanfront.png)  \n",
    "![image](./images/WWWsourcecode.png)\n",
    "\n",
    "\"\"\""
   ]
  },
  {
   "cell_type": "code",
   "execution_count": 362,
   "id": "7e699d99-fecb-43a0-a3ff-9d874646e9de",
   "metadata": {},
   "outputs": [],
   "source": [
    "markdown_background3 = \"\"\"\n",
    "# Minting and Purchasing an NFT  \n",
    "  \n",
    ">For NFTs to become valuable and scarce they have to be minted. The term minting in NFTs is similar   \n",
    ">to minting a coin of silver. Once an NFT is minted on the Ethereum blockchain it becomes unchangeable   \n",
    ">and tamper-proof. Newly minted NFTs then are able to be sold on third party websites. These websites   \n",
    ">include Nifty Gateway, Zora, and OpeanSea to name a few.    \n",
    "  \n",
    ">For a buyer to purchase an NFT they have to purchase the NFT using Ethereum Tokens.  \n",
    ">Other blockchain networks that mint NFTs beside Ethereum include Solana, Polygon, and Binance Smart   \n",
    ">Chain, to name a few. Yet Ethereum reigns supreme for NFTs on chain.  \n",
    "\n",
    "\"\"\""
   ]
  },
  {
   "cell_type": "code",
   "execution_count": 363,
   "id": "4cf32734-e884-4054-b664-93b467aa99e6",
   "metadata": {},
   "outputs": [],
   "source": [
    "markdown_background4 = \"\"\"\n",
    "# The Rise of NFTs\n",
    "\n",
    ">NFTs have only been around for a little over a half a decade so they have not become commonplace in  \n",
    ">today’s society. Yet the NFT space has gained some notoriety this past year due to the fact that   \n",
    ">massive amounts of money have been allocated to purchase some NFT projects. The vast majority of  \n",
    ">people in the NFT space, which are the artists and buyers, are between the ages of 18-39.    \n",
    "  \n",
    "![image](./images/beeple.png)\n",
    "\"\"\""
   ]
  },
  {
   "cell_type": "code",
   "execution_count": 376,
   "id": "19bb8982-9dbe-40f7-91db-327d00d4a151",
   "metadata": {},
   "outputs": [],
   "source": [
    "markdown_end = \"\"\"\n",
    "\n",
    "# Conclusion  \n",
    "  \n",
    "We learned a lot about NFTs, but realize this is a relatively new concept.  Sales and price trends  \n",
    "are sporadic with no obvious patterns or seasonality.  Data was not very clean or comprehensive.  \n",
    "  \n",
    "However, given the data you have seen and this new trend...  \n",
    "  \n",
    "    \n",
    "**Would YOU buy an NFT?**  \n",
    "  \n",
    "We would!  \n",
    "  \n",
    "  \n",
    "  \n",
    "![image](./images/NFT_comic.png)\n",
    "\"\"\""
   ]
  },
  {
   "cell_type": "code",
   "execution_count": 366,
   "id": "5b3f4b85-1be2-4c7b-9e76-3ce4fbb6fc0d",
   "metadata": {},
   "outputs": [],
   "source": [
    "visualoverview = \"\"\"\n",
    "\n",
    "# Visualization Overview  \n",
    "  \n",
    "Below is a summary of the various visualizations we created to answer questions we had about NFTs.  \n",
    "Our goal was to learn about the NFT market and if it would be beneficial to invest in NFTs.  \n",
    "This data was obtained mostly from the OpenSea API source.  \n",
    "  \n",
    "1. NFT Bid Trends\n",
    "2. Number of NFT Sales per Day\n",
    "1. Volume of NFT Sales per Day\n",
    "2. Top 10 NFT Bid Prices\n",
    "1. Number of Sales per Token ID\n",
    "2. Total Buyers/Sellers\n",
    "1. Top 5 NFT Projects by Market Cap\n",
    "\n",
    "\"\"\""
   ]
  },
  {
   "cell_type": "code",
   "execution_count": 367,
   "id": "0d0a7d4c-8a92-4a07-8036-b83dbf336eab",
   "metadata": {},
   "outputs": [],
   "source": [
    "dataphases = \"\"\"\n",
    "\n",
    "# Data Phases  \n",
    "  \n",
    "Our process consisted of a data exploration, cleanup, and analysis phases.  \n",
    "  \n",
    ">- Exploration: Google seaches, API searches, OpenSea    \n",
    ">- Cleanup: Searching through variables in Spyder, dropping nulls, replaced NoneTypes   \n",
    ">- Analysis: Looking through the data to find interesting topics to make plots and visualizations  \n",
    "  \n",
    "\"\"\""
   ]
  },
  {
   "cell_type": "markdown",
   "id": "adcc7396-a3f9-4082-86bc-cf87587ed563",
   "metadata": {},
   "source": [
    "##### Second Step: Fix any dashboard issues"
   ]
  },
  {
   "cell_type": "code",
   "execution_count": 380,
   "id": "d7e05950-04ee-4c8a-8495-f24d1b16c2d6",
   "metadata": {},
   "outputs": [],
   "source": [
    "#Some of our plots did not translate well in the dashboard, so we converted them to pngs and used the image\n",
    "plot_1 =\"\"\"\n",
    "![image](./images/plot_1.png)\n",
    "\"\"\""
   ]
  },
  {
   "cell_type": "code",
   "execution_count": 372,
   "id": "a404dc74-3b21-45d0-a69e-7031d1506800",
   "metadata": {},
   "outputs": [],
   "source": [
    "plot_2 =\"\"\"\n",
    "![image](./images/plot_2.png)\n",
    "\"\"\""
   ]
  },
  {
   "cell_type": "code",
   "execution_count": 373,
   "id": "3ebf87f3-bea5-4529-bc50-e1a7a3b859ac",
   "metadata": {},
   "outputs": [],
   "source": [
    "plot_6 =\"\"\"\n",
    "![image](./images/plot_6.png)\n",
    "\"\"\""
   ]
  },
  {
   "cell_type": "markdown",
   "id": "c0ae64b3-56cf-4112-a7c3-684da6e252e5",
   "metadata": {},
   "source": [
    "##### Third Step: Create the Dashboard"
   ]
  },
  {
   "cell_type": "code",
   "execution_count": 377,
   "id": "486a6d32-5868-4fde-8c5b-3f676565a097",
   "metadata": {},
   "outputs": [
    {
     "data": {},
     "metadata": {},
     "output_type": "display_data"
    },
    {
     "data": {},
     "metadata": {},
     "output_type": "display_data"
    },
    {
     "data": {
      "application/vnd.holoviews_exec.v0+json": "",
      "text/html": [
       "<div id='37633'>\n",
       "\n",
       "\n",
       "\n",
       "\n",
       "\n",
       "  <div class=\"bk-root\" id=\"5f1fd436-2f9e-4292-be6f-7f3bff1fcf13\" data-root-id=\"37633\"></div>\n",
       "</div>\n",
       "<script type=\"application/javascript\">(function(root) {\n",
       "  function embed_document(root) {\n",
       "    var docs_json = {\"9f5ae46a-3be3-4eb3-9329-bdb0c6bf5fb6\":{\"defs\":[{\"extends\":null,\"module\":null,\"name\":\"ReactiveHTML1\",\"overrides\":[],\"properties\":[]},{\"extends\":null,\"module\":null,\"name\":\"FlexBox1\",\"overrides\":[],\"properties\":[{\"default\":\"flex-start\",\"kind\":null,\"name\":\"align_content\"},{\"default\":\"flex-start\",\"kind\":null,\"name\":\"align_items\"},{\"default\":\"row\",\"kind\":null,\"name\":\"flex_direction\"},{\"default\":\"wrap\",\"kind\":null,\"name\":\"flex_wrap\"},{\"default\":\"flex-start\",\"kind\":null,\"name\":\"justify_content\"}]},{\"extends\":null,\"module\":null,\"name\":\"TemplateActions1\",\"overrides\":[],\"properties\":[{\"default\":0,\"kind\":null,\"name\":\"open_modal\"},{\"default\":0,\"kind\":null,\"name\":\"close_modal\"}]},{\"extends\":null,\"module\":null,\"name\":\"MaterialTemplateActions1\",\"overrides\":[],\"properties\":[{\"default\":0,\"kind\":null,\"name\":\"open_modal\"},{\"default\":0,\"kind\":null,\"name\":\"close_modal\"}]}],\"roots\":{\"references\":[{\"attributes\":{},\"id\":\"37807\",\"type\":\"BasicTicker\"},{\"attributes\":{\"axis_label\":\"Number of Sales\",\"formatter\":{\"id\":\"37835\"},\"major_label_policy\":{\"id\":\"37836\"},\"ticker\":{\"id\":\"37807\"}},\"id\":\"37806\",\"type\":\"LinearAxis\"},{\"attributes\":{},\"id\":\"37824\",\"type\":\"Selection\"},{\"attributes\":{\"axis\":{\"id\":\"37806\"},\"dimension\":1,\"ticker\":{\"id\":\"37807\"}},\"id\":\"37809\",\"type\":\"Grid\"},{\"attributes\":{\"child\":{\"id\":\"37638\"},\"name\":\"Background Tab 2\",\"title\":\"Background Tab 2\"},\"id\":\"37639\",\"type\":\"Panel\"},{\"attributes\":{\"bottom\":{\"value\":0},\"fill_alpha\":{\"value\":1.0},\"fill_color\":{\"value\":\"#30a2da\"},\"hatch_alpha\":{\"value\":1.0},\"hatch_color\":{\"value\":\"black\"},\"hatch_scale\":{\"value\":12.0},\"hatch_weight\":{\"value\":1.0},\"line_alpha\":{\"value\":1.0},\"line_cap\":{\"value\":\"butt\"},\"line_color\":{\"value\":\"black\"},\"line_dash\":{\"value\":[]},\"line_dash_offset\":{\"value\":0},\"line_join\":{\"value\":\"bevel\"},\"line_width\":{\"value\":1},\"top\":{\"field\":\"listing_price\"},\"width\":{\"value\":0.8},\"x\":{\"field\":\"listing_date\"}},\"id\":\"37690\",\"type\":\"VBar\"},{\"attributes\":{\"css_classes\":[\"markdown\"],\"margin\":[5,5,5,5],\"name\":\"NFT Bid Trends\",\"text\":\"&lt;p&gt;&lt;img alt=&quot;image&quot; src=&quot;./images/plot_1.png&quot;&gt;&lt;/p&gt;\"},\"id\":\"37646\",\"type\":\"panel.models.markup.HTML\"},{\"attributes\":{\"fill_alpha\":{\"value\":0.2},\"fill_color\":{\"value\":\"#30a2da\"},\"line_alpha\":{\"value\":0.2},\"top\":{\"field\":\"num_sales\"},\"width\":{\"value\":0.8},\"x\":{\"field\":\"token_id\"}},\"id\":\"37828\",\"type\":\"VBar\"},{\"attributes\":{\"data_source\":{\"id\":\"37823\"},\"glyph\":{\"id\":\"37826\"},\"hover_glyph\":null,\"muted_glyph\":{\"id\":\"37828\"},\"nonselection_glyph\":{\"id\":\"37827\"},\"selection_glyph\":{\"id\":\"37831\"},\"view\":{\"id\":\"37830\"}},\"id\":\"37829\",\"type\":\"GlyphRenderer\"},{\"attributes\":{\"source\":{\"id\":\"37823\"}},\"id\":\"37830\",\"type\":\"CDSView\"},{\"attributes\":{\"child\":{\"id\":\"37642\"},\"name\":\"Background Tab 4\",\"title\":\"Background Tab 4\"},\"id\":\"37643\",\"type\":\"Panel\"},{\"attributes\":{},\"id\":\"37810\",\"type\":\"SaveTool\"},{\"attributes\":{},\"id\":\"37811\",\"type\":\"PanTool\"},{\"attributes\":{},\"id\":\"37814\",\"type\":\"ResetTool\"},{\"attributes\":{},\"id\":\"37812\",\"type\":\"WheelZoomTool\"},{\"attributes\":{\"css_classes\":[\"markdown\"],\"margin\":[5,5,5,5],\"name\":\"Background Tab 1\",\"text\":\"&lt;h1&gt;What are NFTs?&lt;/h1&gt;\\n&lt;blockquote&gt;\\n&lt;p&gt;NFTs, or nonfungible tokens, are unique assets that can\\u2019t be replaced with something else,&lt;br&gt;\\nand are verified and stored using blockchain technology.  They can include everything from&lt;br&gt;\\nmusic to a website domain, but the current craze is really around digital artwork.    &lt;/p&gt;\\n&lt;p&gt;The market exceeded $10B in transaction volume as of 3Q2021.  &lt;/p&gt;\\n&lt;/blockquote&gt;\\n&lt;p&gt;&lt;img alt=&quot;image&quot; src=&quot;./images/NFTcoin.png&quot;&gt;&lt;/p&gt;\"},\"id\":\"37636\",\"type\":\"panel.models.markup.HTML\"},{\"attributes\":{\"callback\":null,\"renderers\":[{\"id\":\"37688\"}],\"tags\":[\"hv_created\"],\"tooltips\":[[\"listing_date\",\"@{listing_date}\"],[\"listing_price\",\"@{listing_price}\"]]},\"id\":\"37652\",\"type\":\"HoverTool\"},{\"attributes\":{\"end\":601.12,\"reset_end\":601.12,\"reset_start\":0.0,\"tags\":[[[\"0\",\"0\",null]]]},\"id\":\"37722\",\"type\":\"Range1d\"},{\"attributes\":{\"overlay\":{\"id\":\"37815\"}},\"id\":\"37813\",\"type\":\"BoxZoomTool\"},{\"attributes\":{\"client_comm_id\":\"8007ba3118b04b9894dde0f44908d37f\",\"comm_id\":\"1134545d8b064083b08729e806762015\",\"plot_id\":\"37633\"},\"id\":\"38007\",\"type\":\"panel.models.comm_manager.CommManager\"},{\"attributes\":{\"start\":-0.5},\"id\":\"34106\",\"type\":\"Range1d\"},{\"attributes\":{},\"id\":\"37835\",\"type\":\"BasicTickFormatter\"},{\"attributes\":{\"callback\":null,\"renderers\":[{\"id\":\"37759\"}],\"tags\":[\"hv_created\"],\"tooltips\":[[\"index\",\"@{index}\"],[\"0\",\"@{A_0}\"]]},\"id\":\"37723\",\"type\":\"HoverTool\"},{\"attributes\":{},\"id\":\"37836\",\"type\":\"AllLabels\"},{\"attributes\":{\"child\":{\"id\":\"37644\"},\"name\":\"Visualization Overview\",\"title\":\"Visualization Overview\"},\"id\":\"37645\",\"type\":\"Panel\"},{\"attributes\":{\"css_classes\":[\"markdown\"],\"margin\":[5,5,5,5],\"name\":\"Visualization Overview\",\"text\":\"&lt;h1&gt;Visualization Overview&lt;/h1&gt;\\n&lt;p&gt;Below is a summary of the various visualizations we created to answer questions we had about NFTs.&lt;br&gt;\\nOur goal was to learn about the NFT market and if it would be beneficial to invest in NFTs.&lt;br&gt;\\nThis data was obtained mostly from the OpenSea API source.  &lt;/p&gt;\\n&lt;ol&gt;\\n&lt;li&gt;NFT Bid Trends&lt;/li&gt;\\n&lt;li&gt;Number of NFT Sales per Day&lt;/li&gt;\\n&lt;li&gt;Volume of NFT Sales per Day&lt;/li&gt;\\n&lt;li&gt;Top 10 NFT Bid Prices&lt;/li&gt;\\n&lt;li&gt;Number of Sales per Token ID&lt;/li&gt;\\n&lt;li&gt;Total Buyers/Sellers&lt;/li&gt;\\n&lt;li&gt;Top 5 NFT Projects by Market Cap&lt;/li&gt;\\n&lt;/ol&gt;\"},\"id\":\"37644\",\"type\":\"panel.models.markup.HTML\"},{\"attributes\":{\"fill_color\":{\"value\":\"#30a2da\"},\"top\":{\"field\":\"A_0\"},\"width\":{\"value\":0.8},\"x\":{\"field\":\"index\"}},\"id\":\"37756\",\"type\":\"VBar\"},{\"attributes\":{},\"id\":\"37754\",\"type\":\"Selection\"},{\"attributes\":{\"child\":{\"id\":\"34103\"},\"name\":\"Top 5 NFT Projects by Market Cap\",\"title\":\"Top 5 NFT Projects by Market Cap\"},\"id\":\"37890\",\"type\":\"Panel\"},{\"attributes\":{\"text\":\"Top 10 NFT Bids on OpenSea\",\"text_color\":\"black\",\"text_font_size\":\"12pt\"},\"id\":\"37725\",\"type\":\"Title\"},{\"attributes\":{},\"id\":\"37763\",\"type\":\"CategoricalTickFormatter\"},{\"attributes\":{\"below\":[{\"id\":\"34114\"}],\"center\":[{\"id\":\"34117\"},{\"id\":\"34121\"},{\"id\":\"34142\"}],\"height\":350,\"inner_height\":316,\"inner_width\":590,\"left\":[{\"id\":\"34118\"}],\"outer_height\":350,\"outer_width\":600,\"renderers\":[{\"id\":\"34131\"}],\"title\":{\"id\":\"34104\"},\"toolbar\":{\"id\":\"34123\"},\"toolbar_location\":null,\"x_range\":{\"id\":\"34106\"},\"x_scale\":{\"id\":\"34110\"},\"y_range\":{\"id\":\"34108\"},\"y_scale\":{\"id\":\"34112\"}},\"id\":\"34103\",\"subtype\":\"Figure\",\"type\":\"Plot\"},{\"attributes\":{\"bottom_units\":\"screen\",\"fill_alpha\":0.5,\"fill_color\":\"lightgrey\",\"left_units\":\"screen\",\"level\":\"overlay\",\"line_alpha\":1.0,\"line_color\":\"black\",\"line_dash\":[4,4],\"line_width\":2,\"right_units\":\"screen\",\"syncable\":false,\"top_units\":\"screen\"},\"id\":\"37815\",\"type\":\"BoxAnnotation\"},{\"attributes\":{\"end\":5.5,\"reset_end\":5.5,\"reset_start\":0.0,\"tags\":[[[\"num_sales\",\"num_sales\",null]]]},\"id\":\"37792\",\"type\":\"Range1d\"},{\"attributes\":{\"fill_alpha\":{\"value\":0.1},\"fill_color\":{\"value\":\"#30a2da\"},\"line_alpha\":{\"value\":0.1},\"top\":{\"field\":\"num_sales\"},\"width\":{\"value\":0.8},\"x\":{\"field\":\"token_id\"}},\"id\":\"37827\",\"type\":\"VBar\"},{\"attributes\":{},\"id\":\"37683\",\"type\":\"Selection\"},{\"attributes\":{\"below\":[{\"id\":\"37733\"}],\"center\":[{\"id\":\"37735\"},{\"id\":\"37739\"}],\"height\":300,\"left\":[{\"id\":\"37736\"}],\"margin\":[5,5,5,5],\"min_border_bottom\":10,\"min_border_left\":10,\"min_border_right\":10,\"min_border_top\":10,\"renderers\":[{\"id\":\"37759\"}],\"sizing_mode\":\"fixed\",\"title\":{\"id\":\"37725\"},\"toolbar\":{\"id\":\"37746\"},\"width\":700,\"x_range\":{\"id\":\"37721\"},\"x_scale\":{\"id\":\"37729\"},\"y_range\":{\"id\":\"37722\"},\"y_scale\":{\"id\":\"37731\"}},\"id\":\"37724\",\"subtype\":\"Figure\",\"type\":\"Plot\"},{\"attributes\":{\"data\":{\"num_sales\":[2,0,1,1,0,1,0,1,0,2,0,0,2,0,3,0,0,0,0,0,4,0,3,0,1,1,3,0,0,1,0,4,0,4,1,0,1,1,1,2,2,1,0,0,2,0,1,3,2,1,1,1,1,1,0,0,1,0,0,0,1,0,2,0,0,1,1,4,2,2,0,0,3,3,1,2,0,0,1,1,1,0,1,0,2,1,0,0,2,3,0,3,0,2,0,3,0,0,5,3],\"token_id\":[\"8271\",\"7250\",\"8808\",\"9434\",\"8652\",\"2854\",\"4953\",\"1700\",\"3194\",\"8339\",\"1338\",\"4875\",\"795\",\"1383\",\"3672\",\"5840\",\"9815\",\"1405\",\"3271\",\"8510\",\"6338981479\",\"22984\",\"6629\",\"57\",\"3075\",\"2035\",\"4584\",\"5758\",\"9436\",\"985\",\"7074\",\"4403\",\"6147\",\"4559272832\",\"1809\",\"8573\",\"989\",\"2585\",\"861\",\"1639\",\"4840\",\"5517\",\"2321\",\"1945855582\",\"9712\",\"22\",\"4207\",\"2432\",\"611\",\"916\",\"9384\",\"7802\",\"528\",\"1402\",\"9842\",\"9503\",\"3237\",\"8926\",\"2007665964\",\"2942\",\"196\",\"8837\",\"7639\",\"8049\",\"800\",\"3192\",\"5356\",\"2656\",\"5074\",\"4981676894\",\"1940\",\"3570\",\"3191\",\"3009\",\"1405\",\"7243\",\"991\",\"3970\",\"238\",\"425\",\"9102\",\"7397818359\",\"1070\",\"7238\",\"1501\",\"452\",\"3535\",\"6822\",\"6944\",\"5195\",\"1043\",\"3318\",\"2868\",\"1401\",\"7462\",\"3608\",\"7153\",\"4887\",\"1355\",\"8100\"]},\"selected\":{\"id\":\"37824\"},\"selection_policy\":{\"id\":\"37847\"}},\"id\":\"37823\",\"type\":\"ColumnDataSource\"},{\"attributes\":{\"fill_alpha\":{\"value\":0.1},\"fill_color\":{\"value\":\"#30a2da\"},\"line_alpha\":{\"value\":0.1},\"top\":{\"field\":\"A_0\"},\"width\":{\"value\":0.8},\"x\":{\"field\":\"index\"}},\"id\":\"37757\",\"type\":\"VBar\"},{\"attributes\":{\"margin\":[0,0,0,0],\"tabs\":[{\"id\":\"37635\"},{\"id\":\"37637\"},{\"id\":\"37639\"},{\"id\":\"37641\"},{\"id\":\"37643\"},{\"id\":\"37645\"},{\"id\":\"37647\"},{\"id\":\"37649\"},{\"id\":\"37720\"},{\"id\":\"37790\"},{\"id\":\"37860\"},{\"id\":\"37862\"},{\"id\":\"37890\"},{\"id\":\"37892\"}]},\"id\":\"37633\",\"type\":\"Tabs\"},{\"attributes\":{\"factors\":[\"47\",\"99\",\"30\",\"5\",\"59\",\"24\",\"23\",\"91\",\"75\",\"79\"],\"tags\":[[[\"index\",\"index\",null]]]},\"id\":\"37721\",\"type\":\"FactorRange\"},{\"attributes\":{\"active_multi\":null,\"tools\":[{\"id\":\"37793\"},{\"id\":\"37810\"},{\"id\":\"37811\"},{\"id\":\"37812\"},{\"id\":\"37813\"},{\"id\":\"37814\"}]},\"id\":\"37816\",\"type\":\"Toolbar\"},{\"attributes\":{},\"id\":\"37847\",\"type\":\"UnionRenderers\"},{\"attributes\":{\"axis_label\":\"NFT Project Index Number\",\"formatter\":{\"id\":\"37763\"},\"major_label_policy\":{\"id\":\"37764\"},\"ticker\":{\"id\":\"37734\"}},\"id\":\"37733\",\"type\":\"CategoricalAxis\"},{\"attributes\":{\"fill_color\":{\"value\":\"#30a2da\"},\"top\":{\"field\":\"num_sales\"},\"width\":{\"value\":0.8},\"x\":{\"field\":\"token_id\"}},\"id\":\"37826\",\"type\":\"VBar\"},{\"attributes\":{\"end_angle\":{\"expr\":{\"id\":\"34126\"}},\"fill_color\":{\"field\":\"color\"},\"line_color\":{\"value\":\"white\"},\"radius\":{\"value\":0.4},\"start_angle\":{\"expr\":{\"id\":\"34125\"}},\"x\":{\"value\":0},\"y\":{\"value\":1}},\"id\":\"34129\",\"type\":\"Wedge\"},{\"attributes\":{\"below\":[{\"id\":\"37803\"}],\"center\":[{\"id\":\"37805\"},{\"id\":\"37809\"}],\"height\":300,\"left\":[{\"id\":\"37806\"}],\"margin\":[5,5,5,5],\"min_border_bottom\":10,\"min_border_left\":10,\"min_border_right\":10,\"min_border_top\":10,\"renderers\":[{\"id\":\"37829\"}],\"sizing_mode\":\"fixed\",\"title\":{\"id\":\"37795\"},\"toolbar\":{\"id\":\"37816\"},\"width\":1500,\"x_range\":{\"id\":\"37791\"},\"x_scale\":{\"id\":\"37799\"},\"y_range\":{\"id\":\"37792\"},\"y_scale\":{\"id\":\"37801\"}},\"id\":\"37794\",\"subtype\":\"Figure\",\"type\":\"Plot\"},{\"attributes\":{},\"id\":\"37799\",\"type\":\"CategoricalScale\"},{\"attributes\":{\"fill_alpha\":{\"value\":0.2},\"fill_color\":{\"value\":\"#30a2da\"},\"line_alpha\":{\"value\":0.2},\"top\":{\"field\":\"A_0\"},\"width\":{\"value\":0.8},\"x\":{\"field\":\"index\"}},\"id\":\"37758\",\"type\":\"VBar\"},{\"attributes\":{},\"id\":\"37764\",\"type\":\"AllLabels\"},{\"attributes\":{},\"id\":\"37834\",\"type\":\"AllLabels\"},{\"attributes\":{\"factors\":[\"2018-04-16\",\"2020-12-02\",\"2021-01-28\",\"2021-03-07\",\"2021-04-16\",\"2021-05-03\",\"2021-06-14\",\"2021-06-18\",\"2021-06-27\",\"2021-06-28\",\"2021-06-30\",\"2021-07-12\",\"2021-07-22\",\"2021-07-26\",\"2021-07-27\",\"2021-07-28\",\"2021-08-03\",\"2021-08-11\",\"2021-08-12\",\"2021-08-13\",\"2021-08-15\",\"2021-08-27\",\"2021-08-28\",\"2021-08-31\",\"2021-09-01\",\"2021-09-03\",\"2021-09-05\",\"2021-09-06\",\"2021-09-07\",\"2021-09-08\",\"2021-09-11\",\"2021-09-16\",\"2021-09-22\",\"2021-09-23\",\"2021-09-26\",\"2021-09-27\",\"2021-10-04\",\"2021-10-10\",\"2021-10-12\",\"2021-10-13\",\"2021-10-14\",\"2021-10-16\",\"2021-10-17\",\"2021-10-23\",\"2021-10-25\",\"2021-10-26\",\"2021-10-29\",\"2021-10-31\",\"2021-11-02\",\"2021-11-04\"],\"tags\":[[[\"listing_date\",\"listing_date\",null]]]},\"id\":\"37650\",\"type\":\"FactorRange\"},{\"attributes\":{\"axis\":{\"id\":\"37733\"},\"ticker\":{\"id\":\"37734\"}},\"id\":\"37735\",\"type\":\"Grid\"},{\"attributes\":{},\"id\":\"37729\",\"type\":\"CategoricalScale\"},{\"attributes\":{\"text\":\"Number of Sales per NFT by Token ID\",\"text_color\":\"black\",\"text_font_size\":\"12pt\"},\"id\":\"37795\",\"type\":\"Title\"},{\"attributes\":{},\"id\":\"37731\",\"type\":\"LinearScale\"},{\"attributes\":{},\"id\":\"37734\",\"type\":\"CategoricalTicker\"},{\"attributes\":{},\"id\":\"34136\",\"type\":\"AllLabels\"},{\"attributes\":{\"axis\":{\"id\":\"37803\"},\"ticker\":{\"id\":\"37804\"}},\"id\":\"37805\",\"type\":\"Grid\"},{\"attributes\":{\"bottom\":{\"value\":0},\"fill_alpha\":{\"value\":1.0},\"fill_color\":{\"value\":\"#30a2da\"},\"hatch_alpha\":{\"value\":1.0},\"hatch_color\":{\"value\":\"black\"},\"hatch_scale\":{\"value\":12.0},\"hatch_weight\":{\"value\":1.0},\"line_alpha\":{\"value\":1.0},\"line_cap\":{\"value\":\"butt\"},\"line_color\":{\"value\":\"black\"},\"line_dash\":{\"value\":[]},\"line_dash_offset\":{\"value\":0},\"line_join\":{\"value\":\"bevel\"},\"line_width\":{\"value\":1},\"top\":{\"field\":\"num_sales\"},\"width\":{\"value\":0.8},\"x\":{\"field\":\"token_id\"}},\"id\":\"37831\",\"type\":\"VBar\"},{\"attributes\":{\"axis_label\":\"Token IDs\",\"formatter\":{\"id\":\"37833\"},\"major_label_orientation\":0.7853981633974483,\"major_label_policy\":{\"id\":\"37834\"},\"ticker\":{\"id\":\"37804\"}},\"id\":\"37803\",\"type\":\"CategoricalAxis\"},{\"attributes\":{},\"id\":\"37737\",\"type\":\"BasicTicker\"},{\"attributes\":{\"axis_label\":\"Bid Price ($USD)\",\"formatter\":{\"id\":\"37765\"},\"major_label_policy\":{\"id\":\"37766\"},\"ticker\":{\"id\":\"37737\"}},\"id\":\"37736\",\"type\":\"LinearAxis\"},{\"attributes\":{},\"id\":\"37804\",\"type\":\"CategoricalTicker\"},{\"attributes\":{\"axis\":{\"id\":\"37736\"},\"dimension\":1,\"ticker\":{\"id\":\"37737\"}},\"id\":\"37739\",\"type\":\"Grid\"},{\"attributes\":{},\"id\":\"37801\",\"type\":\"LinearScale\"},{\"attributes\":{},\"id\":\"34115\",\"type\":\"BasicTicker\"},{\"attributes\":{\"below\":[{\"id\":\"37662\"}],\"center\":[{\"id\":\"37664\"},{\"id\":\"37668\"}],\"height\":300,\"left\":[{\"id\":\"37665\"}],\"margin\":[5,5,5,5],\"min_border_bottom\":10,\"min_border_left\":10,\"min_border_right\":10,\"min_border_top\":10,\"renderers\":[{\"id\":\"37688\"}],\"sizing_mode\":\"fixed\",\"title\":{\"id\":\"37654\"},\"toolbar\":{\"id\":\"37675\"},\"width\":1200,\"x_range\":{\"id\":\"37650\"},\"x_scale\":{\"id\":\"37658\"},\"y_range\":{\"id\":\"37651\"},\"y_scale\":{\"id\":\"37660\"}},\"id\":\"37653\",\"subtype\":\"Figure\",\"type\":\"Plot\"},{\"attributes\":{\"axis\":{\"id\":\"34118\"},\"dimension\":1,\"grid_line_color\":null,\"ticker\":null},\"id\":\"34121\",\"type\":\"Grid\"},{\"attributes\":{\"data_source\":{\"id\":\"37753\"},\"glyph\":{\"id\":\"37756\"},\"hover_glyph\":null,\"muted_glyph\":{\"id\":\"37758\"},\"nonselection_glyph\":{\"id\":\"37757\"},\"selection_glyph\":{\"id\":\"37761\"},\"view\":{\"id\":\"37760\"}},\"id\":\"37759\",\"type\":\"GlyphRenderer\"},{\"attributes\":{},\"id\":\"37708\",\"type\":\"UnionRenderers\"},{\"attributes\":{\"source\":{\"id\":\"37753\"}},\"id\":\"37760\",\"type\":\"CDSView\"},{\"attributes\":{\"axis_label\":\"Date\",\"formatter\":{\"id\":\"37693\"},\"major_label_orientation\":0.7853981633974483,\"major_label_policy\":{\"id\":\"37694\"},\"ticker\":{\"id\":\"37663\"}},\"id\":\"37662\",\"type\":\"CategoricalAxis\"},{\"attributes\":{\"source\":{\"id\":\"34127\"}},\"id\":\"34132\",\"type\":\"CDSView\"},{\"attributes\":{},\"id\":\"34141\",\"type\":\"Selection\"},{\"attributes\":{},\"id\":\"34140\",\"type\":\"UnionRenderers\"},{\"attributes\":{\"items\":[{\"id\":\"34143\"}]},\"id\":\"34142\",\"type\":\"Legend\"},{\"attributes\":{\"fill_alpha\":{\"value\":0.2},\"fill_color\":{\"value\":\"#30a2da\"},\"line_alpha\":{\"value\":0.2},\"top\":{\"field\":\"listing_price\"},\"width\":{\"value\":0.8},\"x\":{\"field\":\"listing_date\"}},\"id\":\"37687\",\"type\":\"VBar\"},{\"attributes\":{\"text\":\"Volume of Sales Per Day (USD$)\",\"text_color\":\"black\",\"text_font_size\":\"12pt\"},\"id\":\"37654\",\"type\":\"Title\"},{\"attributes\":{},\"id\":\"37740\",\"type\":\"SaveTool\"},{\"attributes\":{},\"id\":\"37777\",\"type\":\"UnionRenderers\"},{\"attributes\":{\"child\":{\"id\":\"37794\"},\"name\":\"Number of Sales per Token ID\",\"title\":\"Number of Sales per Token ID\"},\"id\":\"37860\",\"type\":\"Panel\"},{\"attributes\":{},\"id\":\"37741\",\"type\":\"PanTool\"},{\"attributes\":{},\"id\":\"37744\",\"type\":\"ResetTool\"},{\"attributes\":{},\"id\":\"37742\",\"type\":\"WheelZoomTool\"},{\"attributes\":{\"overlay\":{\"id\":\"37745\"}},\"id\":\"37743\",\"type\":\"BoxZoomTool\"},{\"attributes\":{},\"id\":\"34135\",\"type\":\"BasicTickFormatter\"},{\"attributes\":{},\"id\":\"37660\",\"type\":\"LinearScale\"},{\"attributes\":{},\"id\":\"37765\",\"type\":\"BasicTickFormatter\"},{\"attributes\":{\"css_classes\":[\"markdown\"],\"margin\":[5,5,5,5],\"name\":\"Background Tab 3\",\"text\":\"&lt;h1&gt;Minting and Purchasing an NFT&lt;/h1&gt;\\n&lt;blockquote&gt;\\n&lt;p&gt;For NFTs to become valuable and scarce they have to be minted. The term minting in NFTs is similar &lt;br&gt;\\nto minting a coin of silver. Once an NFT is minted on the Ethereum blockchain it becomes unchangeable &lt;br&gt;\\nand tamper-proof. Newly minted NFTs then are able to be sold on third party websites. These websites &lt;br&gt;\\ninclude Nifty Gateway, Zora, and OpeanSea to name a few.    &lt;/p&gt;\\n&lt;p&gt;For a buyer to purchase an NFT they have to purchase the NFT using Ethereum Tokens.&lt;br&gt;\\nOther blockchain networks that mint NFTs beside Ethereum include Solana, Polygon, and Binance Smart &lt;br&gt;\\nChain, to name a few. Yet Ethereum reigns supreme for NFTs on chain.  &lt;/p&gt;\\n&lt;/blockquote&gt;\"},\"id\":\"37640\",\"type\":\"panel.models.markup.HTML\"},{\"attributes\":{\"text\":\"Top 5 NFT Projects by Market Cap\",\"text_color\":\"black\",\"text_font_size\":\"12pt\"},\"id\":\"34104\",\"type\":\"Title\"},{\"attributes\":{\"end_angle\":{\"expr\":{\"id\":\"34126\"}},\"fill_alpha\":{\"value\":0.1},\"fill_color\":{\"field\":\"color\"},\"line_alpha\":{\"value\":0.1},\"line_color\":{\"value\":\"white\"},\"radius\":{\"value\":0.4},\"start_angle\":{\"expr\":{\"id\":\"34125\"}},\"x\":{\"value\":0},\"y\":{\"value\":1}},\"id\":\"34130\",\"type\":\"Wedge\"},{\"attributes\":{},\"id\":\"34110\",\"type\":\"LinearScale\"},{\"attributes\":{\"axis\":{\"id\":\"34114\"},\"grid_line_color\":null,\"ticker\":null},\"id\":\"34117\",\"type\":\"Grid\"},{\"attributes\":{\"fill_alpha\":{\"value\":0.1},\"fill_color\":{\"value\":\"#30a2da\"},\"line_alpha\":{\"value\":0.1},\"top\":{\"field\":\"listing_price\"},\"width\":{\"value\":0.8},\"x\":{\"field\":\"listing_date\"}},\"id\":\"37686\",\"type\":\"VBar\"},{\"attributes\":{\"end\":2452230.0,\"reset_end\":2452230.0,\"reset_start\":0.0,\"tags\":[[[\"listing_price\",\"listing_price\",null]]]},\"id\":\"37651\",\"type\":\"Range1d\"},{\"attributes\":{\"active_multi\":null,\"tools\":[{\"id\":\"37652\"},{\"id\":\"37669\"},{\"id\":\"37670\"},{\"id\":\"37671\"},{\"id\":\"37672\"},{\"id\":\"37673\"}]},\"id\":\"37675\",\"type\":\"Toolbar\"},{\"attributes\":{\"data\":{\"listing_date\":[\"2018-04-16\",\"2020-12-02\",\"2021-01-28\",\"2021-03-07\",\"2021-04-16\",\"2021-05-03\",\"2021-06-14\",\"2021-06-18\",\"2021-06-27\",\"2021-06-28\",\"2021-06-30\",\"2021-07-12\",\"2021-07-22\",\"2021-07-26\",\"2021-07-27\",\"2021-07-28\",\"2021-08-03\",\"2021-08-11\",\"2021-08-12\",\"2021-08-13\",\"2021-08-15\",\"2021-08-27\",\"2021-08-28\",\"2021-08-31\",\"2021-09-01\",\"2021-09-03\",\"2021-09-05\",\"2021-09-06\",\"2021-09-07\",\"2021-09-08\",\"2021-09-11\",\"2021-09-16\",\"2021-09-22\",\"2021-09-23\",\"2021-09-26\",\"2021-09-27\",\"2021-10-04\",\"2021-10-10\",\"2021-10-12\",\"2021-10-13\",\"2021-10-14\",\"2021-10-16\",\"2021-10-17\",\"2021-10-23\",\"2021-10-25\",\"2021-10-26\",\"2021-10-29\",\"2021-10-31\",\"2021-11-02\",\"2021-11-04\"],\"listing_price\":{\"__ndarray__\":\"AAAAAEChBEEAAAAAQGUEQQAAAADA4exAAAAAAACoxkAAAAAAkL4vQQAAAADQEhNBAAAAAAAtxEAAAAAAIEwBQQAAAAAaAkFBAAAAAECN7kAAAAAAAL/IQAAAAADQZjNBAAAAACDb+EAAAAAAAMbhQAAAAACAE/xAAAAAAAAX4UAAAAAAADfpQAAAAAAAAAAAAAAAAADV0UAAAAAAQCLhQAAAAAAwXQhBAAAAAABwt0AAAAAAvN4uQQAAAAAA28BAAAAAAADD3kAAAAAAACPeQAAAAABIjxlBAAAAAJgGAEEBAAAAAAzSQAAAAAAA/NxAAAAAAEA45EAAAAAAgG//QAAAAAAAzNVAAAAAAABQxEAAAAAAAEX6QAAAAAAAa8JAAAAAAECC4EAAAAAAoB36QP////+/rtNAAAAAAMCP5EAAAAAAMJg0QYi/Jgv4NxFBAAAAAIDO0EAAAAAAAHPOQAAAAACgB/dAAAAAAIAP5kAAAAAAAI/WQAAAAAAADNdAAAAAAACIw0AAAAAAAAAAAA==\",\"dtype\":\"float64\",\"order\":\"little\",\"shape\":[50]}},\"selected\":{\"id\":\"37683\"},\"selection_policy\":{\"id\":\"37708\"}},\"id\":\"37682\",\"type\":\"ColumnDataSource\"},{\"attributes\":{},\"id\":\"37663\",\"type\":\"CategoricalTicker\"},{\"attributes\":{\"child\":{\"id\":\"37861\"},\"name\":\"Total NFT Buyers/Sellers\",\"title\":\"Total NFT Buyers/Sellers\"},\"id\":\"37862\",\"type\":\"Panel\"},{\"attributes\":{\"css_classes\":[\"markdown\"],\"margin\":[5,5,5,5],\"name\":\"Number of NFT Sales per Day\",\"text\":\"&lt;p&gt;&lt;img alt=&quot;image&quot; src=&quot;./images/plot_2.png&quot;&gt;&lt;/p&gt;\"},\"id\":\"37648\",\"type\":\"panel.models.markup.HTML\"},{\"attributes\":{},\"id\":\"37694\",\"type\":\"AllLabels\"},{\"attributes\":{\"fill_color\":{\"value\":\"#30a2da\"},\"top\":{\"field\":\"listing_price\"},\"width\":{\"value\":0.8},\"x\":{\"field\":\"listing_date\"}},\"id\":\"37685\",\"type\":\"VBar\"},{\"attributes\":{\"axis\":{\"id\":\"37665\"},\"dimension\":1,\"ticker\":{\"id\":\"37666\"}},\"id\":\"37668\",\"type\":\"Grid\"},{\"attributes\":{\"active_multi\":null,\"tools\":[{\"id\":\"37723\"},{\"id\":\"37740\"},{\"id\":\"37741\"},{\"id\":\"37742\"},{\"id\":\"37743\"},{\"id\":\"37744\"}]},\"id\":\"37746\",\"type\":\"Toolbar\"},{\"attributes\":{\"bottom_units\":\"screen\",\"fill_alpha\":0.5,\"fill_color\":\"lightgrey\",\"left_units\":\"screen\",\"level\":\"overlay\",\"line_alpha\":1.0,\"line_color\":\"black\",\"line_dash\":[4,4],\"line_width\":2,\"right_units\":\"screen\",\"syncable\":false,\"top_units\":\"screen\"},\"id\":\"37745\",\"type\":\"BoxAnnotation\"},{\"attributes\":{\"css_classes\":[\"markdown\"],\"margin\":[5,5,5,5],\"name\":\"Background Tab 2\",\"text\":\"&lt;h1&gt;Examples of Recently Sold NFTs&lt;/h1&gt;\\n&lt;blockquote&gt;\\n&lt;p&gt;The NFT art scene has exploded in recent months, with some of the most expensive NFT sales&lt;br&gt;\\nconducted in the last six months.  A few examples include:    &lt;/p&gt;\\n&lt;ul&gt;\\n&lt;li&gt;CryptoPunk #7523,  $11.8 million  &lt;/li&gt;\\n&lt;li&gt;CryptoPunk #7804, $7.56 million  &lt;/li&gt;\\n&lt;li&gt;Ocean Front, $6 million  &lt;/li&gt;\\n&lt;li&gt;World Wide Web source code, $5.43 million  &lt;/li&gt;\\n&lt;/ul&gt;\\n&lt;/blockquote&gt;\\n&lt;p&gt;&lt;img alt=&quot;image&quot; src=&quot;./images/cryptopunk7523.png&quot;&gt;&lt;br&gt;\\n&lt;img alt=&quot;image&quot; src=&quot;./images/cryptopunk7804.png&quot;&gt;&lt;br&gt;\\n&lt;img alt=&quot;image&quot; src=&quot;./images/oceanfront.png&quot;&gt;&lt;br&gt;\\n&lt;img alt=&quot;image&quot; src=&quot;./images/WWWsourcecode.png&quot;&gt;&lt;/p&gt;\"},\"id\":\"37638\",\"type\":\"panel.models.markup.HTML\"},{\"attributes\":{\"css_classes\":[\"markdown\"],\"margin\":[5,5,5,5],\"name\":\"Conclusion\",\"text\":\"&lt;h1&gt;Conclusion&lt;/h1&gt;\\n&lt;p&gt;We learned a lot about NFTs, but realize this is a relatively new concept.  Sales and price trends&lt;br&gt;\\nare sporadic with no obvious patterns or seasonality.  Data was not very clean or comprehensive.  &lt;/p&gt;\\n&lt;p&gt;However, given the data you have seen and this new trend&amp;hellip;  &lt;/p&gt;\\n&lt;p&gt;&lt;strong&gt;Would YOU buy an NFT?&lt;/strong&gt;  &lt;/p&gt;\\n&lt;p&gt;We would!  &lt;/p&gt;\\n&lt;p&gt;&lt;img alt=&quot;image&quot; src=&quot;./images/NFT_comic.png&quot;&gt;&lt;/p&gt;\"},\"id\":\"37891\",\"type\":\"panel.models.markup.HTML\"},{\"attributes\":{\"data\":{\"Project\":[\"CryptoPunks\",\"Bored Ape Yacht Club\",\"Fidenza by Tyler Hobbs\",\"CyberKongs\",\"Emblem Vault\"],\"angle\":{\"__ndarray__\":\"AzWubgwGEECIyqZD13z2Py9Vzs7fjOE/k0xbMnoIyz9GGuhPUra8Pw==\",\"dtype\":\"float64\",\"order\":\"little\",\"shape\":[5]},\"color\":[\"#3182bd\",\"#6baed6\",\"#9ecae1\",\"#c6dbef\",\"#e6550d\"],\"index\":[0,1,2,3,4],\"value\":{\"__ndarray__\":\"w/UonEE0MkHhehSuO4wZQQAAAABE8ANB4XoUrje27kCkcD0KR0/gQA==\",\"dtype\":\"float64\",\"order\":\"little\",\"shape\":[5]}},\"selected\":{\"id\":\"34141\"},\"selection_policy\":{\"id\":\"34140\"}},\"id\":\"34127\",\"type\":\"ColumnDataSource\"},{\"attributes\":{\"child\":{\"id\":\"37634\"},\"name\":\"Project 1 - Group 3\",\"title\":\"Project 1 - Group 3\"},\"id\":\"37635\",\"type\":\"Panel\"},{\"attributes\":{\"child\":{\"id\":\"37648\"},\"name\":\"Number of NFT Sales per Day\",\"title\":\"Number of NFT Sales per Day\"},\"id\":\"37649\",\"type\":\"Panel\"},{\"attributes\":{\"child\":{\"id\":\"37724\"},\"name\":\"Top 10 NFT Bid Prices\",\"title\":\"Top 10 NFT Bid Prices\"},\"id\":\"37790\",\"type\":\"Panel\"},{\"attributes\":{\"bottom\":{\"value\":0},\"fill_alpha\":{\"value\":1.0},\"fill_color\":{\"value\":\"#30a2da\"},\"hatch_alpha\":{\"value\":1.0},\"hatch_color\":{\"value\":\"black\"},\"hatch_scale\":{\"value\":12.0},\"hatch_weight\":{\"value\":1.0},\"line_alpha\":{\"value\":1.0},\"line_cap\":{\"value\":\"butt\"},\"line_color\":{\"value\":\"black\"},\"line_dash\":{\"value\":[]},\"line_dash_offset\":{\"value\":0},\"line_join\":{\"value\":\"bevel\"},\"line_width\":{\"value\":1},\"top\":{\"field\":\"A_0\"},\"width\":{\"value\":0.8},\"x\":{\"field\":\"index\"}},\"id\":\"37761\",\"type\":\"VBar\"},{\"attributes\":{\"css_classes\":[\"markdown\"],\"margin\":[5,5,5,5],\"name\":\"Background Tab 4\",\"text\":\"&lt;h1&gt;The Rise of NFTs&lt;/h1&gt;\\n&lt;blockquote&gt;\\n&lt;p&gt;NFTs have only been around for a little over a half a decade so they have not become commonplace in&lt;br&gt;\\ntoday\\u2019s society. Yet the NFT space has gained some notoriety this past year due to the fact that &lt;br&gt;\\nmassive amounts of money have been allocated to purchase some NFT projects. The vast majority of&lt;br&gt;\\npeople in the NFT space, which are the artists and buyers, are between the ages of 18-39.    &lt;/p&gt;\\n&lt;/blockquote&gt;\\n&lt;p&gt;&lt;img alt=&quot;image&quot; src=&quot;./images/beeple.png&quot;&gt;&lt;/p&gt;\"},\"id\":\"37642\",\"type\":\"panel.models.markup.HTML\"},{\"attributes\":{},\"id\":\"37766\",\"type\":\"AllLabels\"},{\"attributes\":{\"child\":{\"id\":\"37636\"},\"name\":\"Background Tab 1\",\"title\":\"Background Tab 1\"},\"id\":\"37637\",\"type\":\"Panel\"},{\"attributes\":{\"field\":\"angle\",\"include_zero\":true},\"id\":\"34125\",\"type\":\"CumSum\"},{\"attributes\":{\"axis\":{\"id\":\"37662\"},\"ticker\":{\"id\":\"37663\"}},\"id\":\"37664\",\"type\":\"Grid\"},{\"attributes\":{},\"id\":\"37658\",\"type\":\"CategoricalScale\"},{\"attributes\":{},\"id\":\"34139\",\"type\":\"AllLabels\"},{\"attributes\":{},\"id\":\"37673\",\"type\":\"ResetTool\"},{\"attributes\":{\"factors\":[\"8271\",\"7250\",\"8808\",\"9434\",\"8652\",\"2854\",\"4953\",\"1700\",\"3194\",\"8339\",\"1338\",\"4875\",\"795\",\"1383\",\"3672\",\"5840\",\"9815\",\"1405\",\"3271\",\"8510\",\"6338981479\",\"22984\",\"6629\",\"57\",\"3075\",\"2035\",\"4584\",\"5758\",\"9436\",\"985\",\"7074\",\"4403\",\"6147\",\"4559272832\",\"1809\",\"8573\",\"989\",\"2585\",\"861\",\"1639\",\"4840\",\"5517\",\"2321\",\"1945855582\",\"9712\",\"22\",\"4207\",\"2432\",\"611\",\"916\",\"9384\",\"7802\",\"528\",\"1402\",\"9842\",\"9503\",\"3237\",\"8926\",\"2007665964\",\"2942\",\"196\",\"8837\",\"7639\",\"8049\",\"800\",\"3192\",\"5356\",\"2656\",\"5074\",\"4981676894\",\"1940\",\"3570\",\"3191\",\"3009\",\"7243\",\"991\",\"3970\",\"238\",\"425\",\"9102\",\"7397818359\",\"1070\",\"7238\",\"1501\",\"452\",\"3535\",\"6822\",\"6944\",\"5195\",\"1043\",\"3318\",\"2868\",\"1401\",\"7462\",\"3608\",\"7153\",\"4887\",\"1355\",\"8100\"],\"tags\":[[[\"token_id\",\"token_id\",null]]]},\"id\":\"37791\",\"type\":\"FactorRange\"},{\"attributes\":{\"data_source\":{\"id\":\"34127\"},\"glyph\":{\"id\":\"34129\"},\"hover_glyph\":null,\"muted_glyph\":null,\"nonselection_glyph\":{\"id\":\"34130\"},\"view\":{\"id\":\"34132\"}},\"id\":\"34131\",\"type\":\"GlyphRenderer\"},{\"attributes\":{\"active_multi\":null,\"tools\":[{\"id\":\"34122\"}]},\"id\":\"34123\",\"type\":\"Toolbar\"},{\"attributes\":{},\"id\":\"37666\",\"type\":\"BasicTicker\"},{\"attributes\":{},\"id\":\"37693\",\"type\":\"CategoricalTickFormatter\"},{\"attributes\":{},\"id\":\"37671\",\"type\":\"WheelZoomTool\"},{\"attributes\":{\"child\":{\"id\":\"37646\"},\"name\":\"NFT Bid Trends\",\"title\":\"NFT Bid Trends\"},\"id\":\"37647\",\"type\":\"Panel\"},{\"attributes\":{\"child\":{\"id\":\"37891\"},\"name\":\"Conclusion\",\"title\":\"Conclusion\"},\"id\":\"37892\",\"type\":\"Panel\"},{\"attributes\":{\"axis_label\":\"Volume of Sales\",\"formatter\":{\"id\":\"37691\"},\"major_label_policy\":{\"id\":\"37696\"},\"ticker\":{\"id\":\"37666\"}},\"id\":\"37665\",\"type\":\"LinearAxis\"},{\"attributes\":{\"bottom_units\":\"screen\",\"fill_alpha\":0.5,\"fill_color\":\"lightgrey\",\"left_units\":\"screen\",\"level\":\"overlay\",\"line_alpha\":1.0,\"line_color\":\"black\",\"line_dash\":[4,4],\"line_width\":2,\"right_units\":\"screen\",\"syncable\":false,\"top_units\":\"screen\"},\"id\":\"37674\",\"type\":\"BoxAnnotation\"},{\"attributes\":{},\"id\":\"37833\",\"type\":\"CategoricalTickFormatter\"},{\"attributes\":{\"axis_label\":null,\"formatter\":{\"id\":\"34138\"},\"major_label_policy\":{\"id\":\"34139\"},\"ticker\":{\"id\":\"34115\"},\"visible\":false},\"id\":\"34114\",\"type\":\"LinearAxis\"},{\"attributes\":{},\"id\":\"37696\",\"type\":\"AllLabels\"},{\"attributes\":{},\"id\":\"37670\",\"type\":\"PanTool\"},{\"attributes\":{\"field\":\"angle\"},\"id\":\"34126\",\"type\":\"CumSum\"},{\"attributes\":{},\"id\":\"34112\",\"type\":\"LinearScale\"},{\"attributes\":{},\"id\":\"37669\",\"type\":\"SaveTool\"},{\"attributes\":{\"child\":{\"id\":\"37653\"},\"name\":\"Volume of NFT Sales per Day\",\"title\":\"Volume of NFT Sales per Day\"},\"id\":\"37720\",\"type\":\"Panel\"},{\"attributes\":{\"label\":{\"field\":\"Project\"},\"renderers\":[{\"id\":\"34131\"}]},\"id\":\"34143\",\"type\":\"LegendItem\"},{\"attributes\":{\"css_classes\":[\"markdown\"],\"margin\":[5,5,5,5],\"name\":\"Total NFT Buyers/Sellers\",\"text\":\"&lt;p&gt;&lt;img alt=&quot;image&quot; src=&quot;./images/plot_6.png&quot;&gt;&lt;/p&gt;\"},\"id\":\"37861\",\"type\":\"panel.models.markup.HTML\"},{\"attributes\":{\"callback\":null,\"renderers\":[{\"id\":\"37829\"}],\"tags\":[\"hv_created\"],\"tooltips\":[[\"token_id\",\"@{token_id}\"],[\"num_sales\",\"@{num_sales}\"]]},\"id\":\"37793\",\"type\":\"HoverTool\"},{\"attributes\":{\"callback\":null,\"tooltips\":\"@Project: @value\"},\"id\":\"34122\",\"type\":\"HoverTool\"},{\"attributes\":{\"child\":{\"id\":\"37640\"},\"name\":\"Background Tab 3\",\"title\":\"Background Tab 3\"},\"id\":\"37641\",\"type\":\"Panel\"},{\"attributes\":{},\"id\":\"34119\",\"type\":\"BasicTicker\"},{\"attributes\":{\"axis_label\":null,\"formatter\":{\"id\":\"34135\"},\"major_label_policy\":{\"id\":\"34136\"},\"ticker\":{\"id\":\"34119\"},\"visible\":false},\"id\":\"34118\",\"type\":\"LinearAxis\"},{\"attributes\":{\"source\":{\"id\":\"37682\"}},\"id\":\"37689\",\"type\":\"CDSView\"},{\"attributes\":{\"css_classes\":[\"markdown\"],\"margin\":[5,5,5,5],\"name\":\"Project 1 - Group 3\",\"text\":\"&lt;h1&gt;Let&amp;rsquo;s Put the &amp;ldquo;Fun&amp;rdquo; in Non-Fungible Tokens (NFTs)&lt;/h1&gt;\\n&lt;p&gt;Presentation Date: November 6, 2021  &lt;/p&gt;\\n&lt;p&gt;Prepared by Andrew, Rachel, Sam, and Jinhyeong  &lt;/p&gt;\\n&lt;p&gt;&lt;img alt=&quot;image&quot; src=&quot;./images/NFTheads.png&quot;&gt;&lt;/p&gt;\"},\"id\":\"37634\",\"type\":\"panel.models.markup.HTML\"},{\"attributes\":{\"data\":{\"A_0\":{\"__ndarray__\":\"mpmZmZnJgUDNzMzMzICBQAAAAAAAMIFAAAAAAAAwgUDNzMzMzECAQM3MzMzMQIBAAAAAAACIc0CYmZmZmelvQAAAAAAAQG9AAAAAAABAb0A=\",\"dtype\":\"float64\",\"order\":\"little\",\"shape\":[10]},\"index\":[\"47\",\"99\",\"30\",\"5\",\"59\",\"24\",\"23\",\"91\",\"75\",\"79\"]},\"selected\":{\"id\":\"37754\"},\"selection_policy\":{\"id\":\"37777\"}},\"id\":\"37753\",\"type\":\"ColumnDataSource\"},{\"attributes\":{\"data_source\":{\"id\":\"37682\"},\"glyph\":{\"id\":\"37685\"},\"hover_glyph\":null,\"muted_glyph\":{\"id\":\"37687\"},\"nonselection_glyph\":{\"id\":\"37686\"},\"selection_glyph\":{\"id\":\"37690\"},\"view\":{\"id\":\"37689\"}},\"id\":\"37688\",\"type\":\"GlyphRenderer\"},{\"attributes\":{\"end\":2,\"start\":0},\"id\":\"34108\",\"type\":\"DataRange1d\"},{\"attributes\":{\"format\":\"%.0f\"},\"id\":\"37691\",\"type\":\"PrintfTickFormatter\"},{\"attributes\":{},\"id\":\"34138\",\"type\":\"BasicTickFormatter\"},{\"attributes\":{\"overlay\":{\"id\":\"37674\"}},\"id\":\"37672\",\"type\":\"BoxZoomTool\"}],\"root_ids\":[\"37633\",\"38007\"]},\"title\":\"Bokeh Application\",\"version\":\"2.3.2\"}};\n",
       "    var render_items = [{\"docid\":\"9f5ae46a-3be3-4eb3-9329-bdb0c6bf5fb6\",\"root_ids\":[\"37633\"],\"roots\":{\"37633\":\"5f1fd436-2f9e-4292-be6f-7f3bff1fcf13\"}}];\n",
       "    root.Bokeh.embed.embed_items_notebook(docs_json, render_items);\n",
       "  }\n",
       "  if (root.Bokeh !== undefined && root.Bokeh.Panel !== undefined) {\n",
       "    embed_document(root);\n",
       "  } else {\n",
       "    var attempts = 0;\n",
       "    var timer = setInterval(function(root) {\n",
       "      if (root.Bokeh !== undefined && root.Bokeh.Panel !== undefined) {\n",
       "        clearInterval(timer);\n",
       "        embed_document(root);\n",
       "      } else if (document.readyState == \"complete\") {\n",
       "        attempts++;\n",
       "        if (attempts > 200) {\n",
       "          clearInterval(timer);\n",
       "          console.log(\"Bokeh: ERROR: Unable to run BokehJS code because BokehJS library is missing\");\n",
       "        }\n",
       "      }\n",
       "    }, 25, root)\n",
       "  }\n",
       "})(window);</script>"
      ],
      "text/plain": [
       "Tabs\n",
       "    [0] Markdown(str, name='Project 1 - Group 3')\n",
       "    [1] Markdown(str, name='Background Tab 1')\n",
       "    [2] Markdown(str, name='Background Tab 2')\n",
       "    [3] Markdown(str, name='Background Tab 3')\n",
       "    [4] Markdown(str, name='Background Tab 4')\n",
       "    [5] Markdown(str, name='Visualization Overview')\n",
       "    [6] Markdown(str, name='NFT Bid Trends')\n",
       "    [7] Markdown(str, name='Number of NFT S...)\n",
       "    [8] HoloViews(Bars, name='Volume of NFT S...)\n",
       "    [9] HoloViews(Bars, name='Top 10 NFT Bid Prices')\n",
       "    [10] HoloViews(Bars, name='Number of Sales p...)\n",
       "    [11] Markdown(str, name='Total NFT Buyers/Sellers'...)\n",
       "    [12] Bokeh(Figure, name='Top 5 NFT Projects b...)\n",
       "    [13] Markdown(str, name='Conclusion')"
      ]
     },
     "execution_count": 377,
     "metadata": {
      "application/vnd.holoviews_exec.v0+json": {
       "id": "37633"
      }
     },
     "output_type": "execute_result"
    }
   ],
   "source": [
    "#Create Dashboard - NEED TO ADD LAST VISUAL FROM ANDREW and FIX IMAGES\n",
    "pn.Tabs(\n",
    "    (\"Project 1 - Group 3\",markdown_titlepage),\n",
    "    (\"Background Tab 1\",markdown_background1),\n",
    "    (\"Background Tab 2\",markdown_background2),\n",
    "    (\"Background Tab 3\",markdown_background3),\n",
    "    (\"Background Tab 4\",markdown_background4),\n",
    "    (\"Visualization Overview\",visualoverview),\n",
    "    (\"NFT Bid Trends\",plot_1),\n",
    "    (\"Number of NFT Sales per Day\",plot_2),\n",
    "    (\"Volume of NFT Sales per Day\",plot_3),\n",
    "    (\"Top 10 NFT Bid Prices\",plot_4),\n",
    "    (\"Number of Sales per Token ID\",plot_5),\n",
    "    (\"Total NFT Buyers/Sellers\",plot_6),\n",
    "    (\"Top 5 NFT Projects by Market Cap\",plot_7),\n",
    "    (\"Conclusion\",markdown_end)\n",
    "       )"
   ]
  },
  {
   "cell_type": "markdown",
   "id": "6a3c9f57-ca1b-4f43-aab5-3acafdcf7c68",
   "metadata": {},
   "source": [
    "##### Final Step: Save to html for presentation"
   ]
  },
  {
   "cell_type": "code",
   "execution_count": 379,
   "id": "3cc4b210-541a-4d17-ab46-70b616bd6f1f",
   "metadata": {},
   "outputs": [],
   "source": [
    "#Create an html of the dashboard for presentation purposes once finalized\n",
    "pn.Tabs(\n",
    "    (\"Project 1 - Group 3\",markdown_titlepage),\n",
    "    (\"Background Tab 1\",markdown_background1),\n",
    "    (\"Background Tab 2\",markdown_background2),\n",
    "    (\"Background Tab 3\",markdown_background3),\n",
    "    (\"Background Tab 4\",markdown_background4),\n",
    "    (\"Visualization Overview\",visualoverview),\n",
    "    (\"NFT Bid Trends\",plot_1),\n",
    "    (\"Number of NFT Sales per Day\",plot_2),\n",
    "    (\"Volume of NFT Sales per Day\",plot_3),\n",
    "    (\"Top 10 NFT Bid Prices\",plot_4),\n",
    "    (\"Number of Sales per Token ID\",plot_5),\n",
    "    (\"Total NFT Buyers/Sellers\",plot_6),\n",
    "    (\"Top 5 NFT Projects by Market Cap\",plot_7),\n",
    "    (\"Conclusion\",markdown_end)\n",
    "       ).save(\"Dashboard_Presentation.html\", embed=True)"
   ]
  },
  {
   "cell_type": "code",
   "execution_count": null,
   "id": "32a6c841-9809-49f9-b34f-5b21b6a0e5a2",
   "metadata": {},
   "outputs": [],
   "source": []
  },
  {
   "cell_type": "code",
   "execution_count": null,
   "id": "11c198e3-8d1f-404b-8511-377710240c05",
   "metadata": {},
   "outputs": [],
   "source": []
  }
 ],
 "metadata": {
  "kernelspec": {
   "display_name": "Python [conda env:pyvizenv] *",
   "language": "python",
   "name": "conda-env-pyvizenv-py"
  },
  "language_info": {
   "codemirror_mode": {
    "name": "ipython",
    "version": 3
   },
   "file_extension": ".py",
   "mimetype": "text/x-python",
   "name": "python",
   "nbconvert_exporter": "python",
   "pygments_lexer": "ipython3",
   "version": "3.7.10"
  }
 },
 "nbformat": 4,
 "nbformat_minor": 5
}
