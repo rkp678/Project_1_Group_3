{
 "cells": [
  {
   "cell_type": "code",
   "execution_count": 39,
   "id": "88601938",
   "metadata": {},
   "outputs": [],
   "source": [
    "#!/usr/bin/env python3\n",
    "# -*- coding: utf-8 -*-\n",
    "\"\"\"\n",
    "Created on Sat Oct 30 10:07:59 2021\n",
    "\n",
    "@author: jinhyeongpark\n",
    "\"\"\"\n",
    "\n",
    "import os\n",
    "import requests\n",
    "import json\n",
    "import pandas as pd\n",
    "import hvplot.pandas\n"
   ]
  },
  {
   "cell_type": "code",
   "execution_count": 41,
   "id": "25f753d1",
   "metadata": {},
   "outputs": [],
   "source": [
    "\n",
    "number = 200\n",
    "\n",
    "url = f\"https://api.opensea.io./api/v1/events?limit={number}\"\n",
    "\n",
    "# url1 = \"https://api.opensea.io/api/v1/assets?order_direction=desc&offset=0&limit=40\"\n",
    "# url = 'https://api.opensea.io/api/v1/events?only_opensea=false&offset=0&limit=100'\n",
    "\n",
    "response = requests.request(\"GET\", url)\n",
    "opensea_data_pull = json.loads(response.text)"
   ]
  },
  {
   "cell_type": "code",
   "execution_count": 42,
   "id": "a4b5e528",
   "metadata": {},
   "outputs": [],
   "source": [
    "data_list = opensea_data_pull[\"asset_events\"]\n",
    "\n",
    "listing_date_list = []\n",
    "listing_price_list = []\n",
    "\n",
    "# iterate through each item in list\n",
    "for each in data_list:\n",
    "    \n",
    "    # grab the id\n",
    "    listing_date = each[\"asset\"][\"asset_contract\"][\"created_date\"]\n",
    "    listing_date = listing_date[0:10]  # reformat dates to be cleaner\n",
    "    try:\n",
    "        listing_price = float(each[\"bid_amount\"])\n",
    "        listing_price = listing_price / 10000000000000\n",
    "    except:\n",
    "        listing_price = 0\n",
    "        \n",
    "    # append id to list of ids\n",
    "    listing_date_list.append(listing_date)\n",
    "    listing_price_list.append(listing_price)"
   ]
  },
  {
   "cell_type": "code",
   "execution_count": 43,
   "id": "35cff465",
   "metadata": {},
   "outputs": [],
   "source": [
    "# cleaner method. give column headers\n",
    "df = pd.DataFrame(\n",
    "    {'listing_date': listing_date_list,\n",
    "     'listing_price': listing_price_list\n",
    "     })\n",
    "df = df.set_index(\"listing_date\")\n"
   ]
  },
  {
   "cell_type": "code",
   "execution_count": 44,
   "id": "e53d0c3a",
   "metadata": {},
   "outputs": [
    {
     "data": {
      "text/html": [
       "<div>\n",
       "<style scoped>\n",
       "    .dataframe tbody tr th:only-of-type {\n",
       "        vertical-align: middle;\n",
       "    }\n",
       "\n",
       "    .dataframe tbody tr th {\n",
       "        vertical-align: top;\n",
       "    }\n",
       "\n",
       "    .dataframe thead th {\n",
       "        text-align: right;\n",
       "    }\n",
       "</style>\n",
       "<table border=\"1\" class=\"dataframe\">\n",
       "  <thead>\n",
       "    <tr style=\"text-align: right;\">\n",
       "      <th></th>\n",
       "      <th>listing_price</th>\n",
       "    </tr>\n",
       "    <tr>\n",
       "      <th>listing_date</th>\n",
       "      <th></th>\n",
       "    </tr>\n",
       "  </thead>\n",
       "  <tbody>\n",
       "    <tr>\n",
       "      <th>2018-04-16</th>\n",
       "      <td>3</td>\n",
       "    </tr>\n",
       "    <tr>\n",
       "      <th>2019-09-09</th>\n",
       "      <td>2</td>\n",
       "    </tr>\n",
       "    <tr>\n",
       "      <th>2019-12-04</th>\n",
       "      <td>1</td>\n",
       "    </tr>\n",
       "    <tr>\n",
       "      <th>2020-02-07</th>\n",
       "      <td>1</td>\n",
       "    </tr>\n",
       "    <tr>\n",
       "      <th>2020-11-27</th>\n",
       "      <td>2</td>\n",
       "    </tr>\n",
       "    <tr>\n",
       "      <th>2020-12-02</th>\n",
       "      <td>7</td>\n",
       "    </tr>\n",
       "    <tr>\n",
       "      <th>2020-12-12</th>\n",
       "      <td>6</td>\n",
       "    </tr>\n",
       "    <tr>\n",
       "      <th>2021-01-28</th>\n",
       "      <td>2</td>\n",
       "    </tr>\n",
       "    <tr>\n",
       "      <th>2021-03-07</th>\n",
       "      <td>4</td>\n",
       "    </tr>\n",
       "    <tr>\n",
       "      <th>2021-03-12</th>\n",
       "      <td>1</td>\n",
       "    </tr>\n",
       "    <tr>\n",
       "      <th>2021-03-17</th>\n",
       "      <td>1</td>\n",
       "    </tr>\n",
       "    <tr>\n",
       "      <th>2021-03-29</th>\n",
       "      <td>2</td>\n",
       "    </tr>\n",
       "    <tr>\n",
       "      <th>2021-04-16</th>\n",
       "      <td>3</td>\n",
       "    </tr>\n",
       "    <tr>\n",
       "      <th>2021-04-22</th>\n",
       "      <td>2</td>\n",
       "    </tr>\n",
       "    <tr>\n",
       "      <th>2021-05-03</th>\n",
       "      <td>4</td>\n",
       "    </tr>\n",
       "    <tr>\n",
       "      <th>2021-05-11</th>\n",
       "      <td>11</td>\n",
       "    </tr>\n",
       "    <tr>\n",
       "      <th>2021-06-07</th>\n",
       "      <td>1</td>\n",
       "    </tr>\n",
       "    <tr>\n",
       "      <th>2021-06-18</th>\n",
       "      <td>2</td>\n",
       "    </tr>\n",
       "    <tr>\n",
       "      <th>2021-06-26</th>\n",
       "      <td>1</td>\n",
       "    </tr>\n",
       "    <tr>\n",
       "      <th>2021-06-27</th>\n",
       "      <td>11</td>\n",
       "    </tr>\n",
       "  </tbody>\n",
       "</table>\n",
       "</div>"
      ],
      "text/plain": [
       "              listing_price\n",
       "listing_date               \n",
       "2018-04-16                3\n",
       "2019-09-09                2\n",
       "2019-12-04                1\n",
       "2020-02-07                1\n",
       "2020-11-27                2\n",
       "2020-12-02                7\n",
       "2020-12-12                6\n",
       "2021-01-28                2\n",
       "2021-03-07                4\n",
       "2021-03-12                1\n",
       "2021-03-17                1\n",
       "2021-03-29                2\n",
       "2021-04-16                3\n",
       "2021-04-22                2\n",
       "2021-05-03                4\n",
       "2021-05-11               11\n",
       "2021-06-07                1\n",
       "2021-06-18                2\n",
       "2021-06-26                1\n",
       "2021-06-27               11"
      ]
     },
     "execution_count": 44,
     "metadata": {},
     "output_type": "execute_result"
    }
   ],
   "source": [
    "df = df.dropna()\n",
    "df_1 = df.groupby([\"listing_date\"]).count()\n",
    "df_1.head(20)"
   ]
  },
  {
   "cell_type": "code",
   "execution_count": 45,
   "id": "51975ed0",
   "metadata": {},
   "outputs": [
    {
     "data": {},
     "metadata": {},
     "output_type": "display_data"
    },
    {
     "data": {
      "application/vnd.holoviews_exec.v0+json": "",
      "text/html": [
       "<div id='2091'>\n",
       "\n",
       "\n",
       "\n",
       "\n",
       "\n",
       "  <div class=\"bk-root\" id=\"d4a74760-ea01-4035-84c3-9444f5c2dc30\" data-root-id=\"2091\"></div>\n",
       "</div>\n",
       "<script type=\"application/javascript\">(function(root) {\n",
       "  function embed_document(root) {\n",
       "    var docs_json = {\"734fa1c8-fa7d-424b-a57a-2201c7b41de3\":{\"defs\":[{\"extends\":null,\"module\":null,\"name\":\"ReactiveHTML1\",\"overrides\":[],\"properties\":[]},{\"extends\":null,\"module\":null,\"name\":\"FlexBox1\",\"overrides\":[],\"properties\":[{\"default\":\"flex-start\",\"kind\":null,\"name\":\"align_content\"},{\"default\":\"flex-start\",\"kind\":null,\"name\":\"align_items\"},{\"default\":\"row\",\"kind\":null,\"name\":\"flex_direction\"},{\"default\":\"wrap\",\"kind\":null,\"name\":\"flex_wrap\"},{\"default\":\"flex-start\",\"kind\":null,\"name\":\"justify_content\"}]},{\"extends\":null,\"module\":null,\"name\":\"TemplateActions1\",\"overrides\":[],\"properties\":[{\"default\":0,\"kind\":null,\"name\":\"open_modal\"},{\"default\":0,\"kind\":null,\"name\":\"close_modal\"}]},{\"extends\":null,\"module\":null,\"name\":\"MaterialTemplateActions1\",\"overrides\":[],\"properties\":[{\"default\":0,\"kind\":null,\"name\":\"open_modal\"},{\"default\":0,\"kind\":null,\"name\":\"close_modal\"}]}],\"roots\":{\"references\":[{\"attributes\":{\"callback\":null,\"renderers\":[{\"id\":\"2131\"}],\"tags\":[\"hv_created\"],\"tooltips\":[[\"listing_date\",\"@{listing_date}\"],[\"listing_price\",\"@{listing_price}\"]]},\"id\":\"2095\",\"type\":\"HoverTool\"},{\"attributes\":{\"bottom_units\":\"screen\",\"fill_alpha\":0.5,\"fill_color\":\"lightgrey\",\"left_units\":\"screen\",\"level\":\"overlay\",\"line_alpha\":1.0,\"line_color\":\"black\",\"line_dash\":[4,4],\"line_width\":2,\"right_units\":\"screen\",\"syncable\":false,\"top_units\":\"screen\"},\"id\":\"2117\",\"type\":\"BoxAnnotation\"},{\"attributes\":{\"data\":{\"listing_date\":[\"2018-04-16\",\"2019-09-09\",\"2019-12-04\",\"2020-02-07\",\"2020-11-27\",\"2020-12-02\",\"2020-12-12\",\"2021-01-28\",\"2021-03-07\",\"2021-03-12\",\"2021-03-17\",\"2021-03-29\",\"2021-04-16\",\"2021-04-22\",\"2021-05-03\",\"2021-05-11\",\"2021-06-07\",\"2021-06-18\",\"2021-06-26\",\"2021-06-27\",\"2021-06-28\",\"2021-06-30\",\"2021-07-12\",\"2021-07-15\",\"2021-07-16\",\"2021-07-17\",\"2021-07-27\",\"2021-07-28\",\"2021-07-29\",\"2021-08-02\",\"2021-08-03\",\"2021-08-05\",\"2021-08-06\",\"2021-08-10\",\"2021-08-11\",\"2021-08-12\",\"2021-08-13\",\"2021-08-15\",\"2021-08-23\",\"2021-08-27\",\"2021-08-28\",\"2021-08-31\",\"2021-09-01\",\"2021-09-03\",\"2021-09-04\",\"2021-09-05\",\"2021-09-06\",\"2021-09-07\",\"2021-09-08\",\"2021-09-11\",\"2021-09-13\",\"2021-09-16\",\"2021-09-18\",\"2021-09-22\",\"2021-09-24\",\"2021-09-25\",\"2021-09-27\",\"2021-09-28\",\"2021-10-01\",\"2021-10-06\",\"2021-10-07\",\"2021-10-13\",\"2021-10-14\",\"2021-10-16\",\"2021-10-17\",\"2021-10-19\",\"2021-10-20\",\"2021-10-25\",\"2021-10-26\",\"2021-10-27\",\"2021-10-29\"],\"listing_price\":[3,2,1,1,2,7,6,2,4,1,1,2,3,2,4,11,1,2,1,11,9,1,1,1,3,1,3,1,1,1,3,2,2,1,11,1,2,3,1,3,5,1,5,2,1,2,6,1,3,2,2,1,5,1,4,1,2,2,1,1,1,8,5,1,3,3,1,1,9,1,1]},\"selected\":{\"id\":\"2126\"},\"selection_policy\":{\"id\":\"2148\"}},\"id\":\"2125\",\"type\":\"ColumnDataSource\"},{\"attributes\":{\"axis\":{\"id\":\"2105\"},\"grid_line_color\":null,\"ticker\":null},\"id\":\"2107\",\"type\":\"Grid\"},{\"attributes\":{\"axis\":{\"id\":\"2108\"},\"dimension\":1,\"grid_line_color\":null,\"ticker\":null},\"id\":\"2111\",\"type\":\"Grid\"},{\"attributes\":{\"source\":{\"id\":\"2125\"}},\"id\":\"2132\",\"type\":\"CDSView\"},{\"attributes\":{\"line_alpha\":0.1,\"line_color\":\"#30a2da\",\"line_width\":2,\"x\":{\"field\":\"listing_date\"},\"y\":{\"field\":\"listing_price\"}},\"id\":\"2129\",\"type\":\"Line\"},{\"attributes\":{},\"id\":\"2134\",\"type\":\"AllLabels\"},{\"attributes\":{\"end\":12.0,\"reset_end\":12.0,\"reset_start\":0.0,\"tags\":[[[\"listing_price\",\"listing_price\",null]]]},\"id\":\"2094\",\"type\":\"Range1d\"},{\"attributes\":{},\"id\":\"2113\",\"type\":\"PanTool\"},{\"attributes\":{},\"id\":\"2112\",\"type\":\"SaveTool\"},{\"attributes\":{},\"id\":\"2106\",\"type\":\"CategoricalTicker\"},{\"attributes\":{\"children\":[{\"id\":\"2092\"},{\"id\":\"2096\"},{\"id\":\"2160\"}],\"margin\":[0,0,0,0],\"name\":\"Row03237\",\"tags\":[\"embedded\"]},\"id\":\"2091\",\"type\":\"Row\"},{\"attributes\":{\"below\":[{\"id\":\"2105\"}],\"center\":[{\"id\":\"2107\"},{\"id\":\"2111\"}],\"height\":300,\"left\":[{\"id\":\"2108\"}],\"margin\":[5,5,5,5],\"min_border_bottom\":10,\"min_border_left\":10,\"min_border_right\":10,\"min_border_top\":10,\"renderers\":[{\"id\":\"2131\"}],\"sizing_mode\":\"fixed\",\"title\":{\"id\":\"2097\"},\"toolbar\":{\"id\":\"2118\"},\"width\":700,\"x_range\":{\"id\":\"2093\"},\"x_scale\":{\"id\":\"2101\"},\"y_range\":{\"id\":\"2094\"},\"y_scale\":{\"id\":\"2103\"}},\"id\":\"2096\",\"subtype\":\"Figure\",\"type\":\"Plot\"},{\"attributes\":{\"margin\":[5,5,5,5],\"name\":\"HSpacer03241\",\"sizing_mode\":\"stretch_width\"},\"id\":\"2092\",\"type\":\"Spacer\"},{\"attributes\":{\"data_source\":{\"id\":\"2125\"},\"glyph\":{\"id\":\"2128\"},\"hover_glyph\":null,\"muted_glyph\":{\"id\":\"2130\"},\"nonselection_glyph\":{\"id\":\"2129\"},\"selection_glyph\":{\"id\":\"2133\"},\"view\":{\"id\":\"2132\"}},\"id\":\"2131\",\"type\":\"GlyphRenderer\"},{\"attributes\":{},\"id\":\"2126\",\"type\":\"Selection\"},{\"attributes\":{\"active_multi\":null,\"tools\":[{\"id\":\"2095\"},{\"id\":\"2112\"},{\"id\":\"2113\"},{\"id\":\"2114\"},{\"id\":\"2115\"},{\"id\":\"2116\"}]},\"id\":\"2118\",\"type\":\"Toolbar\"},{\"attributes\":{},\"id\":\"2114\",\"type\":\"WheelZoomTool\"},{\"attributes\":{\"line_alpha\":0.2,\"line_color\":\"#30a2da\",\"line_width\":2,\"x\":{\"field\":\"listing_date\"},\"y\":{\"field\":\"listing_price\"}},\"id\":\"2130\",\"type\":\"Line\"},{\"attributes\":{},\"id\":\"2101\",\"type\":\"CategoricalScale\"},{\"attributes\":{\"overlay\":{\"id\":\"2117\"}},\"id\":\"2115\",\"type\":\"BoxZoomTool\"},{\"attributes\":{\"axis_label\":\"day\",\"formatter\":{\"id\":\"2135\"},\"major_label_orientation\":1.5707963267948966,\"major_label_policy\":{\"id\":\"2134\"},\"ticker\":{\"id\":\"2106\"}},\"id\":\"2105\",\"type\":\"CategoricalAxis\"},{\"attributes\":{},\"id\":\"2116\",\"type\":\"ResetTool\"},{\"attributes\":{},\"id\":\"2109\",\"type\":\"BasicTicker\"},{\"attributes\":{},\"id\":\"2137\",\"type\":\"AllLabels\"},{\"attributes\":{\"factors\":[\"2018-04-16\",\"2019-09-09\",\"2019-12-04\",\"2020-02-07\",\"2020-11-27\",\"2020-12-02\",\"2020-12-12\",\"2021-01-28\",\"2021-03-07\",\"2021-03-12\",\"2021-03-17\",\"2021-03-29\",\"2021-04-16\",\"2021-04-22\",\"2021-05-03\",\"2021-05-11\",\"2021-06-07\",\"2021-06-18\",\"2021-06-26\",\"2021-06-27\",\"2021-06-28\",\"2021-06-30\",\"2021-07-12\",\"2021-07-15\",\"2021-07-16\",\"2021-07-17\",\"2021-07-27\",\"2021-07-28\",\"2021-07-29\",\"2021-08-02\",\"2021-08-03\",\"2021-08-05\",\"2021-08-06\",\"2021-08-10\",\"2021-08-11\",\"2021-08-12\",\"2021-08-13\",\"2021-08-15\",\"2021-08-23\",\"2021-08-27\",\"2021-08-28\",\"2021-08-31\",\"2021-09-01\",\"2021-09-03\",\"2021-09-04\",\"2021-09-05\",\"2021-09-06\",\"2021-09-07\",\"2021-09-08\",\"2021-09-11\",\"2021-09-13\",\"2021-09-16\",\"2021-09-18\",\"2021-09-22\",\"2021-09-24\",\"2021-09-25\",\"2021-09-27\",\"2021-09-28\",\"2021-10-01\",\"2021-10-06\",\"2021-10-07\",\"2021-10-13\",\"2021-10-14\",\"2021-10-16\",\"2021-10-17\",\"2021-10-19\",\"2021-10-20\",\"2021-10-25\",\"2021-10-26\",\"2021-10-27\",\"2021-10-29\"],\"tags\":[[[\"listing_date\",\"listing_date\",null]]]},\"id\":\"2093\",\"type\":\"FactorRange\"},{\"attributes\":{},\"id\":\"2148\",\"type\":\"UnionRenderers\"},{\"attributes\":{},\"id\":\"2103\",\"type\":\"LinearScale\"},{\"attributes\":{\"text\":\"Number of NFT Sales Per Day\",\"text_color\":\"black\",\"text_font_size\":\"12pt\"},\"id\":\"2097\",\"type\":\"Title\"},{\"attributes\":{\"margin\":[5,5,5,5],\"name\":\"HSpacer03242\",\"sizing_mode\":\"stretch_width\"},\"id\":\"2160\",\"type\":\"Spacer\"},{\"attributes\":{},\"id\":\"2139\",\"type\":\"BasicTickFormatter\"},{\"attributes\":{},\"id\":\"2135\",\"type\":\"CategoricalTickFormatter\"},{\"attributes\":{\"line_color\":\"#30a2da\",\"line_width\":2,\"x\":{\"field\":\"listing_date\"},\"y\":{\"field\":\"listing_price\"}},\"id\":\"2128\",\"type\":\"Line\"},{\"attributes\":{\"axis_label\":\"count\",\"formatter\":{\"id\":\"2139\"},\"major_label_policy\":{\"id\":\"2137\"},\"ticker\":{\"id\":\"2109\"}},\"id\":\"2108\",\"type\":\"LinearAxis\"},{\"attributes\":{\"line_color\":\"#30a2da\",\"line_width\":2,\"x\":{\"field\":\"listing_date\"},\"y\":{\"field\":\"listing_price\"}},\"id\":\"2133\",\"type\":\"Line\"}],\"root_ids\":[\"2091\"]},\"title\":\"Bokeh Application\",\"version\":\"2.3.3\"}};\n",
       "    var render_items = [{\"docid\":\"734fa1c8-fa7d-424b-a57a-2201c7b41de3\",\"root_ids\":[\"2091\"],\"roots\":{\"2091\":\"d4a74760-ea01-4035-84c3-9444f5c2dc30\"}}];\n",
       "    root.Bokeh.embed.embed_items_notebook(docs_json, render_items);\n",
       "  }\n",
       "  if (root.Bokeh !== undefined && root.Bokeh.Panel !== undefined) {\n",
       "    embed_document(root);\n",
       "  } else {\n",
       "    var attempts = 0;\n",
       "    var timer = setInterval(function(root) {\n",
       "      if (root.Bokeh !== undefined && root.Bokeh.Panel !== undefined) {\n",
       "        clearInterval(timer);\n",
       "        embed_document(root);\n",
       "      } else if (document.readyState == \"complete\") {\n",
       "        attempts++;\n",
       "        if (attempts > 200) {\n",
       "          clearInterval(timer);\n",
       "          console.log(\"Bokeh: ERROR: Unable to run BokehJS code because BokehJS library is missing\");\n",
       "        }\n",
       "      }\n",
       "    }, 25, root)\n",
       "  }\n",
       "})(window);</script>"
      ],
      "text/plain": [
       ":Curve   [listing_date]   (listing_price)"
      ]
     },
     "execution_count": 45,
     "metadata": {
      "application/vnd.holoviews_exec.v0+json": {
       "id": "2091"
      }
     },
     "output_type": "execute_result"
    }
   ],
   "source": [
    "df_1.hvplot.line(\n",
    "    title= \"Number of NFT Sales Per Day\",\n",
    "    xlabel = \"day\",\n",
    "    ylabel = \"count\",\n",
    "    rot=90\n",
    ")"
   ]
  },
  {
   "cell_type": "code",
   "execution_count": 46,
   "id": "854d0bd6",
   "metadata": {},
   "outputs": [
    {
     "data": {
      "text/html": [
       "<div>\n",
       "<style scoped>\n",
       "    .dataframe tbody tr th:only-of-type {\n",
       "        vertical-align: middle;\n",
       "    }\n",
       "\n",
       "    .dataframe tbody tr th {\n",
       "        vertical-align: top;\n",
       "    }\n",
       "\n",
       "    .dataframe thead th {\n",
       "        text-align: right;\n",
       "    }\n",
       "</style>\n",
       "<table border=\"1\" class=\"dataframe\">\n",
       "  <thead>\n",
       "    <tr style=\"text-align: right;\">\n",
       "      <th></th>\n",
       "      <th>listing_price</th>\n",
       "    </tr>\n",
       "    <tr>\n",
       "      <th>listing_date</th>\n",
       "      <th></th>\n",
       "    </tr>\n",
       "  </thead>\n",
       "  <tbody>\n",
       "    <tr>\n",
       "      <th>2018-04-16</th>\n",
       "      <td>112000.0</td>\n",
       "    </tr>\n",
       "    <tr>\n",
       "      <th>2018-04-16</th>\n",
       "      <td>150000.0</td>\n",
       "    </tr>\n",
       "    <tr>\n",
       "      <th>2018-04-16</th>\n",
       "      <td>72000.0</td>\n",
       "    </tr>\n",
       "    <tr>\n",
       "      <th>2019-09-09</th>\n",
       "      <td>165530.0</td>\n",
       "    </tr>\n",
       "    <tr>\n",
       "      <th>2019-09-09</th>\n",
       "      <td>165530.0</td>\n",
       "    </tr>\n",
       "  </tbody>\n",
       "</table>\n",
       "</div>"
      ],
      "text/plain": [
       "              listing_price\n",
       "listing_date               \n",
       "2018-04-16         112000.0\n",
       "2018-04-16         150000.0\n",
       "2018-04-16          72000.0\n",
       "2019-09-09         165530.0\n",
       "2019-09-09         165530.0"
      ]
     },
     "execution_count": 46,
     "metadata": {},
     "output_type": "execute_result"
    }
   ],
   "source": [
    "df = df.sort_index(ascending=True)\n",
    "df.head()"
   ]
  },
  {
   "cell_type": "code",
   "execution_count": 47,
   "id": "cfdd72d4",
   "metadata": {},
   "outputs": [
    {
     "data": {
      "text/plain": [
       "listing_date\n",
       "2018-04-16     334000.0\n",
       "2019-09-09     331060.0\n",
       "2019-12-04      31120.0\n",
       "2020-02-07       8910.0\n",
       "2020-11-27    1313380.0\n",
       "Name: listing_price, dtype: float64"
      ]
     },
     "execution_count": 47,
     "metadata": {},
     "output_type": "execute_result"
    }
   ],
   "source": [
    "df1 = df.groupby('listing_date').sum()\n",
    "df1 = df1['listing_price']\n",
    "df1.head()"
   ]
  },
  {
   "cell_type": "code",
   "execution_count": 48,
   "id": "314de6e9",
   "metadata": {},
   "outputs": [
    {
     "data": {},
     "metadata": {},
     "output_type": "display_data"
    },
    {
     "data": {
      "application/vnd.holoviews_exec.v0+json": "",
      "text/html": [
       "<div id='2212'>\n",
       "\n",
       "\n",
       "\n",
       "\n",
       "\n",
       "  <div class=\"bk-root\" id=\"98e6f40c-5b98-434e-b152-94bb09639308\" data-root-id=\"2212\"></div>\n",
       "</div>\n",
       "<script type=\"application/javascript\">(function(root) {\n",
       "  function embed_document(root) {\n",
       "    var docs_json = {\"ec3cf8e2-9f9c-45bd-a45d-b28d990591f4\":{\"defs\":[{\"extends\":null,\"module\":null,\"name\":\"ReactiveHTML1\",\"overrides\":[],\"properties\":[]},{\"extends\":null,\"module\":null,\"name\":\"FlexBox1\",\"overrides\":[],\"properties\":[{\"default\":\"flex-start\",\"kind\":null,\"name\":\"align_content\"},{\"default\":\"flex-start\",\"kind\":null,\"name\":\"align_items\"},{\"default\":\"row\",\"kind\":null,\"name\":\"flex_direction\"},{\"default\":\"wrap\",\"kind\":null,\"name\":\"flex_wrap\"},{\"default\":\"flex-start\",\"kind\":null,\"name\":\"justify_content\"}]},{\"extends\":null,\"module\":null,\"name\":\"TemplateActions1\",\"overrides\":[],\"properties\":[{\"default\":0,\"kind\":null,\"name\":\"open_modal\"},{\"default\":0,\"kind\":null,\"name\":\"close_modal\"}]},{\"extends\":null,\"module\":null,\"name\":\"MaterialTemplateActions1\",\"overrides\":[],\"properties\":[{\"default\":0,\"kind\":null,\"name\":\"open_modal\"},{\"default\":0,\"kind\":null,\"name\":\"close_modal\"}]}],\"roots\":{\"references\":[{\"attributes\":{\"end\":8678008.0,\"reset_end\":8678008.0,\"reset_start\":-786728.0,\"start\":-786728.0,\"tags\":[[[\"listing_price\",\"listing_price\",null]]]},\"id\":\"2215\",\"type\":\"Range1d\"},{\"attributes\":{\"overlay\":{\"id\":\"2238\"}},\"id\":\"2236\",\"type\":\"BoxZoomTool\"},{\"attributes\":{},\"id\":\"2258\",\"type\":\"AllLabels\"},{\"attributes\":{\"line_color\":\"#30a2da\",\"line_width\":2,\"x\":{\"field\":\"listing_date\"},\"y\":{\"field\":\"listing_price\"}},\"id\":\"2249\",\"type\":\"Line\"},{\"attributes\":{\"bottom_units\":\"screen\",\"fill_alpha\":0.5,\"fill_color\":\"lightgrey\",\"left_units\":\"screen\",\"level\":\"overlay\",\"line_alpha\":1.0,\"line_color\":\"black\",\"line_dash\":[4,4],\"line_width\":2,\"right_units\":\"screen\",\"syncable\":false,\"top_units\":\"screen\"},\"id\":\"2238\",\"type\":\"BoxAnnotation\"},{\"attributes\":{\"margin\":[5,5,5,5],\"name\":\"HSpacer03421\",\"sizing_mode\":\"stretch_width\"},\"id\":\"2281\",\"type\":\"Spacer\"},{\"attributes\":{\"text\":\"Volume of Sales Per Day (USD$)\",\"text_color\":\"black\",\"text_font_size\":\"12pt\"},\"id\":\"2218\",\"type\":\"Title\"},{\"attributes\":{},\"id\":\"2227\",\"type\":\"CategoricalTicker\"},{\"attributes\":{},\"id\":\"2224\",\"type\":\"LinearScale\"},{\"attributes\":{\"axis\":{\"id\":\"2229\"},\"dimension\":1,\"grid_line_color\":null,\"ticker\":null},\"id\":\"2232\",\"type\":\"Grid\"},{\"attributes\":{\"axis\":{\"id\":\"2226\"},\"grid_line_color\":null,\"ticker\":null},\"id\":\"2228\",\"type\":\"Grid\"},{\"attributes\":{},\"id\":\"2222\",\"type\":\"CategoricalScale\"},{\"attributes\":{},\"id\":\"2235\",\"type\":\"WheelZoomTool\"},{\"attributes\":{\"data\":{\"listing_date\":[\"2018-04-16\",\"2019-09-09\",\"2019-12-04\",\"2020-02-07\",\"2020-11-27\",\"2020-12-02\",\"2020-12-12\",\"2021-01-28\",\"2021-03-07\",\"2021-03-12\",\"2021-03-17\",\"2021-03-29\",\"2021-04-16\",\"2021-04-22\",\"2021-05-03\",\"2021-05-11\",\"2021-06-07\",\"2021-06-18\",\"2021-06-26\",\"2021-06-27\",\"2021-06-28\",\"2021-06-30\",\"2021-07-12\",\"2021-07-15\",\"2021-07-16\",\"2021-07-17\",\"2021-07-27\",\"2021-07-28\",\"2021-07-29\",\"2021-08-02\",\"2021-08-03\",\"2021-08-05\",\"2021-08-06\",\"2021-08-10\",\"2021-08-11\",\"2021-08-12\",\"2021-08-13\",\"2021-08-15\",\"2021-08-23\",\"2021-08-27\",\"2021-08-28\",\"2021-08-31\",\"2021-09-01\",\"2021-09-03\",\"2021-09-04\",\"2021-09-05\",\"2021-09-06\",\"2021-09-07\",\"2021-09-08\",\"2021-09-11\",\"2021-09-13\",\"2021-09-16\",\"2021-09-18\",\"2021-09-22\",\"2021-09-24\",\"2021-09-25\",\"2021-09-27\",\"2021-09-28\",\"2021-10-01\",\"2021-10-06\",\"2021-10-07\",\"2021-10-13\",\"2021-10-14\",\"2021-10-16\",\"2021-10-17\",\"2021-10-19\",\"2021-10-20\",\"2021-10-25\",\"2021-10-26\",\"2021-10-27\",\"2021-10-29\"],\"listing_price\":{\"__ndarray__\":\"AAAAAMBiFEEAAAAA0DQUQQAAAAAAZN5AAAAAAABnwUAAAAAAZAo0QQAAAACAJApBAAAAAO80WEEAAAAAQMn+QAAAAAAAGOVAAAAAAABw50AAAAAAAPrUQAAAAAAAdexAAAAAABi+M0EAAAAAVpBEQQAAAABouzNBAAAAAGAYXkEAAAAAUEgMQQAAAADw0g5BAAAAAAAExUAAAAAAz81SQQAAAAAQdiBBAAAAAACxzED+/////w4OQQAAAAAA68lAAAAAAKAtFEEAAAAAAHLPQAAAAAAYXRJBAAAAAADr2UAAAAAAAHC3QAAAAACA599APBl6PbEk70AAAAAAAJD/QAAAAACArQNBAAAAAIB51UAAAAAAAECfQAAAAAAAmtBAAAAAAEDR60AAAAAAAFgLQQAAAAAANcFAAAAAAISbIkEAAAAA8LkpQQAAAAAAGMVAAAAAACia/0AAAAAAgNjlQAAAAACAFeBAAAAAAIA95UAAAAAAoHwQQQAAAAAAN9RAAAAAAAgcGEEAAAAAAK7gQAEAAAAAA+ZA/////59++EAAAAAAIHLzQAAAAAAAmdFAJDhr3Dc84UAAAAAAABrTQAAAAAAA7tZAAAAAAEAK+kAAAAAAABLLQAAAAACA7NBAAAAAAABZ70D2QCuQcrYYQQAAAACw/hlBAAAAAMCv4kAAAAAAAI3oQAAAAABA6eJAAAAAAABFz0AAAAAAQEjjQAAAAACAUAxBAAAAAABwp0ABAAAAgArRQA==\",\"dtype\":\"float64\",\"order\":\"little\",\"shape\":[71]}},\"selected\":{\"id\":\"2247\"},\"selection_policy\":{\"id\":\"2269\"}},\"id\":\"2246\",\"type\":\"ColumnDataSource\"},{\"attributes\":{},\"id\":\"2269\",\"type\":\"UnionRenderers\"},{\"attributes\":{},\"id\":\"2247\",\"type\":\"Selection\"},{\"attributes\":{\"axis_label\":\"day\",\"formatter\":{\"id\":\"2256\"},\"major_label_orientation\":1.5707963267948966,\"major_label_policy\":{\"id\":\"2255\"},\"ticker\":{\"id\":\"2227\"}},\"id\":\"2226\",\"type\":\"CategoricalAxis\"},{\"attributes\":{\"line_color\":\"#30a2da\",\"line_width\":2,\"x\":{\"field\":\"listing_date\"},\"y\":{\"field\":\"listing_price\"}},\"id\":\"2254\",\"type\":\"Line\"},{\"attributes\":{\"factors\":[\"2018-04-16\",\"2019-09-09\",\"2019-12-04\",\"2020-02-07\",\"2020-11-27\",\"2020-12-02\",\"2020-12-12\",\"2021-01-28\",\"2021-03-07\",\"2021-03-12\",\"2021-03-17\",\"2021-03-29\",\"2021-04-16\",\"2021-04-22\",\"2021-05-03\",\"2021-05-11\",\"2021-06-07\",\"2021-06-18\",\"2021-06-26\",\"2021-06-27\",\"2021-06-28\",\"2021-06-30\",\"2021-07-12\",\"2021-07-15\",\"2021-07-16\",\"2021-07-17\",\"2021-07-27\",\"2021-07-28\",\"2021-07-29\",\"2021-08-02\",\"2021-08-03\",\"2021-08-05\",\"2021-08-06\",\"2021-08-10\",\"2021-08-11\",\"2021-08-12\",\"2021-08-13\",\"2021-08-15\",\"2021-08-23\",\"2021-08-27\",\"2021-08-28\",\"2021-08-31\",\"2021-09-01\",\"2021-09-03\",\"2021-09-04\",\"2021-09-05\",\"2021-09-06\",\"2021-09-07\",\"2021-09-08\",\"2021-09-11\",\"2021-09-13\",\"2021-09-16\",\"2021-09-18\",\"2021-09-22\",\"2021-09-24\",\"2021-09-25\",\"2021-09-27\",\"2021-09-28\",\"2021-10-01\",\"2021-10-06\",\"2021-10-07\",\"2021-10-13\",\"2021-10-14\",\"2021-10-16\",\"2021-10-17\",\"2021-10-19\",\"2021-10-20\",\"2021-10-25\",\"2021-10-26\",\"2021-10-27\",\"2021-10-29\"],\"tags\":[[[\"listing_date\",\"listing_date\",null]]]},\"id\":\"2214\",\"type\":\"FactorRange\"},{\"attributes\":{},\"id\":\"2237\",\"type\":\"ResetTool\"},{\"attributes\":{\"axis_label\":\"price\",\"formatter\":{\"id\":\"2260\"},\"major_label_policy\":{\"id\":\"2258\"},\"ticker\":{\"id\":\"2230\"}},\"id\":\"2229\",\"type\":\"LinearAxis\"},{\"attributes\":{\"source\":{\"id\":\"2246\"}},\"id\":\"2253\",\"type\":\"CDSView\"},{\"attributes\":{\"callback\":null,\"renderers\":[{\"id\":\"2252\"}],\"tags\":[\"hv_created\"],\"tooltips\":[[\"listing_date\",\"@{listing_date}\"],[\"listing_price\",\"@{listing_price}\"]]},\"id\":\"2216\",\"type\":\"HoverTool\"},{\"attributes\":{\"line_alpha\":0.1,\"line_color\":\"#30a2da\",\"line_width\":2,\"x\":{\"field\":\"listing_date\"},\"y\":{\"field\":\"listing_price\"}},\"id\":\"2250\",\"type\":\"Line\"},{\"attributes\":{},\"id\":\"2255\",\"type\":\"AllLabels\"},{\"attributes\":{},\"id\":\"2234\",\"type\":\"PanTool\"},{\"attributes\":{},\"id\":\"2230\",\"type\":\"BasicTicker\"},{\"attributes\":{\"below\":[{\"id\":\"2226\"}],\"center\":[{\"id\":\"2228\"},{\"id\":\"2232\"}],\"height\":300,\"left\":[{\"id\":\"2229\"}],\"margin\":[5,5,5,5],\"min_border_bottom\":10,\"min_border_left\":10,\"min_border_right\":10,\"min_border_top\":10,\"renderers\":[{\"id\":\"2252\"}],\"sizing_mode\":\"fixed\",\"title\":{\"id\":\"2218\"},\"toolbar\":{\"id\":\"2239\"},\"width\":700,\"x_range\":{\"id\":\"2214\"},\"x_scale\":{\"id\":\"2222\"},\"y_range\":{\"id\":\"2215\"},\"y_scale\":{\"id\":\"2224\"}},\"id\":\"2217\",\"subtype\":\"Figure\",\"type\":\"Plot\"},{\"attributes\":{},\"id\":\"2256\",\"type\":\"CategoricalTickFormatter\"},{\"attributes\":{},\"id\":\"2260\",\"type\":\"BasicTickFormatter\"},{\"attributes\":{\"line_alpha\":0.2,\"line_color\":\"#30a2da\",\"line_width\":2,\"x\":{\"field\":\"listing_date\"},\"y\":{\"field\":\"listing_price\"}},\"id\":\"2251\",\"type\":\"Line\"},{\"attributes\":{\"children\":[{\"id\":\"2213\"},{\"id\":\"2217\"},{\"id\":\"2281\"}],\"margin\":[0,0,0,0],\"name\":\"Row03416\",\"tags\":[\"embedded\"]},\"id\":\"2212\",\"type\":\"Row\"},{\"attributes\":{\"data_source\":{\"id\":\"2246\"},\"glyph\":{\"id\":\"2249\"},\"hover_glyph\":null,\"muted_glyph\":{\"id\":\"2251\"},\"nonselection_glyph\":{\"id\":\"2250\"},\"selection_glyph\":{\"id\":\"2254\"},\"view\":{\"id\":\"2253\"}},\"id\":\"2252\",\"type\":\"GlyphRenderer\"},{\"attributes\":{},\"id\":\"2233\",\"type\":\"SaveTool\"},{\"attributes\":{\"margin\":[5,5,5,5],\"name\":\"HSpacer03420\",\"sizing_mode\":\"stretch_width\"},\"id\":\"2213\",\"type\":\"Spacer\"},{\"attributes\":{\"active_multi\":null,\"tools\":[{\"id\":\"2216\"},{\"id\":\"2233\"},{\"id\":\"2234\"},{\"id\":\"2235\"},{\"id\":\"2236\"},{\"id\":\"2237\"}]},\"id\":\"2239\",\"type\":\"Toolbar\"}],\"root_ids\":[\"2212\"]},\"title\":\"Bokeh Application\",\"version\":\"2.3.3\"}};\n",
       "    var render_items = [{\"docid\":\"ec3cf8e2-9f9c-45bd-a45d-b28d990591f4\",\"root_ids\":[\"2212\"],\"roots\":{\"2212\":\"98e6f40c-5b98-434e-b152-94bb09639308\"}}];\n",
       "    root.Bokeh.embed.embed_items_notebook(docs_json, render_items);\n",
       "  }\n",
       "  if (root.Bokeh !== undefined && root.Bokeh.Panel !== undefined) {\n",
       "    embed_document(root);\n",
       "  } else {\n",
       "    var attempts = 0;\n",
       "    var timer = setInterval(function(root) {\n",
       "      if (root.Bokeh !== undefined && root.Bokeh.Panel !== undefined) {\n",
       "        clearInterval(timer);\n",
       "        embed_document(root);\n",
       "      } else if (document.readyState == \"complete\") {\n",
       "        attempts++;\n",
       "        if (attempts > 200) {\n",
       "          clearInterval(timer);\n",
       "          console.log(\"Bokeh: ERROR: Unable to run BokehJS code because BokehJS library is missing\");\n",
       "        }\n",
       "      }\n",
       "    }, 25, root)\n",
       "  }\n",
       "})(window);</script>"
      ],
      "text/plain": [
       ":Curve   [listing_date]   (listing_price)"
      ]
     },
     "execution_count": 48,
     "metadata": {
      "application/vnd.holoviews_exec.v0+json": {
       "id": "2212"
      }
     },
     "output_type": "execute_result"
    }
   ],
   "source": [
    "df1.hvplot.line(\n",
    "    title= \"Volume of Sales Per Day (USD$)\",\n",
    "    xlabel = \"day\",\n",
    "    ylabel = \"price\",\n",
    "    rot=90\n",
    ")"
   ]
  },
  {
   "cell_type": "code",
   "execution_count": null,
   "id": "f5656e47",
   "metadata": {},
   "outputs": [],
   "source": []
  },
  {
   "cell_type": "code",
   "execution_count": null,
   "id": "6db2094a",
   "metadata": {},
   "outputs": [],
   "source": []
  }
 ],
 "metadata": {
  "kernelspec": {
   "display_name": "Python 3 (ipykernel)",
   "language": "python",
   "name": "python3"
  },
  "language_info": {
   "codemirror_mode": {
    "name": "ipython",
    "version": 3
   },
   "file_extension": ".py",
   "mimetype": "text/x-python",
   "name": "python",
   "nbconvert_exporter": "python",
   "pygments_lexer": "ipython3",
   "version": "3.7.11"
  }
 },
 "nbformat": 4,
 "nbformat_minor": 5
}
