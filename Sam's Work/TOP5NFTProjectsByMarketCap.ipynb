{
 "cells": [
  {
   "cell_type": "code",
   "execution_count": 69,
   "id": "e9286578",
   "metadata": {},
   "outputs": [],
   "source": [
    "# Run imports\n",
    "import requests\n",
    "import json\n",
    "import pandas as pd\n",
    "import matplotlib.pyplot as plt\n",
    "import hvplot.pandas \n",
    "import numpy as np\n",
    "import panel as pn\n",
    "from panel.interact import interact\n",
    "from panel import widgets"
   ]
  },
  {
   "cell_type": "code",
   "execution_count": 70,
   "id": "09d8fe55",
   "metadata": {},
   "outputs": [
    {
     "name": "stdout",
     "output_type": "stream",
     "text": [
      "                       NFT Projects by Market Cap\n",
      "NFT Projects                     Market Cap (ETH)\n",
      "CryptoPunks                            1193025.61\n",
      "Bored Ape Yacht Club                    418574.92\n",
      "Fidenza by Tyler Hobbs                   163336.5\n",
      "CyberKongs                               62897.74\n",
      "Emblem Vault                             33402.22\n"
     ]
    }
   ],
   "source": [
    "\n",
    "NFT_Project_MarketCap = pd.read_csv ('../Project_1_Group_3/NFT Projects by Market Cap.csv')\n",
    "print (NFT_Project_MarketCap)"
   ]
  },
  {
   "cell_type": "code",
   "execution_count": 71,
   "id": "ea858dbd",
   "metadata": {},
   "outputs": [
    {
     "data": {
      "text/html": [
       "<div>\n",
       "<style scoped>\n",
       "    .dataframe tbody tr th:only-of-type {\n",
       "        vertical-align: middle;\n",
       "    }\n",
       "\n",
       "    .dataframe tbody tr th {\n",
       "        vertical-align: top;\n",
       "    }\n",
       "\n",
       "    .dataframe thead th {\n",
       "        text-align: right;\n",
       "    }\n",
       "</style>\n",
       "<table border=\"1\" class=\"dataframe\">\n",
       "  <thead>\n",
       "    <tr style=\"text-align: right;\">\n",
       "      <th></th>\n",
       "      <th>NFT Projects by Market Cap</th>\n",
       "    </tr>\n",
       "  </thead>\n",
       "  <tbody>\n",
       "    <tr>\n",
       "      <th>CryptoPunks</th>\n",
       "      <td>1193025.61</td>\n",
       "    </tr>\n",
       "    <tr>\n",
       "      <th>Bored Ape Yacht Club</th>\n",
       "      <td>418574.92</td>\n",
       "    </tr>\n",
       "    <tr>\n",
       "      <th>Fidenza by Tyler Hobbs</th>\n",
       "      <td>163336.5</td>\n",
       "    </tr>\n",
       "    <tr>\n",
       "      <th>CyberKongs</th>\n",
       "      <td>62897.74</td>\n",
       "    </tr>\n",
       "    <tr>\n",
       "      <th>Emblem Vault</th>\n",
       "      <td>33402.22</td>\n",
       "    </tr>\n",
       "  </tbody>\n",
       "</table>\n",
       "</div>"
      ],
      "text/plain": [
       "                       NFT Projects by Market Cap\n",
       "CryptoPunks                            1193025.61\n",
       "Bored Ape Yacht Club                    418574.92\n",
       "Fidenza by Tyler Hobbs                   163336.5\n",
       "CyberKongs                               62897.74\n",
       "Emblem Vault                             33402.22"
      ]
     },
     "execution_count": 71,
     "metadata": {},
     "output_type": "execute_result"
    }
   ],
   "source": [
    "MarketCap_df= pd.DataFrame(NFT_Project_MarketCap).head(6).drop([\"NFT Projects\"])\n",
    "MarketCap_df"
   ]
  },
  {
   "cell_type": "code",
   "execution_count": 93,
   "id": "581881aa",
   "metadata": {},
   "outputs": [
    {
     "data": {
      "image/png": "[encoded data removed]",
      "text/plain": [
       "<Figure size 432x288 with 1 Axes>"
      ]
     },
     "metadata": {
      "needs_background": "light"
     },
     "output_type": "display_data"
    },
    {
     "data": {
      "text/plain": [
       "<Figure size 2880x2880 with 0 Axes>"
      ]
     },
     "metadata": {},
     "output_type": "display_data"
    }
   ],
   "source": [
    "objects = ('CryptoPunks', \"Bored Ape\", \"Fidenza\", \"CyberKongs\", \"Emblem Vault\")\n",
    "y_pos = np.arange(len(objects))\n",
    "performance = [1193025.61,418574.92,163336.5,62897.74,33402.22]\n",
    "plt.bar(y_pos, performance, align=\"center\", alpha=1)\n",
    "plt.xticks(y_pos, objects)\n",
    "plt.ylabel(\"NFT Projects Market Cap (ETH)\")\n",
    "plt.title(\"Top 5 NFT Projects by Market Cap\")\n",
    "plt.figure(figsize=(40,40))\n",
    "plt.show()"
   ]
  },
  {
   "cell_type": "code",
   "execution_count": null,
   "id": "c58002dc",
   "metadata": {},
   "outputs": [],
   "source": []
  }
 ],
 "metadata": {
  "kernelspec": {
   "display_name": "Python 3",
   "language": "python",
   "name": "python3"
  },
  "language_info": {
   "codemirror_mode": {
    "name": "ipython",
    "version": 3
   },
   "file_extension": ".py",
   "mimetype": "text/x-python",
   "name": "python",
   "nbconvert_exporter": "python",
   "pygments_lexer": "ipython3",
   "version": "3.7.10"
  }
 },
 "nbformat": 4,
 "nbformat_minor": 5
}
