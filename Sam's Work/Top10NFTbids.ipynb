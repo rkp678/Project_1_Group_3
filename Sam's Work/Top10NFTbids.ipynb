{
 "cells": [
  {
   "cell_type": "code",
   "execution_count": 36,
   "id": "13da14b1",
   "metadata": {},
   "outputs": [],
   "source": [
    "import requests\n",
    "import json\n",
    "import pandas as pd\n",
    "%matplotlib inline\n",
    "\n",
    "# there are a few endpoints on this site. Check docs to see what it does\n",
    "# url = \"https://api.opensea.io/api/v1/events?only_opensea=false&offset=0&limit=20\"\n",
    "# url = \"https://api.opensea.io/api/v1/assets?order_direction=desc&offset=0&limit=20\"\n",
    "url = \"https://api.opensea.io/api/v1/events\"\n",
    "\n",
    "response = requests.request(\"GET\", url)\n",
    "opensea_data_pull = json.loads(response.text)"
   ]
  },
  {
   "cell_type": "code",
   "execution_count": 2,
   "id": "b134bbfa",
   "metadata": {},
   "outputs": [],
   "source": [
    "# bbb = opensea_data_pull[\"assets\"][5][\"asset_contract\"][\"default_to_fiat\"]\n",
    "# price = opensea_data_pull[\"asset_events\"][0][\"payment_token\"][\"usd_price\"]\n",
    "# bid = opensea_data_pull[\"asset_events\"][0][\"bid_amount\"]"
   ]
  },
  {
   "cell_type": "code",
   "execution_count": 41,
   "id": "6312ab0a",
   "metadata": {},
   "outputs": [],
   "source": [
    "data_list = opensea_data_pull[\"asset_events\"]\n",
    "\n",
    "listing_date_list = []\n",
    "listing_price_list = []\n",
    "\n",
    "# iterate through each item in list\n",
    "for each in data_list:\n",
    "    \n",
    "    # grab the id\n",
    "    listing_date = each[\"asset\"][\"asset_contract\"][\"created_date\"]\n",
    "    listing_date = listing_date[0:10]  # reformat dates to be cleaner\n",
    "\n",
    "    listing_price = (each[\"bid_amount\"])\n",
    "    try:\n",
    "        listing_price = float(listing_price)\n",
    "        listing_price = listing_price/ 10000000000000000\n",
    "    except:\n",
    "        listing_price=0\n",
    "\n",
    "    # append id to list of ids\n",
    "    listing_date_list.append(listing_date)\n",
    "    listing_price_list.append(listing_price)\n",
    "\n"
   ]
  },
  {
   "cell_type": "code",
   "execution_count": 42,
   "id": "47120ebe",
   "metadata": {},
   "outputs": [],
   "source": [
    "# cleaner method. give column headers\n",
    "df = pd.DataFrame(\n",
    "    {'listing_date': listing_date_list,\n",
    "     'listing_price': listing_price_list\n",
    "     })\n"
   ]
  },
  {
   "cell_type": "code",
   "execution_count": 43,
   "id": "ca2b9956",
   "metadata": {},
   "outputs": [
    {
     "data": {
      "text/html": [
       "<div>\n",
       "<style scoped>\n",
       "    .dataframe tbody tr th:only-of-type {\n",
       "        vertical-align: middle;\n",
       "    }\n",
       "\n",
       "    .dataframe tbody tr th {\n",
       "        vertical-align: top;\n",
       "    }\n",
       "\n",
       "    .dataframe thead th {\n",
       "        text-align: right;\n",
       "    }\n",
       "</style>\n",
       "<table border=\"1\" class=\"dataframe\">\n",
       "  <thead>\n",
       "    <tr style=\"text-align: right;\">\n",
       "      <th></th>\n",
       "      <th>0</th>\n",
       "    </tr>\n",
       "  </thead>\n",
       "  <tbody>\n",
       "    <tr>\n",
       "      <th>0</th>\n",
       "      <td>3704.5000</td>\n",
       "    </tr>\n",
       "    <tr>\n",
       "      <th>15</th>\n",
       "      <td>563.6800</td>\n",
       "    </tr>\n",
       "    <tr>\n",
       "      <th>1</th>\n",
       "      <td>315.2000</td>\n",
       "    </tr>\n",
       "    <tr>\n",
       "      <th>8</th>\n",
       "      <td>286.0000</td>\n",
       "    </tr>\n",
       "    <tr>\n",
       "      <th>10</th>\n",
       "      <td>240.0000</td>\n",
       "    </tr>\n",
       "    <tr>\n",
       "      <th>7</th>\n",
       "      <td>113.6900</td>\n",
       "    </tr>\n",
       "    <tr>\n",
       "      <th>6</th>\n",
       "      <td>95.7400</td>\n",
       "    </tr>\n",
       "    <tr>\n",
       "      <th>19</th>\n",
       "      <td>95.7400</td>\n",
       "    </tr>\n",
       "    <tr>\n",
       "      <th>18</th>\n",
       "      <td>80.0000</td>\n",
       "    </tr>\n",
       "    <tr>\n",
       "      <th>4</th>\n",
       "      <td>72.8175</td>\n",
       "    </tr>\n",
       "  </tbody>\n",
       "</table>\n",
       "</div>"
      ],
      "text/plain": [
       "            0\n",
       "0   3704.5000\n",
       "15   563.6800\n",
       "1    315.2000\n",
       "8    286.0000\n",
       "10   240.0000\n",
       "7    113.6900\n",
       "6     95.7400\n",
       "19    95.7400\n",
       "18    80.0000\n",
       "4     72.8175"
      ]
     },
     "execution_count": 43,
     "metadata": {},
     "output_type": "execute_result"
    }
   ],
   "source": [
    "# Top 10 NFT Bids on OceanSea in barchart\n",
    "bid_price_df = pd.DataFrame(listing_price_list)\n",
    "top_bids = bid_price_df.sort_values(0, ascending=False)\n",
    "bid_price= top_bids.head(10)\n",
    "bid_price"
   ]
  },
  {
   "cell_type": "code",
   "execution_count": 44,
   "id": "a5aeb4be",
   "metadata": {},
   "outputs": [
    {
     "data": {
      "text/plain": [
       "<matplotlib.axes._subplots.AxesSubplot at 0x7fd36b754090>"
      ]
     },
     "execution_count": 44,
     "metadata": {},
     "output_type": "execute_result"
    },
    {
     "data": {
      "image/png": "[encoded data removed]",
      "text/plain": [
       "<Figure size 432x288 with 1 Axes>"
      ]
     },
     "metadata": {
      "needs_background": "light"
     },
     "output_type": "display_data"
    }
   ],
   "source": [
    "bid_price.plot.bar(title= \"Top 10 NFT Bids on OpenSea\", xlabel= \"NFT Projects\", ylabel=\"Price (USD)\" )"
   ]
  },
  {
   "cell_type": "code",
   "execution_count": null,
   "id": "1a1c882d",
   "metadata": {},
   "outputs": [],
   "source": []
  },
  {
   "cell_type": "code",
   "execution_count": null,
   "id": "858e4f69",
   "metadata": {},
   "outputs": [],
   "source": []
  }
 ],
 "metadata": {
  "kernelspec": {
   "display_name": "Python [conda env:pyvizenv] *",
   "language": "python",
   "name": "conda-env-pyvizenv-py"
  },
  "language_info": {
   "codemirror_mode": {
    "name": "ipython",
    "version": 3
   },
   "file_extension": ".py",
   "mimetype": "text/x-python",
   "name": "python",
   "nbconvert_exporter": "python",
   "pygments_lexer": "ipython3",
   "version": "3.7.10"
  }
 },
 "nbformat": 4,
 "nbformat_minor": 5
}
