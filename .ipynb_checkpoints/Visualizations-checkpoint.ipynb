{
 "cells": [
  {
   "cell_type": "markdown",
   "id": "9564d414-bf1d-4bfa-b11c-daaed9bc9463",
   "metadata": {},
   "source": [
    "# Plotting Visualizations - Project 1 Group 3 (NFTs)"
   ]
  },
  {
   "cell_type": "code",
   "execution_count": 253,
   "id": "915e9dd2-8932-4454-a198-954bebe95d98",
   "metadata": {},
   "outputs": [],
   "source": [
    "# Run imports\n",
    "import requests\n",
    "import json\n",
    "import pandas as pd\n",
    "\n",
    "import hvplot.pandas \n",
    "import numpy as np\n",
    "import panel as pn\n",
    "from panel.interact import interact\n",
    "from panel import widgets\n",
    "import matplotlib.pyplot as plt\n",
    "\n",
    "from math import pi\n",
    "from bokeh.palettes import Category20c\n",
    "from bokeh.plotting import figure, show\n",
    "from bokeh.transform import cumsum\n",
    "from bokeh.io import export_png\n"
   ]
  },
  {
   "cell_type": "markdown",
   "id": "dc570cf8-2892-4f11-9b39-c686a7a41d86",
   "metadata": {},
   "source": [
    "### Prepare Data"
   ]
  },
  {
   "cell_type": "code",
   "execution_count": 254,
   "id": "c24fa92c-2bb5-45da-9591-c592b17c28a8",
   "metadata": {},
   "outputs": [],
   "source": [
    "# Add Urls to data sources\n",
    "url = \"https://api.opensea.io/api/v1/events?limit=100\"\n",
    "url1 = \"https://api.opensea.io/api/v1/events?only_opensea=false&offset=0&limit=50\"\n",
    "url2 = \"https://api.opensea.io/api/v1/assets?order_direction=desc&offset=0&limit=50\"\n",
    "\n",
    "response = requests.request(\"GET\", url)\n",
    "opensea_data_pull = json.loads(response.text)\n",
    "opensea_data_pull1 = json.loads(response.text)\n"
   ]
  },
  {
   "cell_type": "code",
   "execution_count": 255,
   "id": "cc80ba78-2343-455e-be74-a5ec9f7e4fb8",
   "metadata": {},
   "outputs": [],
   "source": [
    "# Data paths for reference:\n",
    "# bbb = opensea_data_pull[\"assets\"][5][\"asset_contract\"][\"default_to_fiat\"]\n",
    "# price = opensea_data_pull[\"asset_events\"][0][\"payment_token\"][\"usd_price\"]\n",
    "# bid = opensea_data_pull[\"asset_events\"][0][\"bid_amount\"]"
   ]
  },
  {
   "cell_type": "markdown",
   "id": "85f83330-87a8-4225-a1ce-a872796e9b59",
   "metadata": {},
   "source": [
    "### Visual #1: NFT Bid Trends"
   ]
  },
  {
   "cell_type": "code",
   "execution_count": 256,
   "id": "5f2aeb30-8534-4389-8bbd-e8a16de1b543",
   "metadata": {},
   "outputs": [],
   "source": [
    "#CREATE VISUAL: NFT BID TRENDS\n",
    "# Pull dates and prices for each asset and create variables\n",
    "data_list = opensea_data_pull[\"asset_events\"]\n",
    "\n",
    "listing_date_list = []\n",
    "listing_price_list = []"
   ]
  },
  {
   "cell_type": "code",
   "execution_count": 257,
   "id": "3ba977a6-1fc8-410c-a078-4f55d506bfde",
   "metadata": {},
   "outputs": [],
   "source": [
    "# Iterate through each item in list\n",
    "for each in data_list:\n",
    "    \n",
    "    # grab the id\n",
    "    listing_date = each[\"asset\"][\"asset_contract\"][\"created_date\"]\n",
    "    listing_date = listing_date[0:10]  # reformat dates to be cleaner\n",
    "\n",
    "    listing_price = each[\"bid_amount\"]\n",
    "    try:\n",
    "        listing_price = float(listing_price)\n",
    "        listing_price = (listing_price/ 10000000000000000)\n",
    "    except:\n",
    "        listing_price = 0\n",
    "        \n",
    "    # append id to list of ids\n",
    "    listing_date_list.append(listing_date)\n",
    "    listing_price_list.append(listing_price)"
   ]
  },
  {
   "cell_type": "code",
   "execution_count": 258,
   "id": "c4bafe83-ed49-4873-8d40-269d62f6f460",
   "metadata": {},
   "outputs": [],
   "source": [
    "# Cleaner method, give column headers\n",
    "bidtrends_df = pd.DataFrame(\n",
    "    {'listing_date': listing_date_list,\n",
    "     'listing_price': listing_price_list\n",
    "     })"
   ]
  },
  {
   "cell_type": "code",
   "execution_count": 259,
   "id": "03a6d6c1-4a9d-4b2e-ae66-460fb89dbc09",
   "metadata": {},
   "outputs": [
    {
     "data": {
      "text/html": [
       "<div>\n",
       "<style scoped>\n",
       "    .dataframe tbody tr th:only-of-type {\n",
       "        vertical-align: middle;\n",
       "    }\n",
       "\n",
       "    .dataframe tbody tr th {\n",
       "        vertical-align: top;\n",
       "    }\n",
       "\n",
       "    .dataframe thead th {\n",
       "        text-align: right;\n",
       "    }\n",
       "</style>\n",
       "<table border=\"1\" class=\"dataframe\">\n",
       "  <thead>\n",
       "    <tr style=\"text-align: right;\">\n",
       "      <th></th>\n",
       "      <th>listing_date</th>\n",
       "      <th>listing_price</th>\n",
       "    </tr>\n",
       "  </thead>\n",
       "  <tbody>\n",
       "    <tr>\n",
       "      <th>0</th>\n",
       "      <td>2021-08-11</td>\n",
       "      <td>0.0</td>\n",
       "    </tr>\n",
       "    <tr>\n",
       "      <th>1</th>\n",
       "      <td>2021-08-28</td>\n",
       "      <td>119.5</td>\n",
       "    </tr>\n",
       "    <tr>\n",
       "      <th>2</th>\n",
       "      <td>2021-08-11</td>\n",
       "      <td>0.0</td>\n",
       "    </tr>\n",
       "    <tr>\n",
       "      <th>3</th>\n",
       "      <td>2021-10-26</td>\n",
       "      <td>42.0</td>\n",
       "    </tr>\n",
       "    <tr>\n",
       "      <th>4</th>\n",
       "      <td>2021-08-28</td>\n",
       "      <td>116.0</td>\n",
       "    </tr>\n",
       "  </tbody>\n",
       "</table>\n",
       "</div>"
      ],
      "text/plain": [
       "  listing_date  listing_price\n",
       "0   2021-08-11            0.0\n",
       "1   2021-08-28          119.5\n",
       "2   2021-08-11            0.0\n",
       "3   2021-10-26           42.0\n",
       "4   2021-08-28          116.0"
      ]
     },
     "execution_count": 259,
     "metadata": {},
     "output_type": "execute_result"
    }
   ],
   "source": [
    "#Clean data, drop NAs\n",
    "bidtrends_df = bidtrends_df.dropna()\n",
    "bidtrends_df.head()"
   ]
  },
  {
   "cell_type": "code",
   "execution_count": 260,
   "id": "310e8487-2ff2-449f-b9c4-2d1e05776c87",
   "metadata": {},
   "outputs": [],
   "source": [
    "#Sort values by date\n",
    "bidtrends_df = bidtrends_df.sort_values(\"listing_date\")"
   ]
  },
  {
   "cell_type": "code",
   "execution_count": 261,
   "id": "0ed3805b-d8fa-4c1c-841e-03a684b07bd6",
   "metadata": {},
   "outputs": [],
   "source": [
    "#Plot the data using a line plot to show differences over time and name the plot for easier dashboard build later on\n",
    "plot_1 = bidtrends_df.hvplot.line(x=\"listing_date\", y=\"listing_price\", xlabel=\"Date\", ylabel=\"Listing Price\", title=\"NFT Bid Trends\", rot=45, width=1200, grid=True)"
   ]
  },
  {
   "cell_type": "code",
   "execution_count": 262,
   "id": "2d872948-d1b9-4c9b-9e5e-7867d0de33b8",
   "metadata": {},
   "outputs": [
    {
     "data": {},
     "metadata": {},
     "output_type": "display_data"
    },
    {
     "data": {
      "application/vnd.holoviews_exec.v0+json": "",
      "text/html": [
       "<div id='25803'>\n",
       "\n",
       "\n",
       "\n",
       "\n",
       "\n",
       "  <div class=\"bk-root\" id=\"198003aa-2a37-43d6-becb-baa62a479ddb\" data-root-id=\"25803\"></div>\n",
       "</div>\n",
       "<script type=\"application/javascript\">(function(root) {\n",
       "  function embed_document(root) {\n",
       "    var docs_json = {\"8f75ed17-db2a-480c-b63e-7b6acf59a931\":{\"defs\":[{\"extends\":null,\"module\":null,\"name\":\"ReactiveHTML1\",\"overrides\":[],\"properties\":[]},{\"extends\":null,\"module\":null,\"name\":\"FlexBox1\",\"overrides\":[],\"properties\":[{\"default\":\"flex-start\",\"kind\":null,\"name\":\"align_content\"},{\"default\":\"flex-start\",\"kind\":null,\"name\":\"align_items\"},{\"default\":\"row\",\"kind\":null,\"name\":\"flex_direction\"},{\"default\":\"wrap\",\"kind\":null,\"name\":\"flex_wrap\"},{\"default\":\"flex-start\",\"kind\":null,\"name\":\"justify_content\"}]},{\"extends\":null,\"module\":null,\"name\":\"TemplateActions1\",\"overrides\":[],\"properties\":[{\"default\":0,\"kind\":null,\"name\":\"open_modal\"},{\"default\":0,\"kind\":null,\"name\":\"close_modal\"}]},{\"extends\":null,\"module\":null,\"name\":\"MaterialTemplateActions1\",\"overrides\":[],\"properties\":[{\"default\":0,\"kind\":null,\"name\":\"open_modal\"},{\"default\":0,\"kind\":null,\"name\":\"close_modal\"}]}],\"roots\":{\"references\":[{\"attributes\":{\"below\":[{\"id\":\"25817\"}],\"center\":[{\"id\":\"25819\"},{\"id\":\"25823\"}],\"height\":300,\"left\":[{\"id\":\"25820\"}],\"margin\":[5,5,5,5],\"min_border_bottom\":10,\"min_border_left\":10,\"min_border_right\":10,\"min_border_top\":10,\"renderers\":[{\"id\":\"25843\"}],\"sizing_mode\":\"fixed\",\"title\":{\"id\":\"25809\"},\"toolbar\":{\"id\":\"25830\"},\"width\":1200,\"x_range\":{\"id\":\"25805\"},\"x_scale\":{\"id\":\"25813\"},\"y_range\":{\"id\":\"25806\"},\"y_scale\":{\"id\":\"25815\"}},\"id\":\"25808\",\"subtype\":\"Figure\",\"type\":\"Plot\"},{\"attributes\":{},\"id\":\"25849\",\"type\":\"BasicTickFormatter\"},{\"attributes\":{\"factors\":[\"2019-12-04\",\"2020-12-02\",\"2021-03-02\",\"2021-04-16\",\"2021-05-03\",\"2021-05-11\",\"2021-06-18\",\"2021-06-27\",\"2021-06-28\",\"2021-06-30\",\"2021-07-06\",\"2021-07-12\",\"2021-07-16\",\"2021-07-26\",\"2021-07-27\",\"2021-07-31\",\"2021-08-03\",\"2021-08-05\",\"2021-08-06\",\"2021-08-11\",\"2021-08-13\",\"2021-08-15\",\"2021-08-28\",\"2021-08-31\",\"2021-09-01\",\"2021-09-05\",\"2021-09-06\",\"2021-09-08\",\"2021-09-12\",\"2021-09-13\",\"2021-09-16\",\"2021-09-18\",\"2021-09-25\",\"2021-09-26\",\"2021-09-28\",\"2021-10-01\",\"2021-10-04\",\"2021-10-07\",\"2021-10-10\",\"2021-10-13\",\"2021-10-16\",\"2021-10-19\",\"2021-10-21\",\"2021-10-25\",\"2021-10-26\",\"2021-10-29\",\"2021-10-31\"],\"tags\":[[[\"listing_date\",\"listing_date\",null]]]},\"id\":\"25805\",\"type\":\"FactorRange\"},{\"attributes\":{\"axis_label\":\"Date\",\"formatter\":{\"id\":\"25847\"},\"major_label_orientation\":0.7853981633974483,\"major_label_policy\":{\"id\":\"25848\"},\"ticker\":{\"id\":\"25818\"}},\"id\":\"25817\",\"type\":\"CategoricalAxis\"},{\"attributes\":{\"data\":{\"listing_date\":[\"2019-12-04\",\"2019-12-04\",\"2019-12-04\",\"2020-12-02\",\"2020-12-02\",\"2021-03-02\",\"2021-04-16\",\"2021-05-03\",\"2021-05-03\",\"2021-05-11\",\"2021-05-11\",\"2021-05-11\",\"2021-05-11\",\"2021-05-11\",\"2021-05-11\",\"2021-06-18\",\"2021-06-27\",\"2021-06-27\",\"2021-06-27\",\"2021-06-27\",\"2021-06-27\",\"2021-06-27\",\"2021-06-27\",\"2021-06-27\",\"2021-06-27\",\"2021-06-27\",\"2021-06-28\",\"2021-06-28\",\"2021-06-30\",\"2021-07-06\",\"2021-07-12\",\"2021-07-12\",\"2021-07-12\",\"2021-07-12\",\"2021-07-12\",\"2021-07-12\",\"2021-07-16\",\"2021-07-16\",\"2021-07-26\",\"2021-07-27\",\"2021-07-27\",\"2021-07-27\",\"2021-07-31\",\"2021-08-03\",\"2021-08-03\",\"2021-08-05\",\"2021-08-06\",\"2021-08-11\",\"2021-08-11\",\"2021-08-11\",\"2021-08-13\",\"2021-08-15\",\"2021-08-28\",\"2021-08-28\",\"2021-08-28\",\"2021-08-28\",\"2021-08-28\",\"2021-08-28\",\"2021-08-28\",\"2021-08-28\",\"2021-08-28\",\"2021-08-28\",\"2021-08-28\",\"2021-08-28\",\"2021-08-31\",\"2021-09-01\",\"2021-09-05\",\"2021-09-05\",\"2021-09-06\",\"2021-09-06\",\"2021-09-08\",\"2021-09-08\",\"2021-09-12\",\"2021-09-13\",\"2021-09-16\",\"2021-09-16\",\"2021-09-16\",\"2021-09-18\",\"2021-09-25\",\"2021-09-26\",\"2021-09-26\",\"2021-09-28\",\"2021-10-01\",\"2021-10-04\",\"2021-10-04\",\"2021-10-07\",\"2021-10-10\",\"2021-10-13\",\"2021-10-16\",\"2021-10-16\",\"2021-10-16\",\"2021-10-16\",\"2021-10-19\",\"2021-10-21\",\"2021-10-25\",\"2021-10-25\",\"2021-10-26\",\"2021-10-29\",\"2021-10-31\",\"2021-10-31\"],\"listing_price\":{\"__ndarray__\":\"AAAAAAAASECamZmZmVlIQJqZmZmZGU1AZmZmZmbmXkDNzMzMzMwzQDMzMzMzM+s/ZmZmZmbuf0AJ16NwPdJyQMvMzMzMJHNASOF6FK7JgkBI4XoUrsmCQEjhehSuyYJASOF6FK65gkAzMzMzMzOCQEjhehSuyYJAAAAAAABAX0A0MzMzM3qBQDMzMzMza4FAMzMzMzNngUDOzMzMzMiBQDQzMzMzeoFAAAAAAADIgUAAAAAAADCBQBSuR+F6FABAzszMzMzIgUAAAAAAADSBQFyPwvUovFVAKVyPwvVIT0DXo3A9ClcpQAAAAAAAABJA16NwPQq3aUAQg8DKoa1pQDMzMzMzQ2lAFK5H4XrkakDXo3A9CrdpQBSuR+F65GpAzczMzMwMXUACK4cW2c4HQGZmZmZmJjJAMzMzMzNTWkBmZmZmZiZHQAAAAAAAAFtAPQrXo3D9X0BJ4XoUrgc6QHE9CtejMDtAAAAAAABAX0A9CtejcP1SQAAAAAAAAAAAAAAAAAAAAAAAAAAAAAAAAIXrUbgehUZArkfhehTOT0AAAAAAAABdQM3MzMzMWHRAAAAAAADgXUAAAAAAAOBdQChcj8L1eHBAAAAAAABAb0AK16NwPXpeQDMzMzMzU3FAZmZmZmbGXUAAAAAAAIBdQMP1KFyPsl1AMzMzMzMzJkAAAAAAAAAQQM7MzMzMTDxAmpmZmZkZMEA9CtejcP02QLByaJHtzEtAKVyPwvUITECamZmZmeF6QAAAAAAAMH1ACtejcD0KMEAnMQisHHJJQI51cRsNACBAjnVxGw0AIECOdXEbDQAgQAAAAAAAACdAU7gehesRNEDNzMzMzMxKQAAAAAAAAEtAAAAAAAAAAABxPQrXo/ApQI/C9ShcTz9AzczMzMxMP0CkcD0K13NVQLgehetR+DlArkfhehQORUBdT7Z5CtdYQAAAAAAAoFZAiV4ElQrXWEDsUbgehTtWQDUzMzMzMy1A4XoUrkfhI0AUrkfhepRHQDMzMzMzc0dAAAAAAAAARUCamZmZmRk3QGZmZmZm5jdAjCQHDXmdOUA=\",\"dtype\":\"float64\",\"order\":\"little\",\"shape\":[100]}},\"selected\":{\"id\":\"25838\"},\"selection_policy\":{\"id\":\"25861\"}},\"id\":\"25837\",\"type\":\"ColumnDataSource\"},{\"attributes\":{\"axis\":{\"id\":\"25817\"},\"ticker\":{\"id\":\"25818\"}},\"id\":\"25819\",\"type\":\"Grid\"},{\"attributes\":{\"callback\":null,\"renderers\":[{\"id\":\"25843\"}],\"tags\":[\"hv_created\"],\"tooltips\":[[\"listing_date\",\"@{listing_date}\"],[\"listing_price\",\"@{listing_price}\"]]},\"id\":\"25807\",\"type\":\"HoverTool\"},{\"attributes\":{},\"id\":\"25815\",\"type\":\"LinearScale\"},{\"attributes\":{},\"id\":\"25818\",\"type\":\"CategoricalTicker\"},{\"attributes\":{\"axis_label\":\"Listing Price\",\"formatter\":{\"id\":\"25849\"},\"major_label_policy\":{\"id\":\"25850\"},\"ticker\":{\"id\":\"25821\"}},\"id\":\"25820\",\"type\":\"LinearAxis\"},{\"attributes\":{\"axis\":{\"id\":\"25820\"},\"dimension\":1,\"ticker\":{\"id\":\"25821\"}},\"id\":\"25823\",\"type\":\"Grid\"},{\"attributes\":{\"active_multi\":null,\"tools\":[{\"id\":\"25807\"},{\"id\":\"25824\"},{\"id\":\"25825\"},{\"id\":\"25826\"},{\"id\":\"25827\"},{\"id\":\"25828\"}]},\"id\":\"25830\",\"type\":\"Toolbar\"},{\"attributes\":{},\"id\":\"25847\",\"type\":\"CategoricalTickFormatter\"},{\"attributes\":{\"bottom_units\":\"screen\",\"fill_alpha\":0.5,\"fill_color\":\"lightgrey\",\"left_units\":\"screen\",\"level\":\"overlay\",\"line_alpha\":1.0,\"line_color\":\"black\",\"line_dash\":[4,4],\"line_width\":2,\"right_units\":\"screen\",\"syncable\":false,\"top_units\":\"screen\"},\"id\":\"25829\",\"type\":\"BoxAnnotation\"},{\"attributes\":{},\"id\":\"25813\",\"type\":\"CategoricalScale\"},{\"attributes\":{\"data_source\":{\"id\":\"25837\"},\"glyph\":{\"id\":\"25840\"},\"hover_glyph\":null,\"muted_glyph\":{\"id\":\"25842\"},\"nonselection_glyph\":{\"id\":\"25841\"},\"selection_glyph\":{\"id\":\"25845\"},\"view\":{\"id\":\"25844\"}},\"id\":\"25843\",\"type\":\"GlyphRenderer\"},{\"attributes\":{},\"id\":\"25850\",\"type\":\"AllLabels\"},{\"attributes\":{\"line_alpha\":0.1,\"line_color\":\"#30a2da\",\"line_width\":2,\"x\":{\"field\":\"listing_date\"},\"y\":{\"field\":\"listing_price\"}},\"id\":\"25841\",\"type\":\"Line\"},{\"attributes\":{\"line_color\":\"#30a2da\",\"line_width\":2,\"x\":{\"field\":\"listing_date\"},\"y\":{\"field\":\"listing_price\"}},\"id\":\"25845\",\"type\":\"Line\"},{\"attributes\":{\"children\":[{\"id\":\"25804\"},{\"id\":\"25808\"},{\"id\":\"25874\"}],\"margin\":[0,0,0,0],\"name\":\"Row13205\",\"tags\":[\"embedded\"]},\"id\":\"25803\",\"type\":\"Row\"},{\"attributes\":{\"margin\":[5,5,5,5],\"name\":\"HSpacer13210\",\"sizing_mode\":\"stretch_width\"},\"id\":\"25874\",\"type\":\"Spacer\"},{\"attributes\":{},\"id\":\"25821\",\"type\":\"BasicTicker\"},{\"attributes\":{\"line_alpha\":0.2,\"line_color\":\"#30a2da\",\"line_width\":2,\"x\":{\"field\":\"listing_date\"},\"y\":{\"field\":\"listing_price\"}},\"id\":\"25842\",\"type\":\"Line\"},{\"attributes\":{\"line_color\":\"#30a2da\",\"line_width\":2,\"x\":{\"field\":\"listing_date\"},\"y\":{\"field\":\"listing_price\"}},\"id\":\"25840\",\"type\":\"Line\"},{\"attributes\":{\"margin\":[5,5,5,5],\"name\":\"HSpacer13209\",\"sizing_mode\":\"stretch_width\"},\"id\":\"25804\",\"type\":\"Spacer\"},{\"attributes\":{},\"id\":\"25824\",\"type\":\"SaveTool\"},{\"attributes\":{},\"id\":\"25838\",\"type\":\"Selection\"},{\"attributes\":{\"text\":\"NFT Bid Trends\",\"text_color\":\"black\",\"text_font_size\":\"12pt\"},\"id\":\"25809\",\"type\":\"Title\"},{\"attributes\":{},\"id\":\"25825\",\"type\":\"PanTool\"},{\"attributes\":{},\"id\":\"25848\",\"type\":\"AllLabels\"},{\"attributes\":{\"end\":661.331,\"reset_end\":661.331,\"reset_start\":-60.12100000000001,\"start\":-60.12100000000001,\"tags\":[[[\"listing_price\",\"listing_price\",null]]]},\"id\":\"25806\",\"type\":\"Range1d\"},{\"attributes\":{\"source\":{\"id\":\"25837\"}},\"id\":\"25844\",\"type\":\"CDSView\"},{\"attributes\":{},\"id\":\"25826\",\"type\":\"WheelZoomTool\"},{\"attributes\":{},\"id\":\"25861\",\"type\":\"UnionRenderers\"},{\"attributes\":{\"overlay\":{\"id\":\"25829\"}},\"id\":\"25827\",\"type\":\"BoxZoomTool\"},{\"attributes\":{},\"id\":\"25828\",\"type\":\"ResetTool\"}],\"root_ids\":[\"25803\"]},\"title\":\"Bokeh Application\",\"version\":\"2.3.2\"}};\n",
       "    var render_items = [{\"docid\":\"8f75ed17-db2a-480c-b63e-7b6acf59a931\",\"root_ids\":[\"25803\"],\"roots\":{\"25803\":\"198003aa-2a37-43d6-becb-baa62a479ddb\"}}];\n",
       "    root.Bokeh.embed.embed_items_notebook(docs_json, render_items);\n",
       "  }\n",
       "  if (root.Bokeh !== undefined && root.Bokeh.Panel !== undefined) {\n",
       "    embed_document(root);\n",
       "  } else {\n",
       "    var attempts = 0;\n",
       "    var timer = setInterval(function(root) {\n",
       "      if (root.Bokeh !== undefined && root.Bokeh.Panel !== undefined) {\n",
       "        clearInterval(timer);\n",
       "        embed_document(root);\n",
       "      } else if (document.readyState == \"complete\") {\n",
       "        attempts++;\n",
       "        if (attempts > 200) {\n",
       "          clearInterval(timer);\n",
       "          console.log(\"Bokeh: ERROR: Unable to run BokehJS code because BokehJS library is missing\");\n",
       "        }\n",
       "      }\n",
       "    }, 25, root)\n",
       "  }\n",
       "})(window);</script>"
      ],
      "text/plain": [
       ":Curve   [listing_date]   (listing_price)"
      ]
     },
     "execution_count": 262,
     "metadata": {
      "application/vnd.holoviews_exec.v0+json": {
       "id": "25803"
      }
     },
     "output_type": "execute_result"
    }
   ],
   "source": [
    "plot_1"
   ]
  },
  {
   "cell_type": "markdown",
   "id": "2bfa7227-ad54-4d0e-b230-0c8b0410422f",
   "metadata": {},
   "source": [
    "#### This visual provided our group with the trends in NFT bid prices from 2018-2021.  As you can see by the graph, bids have periodic jumps throughout the year, most notably in November and December 2020, and April, June, August, September, and October."
   ]
  },
  {
   "cell_type": "markdown",
   "id": "cbb802f3-d870-43ee-9ce0-d844f971ca73",
   "metadata": {},
   "source": [
    "### Visual #2: Number of NFT Sales per Day"
   ]
  },
  {
   "cell_type": "code",
   "execution_count": 263,
   "id": "77024dca-d663-4d69-8877-6227507c6724",
   "metadata": {},
   "outputs": [],
   "source": [
    "#CREATE VISUAL: Number of NFT Sales per Day\n",
    "data_list = opensea_data_pull[\"asset_events\"]\n",
    "\n",
    "#Create variables\n",
    "listing_date_list = []\n",
    "listing_price_list = []\n",
    "\n",
    "# iterate through each item in list\n",
    "for each in data_list:\n",
    "    \n",
    "    # grab the id\n",
    "    listing_date = each[\"asset\"][\"asset_contract\"][\"created_date\"]\n",
    "    listing_date = listing_date[0:10]  # reformat dates to be cleaner\n",
    "    try:\n",
    "        listing_price = float(each[\"bid_amount\"])\n",
    "        listing_price = listing_price / 10000000000000\n",
    "    except:\n",
    "        listing_price = 0\n",
    "        \n",
    "    # append id to list of ids\n",
    "    listing_date_list.append(listing_date)\n",
    "    listing_price_list.append(listing_price)"
   ]
  },
  {
   "cell_type": "code",
   "execution_count": 264,
   "id": "4c654aa3-f33c-47f9-bc23-28ee5464200f",
   "metadata": {},
   "outputs": [],
   "source": [
    "# cleaner method. give column headers\n",
    "sales_df = pd.DataFrame(\n",
    "    {'listing_date': listing_date_list,\n",
    "     'listing_price': listing_price_list\n",
    "     })\n",
    "sales_df = sales_df.set_index(\"listing_date\")\n",
    "sales_df = sales_df.dropna()"
   ]
  },
  {
   "cell_type": "code",
   "execution_count": 265,
   "id": "3b6008e4-dc88-40d8-a3af-18a09b9e6c84",
   "metadata": {},
   "outputs": [
    {
     "data": {
      "text/html": [
       "<div>\n",
       "<style scoped>\n",
       "    .dataframe tbody tr th:only-of-type {\n",
       "        vertical-align: middle;\n",
       "    }\n",
       "\n",
       "    .dataframe tbody tr th {\n",
       "        vertical-align: top;\n",
       "    }\n",
       "\n",
       "    .dataframe thead th {\n",
       "        text-align: right;\n",
       "    }\n",
       "</style>\n",
       "<table border=\"1\" class=\"dataframe\">\n",
       "  <thead>\n",
       "    <tr style=\"text-align: right;\">\n",
       "      <th></th>\n",
       "      <th>listing_price</th>\n",
       "    </tr>\n",
       "    <tr>\n",
       "      <th>listing_date</th>\n",
       "      <th></th>\n",
       "    </tr>\n",
       "  </thead>\n",
       "  <tbody>\n",
       "    <tr>\n",
       "      <th>2019-12-04</th>\n",
       "      <td>3</td>\n",
       "    </tr>\n",
       "    <tr>\n",
       "      <th>2020-12-02</th>\n",
       "      <td>2</td>\n",
       "    </tr>\n",
       "    <tr>\n",
       "      <th>2021-03-02</th>\n",
       "      <td>1</td>\n",
       "    </tr>\n",
       "    <tr>\n",
       "      <th>2021-04-16</th>\n",
       "      <td>1</td>\n",
       "    </tr>\n",
       "    <tr>\n",
       "      <th>2021-05-03</th>\n",
       "      <td>2</td>\n",
       "    </tr>\n",
       "    <tr>\n",
       "      <th>2021-05-11</th>\n",
       "      <td>6</td>\n",
       "    </tr>\n",
       "    <tr>\n",
       "      <th>2021-06-18</th>\n",
       "      <td>1</td>\n",
       "    </tr>\n",
       "    <tr>\n",
       "      <th>2021-06-27</th>\n",
       "      <td>10</td>\n",
       "    </tr>\n",
       "    <tr>\n",
       "      <th>2021-06-28</th>\n",
       "      <td>2</td>\n",
       "    </tr>\n",
       "    <tr>\n",
       "      <th>2021-06-30</th>\n",
       "      <td>1</td>\n",
       "    </tr>\n",
       "    <tr>\n",
       "      <th>2021-07-06</th>\n",
       "      <td>1</td>\n",
       "    </tr>\n",
       "    <tr>\n",
       "      <th>2021-07-12</th>\n",
       "      <td>6</td>\n",
       "    </tr>\n",
       "    <tr>\n",
       "      <th>2021-07-16</th>\n",
       "      <td>2</td>\n",
       "    </tr>\n",
       "    <tr>\n",
       "      <th>2021-07-26</th>\n",
       "      <td>1</td>\n",
       "    </tr>\n",
       "    <tr>\n",
       "      <th>2021-07-27</th>\n",
       "      <td>3</td>\n",
       "    </tr>\n",
       "    <tr>\n",
       "      <th>2021-07-31</th>\n",
       "      <td>1</td>\n",
       "    </tr>\n",
       "    <tr>\n",
       "      <th>2021-08-03</th>\n",
       "      <td>2</td>\n",
       "    </tr>\n",
       "    <tr>\n",
       "      <th>2021-08-05</th>\n",
       "      <td>1</td>\n",
       "    </tr>\n",
       "    <tr>\n",
       "      <th>2021-08-06</th>\n",
       "      <td>1</td>\n",
       "    </tr>\n",
       "    <tr>\n",
       "      <th>2021-08-11</th>\n",
       "      <td>3</td>\n",
       "    </tr>\n",
       "  </tbody>\n",
       "</table>\n",
       "</div>"
      ],
      "text/plain": [
       "              listing_price\n",
       "listing_date               \n",
       "2019-12-04                3\n",
       "2020-12-02                2\n",
       "2021-03-02                1\n",
       "2021-04-16                1\n",
       "2021-05-03                2\n",
       "2021-05-11                6\n",
       "2021-06-18                1\n",
       "2021-06-27               10\n",
       "2021-06-28                2\n",
       "2021-06-30                1\n",
       "2021-07-06                1\n",
       "2021-07-12                6\n",
       "2021-07-16                2\n",
       "2021-07-26                1\n",
       "2021-07-27                3\n",
       "2021-07-31                1\n",
       "2021-08-03                2\n",
       "2021-08-05                1\n",
       "2021-08-06                1\n",
       "2021-08-11                3"
      ]
     },
     "execution_count": 265,
     "metadata": {},
     "output_type": "execute_result"
    }
   ],
   "source": [
    "#create data frame for number of sales\n",
    "numsales_df = sales_df.groupby([\"listing_date\"]).count()\n",
    "numsales_df = numsales_df.sort_values(\"listing_date\")\n",
    "numsales_df.head(20)"
   ]
  },
  {
   "cell_type": "code",
   "execution_count": 266,
   "id": "18af250e-32d1-4a5d-b9e1-a88ea5c547e9",
   "metadata": {},
   "outputs": [],
   "source": [
    "#Plot the data using a bar chart to show trends in each time period\n",
    "plot_2 = numsales_df.hvplot.bar(\n",
    "    title= \"Number of NFT Sales Per Day\",\n",
    "    xlabel = \"Date\",\n",
    "    ylabel = \"Sales Count\",\n",
    "    rot=45,\n",
    "    width=1200,\n",
    "    #color=\"Sales Count\",\n",
    "    grid=True\n",
    ")"
   ]
  },
  {
   "cell_type": "code",
   "execution_count": 268,
   "id": "17e1ac4c-eb43-4dd3-ab38-f17176728c64",
   "metadata": {},
   "outputs": [
    {
     "data": {},
     "metadata": {},
     "output_type": "display_data"
    },
    {
     "data": {
      "application/vnd.holoviews_exec.v0+json": "",
      "text/html": [
       "<div id='26049'>\n",
       "\n",
       "\n",
       "\n",
       "\n",
       "\n",
       "  <div class=\"bk-root\" id=\"91ec9884-6644-4a1a-ab10-48a5a12d0085\" data-root-id=\"26049\"></div>\n",
       "</div>\n",
       "<script type=\"application/javascript\">(function(root) {\n",
       "  function embed_document(root) {\n",
       "    var docs_json = {\"4f7db25f-20f9-4bba-a1ac-1080abbcd934\":{\"defs\":[{\"extends\":null,\"module\":null,\"name\":\"ReactiveHTML1\",\"overrides\":[],\"properties\":[]},{\"extends\":null,\"module\":null,\"name\":\"FlexBox1\",\"overrides\":[],\"properties\":[{\"default\":\"flex-start\",\"kind\":null,\"name\":\"align_content\"},{\"default\":\"flex-start\",\"kind\":null,\"name\":\"align_items\"},{\"default\":\"row\",\"kind\":null,\"name\":\"flex_direction\"},{\"default\":\"wrap\",\"kind\":null,\"name\":\"flex_wrap\"},{\"default\":\"flex-start\",\"kind\":null,\"name\":\"justify_content\"}]},{\"extends\":null,\"module\":null,\"name\":\"TemplateActions1\",\"overrides\":[],\"properties\":[{\"default\":0,\"kind\":null,\"name\":\"open_modal\"},{\"default\":0,\"kind\":null,\"name\":\"close_modal\"}]},{\"extends\":null,\"module\":null,\"name\":\"MaterialTemplateActions1\",\"overrides\":[],\"properties\":[{\"default\":0,\"kind\":null,\"name\":\"open_modal\"},{\"default\":0,\"kind\":null,\"name\":\"close_modal\"}]}],\"roots\":{\"references\":[{\"attributes\":{},\"id\":\"26059\",\"type\":\"CategoricalScale\"},{\"attributes\":{\"bottom_units\":\"screen\",\"fill_alpha\":0.5,\"fill_color\":\"lightgrey\",\"left_units\":\"screen\",\"level\":\"overlay\",\"line_alpha\":1.0,\"line_color\":\"black\",\"line_dash\":[4,4],\"line_width\":2,\"right_units\":\"screen\",\"syncable\":false,\"top_units\":\"screen\"},\"id\":\"26075\",\"type\":\"BoxAnnotation\"},{\"attributes\":{\"active_multi\":null,\"tools\":[{\"id\":\"26053\"},{\"id\":\"26070\"},{\"id\":\"26071\"},{\"id\":\"26072\"},{\"id\":\"26073\"},{\"id\":\"26074\"}]},\"id\":\"26076\",\"type\":\"Toolbar\"},{\"attributes\":{},\"id\":\"26071\",\"type\":\"PanTool\"},{\"attributes\":{\"below\":[{\"id\":\"26063\"}],\"center\":[{\"id\":\"26065\"},{\"id\":\"26069\"}],\"height\":300,\"left\":[{\"id\":\"26066\"}],\"margin\":[5,5,5,5],\"min_border_bottom\":10,\"min_border_left\":10,\"min_border_right\":10,\"min_border_top\":10,\"renderers\":[{\"id\":\"26089\"}],\"sizing_mode\":\"fixed\",\"title\":{\"id\":\"26055\"},\"toolbar\":{\"id\":\"26076\"},\"width\":1200,\"x_range\":{\"id\":\"26051\"},\"x_scale\":{\"id\":\"26059\"},\"y_range\":{\"id\":\"26052\"},\"y_scale\":{\"id\":\"26061\"}},\"id\":\"26054\",\"subtype\":\"Figure\",\"type\":\"Plot\"},{\"attributes\":{},\"id\":\"26064\",\"type\":\"CategoricalTicker\"},{\"attributes\":{},\"id\":\"26084\",\"type\":\"Selection\"},{\"attributes\":{\"bottom\":{\"value\":0},\"fill_alpha\":{\"value\":1.0},\"fill_color\":{\"value\":\"#30a2da\"},\"hatch_alpha\":{\"value\":1.0},\"hatch_color\":{\"value\":\"black\"},\"hatch_scale\":{\"value\":12.0},\"hatch_weight\":{\"value\":1.0},\"line_alpha\":{\"value\":1.0},\"line_cap\":{\"value\":\"butt\"},\"line_color\":{\"value\":\"black\"},\"line_dash\":{\"value\":[]},\"line_dash_offset\":{\"value\":0},\"line_join\":{\"value\":\"bevel\"},\"line_width\":{\"value\":1},\"top\":{\"field\":\"listing_price\"},\"width\":{\"value\":0.8},\"x\":{\"field\":\"listing_date\"}},\"id\":\"26091\",\"type\":\"VBar\"},{\"attributes\":{\"data\":{\"listing_date\":[\"2019-12-04\",\"2020-12-02\",\"2021-03-02\",\"2021-04-16\",\"2021-05-03\",\"2021-05-11\",\"2021-06-18\",\"2021-06-27\",\"2021-06-28\",\"2021-06-30\",\"2021-07-06\",\"2021-07-12\",\"2021-07-16\",\"2021-07-26\",\"2021-07-27\",\"2021-07-31\",\"2021-08-03\",\"2021-08-05\",\"2021-08-06\",\"2021-08-11\",\"2021-08-13\",\"2021-08-15\",\"2021-08-28\",\"2021-08-31\",\"2021-09-01\",\"2021-09-05\",\"2021-09-06\",\"2021-09-08\",\"2021-09-12\",\"2021-09-13\",\"2021-09-16\",\"2021-09-18\",\"2021-09-25\",\"2021-09-26\",\"2021-09-28\",\"2021-10-01\",\"2021-10-04\",\"2021-10-07\",\"2021-10-10\",\"2021-10-13\",\"2021-10-16\",\"2021-10-19\",\"2021-10-21\",\"2021-10-25\",\"2021-10-26\",\"2021-10-29\",\"2021-10-31\"],\"listing_price\":[3,2,1,1,2,6,1,10,2,1,1,6,2,1,3,1,2,1,1,3,1,1,12,1,1,2,2,2,1,1,3,1,1,2,1,1,2,1,1,1,4,1,1,2,1,1,2]},\"selected\":{\"id\":\"26084\"},\"selection_policy\":{\"id\":\"26107\"}},\"id\":\"26083\",\"type\":\"ColumnDataSource\"},{\"attributes\":{\"fill_color\":{\"value\":\"#30a2da\"},\"top\":{\"field\":\"listing_price\"},\"width\":{\"value\":0.8},\"x\":{\"field\":\"listing_date\"}},\"id\":\"26086\",\"type\":\"VBar\"},{\"attributes\":{\"axis\":{\"id\":\"26063\"},\"ticker\":{\"id\":\"26064\"}},\"id\":\"26065\",\"type\":\"Grid\"},{\"attributes\":{},\"id\":\"26095\",\"type\":\"BasicTickFormatter\"},{\"attributes\":{\"end\":13.1,\"reset_end\":13.1,\"reset_start\":0.0,\"tags\":[[[\"listing_price\",\"listing_price\",null]]]},\"id\":\"26052\",\"type\":\"Range1d\"},{\"attributes\":{},\"id\":\"26093\",\"type\":\"CategoricalTickFormatter\"},{\"attributes\":{\"axis\":{\"id\":\"26066\"},\"dimension\":1,\"ticker\":{\"id\":\"26067\"}},\"id\":\"26069\",\"type\":\"Grid\"},{\"attributes\":{},\"id\":\"26067\",\"type\":\"BasicTicker\"},{\"attributes\":{},\"id\":\"26070\",\"type\":\"SaveTool\"},{\"attributes\":{\"margin\":[5,5,5,5],\"name\":\"HSpacer13465\",\"sizing_mode\":\"stretch_width\"},\"id\":\"26120\",\"type\":\"Spacer\"},{\"attributes\":{\"callback\":null,\"renderers\":[{\"id\":\"26089\"}],\"tags\":[\"hv_created\"],\"tooltips\":[[\"listing_date\",\"@{listing_date}\"],[\"listing_price\",\"@{listing_price}\"]]},\"id\":\"26053\",\"type\":\"HoverTool\"},{\"attributes\":{},\"id\":\"26074\",\"type\":\"ResetTool\"},{\"attributes\":{},\"id\":\"26094\",\"type\":\"AllLabels\"},{\"attributes\":{\"axis_label\":\"Sales Count\",\"formatter\":{\"id\":\"26095\"},\"major_label_policy\":{\"id\":\"26096\"},\"ticker\":{\"id\":\"26067\"}},\"id\":\"26066\",\"type\":\"LinearAxis\"},{\"attributes\":{\"fill_alpha\":{\"value\":0.2},\"fill_color\":{\"value\":\"#30a2da\"},\"line_alpha\":{\"value\":0.2},\"top\":{\"field\":\"listing_price\"},\"width\":{\"value\":0.8},\"x\":{\"field\":\"listing_date\"}},\"id\":\"26088\",\"type\":\"VBar\"},{\"attributes\":{},\"id\":\"26072\",\"type\":\"WheelZoomTool\"},{\"attributes\":{},\"id\":\"26096\",\"type\":\"AllLabels\"},{\"attributes\":{\"children\":[{\"id\":\"26050\"},{\"id\":\"26054\"},{\"id\":\"26120\"}],\"margin\":[0,0,0,0],\"name\":\"Row13460\",\"tags\":[\"embedded\"]},\"id\":\"26049\",\"type\":\"Row\"},{\"attributes\":{\"text\":\"Number of NFT Sales Per Day\",\"text_color\":\"black\",\"text_font_size\":\"12pt\"},\"id\":\"26055\",\"type\":\"Title\"},{\"attributes\":{\"overlay\":{\"id\":\"26075\"}},\"id\":\"26073\",\"type\":\"BoxZoomTool\"},{\"attributes\":{\"factors\":[\"2019-12-04\",\"2020-12-02\",\"2021-03-02\",\"2021-04-16\",\"2021-05-03\",\"2021-05-11\",\"2021-06-18\",\"2021-06-27\",\"2021-06-28\",\"2021-06-30\",\"2021-07-06\",\"2021-07-12\",\"2021-07-16\",\"2021-07-26\",\"2021-07-27\",\"2021-07-31\",\"2021-08-03\",\"2021-08-05\",\"2021-08-06\",\"2021-08-11\",\"2021-08-13\",\"2021-08-15\",\"2021-08-28\",\"2021-08-31\",\"2021-09-01\",\"2021-09-05\",\"2021-09-06\",\"2021-09-08\",\"2021-09-12\",\"2021-09-13\",\"2021-09-16\",\"2021-09-18\",\"2021-09-25\",\"2021-09-26\",\"2021-09-28\",\"2021-10-01\",\"2021-10-04\",\"2021-10-07\",\"2021-10-10\",\"2021-10-13\",\"2021-10-16\",\"2021-10-19\",\"2021-10-21\",\"2021-10-25\",\"2021-10-26\",\"2021-10-29\",\"2021-10-31\"],\"tags\":[[[\"listing_date\",\"listing_date\",null]]]},\"id\":\"26051\",\"type\":\"FactorRange\"},{\"attributes\":{\"axis_label\":\"Date\",\"formatter\":{\"id\":\"26093\"},\"major_label_orientation\":0.7853981633974483,\"major_label_policy\":{\"id\":\"26094\"},\"ticker\":{\"id\":\"26064\"}},\"id\":\"26063\",\"type\":\"CategoricalAxis\"},{\"attributes\":{\"fill_alpha\":{\"value\":0.1},\"fill_color\":{\"value\":\"#30a2da\"},\"line_alpha\":{\"value\":0.1},\"top\":{\"field\":\"listing_price\"},\"width\":{\"value\":0.8},\"x\":{\"field\":\"listing_date\"}},\"id\":\"26087\",\"type\":\"VBar\"},{\"attributes\":{\"data_source\":{\"id\":\"26083\"},\"glyph\":{\"id\":\"26086\"},\"hover_glyph\":null,\"muted_glyph\":{\"id\":\"26088\"},\"nonselection_glyph\":{\"id\":\"26087\"},\"selection_glyph\":{\"id\":\"26091\"},\"view\":{\"id\":\"26090\"}},\"id\":\"26089\",\"type\":\"GlyphRenderer\"},{\"attributes\":{\"source\":{\"id\":\"26083\"}},\"id\":\"26090\",\"type\":\"CDSView\"},{\"attributes\":{\"margin\":[5,5,5,5],\"name\":\"HSpacer13464\",\"sizing_mode\":\"stretch_width\"},\"id\":\"26050\",\"type\":\"Spacer\"},{\"attributes\":{},\"id\":\"26107\",\"type\":\"UnionRenderers\"},{\"attributes\":{},\"id\":\"26061\",\"type\":\"LinearScale\"}],\"root_ids\":[\"26049\"]},\"title\":\"Bokeh Application\",\"version\":\"2.3.2\"}};\n",
       "    var render_items = [{\"docid\":\"4f7db25f-20f9-4bba-a1ac-1080abbcd934\",\"root_ids\":[\"26049\"],\"roots\":{\"26049\":\"91ec9884-6644-4a1a-ab10-48a5a12d0085\"}}];\n",
       "    root.Bokeh.embed.embed_items_notebook(docs_json, render_items);\n",
       "  }\n",
       "  if (root.Bokeh !== undefined && root.Bokeh.Panel !== undefined) {\n",
       "    embed_document(root);\n",
       "  } else {\n",
       "    var attempts = 0;\n",
       "    var timer = setInterval(function(root) {\n",
       "      if (root.Bokeh !== undefined && root.Bokeh.Panel !== undefined) {\n",
       "        clearInterval(timer);\n",
       "        embed_document(root);\n",
       "      } else if (document.readyState == \"complete\") {\n",
       "        attempts++;\n",
       "        if (attempts > 200) {\n",
       "          clearInterval(timer);\n",
       "          console.log(\"Bokeh: ERROR: Unable to run BokehJS code because BokehJS library is missing\");\n",
       "        }\n",
       "      }\n",
       "    }, 25, root)\n",
       "  }\n",
       "})(window);</script>"
      ],
      "text/plain": [
       ":Bars   [listing_date]   (listing_price)"
      ]
     },
     "execution_count": 268,
     "metadata": {
      "application/vnd.holoviews_exec.v0+json": {
       "id": "26049"
      }
     },
     "output_type": "execute_result"
    }
   ],
   "source": [
    "plot_2"
   ]
  },
  {
   "cell_type": "markdown",
   "id": "579706ae-c671-4244-b6ba-a2743bdaef09",
   "metadata": {},
   "source": [
    "#### This visual provided our group with the number of NFT sales per day.  You can see jumps in sales periodically throughout the year, with the most significant jump in June of 2021."
   ]
  },
  {
   "cell_type": "markdown",
   "id": "ca283fd6-e0a2-489b-9045-7c6c7d02df99",
   "metadata": {},
   "source": [
    "### Visual #3: Dollar Volume of Sales per Day"
   ]
  },
  {
   "cell_type": "code",
   "execution_count": 269,
   "id": "756d5933-4f13-4f81-8af8-cbfba2847d19",
   "metadata": {},
   "outputs": [
    {
     "data": {
      "text/html": [
       "<div>\n",
       "<style scoped>\n",
       "    .dataframe tbody tr th:only-of-type {\n",
       "        vertical-align: middle;\n",
       "    }\n",
       "\n",
       "    .dataframe tbody tr th {\n",
       "        vertical-align: top;\n",
       "    }\n",
       "\n",
       "    .dataframe thead th {\n",
       "        text-align: right;\n",
       "    }\n",
       "</style>\n",
       "<table border=\"1\" class=\"dataframe\">\n",
       "  <thead>\n",
       "    <tr style=\"text-align: right;\">\n",
       "      <th></th>\n",
       "      <th>listing_price</th>\n",
       "    </tr>\n",
       "    <tr>\n",
       "      <th>listing_date</th>\n",
       "      <th></th>\n",
       "    </tr>\n",
       "  </thead>\n",
       "  <tbody>\n",
       "    <tr>\n",
       "      <th>2019-12-04</th>\n",
       "      <td>48000.0</td>\n",
       "    </tr>\n",
       "    <tr>\n",
       "      <th>2019-12-04</th>\n",
       "      <td>48700.0</td>\n",
       "    </tr>\n",
       "    <tr>\n",
       "      <th>2019-12-04</th>\n",
       "      <td>58200.0</td>\n",
       "    </tr>\n",
       "    <tr>\n",
       "      <th>2020-12-02</th>\n",
       "      <td>123600.0</td>\n",
       "    </tr>\n",
       "    <tr>\n",
       "      <th>2020-12-02</th>\n",
       "      <td>19800.0</td>\n",
       "    </tr>\n",
       "  </tbody>\n",
       "</table>\n",
       "</div>"
      ],
      "text/plain": [
       "              listing_price\n",
       "listing_date               \n",
       "2019-12-04          48000.0\n",
       "2019-12-04          48700.0\n",
       "2019-12-04          58200.0\n",
       "2020-12-02         123600.0\n",
       "2020-12-02          19800.0"
      ]
     },
     "execution_count": 269,
     "metadata": {},
     "output_type": "execute_result"
    }
   ],
   "source": [
    "#CREATE VISUAL: NFT Volume per Day\n",
    "sales_df = sales_df.sort_index(ascending=True)\n",
    "sales_df.head()"
   ]
  },
  {
   "cell_type": "code",
   "execution_count": 270,
   "id": "1679e69f-5dff-4cd4-a5b1-5752ddf0528f",
   "metadata": {},
   "outputs": [
    {
     "data": {
      "text/html": [
       "<div>\n",
       "<style scoped>\n",
       "    .dataframe tbody tr th:only-of-type {\n",
       "        vertical-align: middle;\n",
       "    }\n",
       "\n",
       "    .dataframe tbody tr th {\n",
       "        vertical-align: top;\n",
       "    }\n",
       "\n",
       "    .dataframe thead th {\n",
       "        text-align: right;\n",
       "    }\n",
       "</style>\n",
       "<table border=\"1\" class=\"dataframe\">\n",
       "  <thead>\n",
       "    <tr style=\"text-align: right;\">\n",
       "      <th></th>\n",
       "      <th>listing_price</th>\n",
       "    </tr>\n",
       "    <tr>\n",
       "      <th>listing_date</th>\n",
       "      <th></th>\n",
       "    </tr>\n",
       "  </thead>\n",
       "  <tbody>\n",
       "    <tr>\n",
       "      <th>2019-12-04</th>\n",
       "      <td>154900.0</td>\n",
       "    </tr>\n",
       "    <tr>\n",
       "      <th>2020-12-02</th>\n",
       "      <td>143400.0</td>\n",
       "    </tr>\n",
       "    <tr>\n",
       "      <th>2021-03-02</th>\n",
       "      <td>850.0</td>\n",
       "    </tr>\n",
       "    <tr>\n",
       "      <th>2021-04-16</th>\n",
       "      <td>510900.0</td>\n",
       "    </tr>\n",
       "    <tr>\n",
       "      <th>2021-05-03</th>\n",
       "      <td>607440.0</td>\n",
       "    </tr>\n",
       "  </tbody>\n",
       "</table>\n",
       "</div>"
      ],
      "text/plain": [
       "              listing_price\n",
       "listing_date               \n",
       "2019-12-04         154900.0\n",
       "2020-12-02         143400.0\n",
       "2021-03-02            850.0\n",
       "2021-04-16         510900.0\n",
       "2021-05-03         607440.0"
      ]
     },
     "execution_count": 270,
     "metadata": {},
     "output_type": "execute_result"
    }
   ],
   "source": [
    "#create new df\n",
    "volsales_df = sales_df.groupby([\"listing_date\"]).sum()\n",
    "volsales_df = volsales_df.sort_values(\"listing_date\")\n",
    "\n",
    "volsales_df.head(5)"
   ]
  },
  {
   "cell_type": "code",
   "execution_count": 271,
   "id": "1dc68f6a-c40a-492b-bf38-3ed8d43d48fe",
   "metadata": {},
   "outputs": [],
   "source": [
    "#Plot the data using a bar chart to show trends in each time period\n",
    "plot_3 = volsales_df.hvplot.bar(\n",
    "    title= \"Volume of Sales Per Day (USD$)\",\n",
    "    xlabel = \"Date\",\n",
    "    ylabel = \"Volume of Sales\",\n",
    "    rot=45,\n",
    "    yformatter=\"%.0f\",\n",
    "    width=1200,\n",
    "#     color=\"listing_price\",\n",
    "    grid=True,\n",
    "#    colorbar=True\n",
    "\n",
    ")"
   ]
  },
  {
   "cell_type": "code",
   "execution_count": 272,
   "id": "aa52d383-c91c-49af-b471-5c39f4714e36",
   "metadata": {},
   "outputs": [
    {
     "data": {},
     "metadata": {},
     "output_type": "display_data"
    },
    {
     "data": {
      "application/vnd.holoviews_exec.v0+json": "",
      "text/html": [
       "<div id='26172'>\n",
       "\n",
       "\n",
       "\n",
       "\n",
       "\n",
       "  <div class=\"bk-root\" id=\"f99f69ee-404b-4e7b-8452-a1e8a8d24d56\" data-root-id=\"26172\"></div>\n",
       "</div>\n",
       "<script type=\"application/javascript\">(function(root) {\n",
       "  function embed_document(root) {\n",
       "    var docs_json = {\"1d1cadbe-5462-448d-b6a8-1ceda051be03\":{\"defs\":[{\"extends\":null,\"module\":null,\"name\":\"ReactiveHTML1\",\"overrides\":[],\"properties\":[]},{\"extends\":null,\"module\":null,\"name\":\"FlexBox1\",\"overrides\":[],\"properties\":[{\"default\":\"flex-start\",\"kind\":null,\"name\":\"align_content\"},{\"default\":\"flex-start\",\"kind\":null,\"name\":\"align_items\"},{\"default\":\"row\",\"kind\":null,\"name\":\"flex_direction\"},{\"default\":\"wrap\",\"kind\":null,\"name\":\"flex_wrap\"},{\"default\":\"flex-start\",\"kind\":null,\"name\":\"justify_content\"}]},{\"extends\":null,\"module\":null,\"name\":\"TemplateActions1\",\"overrides\":[],\"properties\":[{\"default\":0,\"kind\":null,\"name\":\"open_modal\"},{\"default\":0,\"kind\":null,\"name\":\"close_modal\"}]},{\"extends\":null,\"module\":null,\"name\":\"MaterialTemplateActions1\",\"overrides\":[],\"properties\":[{\"default\":0,\"kind\":null,\"name\":\"open_modal\"},{\"default\":0,\"kind\":null,\"name\":\"close_modal\"}]}],\"roots\":{\"references\":[{\"attributes\":{},\"id\":\"26194\",\"type\":\"PanTool\"},{\"attributes\":{},\"id\":\"26197\",\"type\":\"ResetTool\"},{\"attributes\":{\"axis_label\":\"Volume of Sales\",\"formatter\":{\"id\":\"26215\"},\"major_label_policy\":{\"id\":\"26220\"},\"ticker\":{\"id\":\"26190\"}},\"id\":\"26189\",\"type\":\"LinearAxis\"},{\"attributes\":{},\"id\":\"26195\",\"type\":\"WheelZoomTool\"},{\"attributes\":{},\"id\":\"26207\",\"type\":\"Selection\"},{\"attributes\":{\"overlay\":{\"id\":\"26198\"}},\"id\":\"26196\",\"type\":\"BoxZoomTool\"},{\"attributes\":{},\"id\":\"26187\",\"type\":\"CategoricalTicker\"},{\"attributes\":{\"end\":5546816.0,\"reset_end\":5546816.0,\"reset_start\":0.0,\"tags\":[[[\"listing_price\",\"listing_price\",null]]]},\"id\":\"26175\",\"type\":\"Range1d\"},{\"attributes\":{\"format\":\"%.0f\"},\"id\":\"26215\",\"type\":\"PrintfTickFormatter\"},{\"attributes\":{\"axis_label\":\"Date\",\"formatter\":{\"id\":\"26217\"},\"major_label_orientation\":0.7853981633974483,\"major_label_policy\":{\"id\":\"26218\"},\"ticker\":{\"id\":\"26187\"}},\"id\":\"26186\",\"type\":\"CategoricalAxis\"},{\"attributes\":{\"fill_color\":{\"value\":\"#30a2da\"},\"top\":{\"field\":\"listing_price\"},\"width\":{\"value\":0.8},\"x\":{\"field\":\"listing_date\"}},\"id\":\"26209\",\"type\":\"VBar\"},{\"attributes\":{\"fill_alpha\":{\"value\":0.1},\"fill_color\":{\"value\":\"#30a2da\"},\"line_alpha\":{\"value\":0.1},\"top\":{\"field\":\"listing_price\"},\"width\":{\"value\":0.8},\"x\":{\"field\":\"listing_date\"}},\"id\":\"26210\",\"type\":\"VBar\"},{\"attributes\":{\"callback\":null,\"renderers\":[{\"id\":\"26212\"}],\"tags\":[\"hv_created\"],\"tooltips\":[[\"listing_date\",\"@{listing_date}\"],[\"listing_price\",\"@{listing_price}\"]]},\"id\":\"26176\",\"type\":\"HoverTool\"},{\"attributes\":{\"margin\":[5,5,5,5],\"name\":\"HSpacer13613\",\"sizing_mode\":\"stretch_width\"},\"id\":\"26173\",\"type\":\"Spacer\"},{\"attributes\":{\"source\":{\"id\":\"26206\"}},\"id\":\"26213\",\"type\":\"CDSView\"},{\"attributes\":{\"data_source\":{\"id\":\"26206\"},\"glyph\":{\"id\":\"26209\"},\"hover_glyph\":null,\"muted_glyph\":{\"id\":\"26211\"},\"nonselection_glyph\":{\"id\":\"26210\"},\"selection_glyph\":{\"id\":\"26214\"},\"view\":{\"id\":\"26213\"}},\"id\":\"26212\",\"type\":\"GlyphRenderer\"},{\"attributes\":{},\"id\":\"26182\",\"type\":\"CategoricalScale\"},{\"attributes\":{\"fill_alpha\":{\"value\":0.2},\"fill_color\":{\"value\":\"#30a2da\"},\"line_alpha\":{\"value\":0.2},\"top\":{\"field\":\"listing_price\"},\"width\":{\"value\":0.8},\"x\":{\"field\":\"listing_date\"}},\"id\":\"26211\",\"type\":\"VBar\"},{\"attributes\":{},\"id\":\"26220\",\"type\":\"AllLabels\"},{\"attributes\":{},\"id\":\"26190\",\"type\":\"BasicTicker\"},{\"attributes\":{\"axis\":{\"id\":\"26186\"},\"ticker\":{\"id\":\"26187\"}},\"id\":\"26188\",\"type\":\"Grid\"},{\"attributes\":{\"data\":{\"listing_date\":[\"2019-12-04\",\"2020-12-02\",\"2021-03-02\",\"2021-04-16\",\"2021-05-03\",\"2021-05-11\",\"2021-06-18\",\"2021-06-27\",\"2021-06-28\",\"2021-06-30\",\"2021-07-06\",\"2021-07-12\",\"2021-07-16\",\"2021-07-26\",\"2021-07-27\",\"2021-07-31\",\"2021-08-03\",\"2021-08-05\",\"2021-08-06\",\"2021-08-11\",\"2021-08-13\",\"2021-08-15\",\"2021-08-28\",\"2021-08-31\",\"2021-09-01\",\"2021-09-05\",\"2021-09-06\",\"2021-09-08\",\"2021-09-12\",\"2021-09-13\",\"2021-09-16\",\"2021-09-18\",\"2021-09-25\",\"2021-09-26\",\"2021-09-28\",\"2021-10-01\",\"2021-10-04\",\"2021-10-07\",\"2021-10-10\",\"2021-10-13\",\"2021-10-16\",\"2021-10-19\",\"2021-10-21\",\"2021-10-25\",\"2021-10-26\",\"2021-10-29\",\"2021-10-31\"],\"listing_price\":{\"__ndarray__\":\"AAAAAKDoAkEAAAAAQIEBQQAAAAAAkIpAAAAAANAuH0H+////n4kiQQAAAADJXEtBAAAAAICE/kAAAAAAYDxTQQAAAAAwQAJBAAAAAAC/yEAAAAAAAJSxQP/////dDzNBAAAAAIAY/UAAAAAAgLnRQAAAAACAsA9BAAAAAIA9/0AAAAAAgPzpQAAAAACAhP5AAAAAAICL8kAAAAAAAAAAAAAAAAAA/uVAAAAAAEAP70AAAAAAEuk9QQAAAAAAQK9AAQAAAACj20AAAAAAQBbjQAAAAABwQ/tAAAAAAJhgK0EAAAAAAFTPQAAAAABw2ehANDMzMxNw10AAAAAAAHbGQAEAAACAmdNAAAAAAABF+kAAAAAAAAAAAAAAAAAAVclAAAAAAECS7kAAAAAAIPP0QAAAAACAXNlAAAAAAMCP5EB0kxgkmBQXQQIAAAAAhMxAAAAAAABqw0AAAAAAwPb2QAAAAAAAguRAAAAAAACP1kDYfFwbZC3oQA==\",\"dtype\":\"float64\",\"order\":\"little\",\"shape\":[47]}},\"selected\":{\"id\":\"26207\"},\"selection_policy\":{\"id\":\"26232\"}},\"id\":\"26206\",\"type\":\"ColumnDataSource\"},{\"attributes\":{\"axis\":{\"id\":\"26189\"},\"dimension\":1,\"ticker\":{\"id\":\"26190\"}},\"id\":\"26192\",\"type\":\"Grid\"},{\"attributes\":{},\"id\":\"26217\",\"type\":\"CategoricalTickFormatter\"},{\"attributes\":{\"active_multi\":null,\"tools\":[{\"id\":\"26176\"},{\"id\":\"26193\"},{\"id\":\"26194\"},{\"id\":\"26195\"},{\"id\":\"26196\"},{\"id\":\"26197\"}]},\"id\":\"26199\",\"type\":\"Toolbar\"},{\"attributes\":{\"bottom_units\":\"screen\",\"fill_alpha\":0.5,\"fill_color\":\"lightgrey\",\"left_units\":\"screen\",\"level\":\"overlay\",\"line_alpha\":1.0,\"line_color\":\"black\",\"line_dash\":[4,4],\"line_width\":2,\"right_units\":\"screen\",\"syncable\":false,\"top_units\":\"screen\"},\"id\":\"26198\",\"type\":\"BoxAnnotation\"},{\"attributes\":{\"factors\":[\"2019-12-04\",\"2020-12-02\",\"2021-03-02\",\"2021-04-16\",\"2021-05-03\",\"2021-05-11\",\"2021-06-18\",\"2021-06-27\",\"2021-06-28\",\"2021-06-30\",\"2021-07-06\",\"2021-07-12\",\"2021-07-16\",\"2021-07-26\",\"2021-07-27\",\"2021-07-31\",\"2021-08-03\",\"2021-08-05\",\"2021-08-06\",\"2021-08-11\",\"2021-08-13\",\"2021-08-15\",\"2021-08-28\",\"2021-08-31\",\"2021-09-01\",\"2021-09-05\",\"2021-09-06\",\"2021-09-08\",\"2021-09-12\",\"2021-09-13\",\"2021-09-16\",\"2021-09-18\",\"2021-09-25\",\"2021-09-26\",\"2021-09-28\",\"2021-10-01\",\"2021-10-04\",\"2021-10-07\",\"2021-10-10\",\"2021-10-13\",\"2021-10-16\",\"2021-10-19\",\"2021-10-21\",\"2021-10-25\",\"2021-10-26\",\"2021-10-29\",\"2021-10-31\"],\"tags\":[[[\"listing_date\",\"listing_date\",null]]]},\"id\":\"26174\",\"type\":\"FactorRange\"},{\"attributes\":{},\"id\":\"26184\",\"type\":\"LinearScale\"},{\"attributes\":{},\"id\":\"26218\",\"type\":\"AllLabels\"},{\"attributes\":{\"below\":[{\"id\":\"26186\"}],\"center\":[{\"id\":\"26188\"},{\"id\":\"26192\"}],\"height\":300,\"left\":[{\"id\":\"26189\"}],\"margin\":[5,5,5,5],\"min_border_bottom\":10,\"min_border_left\":10,\"min_border_right\":10,\"min_border_top\":10,\"renderers\":[{\"id\":\"26212\"}],\"sizing_mode\":\"fixed\",\"title\":{\"id\":\"26178\"},\"toolbar\":{\"id\":\"26199\"},\"width\":1200,\"x_range\":{\"id\":\"26174\"},\"x_scale\":{\"id\":\"26182\"},\"y_range\":{\"id\":\"26175\"},\"y_scale\":{\"id\":\"26184\"}},\"id\":\"26177\",\"subtype\":\"Figure\",\"type\":\"Plot\"},{\"attributes\":{\"children\":[{\"id\":\"26173\"},{\"id\":\"26177\"},{\"id\":\"26244\"}],\"margin\":[0,0,0,0],\"name\":\"Row13609\",\"tags\":[\"embedded\"]},\"id\":\"26172\",\"type\":\"Row\"},{\"attributes\":{\"text\":\"Volume of Sales Per Day (USD$)\",\"text_color\":\"black\",\"text_font_size\":\"12pt\"},\"id\":\"26178\",\"type\":\"Title\"},{\"attributes\":{\"bottom\":{\"value\":0},\"fill_alpha\":{\"value\":1.0},\"fill_color\":{\"value\":\"#30a2da\"},\"hatch_alpha\":{\"value\":1.0},\"hatch_color\":{\"value\":\"black\"},\"hatch_scale\":{\"value\":12.0},\"hatch_weight\":{\"value\":1.0},\"line_alpha\":{\"value\":1.0},\"line_cap\":{\"value\":\"butt\"},\"line_color\":{\"value\":\"black\"},\"line_dash\":{\"value\":[]},\"line_dash_offset\":{\"value\":0},\"line_join\":{\"value\":\"bevel\"},\"line_width\":{\"value\":1},\"top\":{\"field\":\"listing_price\"},\"width\":{\"value\":0.8},\"x\":{\"field\":\"listing_date\"}},\"id\":\"26214\",\"type\":\"VBar\"},{\"attributes\":{},\"id\":\"26232\",\"type\":\"UnionRenderers\"},{\"attributes\":{\"margin\":[5,5,5,5],\"name\":\"HSpacer13614\",\"sizing_mode\":\"stretch_width\"},\"id\":\"26244\",\"type\":\"Spacer\"},{\"attributes\":{},\"id\":\"26193\",\"type\":\"SaveTool\"}],\"root_ids\":[\"26172\"]},\"title\":\"Bokeh Application\",\"version\":\"2.3.2\"}};\n",
       "    var render_items = [{\"docid\":\"1d1cadbe-5462-448d-b6a8-1ceda051be03\",\"root_ids\":[\"26172\"],\"roots\":{\"26172\":\"f99f69ee-404b-4e7b-8452-a1e8a8d24d56\"}}];\n",
       "    root.Bokeh.embed.embed_items_notebook(docs_json, render_items);\n",
       "  }\n",
       "  if (root.Bokeh !== undefined && root.Bokeh.Panel !== undefined) {\n",
       "    embed_document(root);\n",
       "  } else {\n",
       "    var attempts = 0;\n",
       "    var timer = setInterval(function(root) {\n",
       "      if (root.Bokeh !== undefined && root.Bokeh.Panel !== undefined) {\n",
       "        clearInterval(timer);\n",
       "        embed_document(root);\n",
       "      } else if (document.readyState == \"complete\") {\n",
       "        attempts++;\n",
       "        if (attempts > 200) {\n",
       "          clearInterval(timer);\n",
       "          console.log(\"Bokeh: ERROR: Unable to run BokehJS code because BokehJS library is missing\");\n",
       "        }\n",
       "      }\n",
       "    }, 25, root)\n",
       "  }\n",
       "})(window);</script>"
      ],
      "text/plain": [
       ":Bars   [listing_date]   (listing_price)"
      ]
     },
     "execution_count": 272,
     "metadata": {
      "application/vnd.holoviews_exec.v0+json": {
       "id": "26172"
      }
     },
     "output_type": "execute_result"
    }
   ],
   "source": [
    "plot_3"
   ]
  },
  {
   "cell_type": "markdown",
   "id": "a390fc9d-546d-45da-bb8a-8f36ddba4b06",
   "metadata": {},
   "source": [
    "#### This visual provided our group with volume of sales per day, rather than count of sales per day as shown in the prior visual.  As seen in the graph, there are several timeframes with higher than normal sales volume, including November 2020, June 2021, August 2021, and September 2021."
   ]
  },
  {
   "cell_type": "markdown",
   "id": "8c74bc16-40bc-4320-93df-c2163f5322f0",
   "metadata": {},
   "source": [
    "### Visual #4: Top 10 NFT Bids on OpenSea"
   ]
  },
  {
   "cell_type": "code",
   "execution_count": 273,
   "id": "f69eeaa4-ca68-4c59-a53e-6e101bce0009",
   "metadata": {},
   "outputs": [],
   "source": [
    "#CREATE VISUAL: Top 10 Bids\n",
    "\n",
    "data_list = opensea_data_pull[\"asset_events\"]\n",
    "\n",
    "listing_date_list = []\n",
    "listing_price_list = []\n",
    "\n",
    "# iterate through each item in list\n",
    "for each in data_list:\n",
    "    \n",
    "    # grab the id\n",
    "    listing_date = each[\"asset\"][\"asset_contract\"][\"created_date\"]\n",
    "    listing_date = listing_date[0:10]  # reformat dates to be cleaner\n",
    "\n",
    "    listing_price = (each[\"bid_amount\"])\n",
    "    try:\n",
    "        listing_price = float(listing_price)\n",
    "        listing_price = listing_price/ 10000000000000000\n",
    "    except:\n",
    "        listing_price=0\n",
    "\n",
    "    # append id to list of ids\n",
    "    listing_date_list.append(listing_date)\n",
    "    listing_price_list.append(listing_price)"
   ]
  },
  {
   "cell_type": "code",
   "execution_count": 274,
   "id": "fb6496f8-6426-4f34-a4d8-3f4d59821529",
   "metadata": {},
   "outputs": [],
   "source": [
    "# cleaner method. give column headers\n",
    "df = pd.DataFrame(\n",
    "    {'listing_date': listing_date_list,\n",
    "     'listing_price': listing_price_list\n",
    "     })"
   ]
  },
  {
   "cell_type": "code",
   "execution_count": 275,
   "id": "9e722844-a67c-4d97-a7da-bbb1c9e3b5ae",
   "metadata": {},
   "outputs": [
    {
     "data": {
      "text/html": [
       "<div>\n",
       "<style scoped>\n",
       "    .dataframe tbody tr th:only-of-type {\n",
       "        vertical-align: middle;\n",
       "    }\n",
       "\n",
       "    .dataframe tbody tr th {\n",
       "        vertical-align: top;\n",
       "    }\n",
       "\n",
       "    .dataframe thead th {\n",
       "        text-align: right;\n",
       "    }\n",
       "</style>\n",
       "<table border=\"1\" class=\"dataframe\">\n",
       "  <thead>\n",
       "    <tr style=\"text-align: right;\">\n",
       "      <th></th>\n",
       "      <th>0</th>\n",
       "    </tr>\n",
       "  </thead>\n",
       "  <tbody>\n",
       "    <tr>\n",
       "      <th>12</th>\n",
       "      <td>601.210</td>\n",
       "    </tr>\n",
       "    <tr>\n",
       "      <th>46</th>\n",
       "      <td>601.210</td>\n",
       "    </tr>\n",
       "    <tr>\n",
       "      <th>33</th>\n",
       "      <td>601.210</td>\n",
       "    </tr>\n",
       "    <tr>\n",
       "      <th>5</th>\n",
       "      <td>601.210</td>\n",
       "    </tr>\n",
       "    <tr>\n",
       "      <th>29</th>\n",
       "      <td>599.210</td>\n",
       "    </tr>\n",
       "    <tr>\n",
       "      <th>81</th>\n",
       "      <td>582.400</td>\n",
       "    </tr>\n",
       "    <tr>\n",
       "      <th>99</th>\n",
       "      <td>569.100</td>\n",
       "    </tr>\n",
       "    <tr>\n",
       "      <th>43</th>\n",
       "      <td>569.100</td>\n",
       "    </tr>\n",
       "    <tr>\n",
       "      <th>88</th>\n",
       "      <td>569.000</td>\n",
       "    </tr>\n",
       "    <tr>\n",
       "      <th>82</th>\n",
       "      <td>559.275</td>\n",
       "    </tr>\n",
       "  </tbody>\n",
       "</table>\n",
       "</div>"
      ],
      "text/plain": [
       "          0\n",
       "12  601.210\n",
       "46  601.210\n",
       "33  601.210\n",
       "5   601.210\n",
       "29  599.210\n",
       "81  582.400\n",
       "99  569.100\n",
       "43  569.100\n",
       "88  569.000\n",
       "82  559.275"
      ]
     },
     "execution_count": 275,
     "metadata": {},
     "output_type": "execute_result"
    }
   ],
   "source": [
    "# Prepare data of Top 10 NFT Bids on OpenSea in barchart\n",
    "bid_price_df = pd.DataFrame(listing_price_list)\n",
    "top_bids = bid_price_df.sort_values(0, ascending=False)\n",
    "bid_price= top_bids.head(10)\n",
    "bid_price"
   ]
  },
  {
   "cell_type": "code",
   "execution_count": 276,
   "id": "7e470d89-8bb8-4899-afc0-476aca620bce",
   "metadata": {},
   "outputs": [],
   "source": [
    "#Plot the data using a bar chart to show trend in top 10\n",
    "plot_4  = bid_price.hvplot.bar(title=\"Top 10 NFT Bids on OpenSea\", xlabel=\"NFT Project Index Number\", ylabel=\"Bid Price ($USD)\", grid=True)"
   ]
  },
  {
   "cell_type": "code",
   "execution_count": 277,
   "id": "14f5dfbf-950b-4e0f-8b35-fcf4db72ac1b",
   "metadata": {},
   "outputs": [
    {
     "data": {},
     "metadata": {},
     "output_type": "display_data"
    },
    {
     "data": {
      "application/vnd.holoviews_exec.v0+json": "",
      "text/html": [
       "<div id='26291'>\n",
       "\n",
       "\n",
       "\n",
       "\n",
       "\n",
       "  <div class=\"bk-root\" id=\"d9cc4bca-32d3-4310-98fb-dc72439f90a5\" data-root-id=\"26291\"></div>\n",
       "</div>\n",
       "<script type=\"application/javascript\">(function(root) {\n",
       "  function embed_document(root) {\n",
       "    var docs_json = {\"e7a4c0c9-61dd-4b41-9627-035c13b8e54e\":{\"defs\":[{\"extends\":null,\"module\":null,\"name\":\"ReactiveHTML1\",\"overrides\":[],\"properties\":[]},{\"extends\":null,\"module\":null,\"name\":\"FlexBox1\",\"overrides\":[],\"properties\":[{\"default\":\"flex-start\",\"kind\":null,\"name\":\"align_content\"},{\"default\":\"flex-start\",\"kind\":null,\"name\":\"align_items\"},{\"default\":\"row\",\"kind\":null,\"name\":\"flex_direction\"},{\"default\":\"wrap\",\"kind\":null,\"name\":\"flex_wrap\"},{\"default\":\"flex-start\",\"kind\":null,\"name\":\"justify_content\"}]},{\"extends\":null,\"module\":null,\"name\":\"TemplateActions1\",\"overrides\":[],\"properties\":[{\"default\":0,\"kind\":null,\"name\":\"open_modal\"},{\"default\":0,\"kind\":null,\"name\":\"close_modal\"}]},{\"extends\":null,\"module\":null,\"name\":\"MaterialTemplateActions1\",\"overrides\":[],\"properties\":[{\"default\":0,\"kind\":null,\"name\":\"open_modal\"},{\"default\":0,\"kind\":null,\"name\":\"close_modal\"}]}],\"roots\":{\"references\":[{\"attributes\":{\"data_source\":{\"id\":\"26325\"},\"glyph\":{\"id\":\"26328\"},\"hover_glyph\":null,\"muted_glyph\":{\"id\":\"26330\"},\"nonselection_glyph\":{\"id\":\"26329\"},\"selection_glyph\":{\"id\":\"26333\"},\"view\":{\"id\":\"26332\"}},\"id\":\"26331\",\"type\":\"GlyphRenderer\"},{\"attributes\":{\"bottom_units\":\"screen\",\"fill_alpha\":0.5,\"fill_color\":\"lightgrey\",\"left_units\":\"screen\",\"level\":\"overlay\",\"line_alpha\":1.0,\"line_color\":\"black\",\"line_dash\":[4,4],\"line_width\":2,\"right_units\":\"screen\",\"syncable\":false,\"top_units\":\"screen\"},\"id\":\"26317\",\"type\":\"BoxAnnotation\"},{\"attributes\":{},\"id\":\"26326\",\"type\":\"Selection\"},{\"attributes\":{\"fill_color\":{\"value\":\"#30a2da\"},\"top\":{\"field\":\"A_0\"},\"width\":{\"value\":0.8},\"x\":{\"field\":\"index\"}},\"id\":\"26328\",\"type\":\"VBar\"},{\"attributes\":{\"fill_alpha\":{\"value\":0.2},\"fill_color\":{\"value\":\"#30a2da\"},\"line_alpha\":{\"value\":0.2},\"top\":{\"field\":\"A_0\"},\"width\":{\"value\":0.8},\"x\":{\"field\":\"index\"}},\"id\":\"26330\",\"type\":\"VBar\"},{\"attributes\":{\"data\":{\"A_0\":{\"__ndarray__\":\"SOF6FK7JgkBI4XoUrsmCQEjhehSuyYJASOF6FK7JgkBI4XoUrrmCQDMzMzMzM4JAzszMzMzIgUDOzMzMzMiBQAAAAAAAyIFANDMzMzN6gUA=\",\"dtype\":\"float64\",\"order\":\"little\",\"shape\":[10]},\"index\":[\"12\",\"46\",\"33\",\"5\",\"29\",\"81\",\"99\",\"43\",\"88\",\"82\"]},\"selected\":{\"id\":\"26326\"},\"selection_policy\":{\"id\":\"26349\"}},\"id\":\"26325\",\"type\":\"ColumnDataSource\"},{\"attributes\":{\"source\":{\"id\":\"26325\"}},\"id\":\"26332\",\"type\":\"CDSView\"},{\"attributes\":{},\"id\":\"26336\",\"type\":\"AllLabels\"},{\"attributes\":{\"children\":[{\"id\":\"26292\"},{\"id\":\"26296\"},{\"id\":\"26362\"}],\"margin\":[0,0,0,0],\"name\":\"Row13757\",\"tags\":[\"embedded\"]},\"id\":\"26291\",\"type\":\"Row\"},{\"attributes\":{\"bottom\":{\"value\":0},\"fill_alpha\":{\"value\":1.0},\"fill_color\":{\"value\":\"#30a2da\"},\"hatch_alpha\":{\"value\":1.0},\"hatch_color\":{\"value\":\"black\"},\"hatch_scale\":{\"value\":12.0},\"hatch_weight\":{\"value\":1.0},\"line_alpha\":{\"value\":1.0},\"line_cap\":{\"value\":\"butt\"},\"line_color\":{\"value\":\"black\"},\"line_dash\":{\"value\":[]},\"line_dash_offset\":{\"value\":0},\"line_join\":{\"value\":\"bevel\"},\"line_width\":{\"value\":1},\"top\":{\"field\":\"A_0\"},\"width\":{\"value\":0.8},\"x\":{\"field\":\"index\"}},\"id\":\"26333\",\"type\":\"VBar\"},{\"attributes\":{},\"id\":\"26338\",\"type\":\"AllLabels\"},{\"attributes\":{\"margin\":[5,5,5,5],\"name\":\"HSpacer13762\",\"sizing_mode\":\"stretch_width\"},\"id\":\"26362\",\"type\":\"Spacer\"},{\"attributes\":{},\"id\":\"26301\",\"type\":\"CategoricalScale\"},{\"attributes\":{},\"id\":\"26312\",\"type\":\"SaveTool\"},{\"attributes\":{\"text\":\"Top 10 NFT Bids on OpenSea\",\"text_color\":\"black\",\"text_font_size\":\"12pt\"},\"id\":\"26297\",\"type\":\"Title\"},{\"attributes\":{},\"id\":\"26313\",\"type\":\"PanTool\"},{\"attributes\":{\"margin\":[5,5,5,5],\"name\":\"HSpacer13761\",\"sizing_mode\":\"stretch_width\"},\"id\":\"26292\",\"type\":\"Spacer\"},{\"attributes\":{},\"id\":\"26316\",\"type\":\"ResetTool\"},{\"attributes\":{},\"id\":\"26314\",\"type\":\"WheelZoomTool\"},{\"attributes\":{\"below\":[{\"id\":\"26305\"}],\"center\":[{\"id\":\"26307\"},{\"id\":\"26311\"}],\"height\":300,\"left\":[{\"id\":\"26308\"}],\"margin\":[5,5,5,5],\"min_border_bottom\":10,\"min_border_left\":10,\"min_border_right\":10,\"min_border_top\":10,\"renderers\":[{\"id\":\"26331\"}],\"sizing_mode\":\"fixed\",\"title\":{\"id\":\"26297\"},\"toolbar\":{\"id\":\"26318\"},\"width\":700,\"x_range\":{\"id\":\"26293\"},\"x_scale\":{\"id\":\"26301\"},\"y_range\":{\"id\":\"26294\"},\"y_scale\":{\"id\":\"26303\"}},\"id\":\"26296\",\"subtype\":\"Figure\",\"type\":\"Plot\"},{\"attributes\":{\"fill_alpha\":{\"value\":0.1},\"fill_color\":{\"value\":\"#30a2da\"},\"line_alpha\":{\"value\":0.1},\"top\":{\"field\":\"A_0\"},\"width\":{\"value\":0.8},\"x\":{\"field\":\"index\"}},\"id\":\"26329\",\"type\":\"VBar\"},{\"attributes\":{\"overlay\":{\"id\":\"26317\"}},\"id\":\"26315\",\"type\":\"BoxZoomTool\"},{\"attributes\":{},\"id\":\"26349\",\"type\":\"UnionRenderers\"},{\"attributes\":{\"axis_label\":\"NFT Project Index Number\",\"formatter\":{\"id\":\"26335\"},\"major_label_policy\":{\"id\":\"26336\"},\"ticker\":{\"id\":\"26306\"}},\"id\":\"26305\",\"type\":\"CategoricalAxis\"},{\"attributes\":{\"axis\":{\"id\":\"26305\"},\"ticker\":{\"id\":\"26306\"}},\"id\":\"26307\",\"type\":\"Grid\"},{\"attributes\":{},\"id\":\"26303\",\"type\":\"LinearScale\"},{\"attributes\":{},\"id\":\"26306\",\"type\":\"CategoricalTicker\"},{\"attributes\":{\"callback\":null,\"renderers\":[{\"id\":\"26331\"}],\"tags\":[\"hv_created\"],\"tooltips\":[[\"index\",\"@{index}\"],[\"0\",\"@{A_0}\"]]},\"id\":\"26295\",\"type\":\"HoverTool\"},{\"attributes\":{},\"id\":\"26337\",\"type\":\"BasicTickFormatter\"},{\"attributes\":{\"end\":605.4035,\"reset_end\":605.4035,\"reset_start\":0.0,\"tags\":[[[\"0\",\"0\",null]]]},\"id\":\"26294\",\"type\":\"Range1d\"},{\"attributes\":{},\"id\":\"26309\",\"type\":\"BasicTicker\"},{\"attributes\":{\"axis_label\":\"Bid Price ($USD)\",\"formatter\":{\"id\":\"26337\"},\"major_label_policy\":{\"id\":\"26338\"},\"ticker\":{\"id\":\"26309\"}},\"id\":\"26308\",\"type\":\"LinearAxis\"},{\"attributes\":{\"axis\":{\"id\":\"26308\"},\"dimension\":1,\"ticker\":{\"id\":\"26309\"}},\"id\":\"26311\",\"type\":\"Grid\"},{\"attributes\":{},\"id\":\"26335\",\"type\":\"CategoricalTickFormatter\"},{\"attributes\":{\"active_multi\":null,\"tools\":[{\"id\":\"26295\"},{\"id\":\"26312\"},{\"id\":\"26313\"},{\"id\":\"26314\"},{\"id\":\"26315\"},{\"id\":\"26316\"}]},\"id\":\"26318\",\"type\":\"Toolbar\"},{\"attributes\":{\"factors\":[\"12\",\"46\",\"33\",\"5\",\"29\",\"81\",\"99\",\"43\",\"88\",\"82\"],\"tags\":[[[\"index\",\"index\",null]]]},\"id\":\"26293\",\"type\":\"FactorRange\"}],\"root_ids\":[\"26291\"]},\"title\":\"Bokeh Application\",\"version\":\"2.3.2\"}};\n",
       "    var render_items = [{\"docid\":\"e7a4c0c9-61dd-4b41-9627-035c13b8e54e\",\"root_ids\":[\"26291\"],\"roots\":{\"26291\":\"d9cc4bca-32d3-4310-98fb-dc72439f90a5\"}}];\n",
       "    root.Bokeh.embed.embed_items_notebook(docs_json, render_items);\n",
       "  }\n",
       "  if (root.Bokeh !== undefined && root.Bokeh.Panel !== undefined) {\n",
       "    embed_document(root);\n",
       "  } else {\n",
       "    var attempts = 0;\n",
       "    var timer = setInterval(function(root) {\n",
       "      if (root.Bokeh !== undefined && root.Bokeh.Panel !== undefined) {\n",
       "        clearInterval(timer);\n",
       "        embed_document(root);\n",
       "      } else if (document.readyState == \"complete\") {\n",
       "        attempts++;\n",
       "        if (attempts > 200) {\n",
       "          clearInterval(timer);\n",
       "          console.log(\"Bokeh: ERROR: Unable to run BokehJS code because BokehJS library is missing\");\n",
       "        }\n",
       "      }\n",
       "    }, 25, root)\n",
       "  }\n",
       "})(window);</script>"
      ],
      "text/plain": [
       ":Bars   [index]   (0)"
      ]
     },
     "execution_count": 277,
     "metadata": {
      "application/vnd.holoviews_exec.v0+json": {
       "id": "26291"
      }
     },
     "output_type": "execute_result"
    }
   ],
   "source": [
    "plot_4"
   ]
  },
  {
   "cell_type": "markdown",
   "id": "67bbead1-f3d2-4f04-b475-22b6a96385bc",
   "metadata": {},
   "source": [
    "#### This visual provided our group with the top 10 most expensively priced NFT projects.  As of 11/3/2021, the most expensive bids are between 690 to 67 (which varies per minute as data is updated)."
   ]
  },
  {
   "cell_type": "markdown",
   "id": "3a44cb01-d8e3-4db7-8a6a-6a2cf40019f3",
   "metadata": {},
   "source": [
    "### Visual #5: Number of Sales per Token ID"
   ]
  },
  {
   "cell_type": "code",
   "execution_count": 278,
   "id": "1e6f8824-67f4-494e-b532-d41558859f4d",
   "metadata": {},
   "outputs": [],
   "source": [
    "#CREATE VISUAL: Number of sales per token ID\n",
    "# Pull dates and prices for each asset\n",
    "token_sales_list = opensea_data_pull1['asset_events']\n",
    "token_id_list = []\n",
    "num_sales_list = []\n",
    "\n",
    "# Iterate through each item in list\n",
    "for each in token_sales_list:\n",
    "    # grab the id\n",
    "    token_id = each['asset']['token_id']\n",
    "    token_id = token_id[0:10]\n",
    "    try:\n",
    "        num_sales = each['asset']['num_sales']\n",
    "    except:\n",
    "        num_sales = 0\n",
    "        \n",
    "    # append id to list of ids\n",
    "    token_id_list.append(token_id)\n",
    "    num_sales_list.append(num_sales)"
   ]
  },
  {
   "cell_type": "code",
   "execution_count": 279,
   "id": "28366e5d-605c-46c7-b456-1073973a5ac8",
   "metadata": {},
   "outputs": [],
   "source": [
    "# Cleaner method, give column headers\n",
    "bidtrends_df = pd.DataFrame(\n",
    "    {'token_id': token_id_list,\n",
    "     'num_sales': num_sales_list\n",
    "     })"
   ]
  },
  {
   "cell_type": "code",
   "execution_count": 280,
   "id": "f9caaaa5-f055-4c2a-8cf4-9c7f7a0552f9",
   "metadata": {},
   "outputs": [],
   "source": [
    "#Plot the data using a bar chart to show trends over time periods\n",
    "plot_5 = bidtrends_df.hvplot.bar(\n",
    "                        title=\"Number of Sales per NFT by Token ID\",\n",
    "                        x='token_id',\n",
    "                        xlabel=\"Token IDs\",\n",
    "                        ylabel=\"Number of Sales\",\n",
    "                        rot=45,\n",
    "                        width=1500,\n",
    "                        grid=True\n",
    "                        )"
   ]
  },
  {
   "cell_type": "code",
   "execution_count": 281,
   "id": "2bb84865-9548-4851-a1b8-d5cee3b491dc",
   "metadata": {},
   "outputs": [
    {
     "data": {},
     "metadata": {},
     "output_type": "display_data"
    },
    {
     "data": {
      "application/vnd.holoviews_exec.v0+json": "",
      "text/html": [
       "<div id='26414'>\n",
       "\n",
       "\n",
       "\n",
       "\n",
       "\n",
       "  <div class=\"bk-root\" id=\"d58d6852-ef94-4e87-9c7c-22dd2e0e5c80\" data-root-id=\"26414\"></div>\n",
       "</div>\n",
       "<script type=\"application/javascript\">(function(root) {\n",
       "  function embed_document(root) {\n",
       "    var docs_json = {\"a22f1dba-024e-42dc-a294-786d81e9e6fa\":{\"defs\":[{\"extends\":null,\"module\":null,\"name\":\"ReactiveHTML1\",\"overrides\":[],\"properties\":[]},{\"extends\":null,\"module\":null,\"name\":\"FlexBox1\",\"overrides\":[],\"properties\":[{\"default\":\"flex-start\",\"kind\":null,\"name\":\"align_content\"},{\"default\":\"flex-start\",\"kind\":null,\"name\":\"align_items\"},{\"default\":\"row\",\"kind\":null,\"name\":\"flex_direction\"},{\"default\":\"wrap\",\"kind\":null,\"name\":\"flex_wrap\"},{\"default\":\"flex-start\",\"kind\":null,\"name\":\"justify_content\"}]},{\"extends\":null,\"module\":null,\"name\":\"TemplateActions1\",\"overrides\":[],\"properties\":[{\"default\":0,\"kind\":null,\"name\":\"open_modal\"},{\"default\":0,\"kind\":null,\"name\":\"close_modal\"}]},{\"extends\":null,\"module\":null,\"name\":\"MaterialTemplateActions1\",\"overrides\":[],\"properties\":[{\"default\":0,\"kind\":null,\"name\":\"open_modal\"},{\"default\":0,\"kind\":null,\"name\":\"close_modal\"}]}],\"roots\":{\"references\":[{\"attributes\":{\"fill_alpha\":{\"value\":0.2},\"fill_color\":{\"value\":\"#30a2da\"},\"line_alpha\":{\"value\":0.2},\"top\":{\"field\":\"num_sales\"},\"width\":{\"value\":0.8},\"x\":{\"field\":\"token_id\"}},\"id\":\"26453\",\"type\":\"VBar\"},{\"attributes\":{\"bottom\":{\"value\":0},\"fill_alpha\":{\"value\":1.0},\"fill_color\":{\"value\":\"#30a2da\"},\"hatch_alpha\":{\"value\":1.0},\"hatch_color\":{\"value\":\"black\"},\"hatch_scale\":{\"value\":12.0},\"hatch_weight\":{\"value\":1.0},\"line_alpha\":{\"value\":1.0},\"line_cap\":{\"value\":\"butt\"},\"line_color\":{\"value\":\"black\"},\"line_dash\":{\"value\":[]},\"line_dash_offset\":{\"value\":0},\"line_join\":{\"value\":\"bevel\"},\"line_width\":{\"value\":1},\"top\":{\"field\":\"num_sales\"},\"width\":{\"value\":0.8},\"x\":{\"field\":\"token_id\"}},\"id\":\"26456\",\"type\":\"VBar\"},{\"attributes\":{\"data_source\":{\"id\":\"26448\"},\"glyph\":{\"id\":\"26451\"},\"hover_glyph\":null,\"muted_glyph\":{\"id\":\"26453\"},\"nonselection_glyph\":{\"id\":\"26452\"},\"selection_glyph\":{\"id\":\"26456\"},\"view\":{\"id\":\"26455\"}},\"id\":\"26454\",\"type\":\"GlyphRenderer\"},{\"attributes\":{},\"id\":\"26461\",\"type\":\"AllLabels\"},{\"attributes\":{\"axis_label\":\"Token IDs\",\"formatter\":{\"id\":\"26458\"},\"major_label_orientation\":0.7853981633974483,\"major_label_policy\":{\"id\":\"26459\"},\"ticker\":{\"id\":\"26429\"}},\"id\":\"26428\",\"type\":\"CategoricalAxis\"},{\"attributes\":{\"axis_label\":\"Number of Sales\",\"formatter\":{\"id\":\"26460\"},\"major_label_policy\":{\"id\":\"26461\"},\"ticker\":{\"id\":\"26432\"}},\"id\":\"26431\",\"type\":\"LinearAxis\"},{\"attributes\":{},\"id\":\"26435\",\"type\":\"SaveTool\"},{\"attributes\":{\"data\":{\"num_sales\":[0,2,0,0,2,0,2,1,2,1,0,1,0,1,0,2,2,1,4,0,3,0,2,3,0,1,2,0,1,0,2,1,0,0,0,0,2,6,4,3,1,1,1,7,2,0,0,0,1,4,1,2,1,4,3,0,0,1,1,0,1,1,0,0,1,2,3,1,1,0,0,3,2,2,0,2,0,1,0,2,1,0,2,1,2,1,3,0,2,0,2,0,6,0,0,1,2,7,0,0],\"token_id\":[\"7662340210\",\"8785\",\"1483011971\",\"1851\",\"5708\",\"518\",\"6844\",\"3711\",\"3336\",\"9602\",\"102455\",\"0\",\"5232\",\"2857\",\"6909\",\"7308\",\"1444\",\"9437\",\"14615\",\"35043\",\"5314\",\"7516\",\"6103\",\"67\",\"4294967828\",\"244\",\"7931\",\"1976\",\"9779\",\"5583\",\"9431\",\"9757\",\"2461\",\"6154\",\"13318\",\"119058\",\"432\",\"1819\",\"2882\",\"5987\",\"8199\",\"1264\",\"4900\",\"806\",\"1652\",\"9222\",\"6787\",\"14657\",\"8069\",\"218\",\"7925\",\"7939\",\"1569\",\"2296\",\"1073\",\"510\",\"22120\",\"1001993\",\"7744\",\"6593\",\"3418\",\"3800\",\"27048\",\"3771\",\"8985\",\"9787\",\"9068\",\"5847\",\"7655\",\"2499\",\"9861\",\"9368\",\"2102\",\"1580\",\"3322\",\"4981676894\",\"8570\",\"2988\",\"7420\",\"4372\",\"6675\",\"5447\",\"5645\",\"214\",\"3268\",\"4294967932\",\"9355\",\"16571\",\"3924\",\"1833\",\"9839\",\"483\",\"6338981479\",\"4294975277\",\"1079548876\",\"5889\",\"2199\",\"2642\",\"9621\",\"1842\"]},\"selected\":{\"id\":\"26449\"},\"selection_policy\":{\"id\":\"26472\"}},\"id\":\"26448\",\"type\":\"ColumnDataSource\"},{\"attributes\":{\"axis\":{\"id\":\"26428\"},\"ticker\":{\"id\":\"26429\"}},\"id\":\"26430\",\"type\":\"Grid\"},{\"attributes\":{},\"id\":\"26436\",\"type\":\"PanTool\"},{\"attributes\":{},\"id\":\"26449\",\"type\":\"Selection\"},{\"attributes\":{\"factors\":[\"7662340210\",\"8785\",\"1483011971\",\"1851\",\"5708\",\"518\",\"6844\",\"3711\",\"3336\",\"9602\",\"102455\",\"0\",\"5232\",\"2857\",\"6909\",\"7308\",\"1444\",\"9437\",\"14615\",\"35043\",\"5314\",\"7516\",\"6103\",\"67\",\"4294967828\",\"244\",\"7931\",\"1976\",\"9779\",\"5583\",\"9431\",\"9757\",\"2461\",\"6154\",\"13318\",\"119058\",\"432\",\"1819\",\"2882\",\"5987\",\"8199\",\"1264\",\"4900\",\"806\",\"1652\",\"9222\",\"6787\",\"14657\",\"8069\",\"218\",\"7925\",\"7939\",\"1569\",\"2296\",\"1073\",\"510\",\"22120\",\"1001993\",\"7744\",\"6593\",\"3418\",\"3800\",\"27048\",\"3771\",\"8985\",\"9787\",\"9068\",\"5847\",\"7655\",\"2499\",\"9861\",\"9368\",\"2102\",\"1580\",\"3322\",\"4981676894\",\"8570\",\"2988\",\"7420\",\"4372\",\"6675\",\"5447\",\"5645\",\"214\",\"3268\",\"4294967932\",\"9355\",\"16571\",\"3924\",\"1833\",\"9839\",\"483\",\"6338981479\",\"4294975277\",\"1079548876\",\"5889\",\"2199\",\"2642\",\"9621\",\"1842\"],\"tags\":[[[\"token_id\",\"token_id\",null]]]},\"id\":\"26416\",\"type\":\"FactorRange\"},{\"attributes\":{\"text\":\"Number of Sales per NFT by Token ID\",\"text_color\":\"black\",\"text_font_size\":\"12pt\"},\"id\":\"26420\",\"type\":\"Title\"},{\"attributes\":{\"fill_alpha\":{\"value\":0.1},\"fill_color\":{\"value\":\"#30a2da\"},\"line_alpha\":{\"value\":0.1},\"top\":{\"field\":\"num_sales\"},\"width\":{\"value\":0.8},\"x\":{\"field\":\"token_id\"}},\"id\":\"26452\",\"type\":\"VBar\"},{\"attributes\":{},\"id\":\"26460\",\"type\":\"BasicTickFormatter\"},{\"attributes\":{},\"id\":\"26424\",\"type\":\"CategoricalScale\"},{\"attributes\":{},\"id\":\"26432\",\"type\":\"BasicTicker\"},{\"attributes\":{\"axis\":{\"id\":\"26431\"},\"dimension\":1,\"ticker\":{\"id\":\"26432\"}},\"id\":\"26434\",\"type\":\"Grid\"},{\"attributes\":{},\"id\":\"26472\",\"type\":\"UnionRenderers\"},{\"attributes\":{\"callback\":null,\"renderers\":[{\"id\":\"26454\"}],\"tags\":[\"hv_created\"],\"tooltips\":[[\"token_id\",\"@{token_id}\"],[\"num_sales\",\"@{num_sales}\"]]},\"id\":\"26418\",\"type\":\"HoverTool\"},{\"attributes\":{\"fill_color\":{\"value\":\"#30a2da\"},\"top\":{\"field\":\"num_sales\"},\"width\":{\"value\":0.8},\"x\":{\"field\":\"token_id\"}},\"id\":\"26451\",\"type\":\"VBar\"},{\"attributes\":{\"source\":{\"id\":\"26448\"}},\"id\":\"26455\",\"type\":\"CDSView\"},{\"attributes\":{},\"id\":\"26459\",\"type\":\"AllLabels\"},{\"attributes\":{\"margin\":[5,5,5,5],\"name\":\"HSpacer13911\",\"sizing_mode\":\"stretch_width\"},\"id\":\"26415\",\"type\":\"Spacer\"},{\"attributes\":{},\"id\":\"26439\",\"type\":\"ResetTool\"},{\"attributes\":{\"overlay\":{\"id\":\"26440\"}},\"id\":\"26438\",\"type\":\"BoxZoomTool\"},{\"attributes\":{\"margin\":[5,5,5,5],\"name\":\"HSpacer13912\",\"sizing_mode\":\"stretch_width\"},\"id\":\"26485\",\"type\":\"Spacer\"},{\"attributes\":{\"end\":7.7,\"reset_end\":7.7,\"reset_start\":0.0,\"tags\":[[[\"num_sales\",\"num_sales\",null]]]},\"id\":\"26417\",\"type\":\"Range1d\"},{\"attributes\":{\"children\":[{\"id\":\"26415\"},{\"id\":\"26419\"},{\"id\":\"26485\"}],\"margin\":[0,0,0,0],\"name\":\"Row13907\",\"tags\":[\"embedded\"]},\"id\":\"26414\",\"type\":\"Row\"},{\"attributes\":{},\"id\":\"26429\",\"type\":\"CategoricalTicker\"},{\"attributes\":{},\"id\":\"26458\",\"type\":\"CategoricalTickFormatter\"},{\"attributes\":{\"bottom_units\":\"screen\",\"fill_alpha\":0.5,\"fill_color\":\"lightgrey\",\"left_units\":\"screen\",\"level\":\"overlay\",\"line_alpha\":1.0,\"line_color\":\"black\",\"line_dash\":[4,4],\"line_width\":2,\"right_units\":\"screen\",\"syncable\":false,\"top_units\":\"screen\"},\"id\":\"26440\",\"type\":\"BoxAnnotation\"},{\"attributes\":{},\"id\":\"26437\",\"type\":\"WheelZoomTool\"},{\"attributes\":{\"active_multi\":null,\"tools\":[{\"id\":\"26418\"},{\"id\":\"26435\"},{\"id\":\"26436\"},{\"id\":\"26437\"},{\"id\":\"26438\"},{\"id\":\"26439\"}]},\"id\":\"26441\",\"type\":\"Toolbar\"},{\"attributes\":{},\"id\":\"26426\",\"type\":\"LinearScale\"},{\"attributes\":{\"below\":[{\"id\":\"26428\"}],\"center\":[{\"id\":\"26430\"},{\"id\":\"26434\"}],\"height\":300,\"left\":[{\"id\":\"26431\"}],\"margin\":[5,5,5,5],\"min_border_bottom\":10,\"min_border_left\":10,\"min_border_right\":10,\"min_border_top\":10,\"renderers\":[{\"id\":\"26454\"}],\"sizing_mode\":\"fixed\",\"title\":{\"id\":\"26420\"},\"toolbar\":{\"id\":\"26441\"},\"width\":1500,\"x_range\":{\"id\":\"26416\"},\"x_scale\":{\"id\":\"26424\"},\"y_range\":{\"id\":\"26417\"},\"y_scale\":{\"id\":\"26426\"}},\"id\":\"26419\",\"subtype\":\"Figure\",\"type\":\"Plot\"}],\"root_ids\":[\"26414\"]},\"title\":\"Bokeh Application\",\"version\":\"2.3.2\"}};\n",
       "    var render_items = [{\"docid\":\"a22f1dba-024e-42dc-a294-786d81e9e6fa\",\"root_ids\":[\"26414\"],\"roots\":{\"26414\":\"d58d6852-ef94-4e87-9c7c-22dd2e0e5c80\"}}];\n",
       "    root.Bokeh.embed.embed_items_notebook(docs_json, render_items);\n",
       "  }\n",
       "  if (root.Bokeh !== undefined && root.Bokeh.Panel !== undefined) {\n",
       "    embed_document(root);\n",
       "  } else {\n",
       "    var attempts = 0;\n",
       "    var timer = setInterval(function(root) {\n",
       "      if (root.Bokeh !== undefined && root.Bokeh.Panel !== undefined) {\n",
       "        clearInterval(timer);\n",
       "        embed_document(root);\n",
       "      } else if (document.readyState == \"complete\") {\n",
       "        attempts++;\n",
       "        if (attempts > 200) {\n",
       "          clearInterval(timer);\n",
       "          console.log(\"Bokeh: ERROR: Unable to run BokehJS code because BokehJS library is missing\");\n",
       "        }\n",
       "      }\n",
       "    }, 25, root)\n",
       "  }\n",
       "})(window);</script>"
      ],
      "text/plain": [
       ":Bars   [token_id]   (num_sales)"
      ]
     },
     "execution_count": 281,
     "metadata": {
      "application/vnd.holoviews_exec.v0+json": {
       "id": "26414"
      }
     },
     "output_type": "execute_result"
    }
   ],
   "source": [
    "plot_5"
   ]
  },
  {
   "cell_type": "markdown",
   "id": "df04de78-ca09-477e-8f47-2441ae8bf38c",
   "metadata": {},
   "source": [
    "#### This visual provided our group with number of sales per token ID.  As you can see by the visual above, most tokens sell around 3 times or less.  However, there is one token that has sold significantly more times than all others (6 times)."
   ]
  },
  {
   "cell_type": "markdown",
   "id": "d2999a9e-774f-4185-ad14-033dc3e12761",
   "metadata": {},
   "source": [
    "### Visual #6: Total NFT Buyers and Sellers"
   ]
  },
  {
   "cell_type": "code",
   "execution_count": 282,
   "id": "70279de8-c269-4a87-a012-c5dbad216339",
   "metadata": {},
   "outputs": [],
   "source": [
    "#CREATE VISUAL: Total NFT Buyers and Sellers\n",
    "# Find the total amount of buyers and sellers\n",
    "data_list = opensea_data_pull1['asset_events']\n",
    "\n",
    "#Organize a list of buyer usernames\n",
    "buyers_list = []\n",
    "\n",
    "#Organize a list of seller usernames\n",
    "sellers_list = []\n",
    "\n",
    "# iterate through each item in list\n",
    "for each in data_list:\n",
    "    # grab the buyers and sellers\n",
    "    #buyer_username = each[“asset”][“owner”][“user”][“username”]\n",
    "    #listing_date = listing_date[0:10]  # reformat dates to be cleaner\n",
    "    try:\n",
    "        seller_username = each['from_account']['user']['username']\n",
    "    #listing_price = listing_price / 10000000000000\n",
    "    except:\n",
    "        seller_username = 'NoneType'\n",
    "    # This is code for the assets database directly below\n",
    "    try:\n",
    "        buyer_username = each['asset']['owner']['user']['username']\n",
    "    #listing_price = listing_price / 10000000000000\n",
    "    except:\n",
    "        buyer_username = 'NoneType'\n",
    "        \n",
    "    # append id to list of ids\n",
    "    #seller_username = each[“creator”][“user”][“username”]\n",
    "    #creator = each[“owner”][“user”][“username”]\n",
    "    #listing_price = listing_price / 10000000000000\n",
    "    # append id to list of ids\n",
    "    buyers_list.append(buyer_username)\n",
    "    sellers_list.append(seller_username)"
   ]
  },
  {
   "cell_type": "code",
   "execution_count": 283,
   "id": "c46a3cbd-211e-41bf-9bbc-99e4c941f75e",
   "metadata": {},
   "outputs": [],
   "source": [
    "users_df = pd.DataFrame(\n",
    "    {'buyer_username': buyers_list,\n",
    "     'seller_username': sellers_list\n",
    "     })"
   ]
  },
  {
   "cell_type": "code",
   "execution_count": 284,
   "id": "24a9d755-c96a-45c7-bd2b-ae9b33527c52",
   "metadata": {},
   "outputs": [
    {
     "data": {
      "text/plain": [
       "<bound method DataFrame.dropna of    buyer_username seller_username\n",
       "0        NoneType        NoneType\n",
       "1       Jimnft500            None\n",
       "2        NoneType        NoneType\n",
       "3          MrNiko        DeadLift\n",
       "4         Judesma            None\n",
       "..            ...             ...\n",
       "95  TankTopCrypto            KJ1R\n",
       "96       EasyPing            None\n",
       "97       NoneType   BalloonAnimal\n",
       "98           Maev            KJ1Q\n",
       "99  MatthewHawtin            KJ1H\n",
       "\n",
       "[100 rows x 2 columns]>"
      ]
     },
     "execution_count": 284,
     "metadata": {},
     "output_type": "execute_result"
    }
   ],
   "source": [
    "users_df.dropna"
   ]
  },
  {
   "cell_type": "code",
   "execution_count": 285,
   "id": "8dd2dbd0-189f-40d3-92bd-2ba6f0ec09cf",
   "metadata": {},
   "outputs": [
    {
     "data": {
      "text/plain": [
       "buyer_username     84\n",
       "seller_username    70\n",
       "dtype: int64"
      ]
     },
     "execution_count": 285,
     "metadata": {},
     "output_type": "execute_result"
    }
   ],
   "source": [
    "countusers_df = users_df.count()\n",
    "countusers_df"
   ]
  },
  {
   "cell_type": "code",
   "execution_count": 286,
   "id": "3ec45084-a33e-4a05-aa43-c80c05fbf9a7",
   "metadata": {},
   "outputs": [],
   "source": [
    "#Plot the data using a bar chart to compare the volume of buyers/sellers\n",
    "plot_6 = countusers_df.hvplot.bar(title=\"Buyers and Sellers\", xlabel=\"Buyer/Seller\", ylabel=\"Number\", grid=True)"
   ]
  },
  {
   "cell_type": "code",
   "execution_count": 287,
   "id": "f727f434-d5b0-480a-988f-6f35b70e821c",
   "metadata": {},
   "outputs": [
    {
     "data": {},
     "metadata": {},
     "output_type": "display_data"
    },
    {
     "data": {
      "application/vnd.holoviews_exec.v0+json": "",
      "text/html": [
       "<div id='26537'>\n",
       "\n",
       "\n",
       "\n",
       "\n",
       "\n",
       "  <div class=\"bk-root\" id=\"7309d30e-7962-4d06-9ca9-6212f3080970\" data-root-id=\"26537\"></div>\n",
       "</div>\n",
       "<script type=\"application/javascript\">(function(root) {\n",
       "  function embed_document(root) {\n",
       "    var docs_json = {\"a644ca53-3f1e-4ec2-9325-6097dc8d8f07\":{\"defs\":[{\"extends\":null,\"module\":null,\"name\":\"ReactiveHTML1\",\"overrides\":[],\"properties\":[]},{\"extends\":null,\"module\":null,\"name\":\"FlexBox1\",\"overrides\":[],\"properties\":[{\"default\":\"flex-start\",\"kind\":null,\"name\":\"align_content\"},{\"default\":\"flex-start\",\"kind\":null,\"name\":\"align_items\"},{\"default\":\"row\",\"kind\":null,\"name\":\"flex_direction\"},{\"default\":\"wrap\",\"kind\":null,\"name\":\"flex_wrap\"},{\"default\":\"flex-start\",\"kind\":null,\"name\":\"justify_content\"}]},{\"extends\":null,\"module\":null,\"name\":\"TemplateActions1\",\"overrides\":[],\"properties\":[{\"default\":0,\"kind\":null,\"name\":\"open_modal\"},{\"default\":0,\"kind\":null,\"name\":\"close_modal\"}]},{\"extends\":null,\"module\":null,\"name\":\"MaterialTemplateActions1\",\"overrides\":[],\"properties\":[{\"default\":0,\"kind\":null,\"name\":\"open_modal\"},{\"default\":0,\"kind\":null,\"name\":\"close_modal\"}]}],\"roots\":{\"references\":[{\"attributes\":{\"fill_alpha\":{\"value\":0.2},\"fill_color\":{\"value\":\"#30a2da\"},\"line_alpha\":{\"value\":0.2},\"top\":{\"field\":\"A_0\"},\"width\":{\"value\":0.8},\"x\":{\"field\":\"index\"}},\"id\":\"26576\",\"type\":\"VBar\"},{\"attributes\":{},\"id\":\"26558\",\"type\":\"SaveTool\"},{\"attributes\":{},\"id\":\"26581\",\"type\":\"CategoricalTickFormatter\"},{\"attributes\":{\"callback\":null,\"renderers\":[{\"id\":\"26577\"}],\"tags\":[\"hv_created\"],\"tooltips\":[[\"index\",\"@{index}\"],[\"0\",\"@{A_0}\"]]},\"id\":\"26541\",\"type\":\"HoverTool\"},{\"attributes\":{},\"id\":\"26547\",\"type\":\"CategoricalScale\"},{\"attributes\":{},\"id\":\"26583\",\"type\":\"BasicTickFormatter\"},{\"attributes\":{},\"id\":\"26595\",\"type\":\"UnionRenderers\"},{\"attributes\":{\"bottom\":{\"value\":0},\"fill_alpha\":{\"value\":1.0},\"fill_color\":{\"value\":\"#30a2da\"},\"hatch_alpha\":{\"value\":1.0},\"hatch_color\":{\"value\":\"black\"},\"hatch_scale\":{\"value\":12.0},\"hatch_weight\":{\"value\":1.0},\"line_alpha\":{\"value\":1.0},\"line_cap\":{\"value\":\"butt\"},\"line_color\":{\"value\":\"black\"},\"line_dash\":{\"value\":[]},\"line_dash_offset\":{\"value\":0},\"line_join\":{\"value\":\"bevel\"},\"line_width\":{\"value\":1},\"top\":{\"field\":\"A_0\"},\"width\":{\"value\":0.8},\"x\":{\"field\":\"index\"}},\"id\":\"26579\",\"type\":\"VBar\"},{\"attributes\":{\"text\":\"Buyers and Sellers\",\"text_color\":\"black\",\"text_font_size\":\"12pt\"},\"id\":\"26543\",\"type\":\"Title\"},{\"attributes\":{\"fill_color\":{\"value\":\"#30a2da\"},\"top\":{\"field\":\"A_0\"},\"width\":{\"value\":0.8},\"x\":{\"field\":\"index\"}},\"id\":\"26574\",\"type\":\"VBar\"},{\"attributes\":{},\"id\":\"26559\",\"type\":\"PanTool\"},{\"attributes\":{},\"id\":\"26562\",\"type\":\"ResetTool\"},{\"attributes\":{},\"id\":\"26572\",\"type\":\"Selection\"},{\"attributes\":{\"axis_label\":\"Buyer/Seller\",\"formatter\":{\"id\":\"26581\"},\"major_label_policy\":{\"id\":\"26582\"},\"ticker\":{\"id\":\"26552\"}},\"id\":\"26551\",\"type\":\"CategoricalAxis\"},{\"attributes\":{},\"id\":\"26582\",\"type\":\"AllLabels\"},{\"attributes\":{},\"id\":\"26555\",\"type\":\"BasicTicker\"},{\"attributes\":{\"below\":[{\"id\":\"26551\"}],\"center\":[{\"id\":\"26553\"},{\"id\":\"26557\"}],\"height\":300,\"left\":[{\"id\":\"26554\"}],\"margin\":[5,5,5,5],\"min_border_bottom\":10,\"min_border_left\":10,\"min_border_right\":10,\"min_border_top\":10,\"renderers\":[{\"id\":\"26577\"}],\"sizing_mode\":\"fixed\",\"title\":{\"id\":\"26543\"},\"toolbar\":{\"id\":\"26564\"},\"width\":700,\"x_range\":{\"id\":\"26539\"},\"x_scale\":{\"id\":\"26547\"},\"y_range\":{\"id\":\"26540\"},\"y_scale\":{\"id\":\"26549\"}},\"id\":\"26542\",\"subtype\":\"Figure\",\"type\":\"Plot\"},{\"attributes\":{\"margin\":[5,5,5,5],\"name\":\"HSpacer14060\",\"sizing_mode\":\"stretch_width\"},\"id\":\"26608\",\"type\":\"Spacer\"},{\"attributes\":{\"bottom_units\":\"screen\",\"fill_alpha\":0.5,\"fill_color\":\"lightgrey\",\"left_units\":\"screen\",\"level\":\"overlay\",\"line_alpha\":1.0,\"line_color\":\"black\",\"line_dash\":[4,4],\"line_width\":2,\"right_units\":\"screen\",\"syncable\":false,\"top_units\":\"screen\"},\"id\":\"26563\",\"type\":\"BoxAnnotation\"},{\"attributes\":{\"factors\":[\"buyer_username\",\"seller_username\"],\"tags\":[[[\"index\",\"index\",null]]]},\"id\":\"26539\",\"type\":\"FactorRange\"},{\"attributes\":{\"children\":[{\"id\":\"26538\"},{\"id\":\"26542\"},{\"id\":\"26608\"}],\"margin\":[0,0,0,0],\"name\":\"Row14055\",\"tags\":[\"embedded\"]},\"id\":\"26537\",\"type\":\"Row\"},{\"attributes\":{\"data_source\":{\"id\":\"26571\"},\"glyph\":{\"id\":\"26574\"},\"hover_glyph\":null,\"muted_glyph\":{\"id\":\"26576\"},\"nonselection_glyph\":{\"id\":\"26575\"},\"selection_glyph\":{\"id\":\"26579\"},\"view\":{\"id\":\"26578\"}},\"id\":\"26577\",\"type\":\"GlyphRenderer\"},{\"attributes\":{\"overlay\":{\"id\":\"26563\"}},\"id\":\"26561\",\"type\":\"BoxZoomTool\"},{\"attributes\":{\"source\":{\"id\":\"26571\"}},\"id\":\"26578\",\"type\":\"CDSView\"},{\"attributes\":{\"active_multi\":null,\"tools\":[{\"id\":\"26541\"},{\"id\":\"26558\"},{\"id\":\"26559\"},{\"id\":\"26560\"},{\"id\":\"26561\"},{\"id\":\"26562\"}]},\"id\":\"26564\",\"type\":\"Toolbar\"},{\"attributes\":{\"margin\":[5,5,5,5],\"name\":\"HSpacer14059\",\"sizing_mode\":\"stretch_width\"},\"id\":\"26538\",\"type\":\"Spacer\"},{\"attributes\":{},\"id\":\"26549\",\"type\":\"LinearScale\"},{\"attributes\":{\"axis_label\":\"Number\",\"formatter\":{\"id\":\"26583\"},\"major_label_policy\":{\"id\":\"26584\"},\"ticker\":{\"id\":\"26555\"}},\"id\":\"26554\",\"type\":\"LinearAxis\"},{\"attributes\":{\"axis\":{\"id\":\"26554\"},\"dimension\":1,\"ticker\":{\"id\":\"26555\"}},\"id\":\"26557\",\"type\":\"Grid\"},{\"attributes\":{},\"id\":\"26552\",\"type\":\"CategoricalTicker\"},{\"attributes\":{\"axis\":{\"id\":\"26551\"},\"ticker\":{\"id\":\"26552\"}},\"id\":\"26553\",\"type\":\"Grid\"},{\"attributes\":{\"end\":85.4,\"reset_end\":85.4,\"reset_start\":0.0,\"tags\":[[[\"0\",\"0\",null]]]},\"id\":\"26540\",\"type\":\"Range1d\"},{\"attributes\":{\"data\":{\"A_0\":[84,70],\"index\":[\"buyer_username\",\"seller_username\"]},\"selected\":{\"id\":\"26572\"},\"selection_policy\":{\"id\":\"26595\"}},\"id\":\"26571\",\"type\":\"ColumnDataSource\"},{\"attributes\":{},\"id\":\"26584\",\"type\":\"AllLabels\"},{\"attributes\":{},\"id\":\"26560\",\"type\":\"WheelZoomTool\"},{\"attributes\":{\"fill_alpha\":{\"value\":0.1},\"fill_color\":{\"value\":\"#30a2da\"},\"line_alpha\":{\"value\":0.1},\"top\":{\"field\":\"A_0\"},\"width\":{\"value\":0.8},\"x\":{\"field\":\"index\"}},\"id\":\"26575\",\"type\":\"VBar\"}],\"root_ids\":[\"26537\"]},\"title\":\"Bokeh Application\",\"version\":\"2.3.2\"}};\n",
       "    var render_items = [{\"docid\":\"a644ca53-3f1e-4ec2-9325-6097dc8d8f07\",\"root_ids\":[\"26537\"],\"roots\":{\"26537\":\"7309d30e-7962-4d06-9ca9-6212f3080970\"}}];\n",
       "    root.Bokeh.embed.embed_items_notebook(docs_json, render_items);\n",
       "  }\n",
       "  if (root.Bokeh !== undefined && root.Bokeh.Panel !== undefined) {\n",
       "    embed_document(root);\n",
       "  } else {\n",
       "    var attempts = 0;\n",
       "    var timer = setInterval(function(root) {\n",
       "      if (root.Bokeh !== undefined && root.Bokeh.Panel !== undefined) {\n",
       "        clearInterval(timer);\n",
       "        embed_document(root);\n",
       "      } else if (document.readyState == \"complete\") {\n",
       "        attempts++;\n",
       "        if (attempts > 200) {\n",
       "          clearInterval(timer);\n",
       "          console.log(\"Bokeh: ERROR: Unable to run BokehJS code because BokehJS library is missing\");\n",
       "        }\n",
       "      }\n",
       "    }, 25, root)\n",
       "  }\n",
       "})(window);</script>"
      ],
      "text/plain": [
       ":Bars   [index]   (0)"
      ]
     },
     "execution_count": 287,
     "metadata": {
      "application/vnd.holoviews_exec.v0+json": {
       "id": "26537"
      }
     },
     "output_type": "execute_result"
    }
   ],
   "source": [
    "plot_6"
   ]
  },
  {
   "cell_type": "markdown",
   "id": "ced8d10e-96a9-4a91-985a-39a4518022e2",
   "metadata": {},
   "source": [
    "#### This visual provided our group with the total amount of NFT Buyers and Sellers.  As you can see, there are currently more buyers of NFTs than there are sellers."
   ]
  },
  {
   "cell_type": "markdown",
   "id": "3b7dc170-f82b-4e69-95c0-fb5dc5b7a334",
   "metadata": {},
   "source": [
    "### Visual #7: Top 5 NFT Projects by Market Cap"
   ]
  },
  {
   "cell_type": "code",
   "execution_count": 288,
   "id": "5cfeaa8c-3215-47b1-89d4-7acd91025b05",
   "metadata": {},
   "outputs": [
    {
     "name": "stdout",
     "output_type": "stream",
     "text": [
      "                       NFT Projects by Market Cap\n",
      "NFT Projects                     Market Cap (ETH)\n",
      "CryptoPunks                            1193025.61\n",
      "Bored Ape Yacht Club                    418574.92\n",
      "Fidenza by Tyler Hobbs                   163336.5\n",
      "CyberKongs                               62897.74\n",
      "Emblem Vault                             33402.22\n"
     ]
    }
   ],
   "source": [
    "#CREATE VISUAL: Top 5 NFT Projects by Market Cap\n",
    "NFT_Project_MarketCap = pd.read_csv('../Project_1_Group_3/NFT Projects by Market Cap.csv')\n",
    "print (NFT_Project_MarketCap)"
   ]
  },
  {
   "cell_type": "code",
   "execution_count": 289,
   "id": "ec3ec689-63f5-47cc-98ff-84eaaf5a8446",
   "metadata": {},
   "outputs": [
    {
     "data": {
      "text/html": [
       "<div>\n",
       "<style scoped>\n",
       "    .dataframe tbody tr th:only-of-type {\n",
       "        vertical-align: middle;\n",
       "    }\n",
       "\n",
       "    .dataframe tbody tr th {\n",
       "        vertical-align: top;\n",
       "    }\n",
       "\n",
       "    .dataframe thead th {\n",
       "        text-align: right;\n",
       "    }\n",
       "</style>\n",
       "<table border=\"1\" class=\"dataframe\">\n",
       "  <thead>\n",
       "    <tr style=\"text-align: right;\">\n",
       "      <th></th>\n",
       "      <th>NFT Projects by Market Cap</th>\n",
       "    </tr>\n",
       "  </thead>\n",
       "  <tbody>\n",
       "    <tr>\n",
       "      <th>CryptoPunks</th>\n",
       "      <td>1193025.61</td>\n",
       "    </tr>\n",
       "    <tr>\n",
       "      <th>Bored Ape Yacht Club</th>\n",
       "      <td>418574.92</td>\n",
       "    </tr>\n",
       "    <tr>\n",
       "      <th>Fidenza by Tyler Hobbs</th>\n",
       "      <td>163336.5</td>\n",
       "    </tr>\n",
       "    <tr>\n",
       "      <th>CyberKongs</th>\n",
       "      <td>62897.74</td>\n",
       "    </tr>\n",
       "    <tr>\n",
       "      <th>Emblem Vault</th>\n",
       "      <td>33402.22</td>\n",
       "    </tr>\n",
       "  </tbody>\n",
       "</table>\n",
       "</div>"
      ],
      "text/plain": [
       "                       NFT Projects by Market Cap\n",
       "CryptoPunks                            1193025.61\n",
       "Bored Ape Yacht Club                    418574.92\n",
       "Fidenza by Tyler Hobbs                   163336.5\n",
       "CyberKongs                               62897.74\n",
       "Emblem Vault                             33402.22"
      ]
     },
     "execution_count": 289,
     "metadata": {},
     "output_type": "execute_result"
    }
   ],
   "source": [
    "#Add data into a dataframe\n",
    "MarketCap_df= pd.DataFrame(NFT_Project_MarketCap).head(6).drop([\"NFT Projects\"])\n",
    "MarketCap_df"
   ]
  },
  {
   "cell_type": "code",
   "execution_count": 290,
   "id": "e8996ee3-531d-4d46-95d4-90ecb97ce533",
   "metadata": {},
   "outputs": [
    {
     "data": {
      "text/html": [
       "<div>\n",
       "<style scoped>\n",
       "    .dataframe tbody tr th:only-of-type {\n",
       "        vertical-align: middle;\n",
       "    }\n",
       "\n",
       "    .dataframe tbody tr th {\n",
       "        vertical-align: top;\n",
       "    }\n",
       "\n",
       "    .dataframe thead th {\n",
       "        text-align: right;\n",
       "    }\n",
       "</style>\n",
       "<table border=\"1\" class=\"dataframe\">\n",
       "  <thead>\n",
       "    <tr style=\"text-align: right;\">\n",
       "      <th></th>\n",
       "      <th>Market_Cap</th>\n",
       "    </tr>\n",
       "  </thead>\n",
       "  <tbody>\n",
       "    <tr>\n",
       "      <th>CryptoPunks</th>\n",
       "      <td>1193025.61</td>\n",
       "    </tr>\n",
       "    <tr>\n",
       "      <th>Bored Ape Yacht Club</th>\n",
       "      <td>418574.92</td>\n",
       "    </tr>\n",
       "    <tr>\n",
       "      <th>Fidenza by Tyler Hobbs</th>\n",
       "      <td>163336.5</td>\n",
       "    </tr>\n",
       "    <tr>\n",
       "      <th>CyberKongs</th>\n",
       "      <td>62897.74</td>\n",
       "    </tr>\n",
       "    <tr>\n",
       "      <th>Emblem Vault</th>\n",
       "      <td>33402.22</td>\n",
       "    </tr>\n",
       "  </tbody>\n",
       "</table>\n",
       "</div>"
      ],
      "text/plain": [
       "                        Market_Cap\n",
       "CryptoPunks             1193025.61\n",
       "Bored Ape Yacht Club     418574.92\n",
       "Fidenza by Tyler Hobbs    163336.5\n",
       "CyberKongs                62897.74\n",
       "Emblem Vault              33402.22"
      ]
     },
     "execution_count": 290,
     "metadata": {},
     "output_type": "execute_result"
    }
   ],
   "source": [
    "#Rename columns\n",
    "columns = [\"Market_Cap\"]\n",
    "MarketCap_df.columns = columns\n",
    "MarketCap_df"
   ]
  },
  {
   "cell_type": "code",
   "execution_count": 291,
   "id": "15e4b4e9-0505-4d7c-8171-a3484e4555b4",
   "metadata": {},
   "outputs": [
    {
     "data": {
      "text/plain": [
       "Market_Cap    object\n",
       "dtype: object"
      ]
     },
     "execution_count": 291,
     "metadata": {},
     "output_type": "execute_result"
    }
   ],
   "source": [
    "#Change data type for plot\n",
    "MarketCap_df.dtypes"
   ]
  },
  {
   "cell_type": "code",
   "execution_count": 292,
   "id": "750239b3-2a15-4602-ad1f-e675e18b1abd",
   "metadata": {},
   "outputs": [
    {
     "data": {
      "text/plain": [
       "CryptoPunks               1193025.61\n",
       "Bored Ape Yacht Club       418574.92\n",
       "Fidenza by Tyler Hobbs     163336.50\n",
       "CyberKongs                  62897.74\n",
       "Emblem Vault                33402.22\n",
       "Name: Market_Cap, dtype: float64"
      ]
     },
     "execution_count": 292,
     "metadata": {},
     "output_type": "execute_result"
    }
   ],
   "source": [
    "MarketCap_df[\"Market_Cap\"] = MarketCap_df[\"Market_Cap\"].astype(\"float\")\n",
    "MarketCap_df[\"Market_Cap\"]"
   ]
  },
  {
   "cell_type": "code",
   "execution_count": 293,
   "id": "7a1b595a-c7ab-4055-aae4-badea089d49d",
   "metadata": {},
   "outputs": [],
   "source": [
    "#Used data from MarketCap_df to fill in values in order to troubleshoot (graph was not working with df input)\n",
    "x = {\n",
    "    'CryptoPunks': 1193025.61,\n",
    "    'Bored Ape Yacht Club': 418574.92,\n",
    "    'Fidenza by Tyler Hobbs': 163336.50,\n",
    "    'CyberKongs': 62897.74,\n",
    "    'Emblem Vault': 33402.22\n",
    "}"
   ]
  },
  {
   "cell_type": "code",
   "execution_count": 294,
   "id": "da204ffb-d469-41ea-b8ab-ff521b87e757",
   "metadata": {},
   "outputs": [
    {
     "data": {
      "text/html": [
       "\n",
       "\n",
       "\n",
       "\n",
       "\n",
       "\n",
       "  <div class=\"bk-root\" id=\"11b1cc14-018c-4e08-b11e-2b3328f757ac\" data-root-id=\"26660\"></div>\n"
      ]
     },
     "metadata": {},
     "output_type": "display_data"
    },
    {
     "data": {
      "application/javascript": [
       "(function(root) {\n",
       "  function embed_document(root) {\n",
       "    \n",
       "  var docs_json = {\"77d508ec-0fc5-40c6-ae4e-a09a531da928\":{\"defs\":[{\"extends\":null,\"module\":null,\"name\":\"ReactiveHTML1\",\"overrides\":[],\"properties\":[]},{\"extends\":null,\"module\":null,\"name\":\"FlexBox1\",\"overrides\":[],\"properties\":[{\"default\":\"flex-start\",\"kind\":null,\"name\":\"align_content\"},{\"default\":\"flex-start\",\"kind\":null,\"name\":\"align_items\"},{\"default\":\"row\",\"kind\":null,\"name\":\"flex_direction\"},{\"default\":\"wrap\",\"kind\":null,\"name\":\"flex_wrap\"},{\"default\":\"flex-start\",\"kind\":null,\"name\":\"justify_content\"}]},{\"extends\":null,\"module\":null,\"name\":\"TemplateActions1\",\"overrides\":[],\"properties\":[{\"default\":0,\"kind\":null,\"name\":\"open_modal\"},{\"default\":0,\"kind\":null,\"name\":\"close_modal\"}]},{\"extends\":null,\"module\":null,\"name\":\"MaterialTemplateActions1\",\"overrides\":[],\"properties\":[{\"default\":0,\"kind\":null,\"name\":\"open_modal\"},{\"default\":0,\"kind\":null,\"name\":\"close_modal\"}]}],\"roots\":{\"references\":[{\"attributes\":{\"below\":[{\"id\":\"26671\"}],\"center\":[{\"id\":\"26674\"},{\"id\":\"26678\"},{\"id\":\"26699\"}],\"height\":350,\"left\":[{\"id\":\"26675\"}],\"renderers\":[{\"id\":\"26688\"}],\"title\":{\"id\":\"26661\"},\"toolbar\":{\"id\":\"26680\"},\"toolbar_location\":null,\"x_range\":{\"id\":\"26663\"},\"x_scale\":{\"id\":\"26667\"},\"y_range\":{\"id\":\"26665\"},\"y_scale\":{\"id\":\"26669\"}},\"id\":\"26660\",\"subtype\":\"Figure\",\"type\":\"Plot\"},{\"attributes\":{\"axis_label\":null,\"formatter\":{\"id\":\"26695\"},\"major_label_policy\":{\"id\":\"26696\"},\"ticker\":{\"id\":\"26672\"},\"visible\":false},\"id\":\"26671\",\"type\":\"LinearAxis\"},{\"attributes\":{\"label\":{\"field\":\"index\"},\"renderers\":[{\"id\":\"26688\"}]},\"id\":\"26700\",\"type\":\"LegendItem\"},{\"attributes\":{},\"id\":\"26697\",\"type\":\"UnionRenderers\"},{\"attributes\":{\"items\":[{\"id\":\"26700\"}]},\"id\":\"26699\",\"type\":\"Legend\"},{\"attributes\":{},\"id\":\"26667\",\"type\":\"LinearScale\"},{\"attributes\":{},\"id\":\"26698\",\"type\":\"Selection\"},{\"attributes\":{\"active_multi\":null,\"tools\":[{\"id\":\"26679\"}]},\"id\":\"26680\",\"type\":\"Toolbar\"},{\"attributes\":{\"field\":\"angle\"},\"id\":\"26683\",\"type\":\"CumSum\"},{\"attributes\":{\"text\":\"Top 5 NFT Projects by Market Cap\"},\"id\":\"26661\",\"type\":\"Title\"},{\"attributes\":{},\"id\":\"26669\",\"type\":\"LinearScale\"},{\"attributes\":{\"data_source\":{\"id\":\"26684\"},\"glyph\":{\"id\":\"26686\"},\"hover_glyph\":null,\"muted_glyph\":null,\"nonselection_glyph\":{\"id\":\"26687\"},\"view\":{\"id\":\"26689\"}},\"id\":\"26688\",\"type\":\"GlyphRenderer\"},{\"attributes\":{},\"id\":\"26672\",\"type\":\"BasicTicker\"},{\"attributes\":{},\"id\":\"26665\",\"type\":\"DataRange1d\"},{\"attributes\":{\"axis\":{\"id\":\"26671\"},\"grid_line_color\":null,\"ticker\":null},\"id\":\"26674\",\"type\":\"Grid\"},{\"attributes\":{\"axis_label\":null,\"formatter\":{\"id\":\"26692\"},\"major_label_policy\":{\"id\":\"26693\"},\"ticker\":{\"id\":\"26676\"},\"visible\":false},\"id\":\"26675\",\"type\":\"LinearAxis\"},{\"attributes\":{},\"id\":\"26676\",\"type\":\"BasicTicker\"},{\"attributes\":{\"source\":{\"id\":\"26684\"}},\"id\":\"26689\",\"type\":\"CDSView\"},{\"attributes\":{\"callback\":null,\"tooltips\":\"@value\"},\"id\":\"26679\",\"type\":\"HoverTool\"},{\"attributes\":{\"end_angle\":{\"expr\":{\"id\":\"26683\"}},\"fill_color\":{\"field\":\"color\"},\"line_color\":{\"value\":\"white\"},\"radius\":{\"value\":0.4},\"start_angle\":{\"expr\":{\"id\":\"26682\"}},\"x\":{\"value\":0},\"y\":{\"value\":1}},\"id\":\"26686\",\"type\":\"Wedge\"},{\"attributes\":{\"axis\":{\"id\":\"26675\"},\"dimension\":1,\"grid_line_color\":null,\"ticker\":null},\"id\":\"26678\",\"type\":\"Grid\"},{\"attributes\":{},\"id\":\"26695\",\"type\":\"BasicTickFormatter\"},{\"attributes\":{},\"id\":\"26693\",\"type\":\"AllLabels\"},{\"attributes\":{\"data\":{\"angle\":{\"__ndarray__\":\"AzWubgwGEECIyqZD13z2Py9Vzs7fjOE/k0xbMnoIyz9GGuhPUra8Pw==\",\"dtype\":\"float64\",\"order\":\"little\",\"shape\":[5]},\"color\":[\"#3182bd\",\"#6baed6\",\"#9ecae1\",\"#c6dbef\",\"#e6550d\"],\"index\":[\"CryptoPunks\",\"Bored Ape Yacht Club\",\"Fidenza by Tyler Hobbs\",\"CyberKongs\",\"Emblem Vault\"],\"level_0\":[0,1,2,3,4],\"value\":{\"__ndarray__\":\"w/UonEE0MkHhehSuO4wZQQAAAABE8ANB4XoUrje27kCkcD0KR0/gQA==\",\"dtype\":\"float64\",\"order\":\"little\",\"shape\":[5]}},\"selected\":{\"id\":\"26698\"},\"selection_policy\":{\"id\":\"26697\"}},\"id\":\"26684\",\"type\":\"ColumnDataSource\"},{\"attributes\":{\"end_angle\":{\"expr\":{\"id\":\"26683\"}},\"fill_alpha\":{\"value\":0.1},\"fill_color\":{\"field\":\"color\"},\"line_alpha\":{\"value\":0.1},\"line_color\":{\"value\":\"white\"},\"radius\":{\"value\":0.4},\"start_angle\":{\"expr\":{\"id\":\"26682\"}},\"x\":{\"value\":0},\"y\":{\"value\":1}},\"id\":\"26687\",\"type\":\"Wedge\"},{\"attributes\":{},\"id\":\"26696\",\"type\":\"AllLabels\"},{\"attributes\":{\"field\":\"angle\",\"include_zero\":true},\"id\":\"26682\",\"type\":\"CumSum\"},{\"attributes\":{\"start\":-0.5},\"id\":\"26663\",\"type\":\"Range1d\"},{\"attributes\":{},\"id\":\"26692\",\"type\":\"BasicTickFormatter\"}],\"root_ids\":[\"26660\"]},\"title\":\"Bokeh Application\",\"version\":\"2.3.2\"}};\n",
       "  var render_items = [{\"docid\":\"77d508ec-0fc5-40c6-ae4e-a09a531da928\",\"root_ids\":[\"26660\"],\"roots\":{\"26660\":\"11b1cc14-018c-4e08-b11e-2b3328f757ac\"}}];\n",
       "  root.Bokeh.embed.embed_items_notebook(docs_json, render_items);\n",
       "\n",
       "  }\n",
       "  if (root.Bokeh !== undefined) {\n",
       "    embed_document(root);\n",
       "  } else {\n",
       "    var attempts = 0;\n",
       "    var timer = setInterval(function(root) {\n",
       "      if (root.Bokeh !== undefined) {\n",
       "        clearInterval(timer);\n",
       "        embed_document(root);\n",
       "      } else {\n",
       "        attempts++;\n",
       "        if (attempts > 100) {\n",
       "          clearInterval(timer);\n",
       "          console.log(\"Bokeh: ERROR: Unable to run BokehJS code because BokehJS library is missing\");\n",
       "        }\n",
       "      }\n",
       "    }, 10, root)\n",
       "  }\n",
       "})(window);"
      ],
      "application/vnd.bokehjs_exec.v0+json": ""
     },
     "metadata": {
      "application/vnd.bokehjs_exec.v0+json": {
       "id": "26660"
      }
     },
     "output_type": "display_data"
    }
   ],
   "source": [
    "#To meet the requirements of using another library, we tried out Bokeh to build a pie chart \n",
    "data = pd.Series(x).reset_index(name='value').rename(columns={'NFT Project': 'Market_Cap'})\n",
    "data['angle'] = data['value']/data['value'].sum() * 2*pi\n",
    "data['color'] = Category20c[len(x)]\n",
    "\n",
    "p = figure(height=350, title=\"Top 5 NFT Projects by Market Cap\", toolbar_location=None,\n",
    "           tools=\"hover\", tooltips=\"@value\", x_range=(-0.5, 1.0))\n",
    "\n",
    "p.wedge(x=0, y=1, radius=0.4,\n",
    "        start_angle=cumsum('angle', include_zero=True), end_angle=cumsum('angle'),\n",
    "        line_color=\"white\", fill_color='color', legend_field='index', source=data)\n",
    "\n",
    "p.axis.axis_label = None\n",
    "p.axis.visible = False\n",
    "p.grid.grid_line_color = None\n",
    "\n",
    "show(p)\n"
   ]
  },
  {
   "cell_type": "code",
   "execution_count": null,
   "id": "81fc7131-35da-4412-bf4b-146f7422cfdd",
   "metadata": {},
   "outputs": [],
   "source": []
  },
  {
   "cell_type": "code",
   "execution_count": null,
   "id": "1bdad1b3-e973-4645-a64a-856440e80001",
   "metadata": {},
   "outputs": [],
   "source": []
  },
  {
   "cell_type": "markdown",
   "id": "4cd49030-40e1-4774-915b-53520189fc9a",
   "metadata": {},
   "source": [
    "#### This visual provided our group with the top 5 NFT projects by Market Cap.  CryptoPunks far exceeds all other projects, at almost 1200000 ETH."
   ]
  },
  {
   "cell_type": "markdown",
   "id": "efbd2842-3325-475d-9ab5-f1bfa077e569",
   "metadata": {},
   "source": [
    "### DASHBOARD"
   ]
  },
  {
   "cell_type": "markdown",
   "id": "871bbcaf-447b-49ae-bb09-c77ad6b326cc",
   "metadata": {},
   "source": [
    "#### We created a dashboard for the presentation, and included Background/Narrative tabs as well as all visualizations."
   ]
  },
  {
   "cell_type": "markdown",
   "id": "7b8e647a-418a-4b77-890e-9f64c2d00aac",
   "metadata": {},
   "source": [
    "##### First Step: Create Markdowns for Overview Tabs"
   ]
  },
  {
   "cell_type": "code",
   "execution_count": 295,
   "id": "2319b49d-313b-4d35-b2b8-59bcbf4f48f8",
   "metadata": {},
   "outputs": [],
   "source": [
    "markdown_titlepage = \"\"\"\n",
    "\n",
    "# Let's Put the \"Fun\" in Non-Fungible Tokens (NFTs)  \n",
    "  \n",
    "Presentation Date: November 6, 2021  \n",
    "    \n",
    "Prepared by Andrew, Rachel, Sam, and Jinhyeong  \n",
    "  \n",
    "![image](./images/NFTheads.png)\n",
    "\n",
    "\"\"\""
   ]
  },
  {
   "cell_type": "code",
   "execution_count": 296,
   "id": "26485676-b827-44ec-93f1-7b14a9d991c4",
   "metadata": {},
   "outputs": [],
   "source": [
    "markdown_intro = \"\"\"\n",
    "# Project Objective  \n",
    "  \n",
    "Our project is to research and learn patterns and trends in NFTs.  \n",
    "We will be using the OpenSea API to retrieve data regarding NFTs to determine the following:  \n",
    ">- What are NFTs?  \n",
    ">- What are the financial trends?  \n",
    ">- How profitable are NFTs?    \n",
    "  \n",
    "  \n",
    "![image](./images/NFTCollector.png)\n",
    "\"\"\""
   ]
  },
  {
   "cell_type": "code",
   "execution_count": 297,
   "id": "13ec2ee5-824b-42cc-a48d-88526ad7ede4",
   "metadata": {},
   "outputs": [],
   "source": [
    "markdown_background1 = \"\"\"\n",
    "# What are NFTs?  \n",
    "  \n",
    ">NFTs, or nonfungible tokens, are unique assets that can’t be replaced with something else,  \n",
    ">and are verified and stored using blockchain technology.  They can include everything from  \n",
    ">music to a website domain, but the current craze is really around digital artwork.    \n",
    "  \n",
    ">The market exceeded $10B in transaction volume as of 3Q2021.  \n",
    "  \n",
    "![image](./images/NFTcoin.png)\n",
    "\n",
    "\"\"\""
   ]
  },
  {
   "cell_type": "code",
   "execution_count": 298,
   "id": "afbeb511-1a46-4e4d-9699-ab19bbb1448d",
   "metadata": {},
   "outputs": [],
   "source": [
    "markdown_background2 = \"\"\"\n",
    "# Examples of Recently Sold NFTs  \n",
    "  \n",
    ">The NFT art scene has exploded in recent months, with some of the most expensive NFT sales  \n",
    ">conducted in the last six months.  A few examples include:    \n",
    "  \n",
    ">- CryptoPunk #7523,  $11.8 million  \n",
    ">- CryptoPunk #7804, $7.56 million  \n",
    ">- Ocean Front, $6 million  \n",
    ">- World Wide Web source code, $5.43 million  \n",
    "  \n",
    "  \n",
    "![image](./images/cryptopunk7523.png)  \n",
    "![image](./images/cryptopunk7804.png)  \n",
    "![image](./images/oceanfront.png)  \n",
    "![image](./images/WWWsourcecode.png)\n",
    "\n",
    "\"\"\""
   ]
  },
  {
   "cell_type": "code",
   "execution_count": 299,
   "id": "7e699d99-fecb-43a0-a3ff-9d874646e9de",
   "metadata": {},
   "outputs": [],
   "source": [
    "markdown_background3 = \"\"\"\n",
    "# Minting and Purchasing an NFT  \n",
    "  \n",
    ">For NFTs to become valuable and scarce they have to be minted. The term minting in NFTs is similar   \n",
    ">to minting a coin of silver. Once an NFT is minted on the Ethereum blockchain it becomes unchangeable   \n",
    ">and tamper-proof. Newly minted NFTs then are able to be sold on third party websites. These websites   \n",
    ">include Nifty Gateway, Zora, and OpeanSea to name a few.    \n",
    "  \n",
    ">For a buyer to purchase an NFT they have to purchase the NFT using Ethereum Tokens.  \n",
    ">Other blockchain networks that mint NFTs beside Ethereum include Solana, Polygon, and Binance Smart   \n",
    ">Chain, to name a few. Yet Ethereum reigns supreme for NFTs on chain.  \n",
    "\n",
    "\"\"\""
   ]
  },
  {
   "cell_type": "code",
   "execution_count": 300,
   "id": "4cf32734-e884-4054-b664-93b467aa99e6",
   "metadata": {},
   "outputs": [],
   "source": [
    "markdown_background4 = \"\"\"\n",
    "# The Rise of NFTs\n",
    "\n",
    ">NFTs have only been around for a little over a half a decade so they have not become commonplace in  \n",
    ">today’s society. Yet the NFT space has gained some notoriety this past year due to the fact that   \n",
    ">massive amounts of money have been allocated to purchase some NFT projects. The vast majority of  \n",
    ">people in the NFT space, which are the artists and buyers, are between the ages of 18-39.    \n",
    "  \n",
    "![image](./images/beeple.png)\n",
    "\"\"\""
   ]
  },
  {
   "cell_type": "code",
   "execution_count": 307,
   "id": "19bb8982-9dbe-40f7-91db-327d00d4a151",
   "metadata": {},
   "outputs": [],
   "source": [
    "markdown_end = \"\"\"\n",
    "\n",
    "# Conclusion  \n",
    "  \n",
    "We learned a lot about NFTs, but realize this is a relatively new concept.  Sales and price trends  \n",
    "are sporadic with no obvious patterns or seasonality.  Data was not very clean or comprehensive.  \n",
    "  \n",
    "However, given the data you have seen and this new trend...  \n",
    "  \n",
    "**Would YOU buy an NFT?**  \n",
    "  \n",
    "We would!  \n",
    "  \n",
    "  \n",
    "  \n",
    "![image](./images/NFT_comic.png)\n",
    "\"\"\""
   ]
  },
  {
   "cell_type": "code",
   "execution_count": 302,
   "id": "2729a247-aa98-46bd-8a3a-a25d8b3c4a93",
   "metadata": {},
   "outputs": [],
   "source": [
    "#creating a double plot for one of the dashboard tabs since visuals 2 and 3 relate\n",
    "salesvol_dash = pn.Column(plot_2,plot_3)"
   ]
  },
  {
   "cell_type": "code",
   "execution_count": 303,
   "id": "5b3f4b85-1be2-4c7b-9e76-3ce4fbb6fc0d",
   "metadata": {},
   "outputs": [],
   "source": [
    "visualoverview = \"\"\"\n",
    "\n",
    "# Visualization Overview  \n",
    "  \n",
    "Below is a summary of the various visualizations we created to answer questions we had about NFTs.  \n",
    "Our goal was to learn about the NFT market and if it would be beneficial to invest in NFTs.  \n",
    "This data was obtained mostly from the OpenSea API source.  \n",
    "  \n",
    "1. NFT Bid Trends\n",
    "2. Number of NFT Sales per Day\n",
    "1. Volume of NFT Sales per Day\n",
    "2. Top 10 NFT Bid Prices\n",
    "1. Number of Sales per Token ID\n",
    "2. Total Buyers/Sellers\n",
    "1. Top 5 NFT Projects by Market Cap\n",
    "\n",
    "\"\"\""
   ]
  },
  {
   "cell_type": "code",
   "execution_count": 304,
   "id": "0d0a7d4c-8a92-4a07-8036-b83dbf336eab",
   "metadata": {},
   "outputs": [],
   "source": [
    "dataphases = \"\"\"\n",
    "\n",
    "# Data Phases  \n",
    "  \n",
    "Our process consisted of a data exploration, cleanup, and analysis phases.  \n",
    "  \n",
    ">- Exploration: Google seaches, API searches, OpenSea    \n",
    ">- Cleanup: Searching through variables in Spyder, dropping nulls, replaced NoneTypes   \n",
    ">- Analysis: Looking through the data to find interesting topics to make plots and visualizations  \n",
    "  \n",
    "\"\"\""
   ]
  },
  {
   "cell_type": "code",
   "execution_count": 309,
   "id": "d7e05950-04ee-4c8a-8495-f24d1b16c2d6",
   "metadata": {},
   "outputs": [],
   "source": [
    "plot_1 =\"\"\"\n",
    "![image](./images/plot_1.png)\n",
    "\"\"\""
   ]
  },
  {
   "cell_type": "code",
   "execution_count": 310,
   "id": "486a6d32-5868-4fde-8c5b-3f676565a097",
   "metadata": {},
   "outputs": [
    {
     "data": {},
     "metadata": {},
     "output_type": "display_data"
    },
    {
     "data": {},
     "metadata": {},
     "output_type": "display_data"
    },
    {
     "data": {
      "application/vnd.holoviews_exec.v0+json": "",
      "text/html": [
       "<div id='29736'>\n",
       "\n",
       "\n",
       "\n",
       "\n",
       "\n",
       "  <div class=\"bk-root\" id=\"7d6ff450-0fee-45ff-80f4-5d3eb8f76d51\" data-root-id=\"29736\"></div>\n",
       "</div>\n",
       "<script type=\"application/javascript\">(function(root) {\n",
       "  function embed_document(root) {\n",
       "    var docs_json = {\"6c3d9249-53e4-4ee5-967e-77211004939d\":{\"defs\":[{\"extends\":null,\"module\":null,\"name\":\"ReactiveHTML1\",\"overrides\":[],\"properties\":[]},{\"extends\":null,\"module\":null,\"name\":\"FlexBox1\",\"overrides\":[],\"properties\":[{\"default\":\"flex-start\",\"kind\":null,\"name\":\"align_content\"},{\"default\":\"flex-start\",\"kind\":null,\"name\":\"align_items\"},{\"default\":\"row\",\"kind\":null,\"name\":\"flex_direction\"},{\"default\":\"wrap\",\"kind\":null,\"name\":\"flex_wrap\"},{\"default\":\"flex-start\",\"kind\":null,\"name\":\"justify_content\"}]},{\"extends\":null,\"module\":null,\"name\":\"TemplateActions1\",\"overrides\":[],\"properties\":[{\"default\":0,\"kind\":null,\"name\":\"open_modal\"},{\"default\":0,\"kind\":null,\"name\":\"close_modal\"}]},{\"extends\":null,\"module\":null,\"name\":\"MaterialTemplateActions1\",\"overrides\":[],\"properties\":[{\"default\":0,\"kind\":null,\"name\":\"open_modal\"},{\"default\":0,\"kind\":null,\"name\":\"close_modal\"}]}],\"roots\":{\"references\":[{\"attributes\":{\"axis\":{\"id\":\"29977\"},\"dimension\":1,\"ticker\":{\"id\":\"29978\"}},\"id\":\"29980\",\"type\":\"Grid\"},{\"attributes\":{},\"id\":\"29975\",\"type\":\"CategoricalTicker\"},{\"attributes\":{},\"id\":\"29808\",\"type\":\"UnionRenderers\"},{\"attributes\":{},\"id\":\"30076\",\"type\":\"BasicTickFormatter\"},{\"attributes\":{\"overlay\":{\"id\":\"29776\"}},\"id\":\"29774\",\"type\":\"BoxZoomTool\"},{\"attributes\":{\"bottom_units\":\"screen\",\"fill_alpha\":0.5,\"fill_color\":\"lightgrey\",\"left_units\":\"screen\",\"level\":\"overlay\",\"line_alpha\":1.0,\"line_color\":\"black\",\"line_dash\":[4,4],\"line_width\":2,\"right_units\":\"screen\",\"syncable\":false,\"top_units\":\"screen\"},\"id\":\"29776\",\"type\":\"BoxAnnotation\"},{\"attributes\":{},\"id\":\"29981\",\"type\":\"SaveTool\"},{\"attributes\":{},\"id\":\"29785\",\"type\":\"Selection\"},{\"attributes\":{\"callback\":null,\"renderers\":[{\"id\":\"29790\"}],\"tags\":[\"hv_created\"],\"tooltips\":[[\"listing_date\",\"@{listing_date}\"],[\"listing_price\",\"@{listing_price}\"]]},\"id\":\"29754\",\"type\":\"HoverTool\"},{\"attributes\":{},\"id\":\"29983\",\"type\":\"WheelZoomTool\"},{\"attributes\":{\"callback\":null,\"renderers\":[{\"id\":\"30070\"}],\"tags\":[\"hv_created\"],\"tooltips\":[[\"index\",\"@{index}\"],[\"0\",\"@{A_0}\"]]},\"id\":\"30034\",\"type\":\"HoverTool\"},{\"attributes\":{},\"id\":\"29773\",\"type\":\"WheelZoomTool\"},{\"attributes\":{\"children\":[{\"id\":\"29755\"},{\"id\":\"29824\"}],\"margin\":[0,0,0,0],\"name\":\"Column14140\"},\"id\":\"29751\",\"type\":\"Column\"},{\"attributes\":{},\"id\":\"29772\",\"type\":\"PanTool\"},{\"attributes\":{\"callback\":null,\"renderers\":[{\"id\":\"29859\"}],\"tags\":[\"hv_created\"],\"tooltips\":[[\"listing_date\",\"@{listing_date}\"],[\"listing_price\",\"@{listing_price}\"]]},\"id\":\"29823\",\"type\":\"HoverTool\"},{\"attributes\":{\"child\":{\"id\":\"29749\"},\"name\":\"NFT Bid Trends\",\"title\":\"NFT Bid Trends\"},\"id\":\"29750\",\"type\":\"Panel\"},{\"attributes\":{\"margin\":[0,0,0,0],\"tabs\":[{\"id\":\"29738\"},{\"id\":\"29740\"},{\"id\":\"29742\"},{\"id\":\"29744\"},{\"id\":\"29746\"},{\"id\":\"29748\"},{\"id\":\"29750\"},{\"id\":\"29891\"},{\"id\":\"29961\"},{\"id\":\"30031\"},{\"id\":\"30101\"},{\"id\":\"30103\"},{\"id\":\"30105\"}]},\"id\":\"29736\",\"type\":\"Tabs\"},{\"attributes\":{\"data\":{\"num_sales\":[0,2,0,0,2,0,2,1,2,1,0,1,0,1,0,2,2,1,4,0,3,0,2,3,0,1,2,0,1,0,2,1,0,0,0,0,2,6,4,3,1,1,1,7,2,0,0,0,1,4,1,2,1,4,3,0,0,1,1,0,1,1,0,0,1,2,3,1,1,0,0,3,2,2,0,2,0,1,0,2,1,0,2,1,2,1,3,0,2,0,2,0,6,0,0,1,2,7,0,0],\"token_id\":[\"7662340210\",\"8785\",\"1483011971\",\"1851\",\"5708\",\"518\",\"6844\",\"3711\",\"3336\",\"9602\",\"102455\",\"0\",\"5232\",\"2857\",\"6909\",\"7308\",\"1444\",\"9437\",\"14615\",\"35043\",\"5314\",\"7516\",\"6103\",\"67\",\"4294967828\",\"244\",\"7931\",\"1976\",\"9779\",\"5583\",\"9431\",\"9757\",\"2461\",\"6154\",\"13318\",\"119058\",\"432\",\"1819\",\"2882\",\"5987\",\"8199\",\"1264\",\"4900\",\"806\",\"1652\",\"9222\",\"6787\",\"14657\",\"8069\",\"218\",\"7925\",\"7939\",\"1569\",\"2296\",\"1073\",\"510\",\"22120\",\"1001993\",\"7744\",\"6593\",\"3418\",\"3800\",\"27048\",\"3771\",\"8985\",\"9787\",\"9068\",\"5847\",\"7655\",\"2499\",\"9861\",\"9368\",\"2102\",\"1580\",\"3322\",\"4981676894\",\"8570\",\"2988\",\"7420\",\"4372\",\"6675\",\"5447\",\"5645\",\"214\",\"3268\",\"4294967932\",\"9355\",\"16571\",\"3924\",\"1833\",\"9839\",\"483\",\"6338981479\",\"4294975277\",\"1079548876\",\"5889\",\"2199\",\"2642\",\"9621\",\"1842\"]},\"selected\":{\"id\":\"29995\"},\"selection_policy\":{\"id\":\"30018\"}},\"id\":\"29994\",\"type\":\"ColumnDataSource\"},{\"attributes\":{\"child\":{\"id\":\"29739\"},\"name\":\"Background Tab 1\",\"title\":\"Background Tab 1\"},\"id\":\"29740\",\"type\":\"Panel\"},{\"attributes\":{},\"id\":\"29879\",\"type\":\"UnionRenderers\"},{\"attributes\":{\"child\":{\"id\":\"29895\"},\"name\":\"Top 10 NFT Bid Prices\",\"title\":\"Top 10 NFT Bid Prices\"},\"id\":\"29961\",\"type\":\"Panel\"},{\"attributes\":{},\"id\":\"29985\",\"type\":\"ResetTool\"},{\"attributes\":{\"css_classes\":[\"markdown\"],\"margin\":[5,5,5,5],\"name\":\"Visualization Overview\",\"text\":\"&lt;h1&gt;Visualization Overview&lt;/h1&gt;\\n&lt;p&gt;Below is a summary of the various visualizations we created to answer questions we had about NFTs.&lt;br&gt;\\nOur goal was to learn about the NFT market and if it would be beneficial to invest in NFTs.&lt;br&gt;\\nThis data was obtained mostly from the OpenSea API source.  &lt;/p&gt;\\n&lt;ol&gt;\\n&lt;li&gt;NFT Bid Trends&lt;/li&gt;\\n&lt;li&gt;Number of NFT Sales per Day&lt;/li&gt;\\n&lt;li&gt;Volume of NFT Sales per Day&lt;/li&gt;\\n&lt;li&gt;Top 10 NFT Bid Prices&lt;/li&gt;\\n&lt;li&gt;Number of Sales per Token ID&lt;/li&gt;\\n&lt;li&gt;Total Buyers/Sellers&lt;/li&gt;\\n&lt;li&gt;Top 5 NFT Projects by Market Cap&lt;/li&gt;\\n&lt;/ol&gt;\"},\"id\":\"29747\",\"type\":\"panel.models.markup.HTML\"},{\"attributes\":{},\"id\":\"30088\",\"type\":\"UnionRenderers\"},{\"attributes\":{},\"id\":\"29771\",\"type\":\"SaveTool\"},{\"attributes\":{\"end\":7.7,\"reset_end\":7.7,\"reset_start\":0.0,\"tags\":[[[\"num_sales\",\"num_sales\",null]]]},\"id\":\"29963\",\"type\":\"Range1d\"},{\"attributes\":{\"css_classes\":[\"markdown\"],\"margin\":[5,5,5,5],\"name\":\"Project 1 - Group 3\",\"text\":\"&lt;h1&gt;Let&amp;rsquo;s Put the &amp;ldquo;Fun&amp;rdquo; in Non-Fungible Tokens (NFTs)&lt;/h1&gt;\\n&lt;p&gt;Presentation Date: November 6, 2021  &lt;/p&gt;\\n&lt;p&gt;Prepared by Andrew, Rachel, Sam, and Jinhyeong  &lt;/p&gt;\\n&lt;p&gt;&lt;img alt=&quot;image&quot; src=&quot;./images/NFTheads.png&quot;&gt;&lt;/p&gt;\"},\"id\":\"29737\",\"type\":\"panel.models.markup.HTML\"},{\"attributes\":{},\"id\":\"30018\",\"type\":\"UnionRenderers\"},{\"attributes\":{\"css_classes\":[\"markdown\"],\"margin\":[5,5,5,5],\"name\":\"Background Tab 4\",\"text\":\"&lt;h1&gt;The Rise of NFTs&lt;/h1&gt;\\n&lt;blockquote&gt;\\n&lt;p&gt;NFTs have only been around for a little over a half a decade so they have not become commonplace in&lt;br&gt;\\ntoday\\u2019s society. Yet the NFT space has gained some notoriety this past year due to the fact that &lt;br&gt;\\nmassive amounts of money have been allocated to purchase some NFT projects. The vast majority of&lt;br&gt;\\npeople in the NFT space, which are the artists and buyers, are between the ages of 18-39.    &lt;/p&gt;\\n&lt;/blockquote&gt;\\n&lt;p&gt;&lt;img alt=&quot;image&quot; src=&quot;./images/beeple.png&quot;&gt;&lt;/p&gt;\"},\"id\":\"29745\",\"type\":\"panel.models.markup.HTML\"},{\"attributes\":{},\"id\":\"30007\",\"type\":\"AllLabels\"},{\"attributes\":{\"callback\":null,\"renderers\":[{\"id\":\"30000\"}],\"tags\":[\"hv_created\"],\"tooltips\":[[\"token_id\",\"@{token_id}\"],[\"num_sales\",\"@{num_sales}\"]]},\"id\":\"29964\",\"type\":\"HoverTool\"},{\"attributes\":{},\"id\":\"30074\",\"type\":\"CategoricalTickFormatter\"},{\"attributes\":{},\"id\":\"29995\",\"type\":\"Selection\"},{\"attributes\":{\"child\":{\"id\":\"29741\"},\"name\":\"Background Tab 2\",\"title\":\"Background Tab 2\"},\"id\":\"29742\",\"type\":\"Panel\"},{\"attributes\":{},\"id\":\"29972\",\"type\":\"LinearScale\"},{\"attributes\":{},\"id\":\"29970\",\"type\":\"CategoricalScale\"},{\"attributes\":{\"below\":[{\"id\":\"29974\"}],\"center\":[{\"id\":\"29976\"},{\"id\":\"29980\"}],\"height\":300,\"left\":[{\"id\":\"29977\"}],\"margin\":[5,5,5,5],\"min_border_bottom\":10,\"min_border_left\":10,\"min_border_right\":10,\"min_border_top\":10,\"renderers\":[{\"id\":\"30000\"}],\"sizing_mode\":\"fixed\",\"title\":{\"id\":\"29966\"},\"toolbar\":{\"id\":\"29987\"},\"width\":1500,\"x_range\":{\"id\":\"29962\"},\"x_scale\":{\"id\":\"29970\"},\"y_range\":{\"id\":\"29963\"},\"y_scale\":{\"id\":\"29972\"}},\"id\":\"29965\",\"subtype\":\"Figure\",\"type\":\"Plot\"},{\"attributes\":{},\"id\":\"29978\",\"type\":\"BasicTicker\"},{\"attributes\":{\"css_classes\":[\"markdown\"],\"margin\":[5,5,5,5],\"name\":\"Background Tab 1\",\"text\":\"&lt;h1&gt;What are NFTs?&lt;/h1&gt;\\n&lt;blockquote&gt;\\n&lt;p&gt;NFTs, or nonfungible tokens, are unique assets that can\\u2019t be replaced with something else,&lt;br&gt;\\nand are verified and stored using blockchain technology.  They can include everything from&lt;br&gt;\\nmusic to a website domain, but the current craze is really around digital artwork.    &lt;/p&gt;\\n&lt;p&gt;The market exceeded $10B in transaction volume as of 3Q2021.  &lt;/p&gt;\\n&lt;/blockquote&gt;\\n&lt;p&gt;&lt;img alt=&quot;image&quot; src=&quot;./images/NFTcoin.png&quot;&gt;&lt;/p&gt;\"},\"id\":\"29739\",\"type\":\"panel.models.markup.HTML\"},{\"attributes\":{\"data\":{\"A_0\":[84,70],\"index\":[\"buyer_username\",\"seller_username\"]},\"selected\":{\"id\":\"30065\"},\"selection_policy\":{\"id\":\"30088\"}},\"id\":\"30064\",\"type\":\"ColumnDataSource\"},{\"attributes\":{\"data\":{\"listing_date\":[\"2019-12-04\",\"2020-12-02\",\"2021-03-02\",\"2021-04-16\",\"2021-05-03\",\"2021-05-11\",\"2021-06-18\",\"2021-06-27\",\"2021-06-28\",\"2021-06-30\",\"2021-07-06\",\"2021-07-12\",\"2021-07-16\",\"2021-07-26\",\"2021-07-27\",\"2021-07-31\",\"2021-08-03\",\"2021-08-05\",\"2021-08-06\",\"2021-08-11\",\"2021-08-13\",\"2021-08-15\",\"2021-08-28\",\"2021-08-31\",\"2021-09-01\",\"2021-09-05\",\"2021-09-06\",\"2021-09-08\",\"2021-09-12\",\"2021-09-13\",\"2021-09-16\",\"2021-09-18\",\"2021-09-25\",\"2021-09-26\",\"2021-09-28\",\"2021-10-01\",\"2021-10-04\",\"2021-10-07\",\"2021-10-10\",\"2021-10-13\",\"2021-10-16\",\"2021-10-19\",\"2021-10-21\",\"2021-10-25\",\"2021-10-26\",\"2021-10-29\",\"2021-10-31\"],\"listing_price\":{\"__ndarray__\":\"AAAAAKDoAkEAAAAAQIEBQQAAAAAAkIpAAAAAANAuH0H+////n4kiQQAAAADJXEtBAAAAAICE/kAAAAAAYDxTQQAAAAAwQAJBAAAAAAC/yEAAAAAAAJSxQP/////dDzNBAAAAAIAY/UAAAAAAgLnRQAAAAACAsA9BAAAAAIA9/0AAAAAAgPzpQAAAAACAhP5AAAAAAICL8kAAAAAAAAAAAAAAAAAA/uVAAAAAAEAP70AAAAAAEuk9QQAAAAAAQK9AAQAAAACj20AAAAAAQBbjQAAAAABwQ/tAAAAAAJhgK0EAAAAAAFTPQAAAAABw2ehANDMzMxNw10AAAAAAAHbGQAEAAACAmdNAAAAAAABF+kAAAAAAAAAAAAAAAAAAVclAAAAAAECS7kAAAAAAIPP0QAAAAACAXNlAAAAAAMCP5EB0kxgkmBQXQQIAAAAAhMxAAAAAAABqw0AAAAAAwPb2QAAAAAAAguRAAAAAAACP1kDYfFwbZC3oQA==\",\"dtype\":\"float64\",\"order\":\"little\",\"shape\":[47]}},\"selected\":{\"id\":\"29854\"},\"selection_policy\":{\"id\":\"29879\"}},\"id\":\"29853\",\"type\":\"ColumnDataSource\"},{\"attributes\":{},\"id\":\"29982\",\"type\":\"PanTool\"},{\"attributes\":{\"text\":\"Number of Sales per NFT by Token ID\",\"text_color\":\"black\",\"text_font_size\":\"12pt\"},\"id\":\"29966\",\"type\":\"Title\"},{\"attributes\":{\"child\":{\"id\":\"29745\"},\"name\":\"Background Tab 4\",\"title\":\"Background Tab 4\"},\"id\":\"29746\",\"type\":\"Panel\"},{\"attributes\":{},\"id\":\"30065\",\"type\":\"Selection\"},{\"attributes\":{\"factors\":[\"7662340210\",\"8785\",\"1483011971\",\"1851\",\"5708\",\"518\",\"6844\",\"3711\",\"3336\",\"9602\",\"102455\",\"0\",\"5232\",\"2857\",\"6909\",\"7308\",\"1444\",\"9437\",\"14615\",\"35043\",\"5314\",\"7516\",\"6103\",\"67\",\"4294967828\",\"244\",\"7931\",\"1976\",\"9779\",\"5583\",\"9431\",\"9757\",\"2461\",\"6154\",\"13318\",\"119058\",\"432\",\"1819\",\"2882\",\"5987\",\"8199\",\"1264\",\"4900\",\"806\",\"1652\",\"9222\",\"6787\",\"14657\",\"8069\",\"218\",\"7925\",\"7939\",\"1569\",\"2296\",\"1073\",\"510\",\"22120\",\"1001993\",\"7744\",\"6593\",\"3418\",\"3800\",\"27048\",\"3771\",\"8985\",\"9787\",\"9068\",\"5847\",\"7655\",\"2499\",\"9861\",\"9368\",\"2102\",\"1580\",\"3322\",\"4981676894\",\"8570\",\"2988\",\"7420\",\"4372\",\"6675\",\"5447\",\"5645\",\"214\",\"3268\",\"4294967932\",\"9355\",\"16571\",\"3924\",\"1833\",\"9839\",\"483\",\"6338981479\",\"4294975277\",\"1079548876\",\"5889\",\"2199\",\"2642\",\"9621\",\"1842\"],\"tags\":[[[\"token_id\",\"token_id\",null]]]},\"id\":\"29962\",\"type\":\"FactorRange\"},{\"attributes\":{\"below\":[{\"id\":\"30044\"}],\"center\":[{\"id\":\"30046\"},{\"id\":\"30050\"}],\"height\":300,\"left\":[{\"id\":\"30047\"}],\"margin\":[5,5,5,5],\"min_border_bottom\":10,\"min_border_left\":10,\"min_border_right\":10,\"min_border_top\":10,\"renderers\":[{\"id\":\"30070\"}],\"sizing_mode\":\"fixed\",\"title\":{\"id\":\"30036\"},\"toolbar\":{\"id\":\"30057\"},\"width\":700,\"x_range\":{\"id\":\"29892\"},\"x_scale\":{\"id\":\"30040\"},\"y_range\":{\"id\":\"29893\"},\"y_scale\":{\"id\":\"30042\"}},\"id\":\"30035\",\"subtype\":\"Figure\",\"type\":\"Plot\"},{\"attributes\":{\"axis\":{\"id\":\"29974\"},\"ticker\":{\"id\":\"29975\"}},\"id\":\"29976\",\"type\":\"Grid\"},{\"attributes\":{\"active_multi\":null,\"tools\":[{\"id\":\"29754\"},{\"id\":\"29771\"},{\"id\":\"29772\"},{\"id\":\"29773\"},{\"id\":\"29774\"},{\"id\":\"29775\"}]},\"id\":\"29777\",\"type\":\"Toolbar\"},{\"attributes\":{},\"id\":\"29796\",\"type\":\"BasicTickFormatter\"},{\"attributes\":{\"factors\":[\"12\",\"46\",\"33\",\"5\",\"29\",\"81\",\"99\",\"43\",\"88\",\"82\",\"buyer_username\",\"seller_username\"],\"tags\":[[[\"index\",\"index\",null]]]},\"id\":\"29892\",\"type\":\"FactorRange\"},{\"attributes\":{},\"id\":\"30040\",\"type\":\"CategoricalScale\"},{\"attributes\":{},\"id\":\"29760\",\"type\":\"CategoricalScale\"},{\"attributes\":{\"overlay\":{\"id\":\"29986\"}},\"id\":\"29984\",\"type\":\"BoxZoomTool\"},{\"attributes\":{\"child\":{\"id\":\"29737\"},\"name\":\"Project 1 - Group 3\",\"title\":\"Project 1 - Group 3\"},\"id\":\"29738\",\"type\":\"Panel\"},{\"attributes\":{\"text\":\"Buyers and Sellers\",\"text_color\":\"black\",\"text_font_size\":\"12pt\"},\"id\":\"30036\",\"type\":\"Title\"},{\"attributes\":{\"fill_alpha\":{\"value\":0.1},\"fill_color\":{\"value\":\"#30a2da\"},\"line_alpha\":{\"value\":0.1},\"top\":{\"field\":\"listing_price\"},\"width\":{\"value\":0.8},\"x\":{\"field\":\"listing_date\"}},\"id\":\"29788\",\"type\":\"VBar\"},{\"attributes\":{},\"id\":\"29797\",\"type\":\"AllLabels\"},{\"attributes\":{\"axis_label\":\"Token IDs\",\"formatter\":{\"id\":\"30004\"},\"major_label_orientation\":0.7853981633974483,\"major_label_policy\":{\"id\":\"30005\"},\"ticker\":{\"id\":\"29975\"}},\"id\":\"29974\",\"type\":\"CategoricalAxis\"},{\"attributes\":{\"fill_color\":{\"value\":\"#30a2da\"},\"top\":{\"field\":\"listing_price\"},\"width\":{\"value\":0.8},\"x\":{\"field\":\"listing_date\"}},\"id\":\"29787\",\"type\":\"VBar\"},{\"attributes\":{},\"id\":\"29948\",\"type\":\"UnionRenderers\"},{\"attributes\":{\"axis_label\":\"Number of Sales\",\"formatter\":{\"id\":\"30006\"},\"major_label_policy\":{\"id\":\"30007\"},\"ticker\":{\"id\":\"29978\"}},\"id\":\"29977\",\"type\":\"LinearAxis\"},{\"attributes\":{\"factors\":[\"2019-12-04\",\"2020-12-02\",\"2021-03-02\",\"2021-04-16\",\"2021-05-03\",\"2021-05-11\",\"2021-06-18\",\"2021-06-27\",\"2021-06-28\",\"2021-06-30\",\"2021-07-06\",\"2021-07-12\",\"2021-07-16\",\"2021-07-26\",\"2021-07-27\",\"2021-07-31\",\"2021-08-03\",\"2021-08-05\",\"2021-08-06\",\"2021-08-11\",\"2021-08-13\",\"2021-08-15\",\"2021-08-28\",\"2021-08-31\",\"2021-09-01\",\"2021-09-05\",\"2021-09-06\",\"2021-09-08\",\"2021-09-12\",\"2021-09-13\",\"2021-09-16\",\"2021-09-18\",\"2021-09-25\",\"2021-09-26\",\"2021-09-28\",\"2021-10-01\",\"2021-10-04\",\"2021-10-07\",\"2021-10-10\",\"2021-10-13\",\"2021-10-16\",\"2021-10-19\",\"2021-10-21\",\"2021-10-25\",\"2021-10-26\",\"2021-10-29\",\"2021-10-31\"],\"tags\":[[[\"listing_date\",\"listing_date\",null]]]},\"id\":\"29752\",\"type\":\"FactorRange\"},{\"attributes\":{\"axis_label\":\"Sales Count\",\"formatter\":{\"id\":\"29796\"},\"major_label_policy\":{\"id\":\"29797\"},\"ticker\":{\"id\":\"29768\"}},\"id\":\"29767\",\"type\":\"LinearAxis\"},{\"attributes\":{},\"id\":\"29775\",\"type\":\"ResetTool\"},{\"attributes\":{\"axis_label\":\"Buyer/Seller\",\"formatter\":{\"id\":\"30074\"},\"major_label_policy\":{\"id\":\"30075\"},\"ticker\":{\"id\":\"30045\"}},\"id\":\"30044\",\"type\":\"CategoricalAxis\"},{\"attributes\":{},\"id\":\"30042\",\"type\":\"LinearScale\"},{\"attributes\":{\"axis\":{\"id\":\"29907\"},\"dimension\":1,\"ticker\":{\"id\":\"29908\"}},\"id\":\"29910\",\"type\":\"Grid\"},{\"attributes\":{\"fill_color\":{\"value\":\"#30a2da\"},\"top\":{\"field\":\"num_sales\"},\"width\":{\"value\":0.8},\"x\":{\"field\":\"token_id\"}},\"id\":\"29997\",\"type\":\"VBar\"},{\"attributes\":{},\"id\":\"30045\",\"type\":\"CategoricalTicker\"},{\"attributes\":{},\"id\":\"29840\",\"type\":\"SaveTool\"},{\"attributes\":{},\"id\":\"29908\",\"type\":\"BasicTicker\"},{\"attributes\":{},\"id\":\"30048\",\"type\":\"BasicTicker\"},{\"attributes\":{},\"id\":\"29841\",\"type\":\"PanTool\"},{\"attributes\":{\"axis\":{\"id\":\"30044\"},\"ticker\":{\"id\":\"30045\"}},\"id\":\"30046\",\"type\":\"Grid\"},{\"attributes\":{},\"id\":\"29844\",\"type\":\"ResetTool\"},{\"attributes\":{},\"id\":\"29842\",\"type\":\"WheelZoomTool\"},{\"attributes\":{\"text\":\"Number of NFT Sales Per Day\",\"text_color\":\"black\",\"text_font_size\":\"12pt\"},\"id\":\"29756\",\"type\":\"Title\"},{\"attributes\":{\"fill_alpha\":{\"value\":0.2},\"fill_color\":{\"value\":\"#30a2da\"},\"line_alpha\":{\"value\":0.2},\"top\":{\"field\":\"A_0\"},\"width\":{\"value\":0.8},\"x\":{\"field\":\"index\"}},\"id\":\"29929\",\"type\":\"VBar\"},{\"attributes\":{\"axis_label\":\"Number\",\"formatter\":{\"id\":\"30076\"},\"major_label_policy\":{\"id\":\"30077\"},\"ticker\":{\"id\":\"30048\"}},\"id\":\"30047\",\"type\":\"LinearAxis\"},{\"attributes\":{\"overlay\":{\"id\":\"29845\"}},\"id\":\"29843\",\"type\":\"BoxZoomTool\"},{\"attributes\":{\"css_classes\":[\"markdown\"],\"margin\":[5,5,5,5],\"name\":\"Conclusion\",\"text\":\"&lt;h1&gt;Conclusion&lt;/h1&gt;\\n&lt;p&gt;We learned a lot about NFTs, but realize this is a relatively new concept.  Sales and price trends&lt;br&gt;\\nare sporadic with no obvious patterns or seasonality.  Data was not very clean or comprehensive.  &lt;/p&gt;\\n&lt;p&gt;However, given the data you have seen and this new trend&amp;hellip;  &lt;/p&gt;\\n&lt;p&gt;&lt;strong&gt;Would YOU buy an NFT?&lt;/strong&gt;  &lt;/p&gt;\\n&lt;p&gt;We would!  &lt;/p&gt;\\n&lt;p&gt;&lt;img alt=&quot;image&quot; src=&quot;./images/NFT_comic.png&quot;&gt;&lt;/p&gt;\"},\"id\":\"30104\",\"type\":\"panel.models.markup.HTML\"},{\"attributes\":{},\"id\":\"29854\",\"type\":\"Selection\"},{\"attributes\":{\"data_source\":{\"id\":\"29924\"},\"glyph\":{\"id\":\"29927\"},\"hover_glyph\":null,\"muted_glyph\":{\"id\":\"29929\"},\"nonselection_glyph\":{\"id\":\"29928\"},\"selection_glyph\":{\"id\":\"29932\"},\"view\":{\"id\":\"29931\"}},\"id\":\"29930\",\"type\":\"GlyphRenderer\"},{\"attributes\":{\"axis\":{\"id\":\"30047\"},\"dimension\":1,\"ticker\":{\"id\":\"30048\"}},\"id\":\"30050\",\"type\":\"Grid\"},{\"attributes\":{\"fill_alpha\":{\"value\":0.2},\"fill_color\":{\"value\":\"#30a2da\"},\"line_alpha\":{\"value\":0.2},\"top\":{\"field\":\"listing_price\"},\"width\":{\"value\":0.8},\"x\":{\"field\":\"listing_date\"}},\"id\":\"29789\",\"type\":\"VBar\"},{\"attributes\":{},\"id\":\"29768\",\"type\":\"BasicTicker\"},{\"attributes\":{\"css_classes\":[\"markdown\"],\"margin\":[5,5,5,5],\"name\":\"Background Tab 2\",\"text\":\"&lt;h1&gt;Examples of Recently Sold NFTs&lt;/h1&gt;\\n&lt;blockquote&gt;\\n&lt;p&gt;The NFT art scene has exploded in recent months, with some of the most expensive NFT sales&lt;br&gt;\\nconducted in the last six months.  A few examples include:    &lt;/p&gt;\\n&lt;ul&gt;\\n&lt;li&gt;CryptoPunk #7523,  $11.8 million  &lt;/li&gt;\\n&lt;li&gt;CryptoPunk #7804, $7.56 million  &lt;/li&gt;\\n&lt;li&gt;Ocean Front, $6 million  &lt;/li&gt;\\n&lt;li&gt;World Wide Web source code, $5.43 million  &lt;/li&gt;\\n&lt;/ul&gt;\\n&lt;/blockquote&gt;\\n&lt;p&gt;&lt;img alt=&quot;image&quot; src=&quot;./images/cryptopunk7523.png&quot;&gt;&lt;br&gt;\\n&lt;img alt=&quot;image&quot; src=&quot;./images/cryptopunk7804.png&quot;&gt;&lt;br&gt;\\n&lt;img alt=&quot;image&quot; src=&quot;./images/oceanfront.png&quot;&gt;&lt;br&gt;\\n&lt;img alt=&quot;image&quot; src=&quot;./images/WWWsourcecode.png&quot;&gt;&lt;/p&gt;\"},\"id\":\"29741\",\"type\":\"panel.models.markup.HTML\"},{\"attributes\":{\"axis\":{\"id\":\"29767\"},\"dimension\":1,\"ticker\":{\"id\":\"29768\"}},\"id\":\"29770\",\"type\":\"Grid\"},{\"attributes\":{\"data_source\":{\"id\":\"29784\"},\"glyph\":{\"id\":\"29787\"},\"hover_glyph\":null,\"muted_glyph\":{\"id\":\"29789\"},\"nonselection_glyph\":{\"id\":\"29788\"},\"selection_glyph\":{\"id\":\"29792\"},\"view\":{\"id\":\"29791\"}},\"id\":\"29790\",\"type\":\"GlyphRenderer\"},{\"attributes\":{\"source\":{\"id\":\"29924\"}},\"id\":\"29931\",\"type\":\"CDSView\"},{\"attributes\":{\"axis\":{\"id\":\"29764\"},\"ticker\":{\"id\":\"29765\"}},\"id\":\"29766\",\"type\":\"Grid\"},{\"attributes\":{},\"id\":\"29937\",\"type\":\"AllLabels\"},{\"attributes\":{\"fill_alpha\":{\"value\":0.2},\"fill_color\":{\"value\":\"#30a2da\"},\"line_alpha\":{\"value\":0.2},\"top\":{\"field\":\"A_0\"},\"width\":{\"value\":0.8},\"x\":{\"field\":\"index\"}},\"id\":\"30069\",\"type\":\"VBar\"},{\"attributes\":{\"below\":[{\"id\":\"29764\"}],\"center\":[{\"id\":\"29766\"},{\"id\":\"29770\"}],\"height\":300,\"left\":[{\"id\":\"29767\"}],\"margin\":[5,5,5,5],\"min_border_bottom\":10,\"min_border_left\":10,\"min_border_right\":10,\"min_border_top\":10,\"renderers\":[{\"id\":\"29790\"}],\"sizing_mode\":\"fixed\",\"title\":{\"id\":\"29756\"},\"toolbar\":{\"id\":\"29777\"},\"width\":1200,\"x_range\":{\"id\":\"29752\"},\"x_scale\":{\"id\":\"29760\"},\"y_range\":{\"id\":\"29753\"},\"y_scale\":{\"id\":\"29762\"}},\"id\":\"29755\",\"subtype\":\"Figure\",\"type\":\"Plot\"},{\"attributes\":{\"child\":{\"id\":\"29743\"},\"name\":\"Background Tab 3\",\"title\":\"Background Tab 3\"},\"id\":\"29744\",\"type\":\"Panel\"},{\"attributes\":{},\"id\":\"29911\",\"type\":\"SaveTool\"},{\"attributes\":{\"data_source\":{\"id\":\"29994\"},\"glyph\":{\"id\":\"29997\"},\"hover_glyph\":null,\"muted_glyph\":{\"id\":\"29999\"},\"nonselection_glyph\":{\"id\":\"29998\"},\"selection_glyph\":{\"id\":\"30002\"},\"view\":{\"id\":\"30001\"}},\"id\":\"30000\",\"type\":\"GlyphRenderer\"},{\"attributes\":{\"data_source\":{\"id\":\"30064\"},\"glyph\":{\"id\":\"30067\"},\"hover_glyph\":null,\"muted_glyph\":{\"id\":\"30069\"},\"nonselection_glyph\":{\"id\":\"30068\"},\"selection_glyph\":{\"id\":\"30072\"},\"view\":{\"id\":\"30071\"}},\"id\":\"30070\",\"type\":\"GlyphRenderer\"},{\"attributes\":{},\"id\":\"29912\",\"type\":\"PanTool\"},{\"attributes\":{},\"id\":\"29915\",\"type\":\"ResetTool\"},{\"attributes\":{},\"id\":\"30077\",\"type\":\"AllLabels\"},{\"attributes\":{},\"id\":\"29913\",\"type\":\"WheelZoomTool\"},{\"attributes\":{\"source\":{\"id\":\"30064\"}},\"id\":\"30071\",\"type\":\"CDSView\"},{\"attributes\":{\"margin\":[5,5,5,5],\"name\":\"Top 5 NFT Projects by Market Cap\"},\"id\":\"30102\",\"type\":\"panel.models.markup.HTML\"},{\"attributes\":{\"child\":{\"id\":\"30035\"},\"name\":\"Total NFT Buyers/Sellers\",\"title\":\"Total NFT Buyers/Sellers\"},\"id\":\"30101\",\"type\":\"Panel\"},{\"attributes\":{\"overlay\":{\"id\":\"29916\"}},\"id\":\"29914\",\"type\":\"BoxZoomTool\"},{\"attributes\":{},\"id\":\"30051\",\"type\":\"SaveTool\"},{\"attributes\":{},\"id\":\"29864\",\"type\":\"CategoricalTickFormatter\"},{\"attributes\":{},\"id\":\"30052\",\"type\":\"PanTool\"},{\"attributes\":{},\"id\":\"29837\",\"type\":\"BasicTicker\"},{\"attributes\":{\"active_multi\":null,\"tools\":[{\"id\":\"29823\"},{\"id\":\"29840\"},{\"id\":\"29841\"},{\"id\":\"29842\"},{\"id\":\"29843\"},{\"id\":\"29844\"}]},\"id\":\"29846\",\"type\":\"Toolbar\"},{\"attributes\":{},\"id\":\"30055\",\"type\":\"ResetTool\"},{\"attributes\":{},\"id\":\"29765\",\"type\":\"CategoricalTicker\"},{\"attributes\":{},\"id\":\"30053\",\"type\":\"WheelZoomTool\"},{\"attributes\":{},\"id\":\"29936\",\"type\":\"BasicTickFormatter\"},{\"attributes\":{},\"id\":\"29934\",\"type\":\"CategoricalTickFormatter\"},{\"attributes\":{\"overlay\":{\"id\":\"30056\"}},\"id\":\"30054\",\"type\":\"BoxZoomTool\"},{\"attributes\":{\"bottom_units\":\"screen\",\"fill_alpha\":0.5,\"fill_color\":\"lightgrey\",\"left_units\":\"screen\",\"level\":\"overlay\",\"line_alpha\":1.0,\"line_color\":\"black\",\"line_dash\":[4,4],\"line_width\":2,\"right_units\":\"screen\",\"syncable\":false,\"top_units\":\"screen\"},\"id\":\"29845\",\"type\":\"BoxAnnotation\"},{\"attributes\":{},\"id\":\"30005\",\"type\":\"AllLabels\"},{\"attributes\":{\"child\":{\"id\":\"29965\"},\"name\":\"Number of Sales per Token ID\",\"title\":\"Number of Sales per Token ID\"},\"id\":\"30031\",\"type\":\"Panel\"},{\"attributes\":{\"child\":{\"id\":\"30102\"},\"name\":\"Top 5 NFT Projects by Market Cap\",\"title\":\"Top 5 NFT Projects by Market Cap\"},\"id\":\"30103\",\"type\":\"Panel\"},{\"attributes\":{},\"id\":\"29865\",\"type\":\"AllLabels\"},{\"attributes\":{\"callback\":null,\"renderers\":[{\"id\":\"29930\"}],\"tags\":[\"hv_created\"],\"tooltips\":[[\"index\",\"@{index}\"],[\"0\",\"@{A_0}\"]]},\"id\":\"29894\",\"type\":\"HoverTool\"},{\"attributes\":{},\"id\":\"30006\",\"type\":\"BasicTickFormatter\"},{\"attributes\":{\"axis_label\":\"Date\",\"formatter\":{\"id\":\"29794\"},\"major_label_orientation\":0.7853981633974483,\"major_label_policy\":{\"id\":\"29795\"},\"ticker\":{\"id\":\"29765\"}},\"id\":\"29764\",\"type\":\"CategoricalAxis\"},{\"attributes\":{\"bottom\":{\"value\":0},\"fill_alpha\":{\"value\":1.0},\"fill_color\":{\"value\":\"#30a2da\"},\"hatch_alpha\":{\"value\":1.0},\"hatch_color\":{\"value\":\"black\"},\"hatch_scale\":{\"value\":12.0},\"hatch_weight\":{\"value\":1.0},\"line_alpha\":{\"value\":1.0},\"line_cap\":{\"value\":\"butt\"},\"line_color\":{\"value\":\"black\"},\"line_dash\":{\"value\":[]},\"line_dash_offset\":{\"value\":0},\"line_join\":{\"value\":\"bevel\"},\"line_width\":{\"value\":1},\"top\":{\"field\":\"listing_price\"},\"width\":{\"value\":0.8},\"x\":{\"field\":\"listing_date\"}},\"id\":\"29861\",\"type\":\"VBar\"},{\"attributes\":{\"end\":605.4035,\"reset_end\":605.4035,\"reset_start\":0.0,\"tags\":[[[\"0\",\"0\",null]]]},\"id\":\"29893\",\"type\":\"Range1d\"},{\"attributes\":{\"fill_color\":{\"value\":\"#30a2da\"},\"top\":{\"field\":\"listing_price\"},\"width\":{\"value\":0.8},\"x\":{\"field\":\"listing_date\"}},\"id\":\"29856\",\"type\":\"VBar\"},{\"attributes\":{\"below\":[{\"id\":\"29833\"}],\"center\":[{\"id\":\"29835\"},{\"id\":\"29839\"}],\"height\":300,\"left\":[{\"id\":\"29836\"}],\"margin\":[5,5,5,5],\"min_border_bottom\":10,\"min_border_left\":10,\"min_border_right\":10,\"min_border_top\":10,\"renderers\":[{\"id\":\"29859\"}],\"sizing_mode\":\"fixed\",\"title\":{\"id\":\"29825\"},\"toolbar\":{\"id\":\"29846\"},\"width\":1200,\"x_range\":{\"id\":\"29752\"},\"x_scale\":{\"id\":\"29829\"},\"y_range\":{\"id\":\"29753\"},\"y_scale\":{\"id\":\"29831\"}},\"id\":\"29824\",\"subtype\":\"Figure\",\"type\":\"Plot\"},{\"attributes\":{},\"id\":\"30075\",\"type\":\"AllLabels\"},{\"attributes\":{},\"id\":\"29829\",\"type\":\"CategoricalScale\"},{\"attributes\":{\"text\":\"Volume of Sales Per Day (USD$)\",\"text_color\":\"black\",\"text_font_size\":\"12pt\"},\"id\":\"29825\",\"type\":\"Title\"},{\"attributes\":{\"bottom_units\":\"screen\",\"fill_alpha\":0.5,\"fill_color\":\"lightgrey\",\"left_units\":\"screen\",\"level\":\"overlay\",\"line_alpha\":1.0,\"line_color\":\"black\",\"line_dash\":[4,4],\"line_width\":2,\"right_units\":\"screen\",\"syncable\":false,\"top_units\":\"screen\"},\"id\":\"29916\",\"type\":\"BoxAnnotation\"},{\"attributes\":{\"fill_alpha\":{\"value\":0.1},\"fill_color\":{\"value\":\"#30a2da\"},\"line_alpha\":{\"value\":0.1},\"top\":{\"field\":\"num_sales\"},\"width\":{\"value\":0.8},\"x\":{\"field\":\"token_id\"}},\"id\":\"29998\",\"type\":\"VBar\"},{\"attributes\":{\"fill_alpha\":{\"value\":0.2},\"fill_color\":{\"value\":\"#30a2da\"},\"line_alpha\":{\"value\":0.2},\"top\":{\"field\":\"listing_price\"},\"width\":{\"value\":0.8},\"x\":{\"field\":\"listing_date\"}},\"id\":\"29858\",\"type\":\"VBar\"},{\"attributes\":{\"fill_alpha\":{\"value\":0.2},\"fill_color\":{\"value\":\"#30a2da\"},\"line_alpha\":{\"value\":0.2},\"top\":{\"field\":\"num_sales\"},\"width\":{\"value\":0.8},\"x\":{\"field\":\"token_id\"}},\"id\":\"29999\",\"type\":\"VBar\"},{\"attributes\":{\"css_classes\":[\"markdown\"],\"margin\":[5,5,5,5],\"name\":\"NFT Bid Trends\",\"text\":\"&lt;p&gt;&lt;img alt=&quot;image&quot; src=&quot;./images/plot_1.png&quot;&gt;&lt;/p&gt;\"},\"id\":\"29749\",\"type\":\"panel.models.markup.HTML\"},{\"attributes\":{\"bottom\":{\"value\":0},\"fill_alpha\":{\"value\":1.0},\"fill_color\":{\"value\":\"#30a2da\"},\"hatch_alpha\":{\"value\":1.0},\"hatch_color\":{\"value\":\"black\"},\"hatch_scale\":{\"value\":12.0},\"hatch_weight\":{\"value\":1.0},\"line_alpha\":{\"value\":1.0},\"line_cap\":{\"value\":\"butt\"},\"line_color\":{\"value\":\"black\"},\"line_dash\":{\"value\":[]},\"line_dash_offset\":{\"value\":0},\"line_join\":{\"value\":\"bevel\"},\"line_width\":{\"value\":1},\"top\":{\"field\":\"A_0\"},\"width\":{\"value\":0.8},\"x\":{\"field\":\"index\"}},\"id\":\"30072\",\"type\":\"VBar\"},{\"attributes\":{\"source\":{\"id\":\"29784\"}},\"id\":\"29791\",\"type\":\"CDSView\"},{\"attributes\":{\"css_classes\":[\"markdown\"],\"margin\":[5,5,5,5],\"name\":\"Background Tab 3\",\"text\":\"&lt;h1&gt;Minting and Purchasing an NFT&lt;/h1&gt;\\n&lt;blockquote&gt;\\n&lt;p&gt;For NFTs to become valuable and scarce they have to be minted. The term minting in NFTs is similar &lt;br&gt;\\nto minting a coin of silver. Once an NFT is minted on the Ethereum blockchain it becomes unchangeable &lt;br&gt;\\nand tamper-proof. Newly minted NFTs then are able to be sold on third party websites. These websites &lt;br&gt;\\ninclude Nifty Gateway, Zora, and OpeanSea to name a few.    &lt;/p&gt;\\n&lt;p&gt;For a buyer to purchase an NFT they have to purchase the NFT using Ethereum Tokens.&lt;br&gt;\\nOther blockchain networks that mint NFTs beside Ethereum include Solana, Polygon, and Binance Smart &lt;br&gt;\\nChain, to name a few. Yet Ethereum reigns supreme for NFTs on chain.  &lt;/p&gt;\\n&lt;/blockquote&gt;\"},\"id\":\"29743\",\"type\":\"panel.models.markup.HTML\"},{\"attributes\":{\"text\":\"Top 10 NFT Bids on OpenSea\",\"text_color\":\"black\",\"text_font_size\":\"12pt\"},\"id\":\"29896\",\"type\":\"Title\"},{\"attributes\":{\"fill_alpha\":{\"value\":0.1},\"fill_color\":{\"value\":\"#30a2da\"},\"line_alpha\":{\"value\":0.1},\"top\":{\"field\":\"A_0\"},\"width\":{\"value\":0.8},\"x\":{\"field\":\"index\"}},\"id\":\"29928\",\"type\":\"VBar\"},{\"attributes\":{\"bottom_units\":\"screen\",\"fill_alpha\":0.5,\"fill_color\":\"lightgrey\",\"left_units\":\"screen\",\"level\":\"overlay\",\"line_alpha\":1.0,\"line_color\":\"black\",\"line_dash\":[4,4],\"line_width\":2,\"right_units\":\"screen\",\"syncable\":false,\"top_units\":\"screen\"},\"id\":\"30056\",\"type\":\"BoxAnnotation\"},{\"attributes\":{\"data\":{\"listing_date\":[\"2019-12-04\",\"2020-12-02\",\"2021-03-02\",\"2021-04-16\",\"2021-05-03\",\"2021-05-11\",\"2021-06-18\",\"2021-06-27\",\"2021-06-28\",\"2021-06-30\",\"2021-07-06\",\"2021-07-12\",\"2021-07-16\",\"2021-07-26\",\"2021-07-27\",\"2021-07-31\",\"2021-08-03\",\"2021-08-05\",\"2021-08-06\",\"2021-08-11\",\"2021-08-13\",\"2021-08-15\",\"2021-08-28\",\"2021-08-31\",\"2021-09-01\",\"2021-09-05\",\"2021-09-06\",\"2021-09-08\",\"2021-09-12\",\"2021-09-13\",\"2021-09-16\",\"2021-09-18\",\"2021-09-25\",\"2021-09-26\",\"2021-09-28\",\"2021-10-01\",\"2021-10-04\",\"2021-10-07\",\"2021-10-10\",\"2021-10-13\",\"2021-10-16\",\"2021-10-19\",\"2021-10-21\",\"2021-10-25\",\"2021-10-26\",\"2021-10-29\",\"2021-10-31\"],\"listing_price\":[3,2,1,1,2,6,1,10,2,1,1,6,2,1,3,1,2,1,1,3,1,1,12,1,1,2,2,2,1,1,3,1,1,2,1,1,2,1,1,1,4,1,1,2,1,1,2]},\"selected\":{\"id\":\"29785\"},\"selection_policy\":{\"id\":\"29808\"}},\"id\":\"29784\",\"type\":\"ColumnDataSource\"},{\"attributes\":{\"axis_label\":\"Date\",\"formatter\":{\"id\":\"29864\"},\"major_label_orientation\":0.7853981633974483,\"major_label_policy\":{\"id\":\"29865\"},\"ticker\":{\"id\":\"29834\"}},\"id\":\"29833\",\"type\":\"CategoricalAxis\"},{\"attributes\":{\"source\":{\"id\":\"29994\"}},\"id\":\"30001\",\"type\":\"CDSView\"},{\"attributes\":{\"active_multi\":null,\"tools\":[{\"id\":\"29964\"},{\"id\":\"29981\"},{\"id\":\"29982\"},{\"id\":\"29983\"},{\"id\":\"29984\"},{\"id\":\"29985\"}]},\"id\":\"29987\",\"type\":\"Toolbar\"},{\"attributes\":{\"axis\":{\"id\":\"29833\"},\"ticker\":{\"id\":\"29834\"}},\"id\":\"29835\",\"type\":\"Grid\"},{\"attributes\":{\"format\":\"%.0f\"},\"id\":\"29862\",\"type\":\"PrintfTickFormatter\"},{\"attributes\":{\"below\":[{\"id\":\"29904\"}],\"center\":[{\"id\":\"29906\"},{\"id\":\"29910\"}],\"height\":300,\"left\":[{\"id\":\"29907\"}],\"margin\":[5,5,5,5],\"min_border_bottom\":10,\"min_border_left\":10,\"min_border_right\":10,\"min_border_top\":10,\"renderers\":[{\"id\":\"29930\"}],\"sizing_mode\":\"fixed\",\"title\":{\"id\":\"29896\"},\"toolbar\":{\"id\":\"29917\"},\"width\":700,\"x_range\":{\"id\":\"29892\"},\"x_scale\":{\"id\":\"29900\"},\"y_range\":{\"id\":\"29893\"},\"y_scale\":{\"id\":\"29902\"}},\"id\":\"29895\",\"subtype\":\"Figure\",\"type\":\"Plot\"},{\"attributes\":{\"active_multi\":null,\"tools\":[{\"id\":\"29894\"},{\"id\":\"29911\"},{\"id\":\"29912\"},{\"id\":\"29913\"},{\"id\":\"29914\"},{\"id\":\"29915\"}]},\"id\":\"29917\",\"type\":\"Toolbar\"},{\"attributes\":{},\"id\":\"29831\",\"type\":\"LinearScale\"},{\"attributes\":{\"bottom\":{\"value\":0},\"fill_alpha\":{\"value\":1.0},\"fill_color\":{\"value\":\"#30a2da\"},\"hatch_alpha\":{\"value\":1.0},\"hatch_color\":{\"value\":\"black\"},\"hatch_scale\":{\"value\":12.0},\"hatch_weight\":{\"value\":1.0},\"line_alpha\":{\"value\":1.0},\"line_cap\":{\"value\":\"butt\"},\"line_color\":{\"value\":\"black\"},\"line_dash\":{\"value\":[]},\"line_dash_offset\":{\"value\":0},\"line_join\":{\"value\":\"bevel\"},\"line_width\":{\"value\":1},\"top\":{\"field\":\"listing_price\"},\"width\":{\"value\":0.8},\"x\":{\"field\":\"listing_date\"}},\"id\":\"29792\",\"type\":\"VBar\"},{\"attributes\":{\"fill_color\":{\"value\":\"#30a2da\"},\"top\":{\"field\":\"A_0\"},\"width\":{\"value\":0.8},\"x\":{\"field\":\"index\"}},\"id\":\"29927\",\"type\":\"VBar\"},{\"attributes\":{\"data\":{\"A_0\":{\"__ndarray__\":\"SOF6FK7JgkBI4XoUrsmCQEjhehSuyYJASOF6FK7JgkBI4XoUrrmCQDMzMzMzM4JAzszMzMzIgUDOzMzMzMiBQAAAAAAAyIFANDMzMzN6gUA=\",\"dtype\":\"float64\",\"order\":\"little\",\"shape\":[10]},\"index\":[\"12\",\"46\",\"33\",\"5\",\"29\",\"81\",\"99\",\"43\",\"88\",\"82\"]},\"selected\":{\"id\":\"29925\"},\"selection_policy\":{\"id\":\"29948\"}},\"id\":\"29924\",\"type\":\"ColumnDataSource\"},{\"attributes\":{\"bottom\":{\"value\":0},\"fill_alpha\":{\"value\":1.0},\"fill_color\":{\"value\":\"#30a2da\"},\"hatch_alpha\":{\"value\":1.0},\"hatch_color\":{\"value\":\"black\"},\"hatch_scale\":{\"value\":12.0},\"hatch_weight\":{\"value\":1.0},\"line_alpha\":{\"value\":1.0},\"line_cap\":{\"value\":\"butt\"},\"line_color\":{\"value\":\"black\"},\"line_dash\":{\"value\":[]},\"line_dash_offset\":{\"value\":0},\"line_join\":{\"value\":\"bevel\"},\"line_width\":{\"value\":1},\"top\":{\"field\":\"num_sales\"},\"width\":{\"value\":0.8},\"x\":{\"field\":\"token_id\"}},\"id\":\"30002\",\"type\":\"VBar\"},{\"attributes\":{\"fill_alpha\":{\"value\":0.1},\"fill_color\":{\"value\":\"#30a2da\"},\"line_alpha\":{\"value\":0.1},\"top\":{\"field\":\"A_0\"},\"width\":{\"value\":0.8},\"x\":{\"field\":\"index\"}},\"id\":\"30068\",\"type\":\"VBar\"},{\"attributes\":{},\"id\":\"30004\",\"type\":\"CategoricalTickFormatter\"},{\"attributes\":{},\"id\":\"29834\",\"type\":\"CategoricalTicker\"},{\"attributes\":{},\"id\":\"29925\",\"type\":\"Selection\"},{\"attributes\":{},\"id\":\"29900\",\"type\":\"CategoricalScale\"},{\"attributes\":{},\"id\":\"29867\",\"type\":\"AllLabels\"},{\"attributes\":{\"client_comm_id\":\"a119f23670e24627be69d08e479bb7b1\",\"comm_id\":\"f549671430cb40c48be77ba053fb6506\",\"plot_id\":\"29736\"},\"id\":\"30253\",\"type\":\"panel.models.comm_manager.CommManager\"},{\"attributes\":{\"child\":{\"id\":\"29747\"},\"name\":\"Visualization Overview\",\"title\":\"Visualization Overview\"},\"id\":\"29748\",\"type\":\"Panel\"},{\"attributes\":{\"axis_label\":\"Volume of Sales\",\"formatter\":{\"id\":\"29862\"},\"major_label_policy\":{\"id\":\"29867\"},\"ticker\":{\"id\":\"29837\"}},\"id\":\"29836\",\"type\":\"LinearAxis\"},{\"attributes\":{\"active_multi\":null,\"tools\":[{\"id\":\"30034\"},{\"id\":\"30051\"},{\"id\":\"30052\"},{\"id\":\"30053\"},{\"id\":\"30054\"},{\"id\":\"30055\"}]},\"id\":\"30057\",\"type\":\"Toolbar\"},{\"attributes\":{\"end\":5546816.0,\"reset_end\":13.1,\"reset_start\":0.0,\"tags\":[[[\"listing_price\",\"listing_price\",null]]]},\"id\":\"29753\",\"type\":\"Range1d\"},{\"attributes\":{},\"id\":\"29935\",\"type\":\"AllLabels\"},{\"attributes\":{\"axis\":{\"id\":\"29836\"},\"dimension\":1,\"ticker\":{\"id\":\"29837\"}},\"id\":\"29839\",\"type\":\"Grid\"},{\"attributes\":{\"bottom_units\":\"screen\",\"fill_alpha\":0.5,\"fill_color\":\"lightgrey\",\"left_units\":\"screen\",\"level\":\"overlay\",\"line_alpha\":1.0,\"line_color\":\"black\",\"line_dash\":[4,4],\"line_width\":2,\"right_units\":\"screen\",\"syncable\":false,\"top_units\":\"screen\"},\"id\":\"29986\",\"type\":\"BoxAnnotation\"},{\"attributes\":{\"fill_color\":{\"value\":\"#30a2da\"},\"top\":{\"field\":\"A_0\"},\"width\":{\"value\":0.8},\"x\":{\"field\":\"index\"}},\"id\":\"30067\",\"type\":\"VBar\"},{\"attributes\":{},\"id\":\"29794\",\"type\":\"CategoricalTickFormatter\"},{\"attributes\":{},\"id\":\"29795\",\"type\":\"AllLabels\"},{\"attributes\":{\"source\":{\"id\":\"29853\"}},\"id\":\"29860\",\"type\":\"CDSView\"},{\"attributes\":{\"axis_label\":\"NFT Project Index Number\",\"formatter\":{\"id\":\"29934\"},\"major_label_policy\":{\"id\":\"29935\"},\"ticker\":{\"id\":\"29905\"}},\"id\":\"29904\",\"type\":\"CategoricalAxis\"},{\"attributes\":{\"axis\":{\"id\":\"29904\"},\"ticker\":{\"id\":\"29905\"}},\"id\":\"29906\",\"type\":\"Grid\"},{\"attributes\":{\"fill_alpha\":{\"value\":0.1},\"fill_color\":{\"value\":\"#30a2da\"},\"line_alpha\":{\"value\":0.1},\"top\":{\"field\":\"listing_price\"},\"width\":{\"value\":0.8},\"x\":{\"field\":\"listing_date\"}},\"id\":\"29857\",\"type\":\"VBar\"},{\"attributes\":{\"child\":{\"id\":\"29751\"},\"name\":\"Column14140\",\"title\":\"Number and Volume of NFT Sales per Day\"},\"id\":\"29891\",\"type\":\"Panel\"},{\"attributes\":{},\"id\":\"29902\",\"type\":\"LinearScale\"},{\"attributes\":{\"child\":{\"id\":\"30104\"},\"name\":\"Conclusion\",\"title\":\"Conclusion\"},\"id\":\"30105\",\"type\":\"Panel\"},{\"attributes\":{},\"id\":\"29762\",\"type\":\"LinearScale\"},{\"attributes\":{\"bottom\":{\"value\":0},\"fill_alpha\":{\"value\":1.0},\"fill_color\":{\"value\":\"#30a2da\"},\"hatch_alpha\":{\"value\":1.0},\"hatch_color\":{\"value\":\"black\"},\"hatch_scale\":{\"value\":12.0},\"hatch_weight\":{\"value\":1.0},\"line_alpha\":{\"value\":1.0},\"line_cap\":{\"value\":\"butt\"},\"line_color\":{\"value\":\"black\"},\"line_dash\":{\"value\":[]},\"line_dash_offset\":{\"value\":0},\"line_join\":{\"value\":\"bevel\"},\"line_width\":{\"value\":1},\"top\":{\"field\":\"A_0\"},\"width\":{\"value\":0.8},\"x\":{\"field\":\"index\"}},\"id\":\"29932\",\"type\":\"VBar\"},{\"attributes\":{},\"id\":\"29905\",\"type\":\"CategoricalTicker\"},{\"attributes\":{\"data_source\":{\"id\":\"29853\"},\"glyph\":{\"id\":\"29856\"},\"hover_glyph\":null,\"muted_glyph\":{\"id\":\"29858\"},\"nonselection_glyph\":{\"id\":\"29857\"},\"selection_glyph\":{\"id\":\"29861\"},\"view\":{\"id\":\"29860\"}},\"id\":\"29859\",\"type\":\"GlyphRenderer\"},{\"attributes\":{\"axis_label\":\"Bid Price ($USD)\",\"formatter\":{\"id\":\"29936\"},\"major_label_policy\":{\"id\":\"29937\"},\"ticker\":{\"id\":\"29908\"}},\"id\":\"29907\",\"type\":\"LinearAxis\"}],\"root_ids\":[\"29736\",\"30253\"]},\"title\":\"Bokeh Application\",\"version\":\"2.3.2\"}};\n",
       "    var render_items = [{\"docid\":\"6c3d9249-53e4-4ee5-967e-77211004939d\",\"root_ids\":[\"29736\"],\"roots\":{\"29736\":\"7d6ff450-0fee-45ff-80f4-5d3eb8f76d51\"}}];\n",
       "    root.Bokeh.embed.embed_items_notebook(docs_json, render_items);\n",
       "  }\n",
       "  if (root.Bokeh !== undefined && root.Bokeh.Panel !== undefined) {\n",
       "    embed_document(root);\n",
       "  } else {\n",
       "    var attempts = 0;\n",
       "    var timer = setInterval(function(root) {\n",
       "      if (root.Bokeh !== undefined && root.Bokeh.Panel !== undefined) {\n",
       "        clearInterval(timer);\n",
       "        embed_document(root);\n",
       "      } else if (document.readyState == \"complete\") {\n",
       "        attempts++;\n",
       "        if (attempts > 200) {\n",
       "          clearInterval(timer);\n",
       "          console.log(\"Bokeh: ERROR: Unable to run BokehJS code because BokehJS library is missing\");\n",
       "        }\n",
       "      }\n",
       "    }, 25, root)\n",
       "  }\n",
       "})(window);</script>"
      ],
      "text/plain": [
       "Tabs\n",
       "    [0] Markdown(str, name='Project 1 - Group 3')\n",
       "    [1] Markdown(str, name='Background Tab 1')\n",
       "    [2] Markdown(str, name='Background Tab 2')\n",
       "    [3] Markdown(str, name='Background Tab 3')\n",
       "    [4] Markdown(str, name='Background Tab 4')\n",
       "    [5] Markdown(str, name='Visualization Overview')\n",
       "    [6] Markdown(str, name='NFT Bid Trends')\n",
       "    [7] Column\n",
       "        [0] HoloViews(Bars)\n",
       "        [1] HoloViews(Bars)\n",
       "    [8] HoloViews(Bars, name='Top 10 NFT Bid Prices')\n",
       "    [9] HoloViews(Bars, name='Number of Sales p...)\n",
       "    [10] HoloViews(Bars, name='Total NFT Buyers/Sellers'...)\n",
       "    [11] Str(None, name='Top 5 NFT Projects b...)\n",
       "    [12] Markdown(str, name='Conclusion')"
      ]
     },
     "execution_count": 310,
     "metadata": {
      "application/vnd.holoviews_exec.v0+json": {
       "id": "29736"
      }
     },
     "output_type": "execute_result"
    }
   ],
   "source": [
    "#Create Dashboard - NEED TO ADD LAST VISUAL FROM ANDREW and FIX IMAGES\n",
    "pn.Tabs(\n",
    "    (\"Project 1 - Group 3\",markdown_titlepage),\n",
    "    (\"Background Tab 1\",markdown_background1),\n",
    "    (\"Background Tab 2\",markdown_background2),\n",
    "    (\"Background Tab 3\",markdown_background3),\n",
    "    (\"Background Tab 4\",markdown_background4),\n",
    "    (\"Visualization Overview\",visualoverview),\n",
    "    (\"NFT Bid Trends\",plot_1),\n",
    "    (\"Number and Volume of NFT Sales per Day\",salesvol_dash),\n",
    "    (\"Top 10 NFT Bid Prices\",plot_4),\n",
    "    (\"Number of Sales per Token ID\",plot_5),\n",
    "    (\"Total NFT Buyers/Sellers\",plot_6),\n",
    "    (\"Top 5 NFT Projects by Market Cap\",plot_7),\n",
    "    (\"Conclusion\",markdown_end)\n",
    "    \n",
    "       )"
   ]
  },
  {
   "cell_type": "code",
   "execution_count": 311,
   "id": "3cc4b210-541a-4d17-ab46-70b616bd6f1f",
   "metadata": {},
   "outputs": [],
   "source": [
    "#Create an html of the dashboard for presentation purposes once finalized\n",
    "pn.Tabs(\n",
    "    (\"Project 1 - Group 3\",markdown_titlepage),\n",
    "    (\"Background Tab 1\",markdown_background1),\n",
    "    (\"Background Tab 2\",markdown_background2),\n",
    "    (\"Background Tab 3\",markdown_background3),\n",
    "    (\"Background Tab 4\",markdown_background4),\n",
    "    (\"Visualization Overview\",visualoverview),\n",
    "    (\"NFT Bid Trends\",plot_1),\n",
    "    (\"Number of NFT Sales per Day\",plot_2),\n",
    "    (\"Volume of NFT Sales per Day\",plot_3),\n",
    "    (\"Top 10 NFT Bid Prices\",plot_4),\n",
    "    (\"Number of Sales per Token ID\",plot_5),\n",
    "    (\"Total NFT Buyers/Sellers\",plot_6),\n",
    "    (\"Top 5 NFT Projects by Market Cap\",plot_7),\n",
    "    (\"Conclusion\",markdown_end)\n",
    "       ).save(\"Dashboard_Presentation.html\", embed=True)"
   ]
  },
  {
   "cell_type": "code",
   "execution_count": null,
   "id": "32a6c841-9809-49f9-b34f-5b21b6a0e5a2",
   "metadata": {},
   "outputs": [],
   "source": []
  },
  {
   "cell_type": "code",
   "execution_count": null,
   "id": "11c198e3-8d1f-404b-8511-377710240c05",
   "metadata": {},
   "outputs": [],
   "source": []
  }
 ],
 "metadata": {
  "kernelspec": {
   "display_name": "Python [conda env:pyvizenv] *",
   "language": "python",
   "name": "conda-env-pyvizenv-py"
  },
  "language_info": {
   "codemirror_mode": {
    "name": "ipython",
    "version": 3
   },
   "file_extension": ".py",
   "mimetype": "text/x-python",
   "name": "python",
   "nbconvert_exporter": "python",
   "pygments_lexer": "ipython3",
   "version": "3.7.10"
  }
 },
 "nbformat": 4,
 "nbformat_minor": 5
}
