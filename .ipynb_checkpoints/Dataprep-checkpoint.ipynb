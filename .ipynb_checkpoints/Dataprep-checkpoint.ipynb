{
 "cells": [
  {
   "cell_type": "markdown",
   "id": "187ee497-0de9-473d-b8c2-983efd30d715",
   "metadata": {},
   "source": [
    "# Plotting Visualizations - Project 1 Group 3 (NFTs) - Exploration and Cleanup Notebook"
   ]
  },
  {
   "cell_type": "markdown",
   "id": "6225a7cf-3fa1-4c21-aead-01e09a62e627",
   "metadata": {},
   "source": [
    "### Determine imports needed"
   ]
  },
  {
   "cell_type": "code",
   "execution_count": 2,
   "id": "1b2745b6-f24a-4277-ad6d-6203f6f20e63",
   "metadata": {},
   "outputs": [],
   "source": [
    "# Run imports\n",
    "import requests\n",
    "import json\n",
    "import pandas as pd\n",
    "\n",
    "import hvplot.pandas \n",
    "import numpy as np\n",
    "import panel as pn\n",
    "from panel.interact import interact\n",
    "from panel import widgets\n",
    "import matplotlib.pyplot as plt\n",
    "\n",
    "from math import pi\n",
    "from bokeh.palettes import Category20c\n",
    "from bokeh.plotting import figure, show\n",
    "from bokeh.transform import cumsum\n",
    "from bokeh.io import export_png"
   ]
  },
  {
   "cell_type": "markdown",
   "id": "75240a82-20d5-45d7-9a84-f39a644278d2",
   "metadata": {},
   "source": [
    "### Prepare data"
   ]
  },
  {
   "cell_type": "code",
   "execution_count": 3,
   "id": "3b0e2598-62be-4e8a-9a04-c015a719929a",
   "metadata": {},
   "outputs": [],
   "source": [
    "# Add Urls to data sources\n",
    "url = \"https://api.opensea.io/api/v1/events?limit=100\"\n",
    "url1 = \"https://api.opensea.io/api/v1/events?only_opensea=false&offset=0&limit=50\"\n",
    "url2 = \"https://api.opensea.io/api/v1/assets?order_direction=desc&offset=0&limit=50\"\n",
    "\n",
    "response = requests.request(\"GET\", url)\n",
    "opensea_data_pull = json.loads(response.text)\n",
    "opensea_data_pull1 = json.loads(response.text)"
   ]
  },
  {
   "cell_type": "code",
   "execution_count": null,
   "id": "e822ae90-ad9f-4ea6-be47-5e8e961328f3",
   "metadata": {},
   "outputs": [],
   "source": [
    "# Data paths for reference:\n",
    "# bbb = opensea_data_pull[\"assets\"][5][\"asset_contract\"][\"default_to_fiat\"]\n",
    "# price = opensea_data_pull[\"asset_events\"][0][\"payment_token\"][\"usd_price\"]\n",
    "# bid = opensea_data_pull[\"asset_events\"][0][\"bid_amount\"]"
   ]
  }
 ],
 "metadata": {
  "kernelspec": {
   "display_name": "Python [conda env:pyvizenv] *",
   "language": "python",
   "name": "conda-env-pyvizenv-py"
  },
  "language_info": {
   "codemirror_mode": {
    "name": "ipython",
    "version": 3
   },
   "file_extension": ".py",
   "mimetype": "text/x-python",
   "name": "python",
   "nbconvert_exporter": "python",
   "pygments_lexer": "ipython3",
   "version": "3.7.10"
  }
 },
 "nbformat": 4,
 "nbformat_minor": 5
}
